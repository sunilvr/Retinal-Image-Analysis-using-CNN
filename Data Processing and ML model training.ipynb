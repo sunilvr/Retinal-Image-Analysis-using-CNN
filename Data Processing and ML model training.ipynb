{
 "cells": [
  {
   "cell_type": "markdown",
   "metadata": {},
   "source": [
    "# Mounting Google Drive on colab "
   ]
  },
  {
   "cell_type": "code",
   "execution_count": 1,
   "metadata": {
    "colab": {
     "base_uri": "https://localhost:8080/",
     "height": 126
    },
    "colab_type": "code",
    "id": "DtJuopjQ5Iae",
    "outputId": "6d86ba04-b6cf-4f7f-e0e7-6ffaae77602d",
    "scrolled": false
   },
   "outputs": [
    {
     "name": "stdout",
     "output_type": "stream",
     "text": [
      "Go to this URL in a browser: https://accounts.google.com/o/oauth2/auth?client_id=947318989803-6bn6qk8qdgf4n4g3pfee6491hc0brc4i.apps.googleusercontent.com&redirect_uri=urn%3aietf%3awg%3aoauth%3a2.0%3aoob&response_type=code&scope=email%20https%3a%2f%2fwww.googleapis.com%2fauth%2fdocs.test%20https%3a%2f%2fwww.googleapis.com%2fauth%2fdrive%20https%3a%2f%2fwww.googleapis.com%2fauth%2fdrive.photos.readonly%20https%3a%2f%2fwww.googleapis.com%2fauth%2fpeopleapi.readonly\n",
      "\n",
      "Enter your authorization code:\n",
      "··········\n",
      "Mounted at /content/drive\n"
     ]
    }
   ],
   "source": [
    "from google.colab import drive\n",
    "drive.mount('/content/drive')"
   ]
  },
  {
   "cell_type": "markdown",
   "metadata": {},
   "source": [
    "# Imports"
   ]
  },
  {
   "cell_type": "code",
   "execution_count": null,
   "metadata": {
    "colab": {
     "base_uri": "https://localhost:8080/",
     "height": 126
    },
    "colab_type": "code",
    "id": "hXl4PuPv4vJb",
    "outputId": "ebd996bc-04db-40cf-b720-921b627de432"
   },
   "outputs": [
    {
     "name": "stderr",
     "output_type": "stream",
     "text": [
      "Using TensorFlow backend.\n",
      "/usr/local/lib/python3.6/dist-packages/sklearn/externals/six.py:31: FutureWarning: The module is deprecated in version 0.21 and will be removed in version 0.23 since we've dropped support for Python 2.7. Please rely on the official version of six (https://pypi.org/project/six/).\n",
      "  \"(https://pypi.org/project/six/).\", FutureWarning)\n",
      "/usr/local/lib/python3.6/dist-packages/sklearn/utils/deprecation.py:144: FutureWarning: The sklearn.neighbors.base module is  deprecated in version 0.22 and will be removed in version 0.24. The corresponding classes / functions should instead be imported from sklearn.neighbors. Anything that cannot be imported from sklearn.neighbors is now part of the private API.\n",
      "  warnings.warn(message, FutureWarning)\n"
     ]
    }
   ],
   "source": [
    "import os\n",
    "import pathlib\n",
    "import tensorflow as tf\n",
    "from tensorflow.keras import datasets, layers, models\n",
    "from tensorflow.python.keras.utils import losses_utils\n",
    "import matplotlib.pyplot as plt\n",
    "%matplotlib inline\n",
    "import numpy as np\n",
    "import pandas as pd\n",
    "import cv2\n",
    "from sklearn.model_selection import train_test_split\n",
    "from sklearn.metrics import confusion_matrix, make_scorer, accuracy_score, classification_report\n",
    "from keras.preprocessing.image import ImageDataGenerator\n",
    "from keras.utils.np_utils import to_categorical\n",
    "from keras.models import Sequential\n",
    "from keras.layers import Dense\n",
    "from keras.optimizers import Adam\n",
    "from keras.layers import Dropout,Flatten\n",
    "from keras.layers.convolutional import Conv2D,MaxPooling2D\n",
    "import pickle\n",
    "from keras.callbacks import History \n",
    "from imblearn.under_sampling import RandomUnderSampler"
   ]
  },
  {
   "cell_type": "code",
   "execution_count": 4,
   "metadata": {
    "colab": {
     "base_uri": "https://localhost:8080/",
     "height": 35
    },
    "colab_type": "code",
    "id": "JDWGrpeB4vJ-",
    "outputId": "2e4638d2-019d-4880-c192-1bfb982e2b6a"
   },
   "outputs": [
    {
     "name": "stdout",
     "output_type": "stream",
     "text": [
      "tensor flow version ::  2.2.0\n"
     ]
    }
   ],
   "source": [
    "from tensorboard.plugins.hparams import api as hp\n",
    "import kerastuner as kt\n",
    "print(\"tensor flow version :: \", tf.version.VERSION)"
   ]
  },
  {
   "cell_type": "markdown",
   "metadata": {},
   "source": [
    "# File Path for Hyperparameter Tuning"
   ]
  },
  {
   "cell_type": "code",
   "execution_count": 5,
   "metadata": {
    "colab": {
     "base_uri": "https://localhost:8080/",
     "height": 35
    },
    "colab_type": "code",
    "id": "h6UjCYwa4vKG",
    "outputId": "c6cda32c-293f-460e-ab36-08b874a4664a"
   },
   "outputs": [
    {
     "data": {
      "text/plain": [
       "PosixPath('/content/drive/My Drive/OCT2017_tuning dataset/train')"
      ]
     },
     "execution_count": 5,
     "metadata": {
      "tags": []
     },
     "output_type": "execute_result"
    }
   ],
   "source": [
    "\"\"\"data preparation step for hyper parameter tuning\n",
    "the tuning set will be a sub-sample of the main training set for finding optimal hyperparameters\n",
    "\n",
    "This is to ensure that the model built using best hyperparameters (returned by keras tuner)\n",
    "is trained on a different set of images. \n",
    "This step will equip the model to work well on unseen data in real time scnearios \n",
    "\"\"\"\n",
    "\n",
    "fullDataPath = pathlib.Path(\"/content/drive/My Drive/OCT2017_tuning dataset\")\n",
    "trainingSet = fullDataPath / 'train'\n",
    "testingSet = fullDataPath / 'test'\n",
    "validationSet = fullDataPath / 'val'\n",
    "trainingSet\n"
   ]
  },
  {
   "cell_type": "markdown",
   "metadata": {},
   "source": [
    "# Image Generator and Rescaling"
   ]
  },
  {
   "cell_type": "code",
   "execution_count": 6,
   "metadata": {
    "colab": {},
    "colab_type": "code",
    "id": "LUjuT0q34vKo"
   },
   "outputs": [],
   "source": [
    "\"\"\"ImageDataGenerator generates batches of image data with real-time data augmentation\n",
    "ImageDataGenerator takes input in batches of 32 by default\"\"\"\n",
    "batch_size = 32\n",
    "epochs = 15\n",
    "IMG_HEIGHT = 128\n",
    "IMG_WIDTH = 128\n",
    "\n",
    "\n",
    "\"\"\"Rescale 1./255 is to transform every pixel value from range [0,255] -> [0,1]\"\"\"\n",
    "train_image_generator_hpTuning = ImageDataGenerator(rescale=1./255) # Generator for our training data\n",
    "validation_image_generator_hpTuning = ImageDataGenerator(rescale=1./255) # Generator for our validation data\n"
   ]
  },
  {
   "cell_type": "markdown",
   "metadata": {},
   "source": [
    "# Data Import for Hyperparameter Tuning"
   ]
  },
  {
   "cell_type": "code",
   "execution_count": null,
   "metadata": {
    "colab": {
     "base_uri": "https://localhost:8080/",
     "height": 52
    },
    "colab_type": "code",
    "id": "HW3kLUAX4vK1",
    "outputId": "3c1bf005-311f-4552-cff8-a08a4978b8c9"
   },
   "outputs": [
    {
     "name": "stdout",
     "output_type": "stream",
     "text": [
      "Found 6793 images belonging to 4 classes.\n",
      "total training samples :  6793\n"
     ]
    }
   ],
   "source": [
    "\"\"\"The flow_from_directory method of ImageDataGenerator class is useful when the images are sorted and \n",
    "placed in their respective class/label folders. \n",
    "This method will identify classes automatically from the folder name\"\"\"\n",
    "train_data_gen_hpTuning = train_image_generator_hpTuning.flow_from_directory(batch_size=10000,\n",
    "                                                           directory=trainingSet,\n",
    "                                                           target_size=(IMG_HEIGHT, IMG_WIDTH),\n",
    "                                                           classes=[\"DME\",\"CNV\",\"NORMAL\",\"DRUSEN\"])\n",
    "print(\"total training samples : \", train_data_gen.samples)"
   ]
  },
  {
   "cell_type": "code",
   "execution_count": 17,
   "metadata": {
    "colab": {
     "base_uri": "https://localhost:8080/",
     "height": 35
    },
    "colab_type": "code",
    "id": "ze8Q0p2E4vK9",
    "outputId": "800e0199-9561-436c-b794-9863d0d1e74f"
   },
   "outputs": [
    {
     "name": "stdout",
     "output_type": "stream",
     "text": [
      "Found 32 images belonging to 4 classes.\n"
     ]
    }
   ],
   "source": [
    "#This method will identify classes in the validation dataset, automatically from the folder name\"\"\"\n",
    "val_data_gen_hpTuning = validation_image_generator_hpTuning.flow_from_directory(batch_size=32,\n",
    "                                                              directory=validationSet,\n",
    "                                                              target_size=(IMG_HEIGHT, IMG_WIDTH),\n",
    "                                                              classes=[\"DME\",\"CNV\",\"NORMAL\",\"DRUSEN\"])"
   ]
  },
  {
   "cell_type": "markdown",
   "metadata": {},
   "source": [
    "# Visualization"
   ]
  },
  {
   "cell_type": "code",
   "execution_count": 10,
   "metadata": {
    "colab": {
     "base_uri": "https://localhost:8080/",
     "height": 35
    },
    "colab_type": "code",
    "id": "G0-ZUDGv4vLH",
    "outputId": "4f63d2c6-a764-4dd4-9348-b8458ba43d39"
   },
   "outputs": [
    {
     "name": "stdout",
     "output_type": "stream",
     "text": [
      "(6793, 128, 128, 3)\n"
     ]
    }
   ],
   "source": [
    "X_train, Y_train = next(train_data_gen_hpTuning)\n",
    "X_valid, Y_valid = next(val_data_gen_hpTuning)\n",
    "print(X_train.shape)"
   ]
  },
  {
   "cell_type": "code",
   "execution_count": 76,
   "metadata": {},
   "outputs": [],
   "source": [
    "sample_training_images, _ = next(train_data_gen)"
   ]
  },
  {
   "cell_type": "code",
   "execution_count": 77,
   "metadata": {},
   "outputs": [],
   "source": [
    "# This function will plot images in the form of a grid with 1 row and 5 columns where images are placed in each column.\n",
    "def plotImages(images_arr):\n",
    "    fig, axes = plt.subplots(1, 5, figsize=(20,20))\n",
    "    axes = axes.flatten()\n",
    "    for img, ax in zip( images_arr, axes):\n",
    "        ax.imshow(img)\n",
    "        ax.axis('off')\n",
    "    plt.tight_layout()\n",
    "    plt.show()"
   ]
  },
  {
   "cell_type": "code",
   "execution_count": 78,
   "metadata": {
    "scrolled": false
   },
   "outputs": [
    {
     "data": {
      "image/png": "[encoded data removed]",
      "text/plain": [
       "<Figure size 1440x1440 with 5 Axes>"
      ]
     },
     "metadata": {
      "needs_background": "light"
     },
     "output_type": "display_data"
    }
   ],
   "source": [
    "plotImages(sample_training_images[:5])"
   ]
  },
  {
   "cell_type": "markdown",
   "metadata": {},
   "source": [
    "# Model Definition"
   ]
  },
  {
   "cell_type": "code",
   "execution_count": 16,
   "metadata": {
    "colab": {},
    "colab_type": "code",
    "id": "3H2h-jl14vMA"
   },
   "outputs": [],
   "source": [
    "#define a model-building function. It takes an hp argument from which we can sample hyperparameters\n",
    "def build_model(hp):\n",
    "    inputs = tf.keras.Input(shape=(IMG_HEIGHT, IMG_WIDTH, 3))\n",
    "    x = inputs\n",
    "    #optimizers = hp.Choice('dense_activation',values=['adam', 'sgd'],default='adam')\n",
    "    for i in range(hp.Int('conv_blocks', 3, 5, default=3)):\n",
    "\n",
    "        filters = hp.Int('filters_' + str(i), 32, 256, step=32)\n",
    "\n",
    "        activation_layer = hp.Choice('dense_activation',\n",
    "                                      values=['relu', 'tanh'],\n",
    "                                      default='relu')\n",
    "        \n",
    "\n",
    "        for _ in range(2):\n",
    "            x = tf.keras.layers.Convolution2D(\n",
    "              filters, kernel_size=(3, 5), padding='same')(x)\n",
    "            x = tf.keras.layers.BatchNormalization()(x)\n",
    "            #x = tf.keras.layers.Activation('activation_' + str(i), activation_layer)(x)\n",
    "            x = tf.keras.layers.ReLU()(x)\n",
    "        if hp.Choice('pooling_' + str(i), ['avg', 'max']) == 'max':\n",
    "            x = tf.keras.layers.MaxPool2D()(x)\n",
    "        else:\n",
    "            x = tf.keras.layers.AvgPool2D()(x)\n",
    "    x = tf.keras.layers.GlobalAvgPool2D()(x)\n",
    "    x= tf.keras.layers.Flatten()(x)\n",
    "    x = tf.keras.layers.Dense(\n",
    "      hp.Int('hidden_size', 30, 100, step=10, default=50),\n",
    "      activation='relu')(x)\n",
    "    x = tf.keras.layers.Dropout(\n",
    "      hp.Float('dropout', 0, 0.5, step=0.1, default=0.5))(x)\n",
    "          \n",
    "    outputs = tf.keras.layers.Dense(4, activation='softmax')(x)\n",
    "\n",
    "    model = tf.keras.Model(inputs, outputs)\n",
    "    model.compile(\n",
    "      optimizer=tf.keras.optimizers.Adam(\n",
    "        hp.Float('learning_rate', 1e-4, 1e-2, sampling='log')),\n",
    "      loss='categorical_crossentropy',\n",
    "      metrics=['accuracy'])\n",
    "    return model\n"
   ]
  },
  {
   "cell_type": "markdown",
   "metadata": {},
   "source": [
    "# Keras Tuner Instantiation "
   ]
  },
  {
   "cell_type": "code",
   "execution_count": 17,
   "metadata": {
    "colab": {},
    "colab_type": "code",
    "id": "QTDNWgIf4vMQ"
   },
   "outputs": [],
   "source": [
    "\"\"\"Instantiate the tuner\n",
    "In this example, Keras tuner will use the Hyperband algorithm for the hyperparameter search\"\"\"\n",
    "tuner = kt.Hyperband(\n",
    "    build_model,\n",
    "    objective='val_accuracy', #the objective that is to be optimized (whether to minimize or maximize is automatically inferred for built-in metrics)\n",
    "    max_epochs=8,\n",
    "    hyperband_iterations=2)\n",
    " \n",
    "\n",
    "train_ds, test_ds = train_data_gen_hpTuning, val_data_gen_hpTuning\n"
   ]
  },
  {
   "cell_type": "markdown",
   "metadata": {},
   "source": [
    "# Hyperparameter Search"
   ]
  },
  {
   "cell_type": "code",
   "execution_count": 18,
   "metadata": {
    "colab": {
     "base_uri": "https://localhost:8080/",
     "height": 1000
    },
    "colab_type": "code",
    "id": "8y3r_oZM4vMi",
    "outputId": "0270fe05-6100-4e2e-9c83-2dd3ea8bd8fe"
   },
   "outputs": [
    {
     "name": "stdout",
     "output_type": "stream",
     "text": [
      "Epoch 1/3\n",
      "183/183 [==============================] - 33s 181ms/step - loss: 1.1659 - accuracy: 0.4688 - val_loss: 2.9169 - val_accuracy: 0.2812\n",
      "Epoch 2/3\n",
      "183/183 [==============================] - 34s 188ms/step - loss: 0.9206 - accuracy: 0.6187 - val_loss: 2.3043 - val_accuracy: 0.4062\n",
      "Epoch 3/3\n",
      "183/183 [==============================] - 36s 196ms/step - loss: 0.7028 - accuracy: 0.7403 - val_loss: 1.5267 - val_accuracy: 0.5312\n"
     ]
    },
    {
     "data": {
      "text/html": [
       "<span style=\"color:#4527A0\"><h1 style=\"font-size:18px\">Trial complete</h1></span>"
      ],
      "text/plain": [
       "<IPython.core.display.HTML object>"
      ]
     },
     "metadata": {
      "tags": []
     },
     "output_type": "display_data"
    },
    {
     "data": {
      "text/html": [
       "<span style=\"color:#4527A0\"><h1 style=\"font-size:18px\">Trial summary</h1></span>"
      ],
      "text/plain": [
       "<IPython.core.display.HTML object>"
      ]
     },
     "metadata": {
      "tags": []
     },
     "output_type": "display_data"
    },
    {
     "data": {
      "text/html": [
       "<span style=\"color:cyan\"> |-Trial ID: 39293674491318b6951f09b40d9c3b24</span>"
      ],
      "text/plain": [
       "<IPython.core.display.HTML object>"
      ]
     },
     "metadata": {
      "tags": []
     },
     "output_type": "display_data"
    },
    {
     "data": {
      "text/html": [
       "<span style=\"color:cyan\"> |-Score: 0.53125</span>"
      ],
      "text/plain": [
       "<IPython.core.display.HTML object>"
      ]
     },
     "metadata": {
      "tags": []
     },
     "output_type": "display_data"
    },
    {
     "data": {
      "text/html": [
       "<span style=\"color:cyan\"> |-Best step: 0</span>"
      ],
      "text/plain": [
       "<IPython.core.display.HTML object>"
      ]
     },
     "metadata": {
      "tags": []
     },
     "output_type": "display_data"
    },
    {
     "data": {
      "text/html": [
       "<span style=\"color:#7E57C2\"><h2 style=\"font-size:16px\">Hyperparameters:</h2></span>"
      ],
      "text/plain": [
       "<IPython.core.display.HTML object>"
      ]
     },
     "metadata": {
      "tags": []
     },
     "output_type": "display_data"
    },
    {
     "data": {
      "text/html": [
       "<span style=\"color:cyan\"> |-conv_blocks: 3</span>"
      ],
      "text/plain": [
       "<IPython.core.display.HTML object>"
      ]
     },
     "metadata": {
      "tags": []
     },
     "output_type": "display_data"
    },
    {
     "data": {
      "text/html": [
       "<span style=\"color:blue\"> |-dense_activation: relu</span>"
      ],
      "text/plain": [
       "<IPython.core.display.HTML object>"
      ]
     },
     "metadata": {
      "tags": []
     },
     "output_type": "display_data"
    },
    {
     "data": {
      "text/html": [
       "<span style=\"color:cyan\"> |-dropout: 0.5</span>"
      ],
      "text/plain": [
       "<IPython.core.display.HTML object>"
      ]
     },
     "metadata": {
      "tags": []
     },
     "output_type": "display_data"
    },
    {
     "data": {
      "text/html": [
       "<span style=\"color:blue\"> |-filters_0: 64</span>"
      ],
      "text/plain": [
       "<IPython.core.display.HTML object>"
      ]
     },
     "metadata": {
      "tags": []
     },
     "output_type": "display_data"
    },
    {
     "data": {
      "text/html": [
       "<span style=\"color:cyan\"> |-filters_1: 128</span>"
      ],
      "text/plain": [
       "<IPython.core.display.HTML object>"
      ]
     },
     "metadata": {
      "tags": []
     },
     "output_type": "display_data"
    },
    {
     "data": {
      "text/html": [
       "<span style=\"color:blue\"> |-filters_2: 192</span>"
      ],
      "text/plain": [
       "<IPython.core.display.HTML object>"
      ]
     },
     "metadata": {
      "tags": []
     },
     "output_type": "display_data"
    },
    {
     "data": {
      "text/html": [
       "<span style=\"color:cyan\"> |-hidden_size: 50</span>"
      ],
      "text/plain": [
       "<IPython.core.display.HTML object>"
      ]
     },
     "metadata": {
      "tags": []
     },
     "output_type": "display_data"
    },
    {
     "data": {
      "text/html": [
       "<span style=\"color:blue\"> |-learning_rate: 0.0006236708225135692</span>"
      ],
      "text/plain": [
       "<IPython.core.display.HTML object>"
      ]
     },
     "metadata": {
      "tags": []
     },
     "output_type": "display_data"
    },
    {
     "data": {
      "text/html": [
       "<span style=\"color:cyan\"> |-pooling_0: avg</span>"
      ],
      "text/plain": [
       "<IPython.core.display.HTML object>"
      ]
     },
     "metadata": {
      "tags": []
     },
     "output_type": "display_data"
    },
    {
     "data": {
      "text/html": [
       "<span style=\"color:blue\"> |-pooling_1: max</span>"
      ],
      "text/plain": [
       "<IPython.core.display.HTML object>"
      ]
     },
     "metadata": {
      "tags": []
     },
     "output_type": "display_data"
    },
    {
     "data": {
      "text/html": [
       "<span style=\"color:cyan\"> |-pooling_2: max</span>"
      ],
      "text/plain": [
       "<IPython.core.display.HTML object>"
      ]
     },
     "metadata": {
      "tags": []
     },
     "output_type": "display_data"
    },
    {
     "data": {
      "text/html": [
       "<span style=\"color:blue\"> |-tuner/bracket: 1</span>"
      ],
      "text/plain": [
       "<IPython.core.display.HTML object>"
      ]
     },
     "metadata": {
      "tags": []
     },
     "output_type": "display_data"
    },
    {
     "data": {
      "text/html": [
       "<span style=\"color:cyan\"> |-tuner/epochs: 3</span>"
      ],
      "text/plain": [
       "<IPython.core.display.HTML object>"
      ]
     },
     "metadata": {
      "tags": []
     },
     "output_type": "display_data"
    },
    {
     "data": {
      "text/html": [
       "<span style=\"color:blue\"> |-tuner/initial_epoch: 0</span>"
      ],
      "text/plain": [
       "<IPython.core.display.HTML object>"
      ]
     },
     "metadata": {
      "tags": []
     },
     "output_type": "display_data"
    },
    {
     "data": {
      "text/html": [
       "<span style=\"color:cyan\"> |-tuner/round: 0</span>"
      ],
      "text/plain": [
       "<IPython.core.display.HTML object>"
      ]
     },
     "metadata": {
      "tags": []
     },
     "output_type": "display_data"
    },
    {
     "name": "stdout",
     "output_type": "stream",
     "text": [
      "Epoch 1/3\n",
      "183/183 [==============================] - 39s 213ms/step - loss: 0.9846 - accuracy: 0.5666 - val_loss: 11.7430 - val_accuracy: 0.2500\n",
      "Epoch 2/3\n",
      "183/183 [==============================] - 39s 213ms/step - loss: 0.6942 - accuracy: 0.7316 - val_loss: 2.8430 - val_accuracy: 0.4062\n",
      "Epoch 3/3\n",
      "183/183 [==============================] - 39s 213ms/step - loss: 0.5474 - accuracy: 0.7985 - val_loss: 1.8142 - val_accuracy: 0.4688\n"
     ]
    },
    {
     "data": {
      "text/html": [
       "<span style=\"color:#4527A0\"><h1 style=\"font-size:18px\">Trial complete</h1></span>"
      ],
      "text/plain": [
       "<IPython.core.display.HTML object>"
      ]
     },
     "metadata": {
      "tags": []
     },
     "output_type": "display_data"
    },
    {
     "data": {
      "text/html": [
       "<span style=\"color:#4527A0\"><h1 style=\"font-size:18px\">Trial summary</h1></span>"
      ],
      "text/plain": [
       "<IPython.core.display.HTML object>"
      ]
     },
     "metadata": {
      "tags": []
     },
     "output_type": "display_data"
    },
    {
     "data": {
      "text/html": [
       "<span style=\"color:cyan\"> |-Trial ID: 92560362df08031b8ebb8cec026bff79</span>"
      ],
      "text/plain": [
       "<IPython.core.display.HTML object>"
      ]
     },
     "metadata": {
      "tags": []
     },
     "output_type": "display_data"
    },
    {
     "data": {
      "text/html": [
       "<span style=\"color:cyan\"> |-Score: 0.46875</span>"
      ],
      "text/plain": [
       "<IPython.core.display.HTML object>"
      ]
     },
     "metadata": {
      "tags": []
     },
     "output_type": "display_data"
    },
    {
     "data": {
      "text/html": [
       "<span style=\"color:cyan\"> |-Best step: 0</span>"
      ],
      "text/plain": [
       "<IPython.core.display.HTML object>"
      ]
     },
     "metadata": {
      "tags": []
     },
     "output_type": "display_data"
    },
    {
     "data": {
      "text/html": [
       "<span style=\"color:#7E57C2\"><h2 style=\"font-size:16px\">Hyperparameters:</h2></span>"
      ],
      "text/plain": [
       "<IPython.core.display.HTML object>"
      ]
     },
     "metadata": {
      "tags": []
     },
     "output_type": "display_data"
    },
    {
     "data": {
      "text/html": [
       "<span style=\"color:cyan\"> |-conv_blocks: 5</span>"
      ],
      "text/plain": [
       "<IPython.core.display.HTML object>"
      ]
     },
     "metadata": {
      "tags": []
     },
     "output_type": "display_data"
    },
    {
     "data": {
      "text/html": [
       "<span style=\"color:blue\"> |-dense_activation: relu</span>"
      ],
      "text/plain": [
       "<IPython.core.display.HTML object>"
      ]
     },
     "metadata": {
      "tags": []
     },
     "output_type": "display_data"
    },
    {
     "data": {
      "text/html": [
       "<span style=\"color:cyan\"> |-dropout: 0.2</span>"
      ],
      "text/plain": [
       "<IPython.core.display.HTML object>"
      ]
     },
     "metadata": {
      "tags": []
     },
     "output_type": "display_data"
    },
    {
     "data": {
      "text/html": [
       "<span style=\"color:blue\"> |-filters_0: 128</span>"
      ],
      "text/plain": [
       "<IPython.core.display.HTML object>"
      ]
     },
     "metadata": {
      "tags": []
     },
     "output_type": "display_data"
    },
    {
     "data": {
      "text/html": [
       "<span style=\"color:cyan\"> |-filters_1: 32</span>"
      ],
      "text/plain": [
       "<IPython.core.display.HTML object>"
      ]
     },
     "metadata": {
      "tags": []
     },
     "output_type": "display_data"
    },
    {
     "data": {
      "text/html": [
       "<span style=\"color:blue\"> |-filters_2: 96</span>"
      ],
      "text/plain": [
       "<IPython.core.display.HTML object>"
      ]
     },
     "metadata": {
      "tags": []
     },
     "output_type": "display_data"
    },
    {
     "data": {
      "text/html": [
       "<span style=\"color:cyan\"> |-filters_3: 32</span>"
      ],
      "text/plain": [
       "<IPython.core.display.HTML object>"
      ]
     },
     "metadata": {
      "tags": []
     },
     "output_type": "display_data"
    },
    {
     "data": {
      "text/html": [
       "<span style=\"color:blue\"> |-filters_4: 32</span>"
      ],
      "text/plain": [
       "<IPython.core.display.HTML object>"
      ]
     },
     "metadata": {
      "tags": []
     },
     "output_type": "display_data"
    },
    {
     "data": {
      "text/html": [
       "<span style=\"color:cyan\"> |-hidden_size: 60</span>"
      ],
      "text/plain": [
       "<IPython.core.display.HTML object>"
      ]
     },
     "metadata": {
      "tags": []
     },
     "output_type": "display_data"
    },
    {
     "data": {
      "text/html": [
       "<span style=\"color:blue\"> |-learning_rate: 0.0016187959221574872</span>"
      ],
      "text/plain": [
       "<IPython.core.display.HTML object>"
      ]
     },
     "metadata": {
      "tags": []
     },
     "output_type": "display_data"
    },
    {
     "data": {
      "text/html": [
       "<span style=\"color:cyan\"> |-pooling_0: max</span>"
      ],
      "text/plain": [
       "<IPython.core.display.HTML object>"
      ]
     },
     "metadata": {
      "tags": []
     },
     "output_type": "display_data"
    },
    {
     "data": {
      "text/html": [
       "<span style=\"color:blue\"> |-pooling_1: avg</span>"
      ],
      "text/plain": [
       "<IPython.core.display.HTML object>"
      ]
     },
     "metadata": {
      "tags": []
     },
     "output_type": "display_data"
    },
    {
     "data": {
      "text/html": [
       "<span style=\"color:cyan\"> |-pooling_2: avg</span>"
      ],
      "text/plain": [
       "<IPython.core.display.HTML object>"
      ]
     },
     "metadata": {
      "tags": []
     },
     "output_type": "display_data"
    },
    {
     "data": {
      "text/html": [
       "<span style=\"color:blue\"> |-pooling_3: avg</span>"
      ],
      "text/plain": [
       "<IPython.core.display.HTML object>"
      ]
     },
     "metadata": {
      "tags": []
     },
     "output_type": "display_data"
    },
    {
     "data": {
      "text/html": [
       "<span style=\"color:cyan\"> |-pooling_4: avg</span>"
      ],
      "text/plain": [
       "<IPython.core.display.HTML object>"
      ]
     },
     "metadata": {
      "tags": []
     },
     "output_type": "display_data"
    },
    {
     "data": {
      "text/html": [
       "<span style=\"color:blue\"> |-tuner/bracket: 1</span>"
      ],
      "text/plain": [
       "<IPython.core.display.HTML object>"
      ]
     },
     "metadata": {
      "tags": []
     },
     "output_type": "display_data"
    },
    {
     "data": {
      "text/html": [
       "<span style=\"color:cyan\"> |-tuner/epochs: 3</span>"
      ],
      "text/plain": [
       "<IPython.core.display.HTML object>"
      ]
     },
     "metadata": {
      "tags": []
     },
     "output_type": "display_data"
    },
    {
     "data": {
      "text/html": [
       "<span style=\"color:blue\"> |-tuner/initial_epoch: 0</span>"
      ],
      "text/plain": [
       "<IPython.core.display.HTML object>"
      ]
     },
     "metadata": {
      "tags": []
     },
     "output_type": "display_data"
    },
    {
     "data": {
      "text/html": [
       "<span style=\"color:cyan\"> |-tuner/round: 0</span>"
      ],
      "text/plain": [
       "<IPython.core.display.HTML object>"
      ]
     },
     "metadata": {
      "tags": []
     },
     "output_type": "display_data"
    },
    {
     "name": "stdout",
     "output_type": "stream",
     "text": [
      "Epoch 1/3\n",
      "183/183 [==============================] - 84s 460ms/step - loss: 0.9296 - accuracy: 0.6119 - val_loss: 1.8584 - val_accuracy: 0.2188\n",
      "Epoch 2/3\n",
      "183/183 [==============================] - 84s 458ms/step - loss: 0.4958 - accuracy: 0.8163 - val_loss: 3.2553 - val_accuracy: 0.4062\n"
     ]
    },
    {
     "data": {
      "text/html": [
       "<span style=\"color:#4527A0\"><h1 style=\"font-size:18px\">Trial complete</h1></span>"
      ],
      "text/plain": [
       "<IPython.core.display.HTML object>"
      ]
     },
     "metadata": {
      "tags": []
     },
     "output_type": "display_data"
    },
    {
     "data": {
      "text/html": [
       "<span style=\"color:#4527A0\"><h1 style=\"font-size:18px\">Trial summary</h1></span>"
      ],
      "text/plain": [
       "<IPython.core.display.HTML object>"
      ]
     },
     "metadata": {
      "tags": []
     },
     "output_type": "display_data"
    },
    {
     "data": {
      "text/html": [
       "<span style=\"color:cyan\"> |-Trial ID: 8a4e76e7b833c5a452237c85cc64c8e7</span>"
      ],
      "text/plain": [
       "<IPython.core.display.HTML object>"
      ]
     },
     "metadata": {
      "tags": []
     },
     "output_type": "display_data"
    },
    {
     "data": {
      "text/html": [
       "<span style=\"color:cyan\"> |-Score: 0.40625</span>"
      ],
      "text/plain": [
       "<IPython.core.display.HTML object>"
      ]
     },
     "metadata": {
      "tags": []
     },
     "output_type": "display_data"
    },
    {
     "data": {
      "text/html": [
       "<span style=\"color:cyan\"> |-Best step: 0</span>"
      ],
      "text/plain": [
       "<IPython.core.display.HTML object>"
      ]
     },
     "metadata": {
      "tags": []
     },
     "output_type": "display_data"
    },
    {
     "data": {
      "text/html": [
       "<span style=\"color:#7E57C2\"><h2 style=\"font-size:16px\">Hyperparameters:</h2></span>"
      ],
      "text/plain": [
       "<IPython.core.display.HTML object>"
      ]
     },
     "metadata": {
      "tags": []
     },
     "output_type": "display_data"
    },
    {
     "data": {
      "text/html": [
       "<span style=\"color:cyan\"> |-conv_blocks: 4</span>"
      ],
      "text/plain": [
       "<IPython.core.display.HTML object>"
      ]
     },
     "metadata": {
      "tags": []
     },
     "output_type": "display_data"
    },
    {
     "data": {
      "text/html": [
       "<span style=\"color:blue\"> |-dense_activation: tanh</span>"
      ],
      "text/plain": [
       "<IPython.core.display.HTML object>"
      ]
     },
     "metadata": {
      "tags": []
     },
     "output_type": "display_data"
    },
    {
     "data": {
      "text/html": [
       "<span style=\"color:cyan\"> |-dropout: 0.4</span>"
      ],
      "text/plain": [
       "<IPython.core.display.HTML object>"
      ]
     },
     "metadata": {
      "tags": []
     },
     "output_type": "display_data"
    },
    {
     "data": {
      "text/html": [
       "<span style=\"color:blue\"> |-filters_0: 160</span>"
      ],
      "text/plain": [
       "<IPython.core.display.HTML object>"
      ]
     },
     "metadata": {
      "tags": []
     },
     "output_type": "display_data"
    },
    {
     "data": {
      "text/html": [
       "<span style=\"color:cyan\"> |-filters_1: 128</span>"
      ],
      "text/plain": [
       "<IPython.core.display.HTML object>"
      ]
     },
     "metadata": {
      "tags": []
     },
     "output_type": "display_data"
    },
    {
     "data": {
      "text/html": [
       "<span style=\"color:blue\"> |-filters_2: 192</span>"
      ],
      "text/plain": [
       "<IPython.core.display.HTML object>"
      ]
     },
     "metadata": {
      "tags": []
     },
     "output_type": "display_data"
    },
    {
     "data": {
      "text/html": [
       "<span style=\"color:cyan\"> |-filters_3: 224</span>"
      ],
      "text/plain": [
       "<IPython.core.display.HTML object>"
      ]
     },
     "metadata": {
      "tags": []
     },
     "output_type": "display_data"
    },
    {
     "data": {
      "text/html": [
       "<span style=\"color:blue\"> |-filters_4: 192</span>"
      ],
      "text/plain": [
       "<IPython.core.display.HTML object>"
      ]
     },
     "metadata": {
      "tags": []
     },
     "output_type": "display_data"
    },
    {
     "data": {
      "text/html": [
       "<span style=\"color:cyan\"> |-hidden_size: 90</span>"
      ],
      "text/plain": [
       "<IPython.core.display.HTML object>"
      ]
     },
     "metadata": {
      "tags": []
     },
     "output_type": "display_data"
    },
    {
     "data": {
      "text/html": [
       "<span style=\"color:blue\"> |-learning_rate: 0.00017693027431197656</span>"
      ],
      "text/plain": [
       "<IPython.core.display.HTML object>"
      ]
     },
     "metadata": {
      "tags": []
     },
     "output_type": "display_data"
    },
    {
     "data": {
      "text/html": [
       "<span style=\"color:cyan\"> |-pooling_0: avg</span>"
      ],
      "text/plain": [
       "<IPython.core.display.HTML object>"
      ]
     },
     "metadata": {
      "tags": []
     },
     "output_type": "display_data"
    },
    {
     "data": {
      "text/html": [
       "<span style=\"color:blue\"> |-pooling_1: max</span>"
      ],
      "text/plain": [
       "<IPython.core.display.HTML object>"
      ]
     },
     "metadata": {
      "tags": []
     },
     "output_type": "display_data"
    },
    {
     "data": {
      "text/html": [
       "<span style=\"color:cyan\"> |-pooling_2: max</span>"
      ],
      "text/plain": [
       "<IPython.core.display.HTML object>"
      ]
     },
     "metadata": {
      "tags": []
     },
     "output_type": "display_data"
    },
    {
     "data": {
      "text/html": [
       "<span style=\"color:blue\"> |-pooling_3: max</span>"
      ],
      "text/plain": [
       "<IPython.core.display.HTML object>"
      ]
     },
     "metadata": {
      "tags": []
     },
     "output_type": "display_data"
    },
    {
     "data": {
      "text/html": [
       "<span style=\"color:cyan\"> |-pooling_4: avg</span>"
      ],
      "text/plain": [
       "<IPython.core.display.HTML object>"
      ]
     },
     "metadata": {
      "tags": []
     },
     "output_type": "display_data"
    },
    {
     "data": {
      "text/html": [
       "<span style=\"color:blue\"> |-tuner/bracket: 1</span>"
      ],
      "text/plain": [
       "<IPython.core.display.HTML object>"
      ]
     },
     "metadata": {
      "tags": []
     },
     "output_type": "display_data"
    },
    {
     "data": {
      "text/html": [
       "<span style=\"color:cyan\"> |-tuner/epochs: 3</span>"
      ],
      "text/plain": [
       "<IPython.core.display.HTML object>"
      ]
     },
     "metadata": {
      "tags": []
     },
     "output_type": "display_data"
    },
    {
     "data": {
      "text/html": [
       "<span style=\"color:blue\"> |-tuner/initial_epoch: 0</span>"
      ],
      "text/plain": [
       "<IPython.core.display.HTML object>"
      ]
     },
     "metadata": {
      "tags": []
     },
     "output_type": "display_data"
    },
    {
     "data": {
      "text/html": [
       "<span style=\"color:cyan\"> |-tuner/round: 0</span>"
      ],
      "text/plain": [
       "<IPython.core.display.HTML object>"
      ]
     },
     "metadata": {
      "tags": []
     },
     "output_type": "display_data"
    },
    {
     "name": "stdout",
     "output_type": "stream",
     "text": [
      "Epoch 1/3\n",
      "183/183 [==============================] - 113s 619ms/step - loss: 1.0388 - accuracy: 0.5468 - val_loss: 11.7605 - val_accuracy: 0.2500\n",
      "Epoch 2/3\n",
      "183/183 [==============================] - 114s 621ms/step - loss: 0.7244 - accuracy: 0.7217 - val_loss: 5.7644 - val_accuracy: 0.2812\n",
      "Epoch 3/3\n",
      "183/183 [==============================] - 113s 619ms/step - loss: 0.5534 - accuracy: 0.7913 - val_loss: 8.1668 - val_accuracy: 0.2500\n"
     ]
    },
    {
     "data": {
      "text/html": [
       "<span style=\"color:#4527A0\"><h1 style=\"font-size:18px\">Trial complete</h1></span>"
      ],
      "text/plain": [
       "<IPython.core.display.HTML object>"
      ]
     },
     "metadata": {
      "tags": []
     },
     "output_type": "display_data"
    },
    {
     "data": {
      "text/html": [
       "<span style=\"color:#4527A0\"><h1 style=\"font-size:18px\">Trial summary</h1></span>"
      ],
      "text/plain": [
       "<IPython.core.display.HTML object>"
      ]
     },
     "metadata": {
      "tags": []
     },
     "output_type": "display_data"
    },
    {
     "data": {
      "text/html": [
       "<span style=\"color:cyan\"> |-Trial ID: 64ce43915d49f2557726fc2c7b825859</span>"
      ],
      "text/plain": [
       "<IPython.core.display.HTML object>"
      ]
     },
     "metadata": {
      "tags": []
     },
     "output_type": "display_data"
    },
    {
     "data": {
      "text/html": [
       "<span style=\"color:cyan\"> |-Score: 0.28125</span>"
      ],
      "text/plain": [
       "<IPython.core.display.HTML object>"
      ]
     },
     "metadata": {
      "tags": []
     },
     "output_type": "display_data"
    },
    {
     "data": {
      "text/html": [
       "<span style=\"color:cyan\"> |-Best step: 0</span>"
      ],
      "text/plain": [
       "<IPython.core.display.HTML object>"
      ]
     },
     "metadata": {
      "tags": []
     },
     "output_type": "display_data"
    },
    {
     "data": {
      "text/html": [
       "<span style=\"color:#7E57C2\"><h2 style=\"font-size:16px\">Hyperparameters:</h2></span>"
      ],
      "text/plain": [
       "<IPython.core.display.HTML object>"
      ]
     },
     "metadata": {
      "tags": []
     },
     "output_type": "display_data"
    },
    {
     "data": {
      "text/html": [
       "<span style=\"color:cyan\"> |-conv_blocks: 4</span>"
      ],
      "text/plain": [
       "<IPython.core.display.HTML object>"
      ]
     },
     "metadata": {
      "tags": []
     },
     "output_type": "display_data"
    },
    {
     "data": {
      "text/html": [
       "<span style=\"color:blue\"> |-dense_activation: relu</span>"
      ],
      "text/plain": [
       "<IPython.core.display.HTML object>"
      ]
     },
     "metadata": {
      "tags": []
     },
     "output_type": "display_data"
    },
    {
     "data": {
      "text/html": [
       "<span style=\"color:cyan\"> |-dropout: 0.30000000000000004</span>"
      ],
      "text/plain": [
       "<IPython.core.display.HTML object>"
      ]
     },
     "metadata": {
      "tags": []
     },
     "output_type": "display_data"
    },
    {
     "data": {
      "text/html": [
       "<span style=\"color:blue\"> |-filters_0: 192</span>"
      ],
      "text/plain": [
       "<IPython.core.display.HTML object>"
      ]
     },
     "metadata": {
      "tags": []
     },
     "output_type": "display_data"
    },
    {
     "data": {
      "text/html": [
       "<span style=\"color:cyan\"> |-filters_1: 224</span>"
      ],
      "text/plain": [
       "<IPython.core.display.HTML object>"
      ]
     },
     "metadata": {
      "tags": []
     },
     "output_type": "display_data"
    },
    {
     "data": {
      "text/html": [
       "<span style=\"color:blue\"> |-filters_2: 64</span>"
      ],
      "text/plain": [
       "<IPython.core.display.HTML object>"
      ]
     },
     "metadata": {
      "tags": []
     },
     "output_type": "display_data"
    },
    {
     "data": {
      "text/html": [
       "<span style=\"color:cyan\"> |-filters_3: 64</span>"
      ],
      "text/plain": [
       "<IPython.core.display.HTML object>"
      ]
     },
     "metadata": {
      "tags": []
     },
     "output_type": "display_data"
    },
    {
     "data": {
      "text/html": [
       "<span style=\"color:blue\"> |-filters_4: 160</span>"
      ],
      "text/plain": [
       "<IPython.core.display.HTML object>"
      ]
     },
     "metadata": {
      "tags": []
     },
     "output_type": "display_data"
    },
    {
     "data": {
      "text/html": [
       "<span style=\"color:cyan\"> |-hidden_size: 100</span>"
      ],
      "text/plain": [
       "<IPython.core.display.HTML object>"
      ]
     },
     "metadata": {
      "tags": []
     },
     "output_type": "display_data"
    },
    {
     "data": {
      "text/html": [
       "<span style=\"color:blue\"> |-learning_rate: 0.0007370553076887802</span>"
      ],
      "text/plain": [
       "<IPython.core.display.HTML object>"
      ]
     },
     "metadata": {
      "tags": []
     },
     "output_type": "display_data"
    },
    {
     "data": {
      "text/html": [
       "<span style=\"color:cyan\"> |-pooling_0: avg</span>"
      ],
      "text/plain": [
       "<IPython.core.display.HTML object>"
      ]
     },
     "metadata": {
      "tags": []
     },
     "output_type": "display_data"
    },
    {
     "data": {
      "text/html": [
       "<span style=\"color:blue\"> |-pooling_1: avg</span>"
      ],
      "text/plain": [
       "<IPython.core.display.HTML object>"
      ]
     },
     "metadata": {
      "tags": []
     },
     "output_type": "display_data"
    },
    {
     "data": {
      "text/html": [
       "<span style=\"color:cyan\"> |-pooling_2: avg</span>"
      ],
      "text/plain": [
       "<IPython.core.display.HTML object>"
      ]
     },
     "metadata": {
      "tags": []
     },
     "output_type": "display_data"
    },
    {
     "data": {
      "text/html": [
       "<span style=\"color:blue\"> |-pooling_3: max</span>"
      ],
      "text/plain": [
       "<IPython.core.display.HTML object>"
      ]
     },
     "metadata": {
      "tags": []
     },
     "output_type": "display_data"
    },
    {
     "data": {
      "text/html": [
       "<span style=\"color:cyan\"> |-pooling_4: max</span>"
      ],
      "text/plain": [
       "<IPython.core.display.HTML object>"
      ]
     },
     "metadata": {
      "tags": []
     },
     "output_type": "display_data"
    },
    {
     "data": {
      "text/html": [
       "<span style=\"color:blue\"> |-tuner/bracket: 1</span>"
      ],
      "text/plain": [
       "<IPython.core.display.HTML object>"
      ]
     },
     "metadata": {
      "tags": []
     },
     "output_type": "display_data"
    },
    {
     "data": {
      "text/html": [
       "<span style=\"color:cyan\"> |-tuner/epochs: 3</span>"
      ],
      "text/plain": [
       "<IPython.core.display.HTML object>"
      ]
     },
     "metadata": {
      "tags": []
     },
     "output_type": "display_data"
    },
    {
     "data": {
      "text/html": [
       "<span style=\"color:blue\"> |-tuner/initial_epoch: 0</span>"
      ],
      "text/plain": [
       "<IPython.core.display.HTML object>"
      ]
     },
     "metadata": {
      "tags": []
     },
     "output_type": "display_data"
    },
    {
     "data": {
      "text/html": [
       "<span style=\"color:cyan\"> |-tuner/round: 0</span>"
      ],
      "text/plain": [
       "<IPython.core.display.HTML object>"
      ]
     },
     "metadata": {
      "tags": []
     },
     "output_type": "display_data"
    },
    {
     "name": "stdout",
     "output_type": "stream",
     "text": [
      "Epoch 1/3\n",
      "183/183 [==============================] - 88s 482ms/step - loss: 1.0828 - accuracy: 0.5140 - val_loss: 5.7825 - val_accuracy: 0.2500\n",
      "Epoch 2/3\n",
      "183/183 [==============================] - 88s 481ms/step - loss: 0.8434 - accuracy: 0.6492 - val_loss: 8.5168 - val_accuracy: 0.2500\n"
     ]
    },
    {
     "data": {
      "text/html": [
       "<span style=\"color:#4527A0\"><h1 style=\"font-size:18px\">Trial complete</h1></span>"
      ],
      "text/plain": [
       "<IPython.core.display.HTML object>"
      ]
     },
     "metadata": {
      "tags": []
     },
     "output_type": "display_data"
    },
    {
     "data": {
      "text/html": [
       "<span style=\"color:#4527A0\"><h1 style=\"font-size:18px\">Trial summary</h1></span>"
      ],
      "text/plain": [
       "<IPython.core.display.HTML object>"
      ]
     },
     "metadata": {
      "tags": []
     },
     "output_type": "display_data"
    },
    {
     "data": {
      "text/html": [
       "<span style=\"color:cyan\"> |-Trial ID: 48727fa6d7d30ed3ee02dcc8149ef7f8</span>"
      ],
      "text/plain": [
       "<IPython.core.display.HTML object>"
      ]
     },
     "metadata": {
      "tags": []
     },
     "output_type": "display_data"
    },
    {
     "data": {
      "text/html": [
       "<span style=\"color:cyan\"> |-Score: 0.25</span>"
      ],
      "text/plain": [
       "<IPython.core.display.HTML object>"
      ]
     },
     "metadata": {
      "tags": []
     },
     "output_type": "display_data"
    },
    {
     "data": {
      "text/html": [
       "<span style=\"color:cyan\"> |-Best step: 0</span>"
      ],
      "text/plain": [
       "<IPython.core.display.HTML object>"
      ]
     },
     "metadata": {
      "tags": []
     },
     "output_type": "display_data"
    },
    {
     "data": {
      "text/html": [
       "<span style=\"color:#7E57C2\"><h2 style=\"font-size:16px\">Hyperparameters:</h2></span>"
      ],
      "text/plain": [
       "<IPython.core.display.HTML object>"
      ]
     },
     "metadata": {
      "tags": []
     },
     "output_type": "display_data"
    },
    {
     "data": {
      "text/html": [
       "<span style=\"color:cyan\"> |-conv_blocks: 3</span>"
      ],
      "text/plain": [
       "<IPython.core.display.HTML object>"
      ]
     },
     "metadata": {
      "tags": []
     },
     "output_type": "display_data"
    },
    {
     "data": {
      "text/html": [
       "<span style=\"color:blue\"> |-dense_activation: relu</span>"
      ],
      "text/plain": [
       "<IPython.core.display.HTML object>"
      ]
     },
     "metadata": {
      "tags": []
     },
     "output_type": "display_data"
    },
    {
     "data": {
      "text/html": [
       "<span style=\"color:cyan\"> |-dropout: 0.0</span>"
      ],
      "text/plain": [
       "<IPython.core.display.HTML object>"
      ]
     },
     "metadata": {
      "tags": []
     },
     "output_type": "display_data"
    },
    {
     "data": {
      "text/html": [
       "<span style=\"color:blue\"> |-filters_0: 128</span>"
      ],
      "text/plain": [
       "<IPython.core.display.HTML object>"
      ]
     },
     "metadata": {
      "tags": []
     },
     "output_type": "display_data"
    },
    {
     "data": {
      "text/html": [
       "<span style=\"color:cyan\"> |-filters_1: 256</span>"
      ],
      "text/plain": [
       "<IPython.core.display.HTML object>"
      ]
     },
     "metadata": {
      "tags": []
     },
     "output_type": "display_data"
    },
    {
     "data": {
      "text/html": [
       "<span style=\"color:blue\"> |-filters_2: 224</span>"
      ],
      "text/plain": [
       "<IPython.core.display.HTML object>"
      ]
     },
     "metadata": {
      "tags": []
     },
     "output_type": "display_data"
    },
    {
     "data": {
      "text/html": [
       "<span style=\"color:cyan\"> |-filters_3: 32</span>"
      ],
      "text/plain": [
       "<IPython.core.display.HTML object>"
      ]
     },
     "metadata": {
      "tags": []
     },
     "output_type": "display_data"
    },
    {
     "data": {
      "text/html": [
       "<span style=\"color:blue\"> |-filters_4: 64</span>"
      ],
      "text/plain": [
       "<IPython.core.display.HTML object>"
      ]
     },
     "metadata": {
      "tags": []
     },
     "output_type": "display_data"
    },
    {
     "data": {
      "text/html": [
       "<span style=\"color:cyan\"> |-hidden_size: 30</span>"
      ],
      "text/plain": [
       "<IPython.core.display.HTML object>"
      ]
     },
     "metadata": {
      "tags": []
     },
     "output_type": "display_data"
    },
    {
     "data": {
      "text/html": [
       "<span style=\"color:blue\"> |-learning_rate: 0.0011474792202899977</span>"
      ],
      "text/plain": [
       "<IPython.core.display.HTML object>"
      ]
     },
     "metadata": {
      "tags": []
     },
     "output_type": "display_data"
    },
    {
     "data": {
      "text/html": [
       "<span style=\"color:cyan\"> |-pooling_0: max</span>"
      ],
      "text/plain": [
       "<IPython.core.display.HTML object>"
      ]
     },
     "metadata": {
      "tags": []
     },
     "output_type": "display_data"
    },
    {
     "data": {
      "text/html": [
       "<span style=\"color:blue\"> |-pooling_1: avg</span>"
      ],
      "text/plain": [
       "<IPython.core.display.HTML object>"
      ]
     },
     "metadata": {
      "tags": []
     },
     "output_type": "display_data"
    },
    {
     "data": {
      "text/html": [
       "<span style=\"color:cyan\"> |-pooling_2: avg</span>"
      ],
      "text/plain": [
       "<IPython.core.display.HTML object>"
      ]
     },
     "metadata": {
      "tags": []
     },
     "output_type": "display_data"
    },
    {
     "data": {
      "text/html": [
       "<span style=\"color:blue\"> |-pooling_3: avg</span>"
      ],
      "text/plain": [
       "<IPython.core.display.HTML object>"
      ]
     },
     "metadata": {
      "tags": []
     },
     "output_type": "display_data"
    },
    {
     "data": {
      "text/html": [
       "<span style=\"color:cyan\"> |-pooling_4: max</span>"
      ],
      "text/plain": [
       "<IPython.core.display.HTML object>"
      ]
     },
     "metadata": {
      "tags": []
     },
     "output_type": "display_data"
    },
    {
     "data": {
      "text/html": [
       "<span style=\"color:blue\"> |-tuner/bracket: 1</span>"
      ],
      "text/plain": [
       "<IPython.core.display.HTML object>"
      ]
     },
     "metadata": {
      "tags": []
     },
     "output_type": "display_data"
    },
    {
     "data": {
      "text/html": [
       "<span style=\"color:cyan\"> |-tuner/epochs: 3</span>"
      ],
      "text/plain": [
       "<IPython.core.display.HTML object>"
      ]
     },
     "metadata": {
      "tags": []
     },
     "output_type": "display_data"
    },
    {
     "data": {
      "text/html": [
       "<span style=\"color:blue\"> |-tuner/initial_epoch: 0</span>"
      ],
      "text/plain": [
       "<IPython.core.display.HTML object>"
      ]
     },
     "metadata": {
      "tags": []
     },
     "output_type": "display_data"
    },
    {
     "data": {
      "text/html": [
       "<span style=\"color:cyan\"> |-tuner/round: 0</span>"
      ],
      "text/plain": [
       "<IPython.core.display.HTML object>"
      ]
     },
     "metadata": {
      "tags": []
     },
     "output_type": "display_data"
    },
    {
     "name": "stdout",
     "output_type": "stream",
     "text": [
      "Epoch 4/8\n",
      "183/183 [==============================] - 36s 195ms/step - loss: 1.1760 - accuracy: 0.4604 - val_loss: 3.5916 - val_accuracy: 0.2500\n",
      "Epoch 5/8\n",
      "183/183 [==============================] - 35s 193ms/step - loss: 0.8705 - accuracy: 0.6469 - val_loss: 3.3004 - val_accuracy: 0.2500\n",
      "Epoch 6/8\n",
      "183/183 [==============================] - 35s 193ms/step - loss: 0.6706 - accuracy: 0.7546 - val_loss: 1.8377 - val_accuracy: 0.2500\n",
      "Epoch 7/8\n",
      "183/183 [==============================] - 35s 194ms/step - loss: 0.5741 - accuracy: 0.7958 - val_loss: 0.2857 - val_accuracy: 0.9062\n",
      "Epoch 8/8\n",
      "183/183 [==============================] - 35s 193ms/step - loss: 0.4805 - accuracy: 0.8258 - val_loss: 0.3755 - val_accuracy: 0.9062\n"
     ]
    },
    {
     "data": {
      "text/html": [
       "<span style=\"color:#4527A0\"><h1 style=\"font-size:18px\">Trial complete</h1></span>"
      ],
      "text/plain": [
       "<IPython.core.display.HTML object>"
      ]
     },
     "metadata": {
      "tags": []
     },
     "output_type": "display_data"
    },
    {
     "data": {
      "text/html": [
       "<span style=\"color:#4527A0\"><h1 style=\"font-size:18px\">Trial summary</h1></span>"
      ],
      "text/plain": [
       "<IPython.core.display.HTML object>"
      ]
     },
     "metadata": {
      "tags": []
     },
     "output_type": "display_data"
    },
    {
     "data": {
      "text/html": [
       "<span style=\"color:cyan\"> |-Trial ID: a902fa6df712c4839e6bbb58b0ca133f</span>"
      ],
      "text/plain": [
       "<IPython.core.display.HTML object>"
      ]
     },
     "metadata": {
      "tags": []
     },
     "output_type": "display_data"
    },
    {
     "data": {
      "text/html": [
       "<span style=\"color:cyan\"> |-Score: 0.90625</span>"
      ],
      "text/plain": [
       "<IPython.core.display.HTML object>"
      ]
     },
     "metadata": {
      "tags": []
     },
     "output_type": "display_data"
    },
    {
     "data": {
      "text/html": [
       "<span style=\"color:cyan\"> |-Best step: 0</span>"
      ],
      "text/plain": [
       "<IPython.core.display.HTML object>"
      ]
     },
     "metadata": {
      "tags": []
     },
     "output_type": "display_data"
    },
    {
     "data": {
      "text/html": [
       "<span style=\"color:#7E57C2\"><h2 style=\"font-size:16px\">Hyperparameters:</h2></span>"
      ],
      "text/plain": [
       "<IPython.core.display.HTML object>"
      ]
     },
     "metadata": {
      "tags": []
     },
     "output_type": "display_data"
    },
    {
     "data": {
      "text/html": [
       "<span style=\"color:cyan\"> |-conv_blocks: 3</span>"
      ],
      "text/plain": [
       "<IPython.core.display.HTML object>"
      ]
     },
     "metadata": {
      "tags": []
     },
     "output_type": "display_data"
    },
    {
     "data": {
      "text/html": [
       "<span style=\"color:blue\"> |-dense_activation: relu</span>"
      ],
      "text/plain": [
       "<IPython.core.display.HTML object>"
      ]
     },
     "metadata": {
      "tags": []
     },
     "output_type": "display_data"
    },
    {
     "data": {
      "text/html": [
       "<span style=\"color:cyan\"> |-dropout: 0.5</span>"
      ],
      "text/plain": [
       "<IPython.core.display.HTML object>"
      ]
     },
     "metadata": {
      "tags": []
     },
     "output_type": "display_data"
    },
    {
     "data": {
      "text/html": [
       "<span style=\"color:blue\"> |-filters_0: 64</span>"
      ],
      "text/plain": [
       "<IPython.core.display.HTML object>"
      ]
     },
     "metadata": {
      "tags": []
     },
     "output_type": "display_data"
    },
    {
     "data": {
      "text/html": [
       "<span style=\"color:cyan\"> |-filters_1: 128</span>"
      ],
      "text/plain": [
       "<IPython.core.display.HTML object>"
      ]
     },
     "metadata": {
      "tags": []
     },
     "output_type": "display_data"
    },
    {
     "data": {
      "text/html": [
       "<span style=\"color:blue\"> |-filters_2: 192</span>"
      ],
      "text/plain": [
       "<IPython.core.display.HTML object>"
      ]
     },
     "metadata": {
      "tags": []
     },
     "output_type": "display_data"
    },
    {
     "data": {
      "text/html": [
       "<span style=\"color:cyan\"> |-hidden_size: 50</span>"
      ],
      "text/plain": [
       "<IPython.core.display.HTML object>"
      ]
     },
     "metadata": {
      "tags": []
     },
     "output_type": "display_data"
    },
    {
     "data": {
      "text/html": [
       "<span style=\"color:blue\"> |-learning_rate: 0.0006236708225135692</span>"
      ],
      "text/plain": [
       "<IPython.core.display.HTML object>"
      ]
     },
     "metadata": {
      "tags": []
     },
     "output_type": "display_data"
    },
    {
     "data": {
      "text/html": [
       "<span style=\"color:cyan\"> |-pooling_0: avg</span>"
      ],
      "text/plain": [
       "<IPython.core.display.HTML object>"
      ]
     },
     "metadata": {
      "tags": []
     },
     "output_type": "display_data"
    },
    {
     "data": {
      "text/html": [
       "<span style=\"color:blue\"> |-pooling_1: max</span>"
      ],
      "text/plain": [
       "<IPython.core.display.HTML object>"
      ]
     },
     "metadata": {
      "tags": []
     },
     "output_type": "display_data"
    },
    {
     "data": {
      "text/html": [
       "<span style=\"color:cyan\"> |-pooling_2: max</span>"
      ],
      "text/plain": [
       "<IPython.core.display.HTML object>"
      ]
     },
     "metadata": {
      "tags": []
     },
     "output_type": "display_data"
    },
    {
     "data": {
      "text/html": [
       "<span style=\"color:blue\"> |-tuner/bracket: 1</span>"
      ],
      "text/plain": [
       "<IPython.core.display.HTML object>"
      ]
     },
     "metadata": {
      "tags": []
     },
     "output_type": "display_data"
    },
    {
     "data": {
      "text/html": [
       "<span style=\"color:cyan\"> |-tuner/epochs: 8</span>"
      ],
      "text/plain": [
       "<IPython.core.display.HTML object>"
      ]
     },
     "metadata": {
      "tags": []
     },
     "output_type": "display_data"
    },
    {
     "data": {
      "text/html": [
       "<span style=\"color:blue\"> |-tuner/initial_epoch: 3</span>"
      ],
      "text/plain": [
       "<IPython.core.display.HTML object>"
      ]
     },
     "metadata": {
      "tags": []
     },
     "output_type": "display_data"
    },
    {
     "data": {
      "text/html": [
       "<span style=\"color:cyan\"> |-tuner/round: 1</span>"
      ],
      "text/plain": [
       "<IPython.core.display.HTML object>"
      ]
     },
     "metadata": {
      "tags": []
     },
     "output_type": "display_data"
    },
    {
     "data": {
      "text/html": [
       "<span style=\"color:blue\"> |-tuner/trial_id: 39293674491318b6951f09b40d9c3b24</span>"
      ],
      "text/plain": [
       "<IPython.core.display.HTML object>"
      ]
     },
     "metadata": {
      "tags": []
     },
     "output_type": "display_data"
    },
    {
     "name": "stdout",
     "output_type": "stream",
     "text": [
      "Epoch 4/8\n",
      "183/183 [==============================] - 39s 214ms/step - loss: 0.9974 - accuracy: 0.5606 - val_loss: 3.4554 - val_accuracy: 0.2188\n",
      "Epoch 5/8\n",
      "183/183 [==============================] - 39s 214ms/step - loss: 0.6705 - accuracy: 0.7440 - val_loss: 3.2436 - val_accuracy: 0.2500\n",
      "Epoch 6/8\n",
      "183/183 [==============================] - 39s 214ms/step - loss: 0.5030 - accuracy: 0.8134 - val_loss: 3.8774 - val_accuracy: 0.3125\n"
     ]
    },
    {
     "data": {
      "text/html": [
       "<span style=\"color:#4527A0\"><h1 style=\"font-size:18px\">Trial complete</h1></span>"
      ],
      "text/plain": [
       "<IPython.core.display.HTML object>"
      ]
     },
     "metadata": {
      "tags": []
     },
     "output_type": "display_data"
    },
    {
     "data": {
      "text/html": [
       "<span style=\"color:#4527A0\"><h1 style=\"font-size:18px\">Trial summary</h1></span>"
      ],
      "text/plain": [
       "<IPython.core.display.HTML object>"
      ]
     },
     "metadata": {
      "tags": []
     },
     "output_type": "display_data"
    },
    {
     "data": {
      "text/html": [
       "<span style=\"color:cyan\"> |-Trial ID: d07a0d4f66c135e01723db13c2d33237</span>"
      ],
      "text/plain": [
       "<IPython.core.display.HTML object>"
      ]
     },
     "metadata": {
      "tags": []
     },
     "output_type": "display_data"
    },
    {
     "data": {
      "text/html": [
       "<span style=\"color:cyan\"> |-Score: 0.3125</span>"
      ],
      "text/plain": [
       "<IPython.core.display.HTML object>"
      ]
     },
     "metadata": {
      "tags": []
     },
     "output_type": "display_data"
    },
    {
     "data": {
      "text/html": [
       "<span style=\"color:cyan\"> |-Best step: 0</span>"
      ],
      "text/plain": [
       "<IPython.core.display.HTML object>"
      ]
     },
     "metadata": {
      "tags": []
     },
     "output_type": "display_data"
    },
    {
     "data": {
      "text/html": [
       "<span style=\"color:#7E57C2\"><h2 style=\"font-size:16px\">Hyperparameters:</h2></span>"
      ],
      "text/plain": [
       "<IPython.core.display.HTML object>"
      ]
     },
     "metadata": {
      "tags": []
     },
     "output_type": "display_data"
    },
    {
     "data": {
      "text/html": [
       "<span style=\"color:cyan\"> |-conv_blocks: 5</span>"
      ],
      "text/plain": [
       "<IPython.core.display.HTML object>"
      ]
     },
     "metadata": {
      "tags": []
     },
     "output_type": "display_data"
    },
    {
     "data": {
      "text/html": [
       "<span style=\"color:blue\"> |-dense_activation: relu</span>"
      ],
      "text/plain": [
       "<IPython.core.display.HTML object>"
      ]
     },
     "metadata": {
      "tags": []
     },
     "output_type": "display_data"
    },
    {
     "data": {
      "text/html": [
       "<span style=\"color:cyan\"> |-dropout: 0.2</span>"
      ],
      "text/plain": [
       "<IPython.core.display.HTML object>"
      ]
     },
     "metadata": {
      "tags": []
     },
     "output_type": "display_data"
    },
    {
     "data": {
      "text/html": [
       "<span style=\"color:blue\"> |-filters_0: 128</span>"
      ],
      "text/plain": [
       "<IPython.core.display.HTML object>"
      ]
     },
     "metadata": {
      "tags": []
     },
     "output_type": "display_data"
    },
    {
     "data": {
      "text/html": [
       "<span style=\"color:cyan\"> |-filters_1: 32</span>"
      ],
      "text/plain": [
       "<IPython.core.display.HTML object>"
      ]
     },
     "metadata": {
      "tags": []
     },
     "output_type": "display_data"
    },
    {
     "data": {
      "text/html": [
       "<span style=\"color:blue\"> |-filters_2: 96</span>"
      ],
      "text/plain": [
       "<IPython.core.display.HTML object>"
      ]
     },
     "metadata": {
      "tags": []
     },
     "output_type": "display_data"
    },
    {
     "data": {
      "text/html": [
       "<span style=\"color:cyan\"> |-filters_3: 32</span>"
      ],
      "text/plain": [
       "<IPython.core.display.HTML object>"
      ]
     },
     "metadata": {
      "tags": []
     },
     "output_type": "display_data"
    },
    {
     "data": {
      "text/html": [
       "<span style=\"color:blue\"> |-filters_4: 32</span>"
      ],
      "text/plain": [
       "<IPython.core.display.HTML object>"
      ]
     },
     "metadata": {
      "tags": []
     },
     "output_type": "display_data"
    },
    {
     "data": {
      "text/html": [
       "<span style=\"color:cyan\"> |-hidden_size: 60</span>"
      ],
      "text/plain": [
       "<IPython.core.display.HTML object>"
      ]
     },
     "metadata": {
      "tags": []
     },
     "output_type": "display_data"
    },
    {
     "data": {
      "text/html": [
       "<span style=\"color:blue\"> |-learning_rate: 0.0016187959221574872</span>"
      ],
      "text/plain": [
       "<IPython.core.display.HTML object>"
      ]
     },
     "metadata": {
      "tags": []
     },
     "output_type": "display_data"
    },
    {
     "data": {
      "text/html": [
       "<span style=\"color:cyan\"> |-pooling_0: max</span>"
      ],
      "text/plain": [
       "<IPython.core.display.HTML object>"
      ]
     },
     "metadata": {
      "tags": []
     },
     "output_type": "display_data"
    },
    {
     "data": {
      "text/html": [
       "<span style=\"color:blue\"> |-pooling_1: avg</span>"
      ],
      "text/plain": [
       "<IPython.core.display.HTML object>"
      ]
     },
     "metadata": {
      "tags": []
     },
     "output_type": "display_data"
    },
    {
     "data": {
      "text/html": [
       "<span style=\"color:cyan\"> |-pooling_2: avg</span>"
      ],
      "text/plain": [
       "<IPython.core.display.HTML object>"
      ]
     },
     "metadata": {
      "tags": []
     },
     "output_type": "display_data"
    },
    {
     "data": {
      "text/html": [
       "<span style=\"color:blue\"> |-pooling_3: avg</span>"
      ],
      "text/plain": [
       "<IPython.core.display.HTML object>"
      ]
     },
     "metadata": {
      "tags": []
     },
     "output_type": "display_data"
    },
    {
     "data": {
      "text/html": [
       "<span style=\"color:cyan\"> |-pooling_4: avg</span>"
      ],
      "text/plain": [
       "<IPython.core.display.HTML object>"
      ]
     },
     "metadata": {
      "tags": []
     },
     "output_type": "display_data"
    },
    {
     "data": {
      "text/html": [
       "<span style=\"color:blue\"> |-tuner/bracket: 1</span>"
      ],
      "text/plain": [
       "<IPython.core.display.HTML object>"
      ]
     },
     "metadata": {
      "tags": []
     },
     "output_type": "display_data"
    },
    {
     "data": {
      "text/html": [
       "<span style=\"color:cyan\"> |-tuner/epochs: 8</span>"
      ],
      "text/plain": [
       "<IPython.core.display.HTML object>"
      ]
     },
     "metadata": {
      "tags": []
     },
     "output_type": "display_data"
    },
    {
     "data": {
      "text/html": [
       "<span style=\"color:blue\"> |-tuner/initial_epoch: 3</span>"
      ],
      "text/plain": [
       "<IPython.core.display.HTML object>"
      ]
     },
     "metadata": {
      "tags": []
     },
     "output_type": "display_data"
    },
    {
     "data": {
      "text/html": [
       "<span style=\"color:cyan\"> |-tuner/round: 1</span>"
      ],
      "text/plain": [
       "<IPython.core.display.HTML object>"
      ]
     },
     "metadata": {
      "tags": []
     },
     "output_type": "display_data"
    },
    {
     "data": {
      "text/html": [
       "<span style=\"color:blue\"> |-tuner/trial_id: 92560362df08031b8ebb8cec026bff79</span>"
      ],
      "text/plain": [
       "<IPython.core.display.HTML object>"
      ]
     },
     "metadata": {
      "tags": []
     },
     "output_type": "display_data"
    },
    {
     "name": "stdout",
     "output_type": "stream",
     "text": [
      "Epoch 1/8\n",
      "183/183 [==============================] - 66s 361ms/step - loss: 0.8286 - accuracy: 0.6663 - val_loss: 8.8789 - val_accuracy: 0.2500\n",
      "Epoch 2/8\n",
      "183/183 [==============================] - 66s 359ms/step - loss: 0.4762 - accuracy: 0.8214 - val_loss: 4.8975 - val_accuracy: 0.3750\n",
      "Epoch 3/8\n",
      "183/183 [==============================] - 66s 361ms/step - loss: 0.4059 - accuracy: 0.8499 - val_loss: 3.9598 - val_accuracy: 0.2500\n",
      "Epoch 4/8\n",
      "183/183 [==============================] - 66s 361ms/step - loss: 0.3365 - accuracy: 0.8769 - val_loss: 0.4181 - val_accuracy: 0.8125\n",
      "Epoch 5/8\n",
      "183/183 [==============================] - 66s 362ms/step - loss: 0.2957 - accuracy: 0.8933 - val_loss: 0.3996 - val_accuracy: 0.9062\n",
      "Epoch 6/8\n",
      "183/183 [==============================] - 66s 362ms/step - loss: 0.2903 - accuracy: 0.8953 - val_loss: 0.1815 - val_accuracy: 0.9062\n",
      "Epoch 7/8\n",
      "183/183 [==============================] - 66s 362ms/step - loss: 0.2487 - accuracy: 0.9124 - val_loss: 1.6040 - val_accuracy: 0.7188\n"
     ]
    },
    {
     "data": {
      "text/html": [
       "<span style=\"color:#4527A0\"><h1 style=\"font-size:18px\">Trial complete</h1></span>"
      ],
      "text/plain": [
       "<IPython.core.display.HTML object>"
      ]
     },
     "metadata": {
      "tags": []
     },
     "output_type": "display_data"
    },
    {
     "data": {
      "text/html": [
       "<span style=\"color:#4527A0\"><h1 style=\"font-size:18px\">Trial summary</h1></span>"
      ],
      "text/plain": [
       "<IPython.core.display.HTML object>"
      ]
     },
     "metadata": {
      "tags": []
     },
     "output_type": "display_data"
    },
    {
     "data": {
      "text/html": [
       "<span style=\"color:cyan\"> |-Trial ID: 65088cb9ff86fd5a0929516952a15cda</span>"
      ],
      "text/plain": [
       "<IPython.core.display.HTML object>"
      ]
     },
     "metadata": {
      "tags": []
     },
     "output_type": "display_data"
    },
    {
     "data": {
      "text/html": [
       "<span style=\"color:cyan\"> |-Score: 0.90625</span>"
      ],
      "text/plain": [
       "<IPython.core.display.HTML object>"
      ]
     },
     "metadata": {
      "tags": []
     },
     "output_type": "display_data"
    },
    {
     "data": {
      "text/html": [
       "<span style=\"color:cyan\"> |-Best step: 0</span>"
      ],
      "text/plain": [
       "<IPython.core.display.HTML object>"
      ]
     },
     "metadata": {
      "tags": []
     },
     "output_type": "display_data"
    },
    {
     "data": {
      "text/html": [
       "<span style=\"color:#7E57C2\"><h2 style=\"font-size:16px\">Hyperparameters:</h2></span>"
      ],
      "text/plain": [
       "<IPython.core.display.HTML object>"
      ]
     },
     "metadata": {
      "tags": []
     },
     "output_type": "display_data"
    },
    {
     "data": {
      "text/html": [
       "<span style=\"color:cyan\"> |-conv_blocks: 4</span>"
      ],
      "text/plain": [
       "<IPython.core.display.HTML object>"
      ]
     },
     "metadata": {
      "tags": []
     },
     "output_type": "display_data"
    },
    {
     "data": {
      "text/html": [
       "<span style=\"color:blue\"> |-dense_activation: relu</span>"
      ],
      "text/plain": [
       "<IPython.core.display.HTML object>"
      ]
     },
     "metadata": {
      "tags": []
     },
     "output_type": "display_data"
    },
    {
     "data": {
      "text/html": [
       "<span style=\"color:cyan\"> |-dropout: 0.1</span>"
      ],
      "text/plain": [
       "<IPython.core.display.HTML object>"
      ]
     },
     "metadata": {
      "tags": []
     },
     "output_type": "display_data"
    },
    {
     "data": {
      "text/html": [
       "<span style=\"color:blue\"> |-filters_0: 128</span>"
      ],
      "text/plain": [
       "<IPython.core.display.HTML object>"
      ]
     },
     "metadata": {
      "tags": []
     },
     "output_type": "display_data"
    },
    {
     "data": {
      "text/html": [
       "<span style=\"color:cyan\"> |-filters_1: 160</span>"
      ],
      "text/plain": [
       "<IPython.core.display.HTML object>"
      ]
     },
     "metadata": {
      "tags": []
     },
     "output_type": "display_data"
    },
    {
     "data": {
      "text/html": [
       "<span style=\"color:blue\"> |-filters_2: 160</span>"
      ],
      "text/plain": [
       "<IPython.core.display.HTML object>"
      ]
     },
     "metadata": {
      "tags": []
     },
     "output_type": "display_data"
    },
    {
     "data": {
      "text/html": [
       "<span style=\"color:cyan\"> |-filters_3: 160</span>"
      ],
      "text/plain": [
       "<IPython.core.display.HTML object>"
      ]
     },
     "metadata": {
      "tags": []
     },
     "output_type": "display_data"
    },
    {
     "data": {
      "text/html": [
       "<span style=\"color:blue\"> |-filters_4: 160</span>"
      ],
      "text/plain": [
       "<IPython.core.display.HTML object>"
      ]
     },
     "metadata": {
      "tags": []
     },
     "output_type": "display_data"
    },
    {
     "data": {
      "text/html": [
       "<span style=\"color:cyan\"> |-hidden_size: 80</span>"
      ],
      "text/plain": [
       "<IPython.core.display.HTML object>"
      ]
     },
     "metadata": {
      "tags": []
     },
     "output_type": "display_data"
    },
    {
     "data": {
      "text/html": [
       "<span style=\"color:blue\"> |-learning_rate: 0.0003211788053607172</span>"
      ],
      "text/plain": [
       "<IPython.core.display.HTML object>"
      ]
     },
     "metadata": {
      "tags": []
     },
     "output_type": "display_data"
    },
    {
     "data": {
      "text/html": [
       "<span style=\"color:cyan\"> |-pooling_0: avg</span>"
      ],
      "text/plain": [
       "<IPython.core.display.HTML object>"
      ]
     },
     "metadata": {
      "tags": []
     },
     "output_type": "display_data"
    },
    {
     "data": {
      "text/html": [
       "<span style=\"color:blue\"> |-pooling_1: avg</span>"
      ],
      "text/plain": [
       "<IPython.core.display.HTML object>"
      ]
     },
     "metadata": {
      "tags": []
     },
     "output_type": "display_data"
    },
    {
     "data": {
      "text/html": [
       "<span style=\"color:cyan\"> |-pooling_2: max</span>"
      ],
      "text/plain": [
       "<IPython.core.display.HTML object>"
      ]
     },
     "metadata": {
      "tags": []
     },
     "output_type": "display_data"
    },
    {
     "data": {
      "text/html": [
       "<span style=\"color:blue\"> |-pooling_3: avg</span>"
      ],
      "text/plain": [
       "<IPython.core.display.HTML object>"
      ]
     },
     "metadata": {
      "tags": []
     },
     "output_type": "display_data"
    },
    {
     "data": {
      "text/html": [
       "<span style=\"color:cyan\"> |-pooling_4: max</span>"
      ],
      "text/plain": [
       "<IPython.core.display.HTML object>"
      ]
     },
     "metadata": {
      "tags": []
     },
     "output_type": "display_data"
    },
    {
     "data": {
      "text/html": [
       "<span style=\"color:blue\"> |-tuner/bracket: 0</span>"
      ],
      "text/plain": [
       "<IPython.core.display.HTML object>"
      ]
     },
     "metadata": {
      "tags": []
     },
     "output_type": "display_data"
    },
    {
     "data": {
      "text/html": [
       "<span style=\"color:cyan\"> |-tuner/epochs: 8</span>"
      ],
      "text/plain": [
       "<IPython.core.display.HTML object>"
      ]
     },
     "metadata": {
      "tags": []
     },
     "output_type": "display_data"
    },
    {
     "data": {
      "text/html": [
       "<span style=\"color:blue\"> |-tuner/initial_epoch: 0</span>"
      ],
      "text/plain": [
       "<IPython.core.display.HTML object>"
      ]
     },
     "metadata": {
      "tags": []
     },
     "output_type": "display_data"
    },
    {
     "data": {
      "text/html": [
       "<span style=\"color:cyan\"> |-tuner/round: 0</span>"
      ],
      "text/plain": [
       "<IPython.core.display.HTML object>"
      ]
     },
     "metadata": {
      "tags": []
     },
     "output_type": "display_data"
    },
    {
     "name": "stdout",
     "output_type": "stream",
     "text": [
      "Epoch 1/8\n",
      "183/183 [==============================] - 104s 570ms/step - loss: 1.0706 - accuracy: 0.5200 - val_loss: 3.2846 - val_accuracy: 0.2812\n",
      "Epoch 2/8\n",
      "183/183 [==============================] - 104s 569ms/step - loss: 0.8461 - accuracy: 0.6518 - val_loss: 14.4952 - val_accuracy: 0.2500\n"
     ]
    },
    {
     "data": {
      "text/html": [
       "<span style=\"color:#4527A0\"><h1 style=\"font-size:18px\">Trial complete</h1></span>"
      ],
      "text/plain": [
       "<IPython.core.display.HTML object>"
      ]
     },
     "metadata": {
      "tags": []
     },
     "output_type": "display_data"
    },
    {
     "data": {
      "text/html": [
       "<span style=\"color:#4527A0\"><h1 style=\"font-size:18px\">Trial summary</h1></span>"
      ],
      "text/plain": [
       "<IPython.core.display.HTML object>"
      ]
     },
     "metadata": {
      "tags": []
     },
     "output_type": "display_data"
    },
    {
     "data": {
      "text/html": [
       "<span style=\"color:cyan\"> |-Trial ID: 7530aa688b73b1f4881024969802f27e</span>"
      ],
      "text/plain": [
       "<IPython.core.display.HTML object>"
      ]
     },
     "metadata": {
      "tags": []
     },
     "output_type": "display_data"
    },
    {
     "data": {
      "text/html": [
       "<span style=\"color:cyan\"> |-Score: 0.28125</span>"
      ],
      "text/plain": [
       "<IPython.core.display.HTML object>"
      ]
     },
     "metadata": {
      "tags": []
     },
     "output_type": "display_data"
    },
    {
     "data": {
      "text/html": [
       "<span style=\"color:cyan\"> |-Best step: 0</span>"
      ],
      "text/plain": [
       "<IPython.core.display.HTML object>"
      ]
     },
     "metadata": {
      "tags": []
     },
     "output_type": "display_data"
    },
    {
     "data": {
      "text/html": [
       "<span style=\"color:#7E57C2\"><h2 style=\"font-size:16px\">Hyperparameters:</h2></span>"
      ],
      "text/plain": [
       "<IPython.core.display.HTML object>"
      ]
     },
     "metadata": {
      "tags": []
     },
     "output_type": "display_data"
    },
    {
     "data": {
      "text/html": [
       "<span style=\"color:cyan\"> |-conv_blocks: 3</span>"
      ],
      "text/plain": [
       "<IPython.core.display.HTML object>"
      ]
     },
     "metadata": {
      "tags": []
     },
     "output_type": "display_data"
    },
    {
     "data": {
      "text/html": [
       "<span style=\"color:blue\"> |-dense_activation: tanh</span>"
      ],
      "text/plain": [
       "<IPython.core.display.HTML object>"
      ]
     },
     "metadata": {
      "tags": []
     },
     "output_type": "display_data"
    },
    {
     "data": {
      "text/html": [
       "<span style=\"color:cyan\"> |-dropout: 0.4</span>"
      ],
      "text/plain": [
       "<IPython.core.display.HTML object>"
      ]
     },
     "metadata": {
      "tags": []
     },
     "output_type": "display_data"
    },
    {
     "data": {
      "text/html": [
       "<span style=\"color:blue\"> |-filters_0: 160</span>"
      ],
      "text/plain": [
       "<IPython.core.display.HTML object>"
      ]
     },
     "metadata": {
      "tags": []
     },
     "output_type": "display_data"
    },
    {
     "data": {
      "text/html": [
       "<span style=\"color:cyan\"> |-filters_1: 224</span>"
      ],
      "text/plain": [
       "<IPython.core.display.HTML object>"
      ]
     },
     "metadata": {
      "tags": []
     },
     "output_type": "display_data"
    },
    {
     "data": {
      "text/html": [
       "<span style=\"color:blue\"> |-filters_2: 192</span>"
      ],
      "text/plain": [
       "<IPython.core.display.HTML object>"
      ]
     },
     "metadata": {
      "tags": []
     },
     "output_type": "display_data"
    },
    {
     "data": {
      "text/html": [
       "<span style=\"color:cyan\"> |-filters_3: 160</span>"
      ],
      "text/plain": [
       "<IPython.core.display.HTML object>"
      ]
     },
     "metadata": {
      "tags": []
     },
     "output_type": "display_data"
    },
    {
     "data": {
      "text/html": [
       "<span style=\"color:blue\"> |-filters_4: 128</span>"
      ],
      "text/plain": [
       "<IPython.core.display.HTML object>"
      ]
     },
     "metadata": {
      "tags": []
     },
     "output_type": "display_data"
    },
    {
     "data": {
      "text/html": [
       "<span style=\"color:cyan\"> |-hidden_size: 80</span>"
      ],
      "text/plain": [
       "<IPython.core.display.HTML object>"
      ]
     },
     "metadata": {
      "tags": []
     },
     "output_type": "display_data"
    },
    {
     "data": {
      "text/html": [
       "<span style=\"color:blue\"> |-learning_rate: 0.000697200142912107</span>"
      ],
      "text/plain": [
       "<IPython.core.display.HTML object>"
      ]
     },
     "metadata": {
      "tags": []
     },
     "output_type": "display_data"
    },
    {
     "data": {
      "text/html": [
       "<span style=\"color:cyan\"> |-pooling_0: max</span>"
      ],
      "text/plain": [
       "<IPython.core.display.HTML object>"
      ]
     },
     "metadata": {
      "tags": []
     },
     "output_type": "display_data"
    },
    {
     "data": {
      "text/html": [
       "<span style=\"color:blue\"> |-pooling_1: max</span>"
      ],
      "text/plain": [
       "<IPython.core.display.HTML object>"
      ]
     },
     "metadata": {
      "tags": []
     },
     "output_type": "display_data"
    },
    {
     "data": {
      "text/html": [
       "<span style=\"color:cyan\"> |-pooling_2: avg</span>"
      ],
      "text/plain": [
       "<IPython.core.display.HTML object>"
      ]
     },
     "metadata": {
      "tags": []
     },
     "output_type": "display_data"
    },
    {
     "data": {
      "text/html": [
       "<span style=\"color:blue\"> |-pooling_3: avg</span>"
      ],
      "text/plain": [
       "<IPython.core.display.HTML object>"
      ]
     },
     "metadata": {
      "tags": []
     },
     "output_type": "display_data"
    },
    {
     "data": {
      "text/html": [
       "<span style=\"color:cyan\"> |-pooling_4: avg</span>"
      ],
      "text/plain": [
       "<IPython.core.display.HTML object>"
      ]
     },
     "metadata": {
      "tags": []
     },
     "output_type": "display_data"
    },
    {
     "data": {
      "text/html": [
       "<span style=\"color:blue\"> |-tuner/bracket: 0</span>"
      ],
      "text/plain": [
       "<IPython.core.display.HTML object>"
      ]
     },
     "metadata": {
      "tags": []
     },
     "output_type": "display_data"
    },
    {
     "data": {
      "text/html": [
       "<span style=\"color:cyan\"> |-tuner/epochs: 8</span>"
      ],
      "text/plain": [
       "<IPython.core.display.HTML object>"
      ]
     },
     "metadata": {
      "tags": []
     },
     "output_type": "display_data"
    },
    {
     "data": {
      "text/html": [
       "<span style=\"color:blue\"> |-tuner/initial_epoch: 0</span>"
      ],
      "text/plain": [
       "<IPython.core.display.HTML object>"
      ]
     },
     "metadata": {
      "tags": []
     },
     "output_type": "display_data"
    },
    {
     "data": {
      "text/html": [
       "<span style=\"color:cyan\"> |-tuner/round: 0</span>"
      ],
      "text/plain": [
       "<IPython.core.display.HTML object>"
      ]
     },
     "metadata": {
      "tags": []
     },
     "output_type": "display_data"
    },
    {
     "name": "stdout",
     "output_type": "stream",
     "text": [
      "Epoch 1/8\n",
      "183/183 [==============================] - 66s 361ms/step - loss: 1.1934 - accuracy: 0.4428 - val_loss: 9.1384 - val_accuracy: 0.2500\n",
      "Epoch 2/8\n",
      "183/183 [==============================] - 66s 360ms/step - loss: 0.8938 - accuracy: 0.6269 - val_loss: 2.2221 - val_accuracy: 0.3125\n",
      "Epoch 3/8\n",
      "183/183 [==============================] - 66s 360ms/step - loss: 0.6566 - accuracy: 0.7594 - val_loss: 2.9692 - val_accuracy: 0.4062\n"
     ]
    },
    {
     "data": {
      "text/html": [
       "<span style=\"color:#4527A0\"><h1 style=\"font-size:18px\">Trial complete</h1></span>"
      ],
      "text/plain": [
       "<IPython.core.display.HTML object>"
      ]
     },
     "metadata": {
      "tags": []
     },
     "output_type": "display_data"
    },
    {
     "data": {
      "text/html": [
       "<span style=\"color:#4527A0\"><h1 style=\"font-size:18px\">Trial summary</h1></span>"
      ],
      "text/plain": [
       "<IPython.core.display.HTML object>"
      ]
     },
     "metadata": {
      "tags": []
     },
     "output_type": "display_data"
    },
    {
     "data": {
      "text/html": [
       "<span style=\"color:cyan\"> |-Trial ID: 7346769c7460275f71b67200357522ea</span>"
      ],
      "text/plain": [
       "<IPython.core.display.HTML object>"
      ]
     },
     "metadata": {
      "tags": []
     },
     "output_type": "display_data"
    },
    {
     "data": {
      "text/html": [
       "<span style=\"color:cyan\"> |-Score: 0.40625</span>"
      ],
      "text/plain": [
       "<IPython.core.display.HTML object>"
      ]
     },
     "metadata": {
      "tags": []
     },
     "output_type": "display_data"
    },
    {
     "data": {
      "text/html": [
       "<span style=\"color:cyan\"> |-Best step: 0</span>"
      ],
      "text/plain": [
       "<IPython.core.display.HTML object>"
      ]
     },
     "metadata": {
      "tags": []
     },
     "output_type": "display_data"
    },
    {
     "data": {
      "text/html": [
       "<span style=\"color:#7E57C2\"><h2 style=\"font-size:16px\">Hyperparameters:</h2></span>"
      ],
      "text/plain": [
       "<IPython.core.display.HTML object>"
      ]
     },
     "metadata": {
      "tags": []
     },
     "output_type": "display_data"
    },
    {
     "data": {
      "text/html": [
       "<span style=\"color:cyan\"> |-conv_blocks: 4</span>"
      ],
      "text/plain": [
       "<IPython.core.display.HTML object>"
      ]
     },
     "metadata": {
      "tags": []
     },
     "output_type": "display_data"
    },
    {
     "data": {
      "text/html": [
       "<span style=\"color:blue\"> |-dense_activation: relu</span>"
      ],
      "text/plain": [
       "<IPython.core.display.HTML object>"
      ]
     },
     "metadata": {
      "tags": []
     },
     "output_type": "display_data"
    },
    {
     "data": {
      "text/html": [
       "<span style=\"color:cyan\"> |-dropout: 0.5</span>"
      ],
      "text/plain": [
       "<IPython.core.display.HTML object>"
      ]
     },
     "metadata": {
      "tags": []
     },
     "output_type": "display_data"
    },
    {
     "data": {
      "text/html": [
       "<span style=\"color:blue\"> |-filters_0: 160</span>"
      ],
      "text/plain": [
       "<IPython.core.display.HTML object>"
      ]
     },
     "metadata": {
      "tags": []
     },
     "output_type": "display_data"
    },
    {
     "data": {
      "text/html": [
       "<span style=\"color:cyan\"> |-filters_1: 64</span>"
      ],
      "text/plain": [
       "<IPython.core.display.HTML object>"
      ]
     },
     "metadata": {
      "tags": []
     },
     "output_type": "display_data"
    },
    {
     "data": {
      "text/html": [
       "<span style=\"color:blue\"> |-filters_2: 96</span>"
      ],
      "text/plain": [
       "<IPython.core.display.HTML object>"
      ]
     },
     "metadata": {
      "tags": []
     },
     "output_type": "display_data"
    },
    {
     "data": {
      "text/html": [
       "<span style=\"color:cyan\"> |-filters_3: 32</span>"
      ],
      "text/plain": [
       "<IPython.core.display.HTML object>"
      ]
     },
     "metadata": {
      "tags": []
     },
     "output_type": "display_data"
    },
    {
     "data": {
      "text/html": [
       "<span style=\"color:blue\"> |-filters_4: 224</span>"
      ],
      "text/plain": [
       "<IPython.core.display.HTML object>"
      ]
     },
     "metadata": {
      "tags": []
     },
     "output_type": "display_data"
    },
    {
     "data": {
      "text/html": [
       "<span style=\"color:cyan\"> |-hidden_size: 60</span>"
      ],
      "text/plain": [
       "<IPython.core.display.HTML object>"
      ]
     },
     "metadata": {
      "tags": []
     },
     "output_type": "display_data"
    },
    {
     "data": {
      "text/html": [
       "<span style=\"color:blue\"> |-learning_rate: 0.0011699898271783844</span>"
      ],
      "text/plain": [
       "<IPython.core.display.HTML object>"
      ]
     },
     "metadata": {
      "tags": []
     },
     "output_type": "display_data"
    },
    {
     "data": {
      "text/html": [
       "<span style=\"color:cyan\"> |-pooling_0: avg</span>"
      ],
      "text/plain": [
       "<IPython.core.display.HTML object>"
      ]
     },
     "metadata": {
      "tags": []
     },
     "output_type": "display_data"
    },
    {
     "data": {
      "text/html": [
       "<span style=\"color:blue\"> |-pooling_1: max</span>"
      ],
      "text/plain": [
       "<IPython.core.display.HTML object>"
      ]
     },
     "metadata": {
      "tags": []
     },
     "output_type": "display_data"
    },
    {
     "data": {
      "text/html": [
       "<span style=\"color:cyan\"> |-pooling_2: max</span>"
      ],
      "text/plain": [
       "<IPython.core.display.HTML object>"
      ]
     },
     "metadata": {
      "tags": []
     },
     "output_type": "display_data"
    },
    {
     "data": {
      "text/html": [
       "<span style=\"color:blue\"> |-pooling_3: max</span>"
      ],
      "text/plain": [
       "<IPython.core.display.HTML object>"
      ]
     },
     "metadata": {
      "tags": []
     },
     "output_type": "display_data"
    },
    {
     "data": {
      "text/html": [
       "<span style=\"color:cyan\"> |-pooling_4: avg</span>"
      ],
      "text/plain": [
       "<IPython.core.display.HTML object>"
      ]
     },
     "metadata": {
      "tags": []
     },
     "output_type": "display_data"
    },
    {
     "data": {
      "text/html": [
       "<span style=\"color:blue\"> |-tuner/bracket: 0</span>"
      ],
      "text/plain": [
       "<IPython.core.display.HTML object>"
      ]
     },
     "metadata": {
      "tags": []
     },
     "output_type": "display_data"
    },
    {
     "data": {
      "text/html": [
       "<span style=\"color:cyan\"> |-tuner/epochs: 8</span>"
      ],
      "text/plain": [
       "<IPython.core.display.HTML object>"
      ]
     },
     "metadata": {
      "tags": []
     },
     "output_type": "display_data"
    },
    {
     "data": {
      "text/html": [
       "<span style=\"color:blue\"> |-tuner/initial_epoch: 0</span>"
      ],
      "text/plain": [
       "<IPython.core.display.HTML object>"
      ]
     },
     "metadata": {
      "tags": []
     },
     "output_type": "display_data"
    },
    {
     "data": {
      "text/html": [
       "<span style=\"color:cyan\"> |-tuner/round: 0</span>"
      ],
      "text/plain": [
       "<IPython.core.display.HTML object>"
      ]
     },
     "metadata": {
      "tags": []
     },
     "output_type": "display_data"
    },
    {
     "name": "stdout",
     "output_type": "stream",
     "text": [
      "Epoch 1/3\n",
      "183/183 [==============================] - 16s 88ms/step - loss: 0.9749 - accuracy: 0.5879 - val_loss: 24.1366 - val_accuracy: 0.2500\n",
      "Epoch 2/3\n",
      "183/183 [==============================] - 16s 87ms/step - loss: 0.6370 - accuracy: 0.7657 - val_loss: 18.7415 - val_accuracy: 0.2500\n",
      "Epoch 3/3\n",
      "183/183 [==============================] - 16s 87ms/step - loss: 0.5222 - accuracy: 0.8140 - val_loss: 2.4443 - val_accuracy: 0.5312\n"
     ]
    },
    {
     "data": {
      "text/html": [
       "<span style=\"color:#4527A0\"><h1 style=\"font-size:18px\">Trial complete</h1></span>"
      ],
      "text/plain": [
       "<IPython.core.display.HTML object>"
      ]
     },
     "metadata": {
      "tags": []
     },
     "output_type": "display_data"
    },
    {
     "data": {
      "text/html": [
       "<span style=\"color:#4527A0\"><h1 style=\"font-size:18px\">Trial summary</h1></span>"
      ],
      "text/plain": [
       "<IPython.core.display.HTML object>"
      ]
     },
     "metadata": {
      "tags": []
     },
     "output_type": "display_data"
    },
    {
     "data": {
      "text/html": [
       "<span style=\"color:cyan\"> |-Trial ID: be120eeefe7468cf90ff3404e160e7bc</span>"
      ],
      "text/plain": [
       "<IPython.core.display.HTML object>"
      ]
     },
     "metadata": {
      "tags": []
     },
     "output_type": "display_data"
    },
    {
     "data": {
      "text/html": [
       "<span style=\"color:cyan\"> |-Score: 0.53125</span>"
      ],
      "text/plain": [
       "<IPython.core.display.HTML object>"
      ]
     },
     "metadata": {
      "tags": []
     },
     "output_type": "display_data"
    },
    {
     "data": {
      "text/html": [
       "<span style=\"color:cyan\"> |-Best step: 0</span>"
      ],
      "text/plain": [
       "<IPython.core.display.HTML object>"
      ]
     },
     "metadata": {
      "tags": []
     },
     "output_type": "display_data"
    },
    {
     "data": {
      "text/html": [
       "<span style=\"color:#7E57C2\"><h2 style=\"font-size:16px\">Hyperparameters:</h2></span>"
      ],
      "text/plain": [
       "<IPython.core.display.HTML object>"
      ]
     },
     "metadata": {
      "tags": []
     },
     "output_type": "display_data"
    },
    {
     "data": {
      "text/html": [
       "<span style=\"color:cyan\"> |-conv_blocks: 5</span>"
      ],
      "text/plain": [
       "<IPython.core.display.HTML object>"
      ]
     },
     "metadata": {
      "tags": []
     },
     "output_type": "display_data"
    },
    {
     "data": {
      "text/html": [
       "<span style=\"color:blue\"> |-dense_activation: tanh</span>"
      ],
      "text/plain": [
       "<IPython.core.display.HTML object>"
      ]
     },
     "metadata": {
      "tags": []
     },
     "output_type": "display_data"
    },
    {
     "data": {
      "text/html": [
       "<span style=\"color:cyan\"> |-dropout: 0.4</span>"
      ],
      "text/plain": [
       "<IPython.core.display.HTML object>"
      ]
     },
     "metadata": {
      "tags": []
     },
     "output_type": "display_data"
    },
    {
     "data": {
      "text/html": [
       "<span style=\"color:blue\"> |-filters_0: 32</span>"
      ],
      "text/plain": [
       "<IPython.core.display.HTML object>"
      ]
     },
     "metadata": {
      "tags": []
     },
     "output_type": "display_data"
    },
    {
     "data": {
      "text/html": [
       "<span style=\"color:cyan\"> |-filters_1: 64</span>"
      ],
      "text/plain": [
       "<IPython.core.display.HTML object>"
      ]
     },
     "metadata": {
      "tags": []
     },
     "output_type": "display_data"
    },
    {
     "data": {
      "text/html": [
       "<span style=\"color:blue\"> |-filters_2: 96</span>"
      ],
      "text/plain": [
       "<IPython.core.display.HTML object>"
      ]
     },
     "metadata": {
      "tags": []
     },
     "output_type": "display_data"
    },
    {
     "data": {
      "text/html": [
       "<span style=\"color:cyan\"> |-filters_3: 96</span>"
      ],
      "text/plain": [
       "<IPython.core.display.HTML object>"
      ]
     },
     "metadata": {
      "tags": []
     },
     "output_type": "display_data"
    },
    {
     "data": {
      "text/html": [
       "<span style=\"color:blue\"> |-filters_4: 224</span>"
      ],
      "text/plain": [
       "<IPython.core.display.HTML object>"
      ]
     },
     "metadata": {
      "tags": []
     },
     "output_type": "display_data"
    },
    {
     "data": {
      "text/html": [
       "<span style=\"color:cyan\"> |-hidden_size: 40</span>"
      ],
      "text/plain": [
       "<IPython.core.display.HTML object>"
      ]
     },
     "metadata": {
      "tags": []
     },
     "output_type": "display_data"
    },
    {
     "data": {
      "text/html": [
       "<span style=\"color:blue\"> |-learning_rate: 0.0014316327790984342</span>"
      ],
      "text/plain": [
       "<IPython.core.display.HTML object>"
      ]
     },
     "metadata": {
      "tags": []
     },
     "output_type": "display_data"
    },
    {
     "data": {
      "text/html": [
       "<span style=\"color:cyan\"> |-pooling_0: max</span>"
      ],
      "text/plain": [
       "<IPython.core.display.HTML object>"
      ]
     },
     "metadata": {
      "tags": []
     },
     "output_type": "display_data"
    },
    {
     "data": {
      "text/html": [
       "<span style=\"color:blue\"> |-pooling_1: avg</span>"
      ],
      "text/plain": [
       "<IPython.core.display.HTML object>"
      ]
     },
     "metadata": {
      "tags": []
     },
     "output_type": "display_data"
    },
    {
     "data": {
      "text/html": [
       "<span style=\"color:cyan\"> |-pooling_2: max</span>"
      ],
      "text/plain": [
       "<IPython.core.display.HTML object>"
      ]
     },
     "metadata": {
      "tags": []
     },
     "output_type": "display_data"
    },
    {
     "data": {
      "text/html": [
       "<span style=\"color:blue\"> |-pooling_3: max</span>"
      ],
      "text/plain": [
       "<IPython.core.display.HTML object>"
      ]
     },
     "metadata": {
      "tags": []
     },
     "output_type": "display_data"
    },
    {
     "data": {
      "text/html": [
       "<span style=\"color:cyan\"> |-pooling_4: max</span>"
      ],
      "text/plain": [
       "<IPython.core.display.HTML object>"
      ]
     },
     "metadata": {
      "tags": []
     },
     "output_type": "display_data"
    },
    {
     "data": {
      "text/html": [
       "<span style=\"color:blue\"> |-tuner/bracket: 1</span>"
      ],
      "text/plain": [
       "<IPython.core.display.HTML object>"
      ]
     },
     "metadata": {
      "tags": []
     },
     "output_type": "display_data"
    },
    {
     "data": {
      "text/html": [
       "<span style=\"color:cyan\"> |-tuner/epochs: 3</span>"
      ],
      "text/plain": [
       "<IPython.core.display.HTML object>"
      ]
     },
     "metadata": {
      "tags": []
     },
     "output_type": "display_data"
    },
    {
     "data": {
      "text/html": [
       "<span style=\"color:blue\"> |-tuner/initial_epoch: 0</span>"
      ],
      "text/plain": [
       "<IPython.core.display.HTML object>"
      ]
     },
     "metadata": {
      "tags": []
     },
     "output_type": "display_data"
    },
    {
     "data": {
      "text/html": [
       "<span style=\"color:cyan\"> |-tuner/round: 0</span>"
      ],
      "text/plain": [
       "<IPython.core.display.HTML object>"
      ]
     },
     "metadata": {
      "tags": []
     },
     "output_type": "display_data"
    },
    {
     "name": "stdout",
     "output_type": "stream",
     "text": [
      "Epoch 1/3\n",
      "183/183 [==============================] - 37s 203ms/step - loss: 0.8144 - accuracy: 0.6621 - val_loss: 3.1322 - val_accuracy: 0.2500\n",
      "Epoch 2/3\n",
      "183/183 [==============================] - 37s 202ms/step - loss: 0.4207 - accuracy: 0.8473 - val_loss: 3.0181 - val_accuracy: 0.2500\n",
      "Epoch 3/3\n",
      "183/183 [==============================] - 37s 202ms/step - loss: 0.3354 - accuracy: 0.8822 - val_loss: 0.1042 - val_accuracy: 1.0000\n"
     ]
    },
    {
     "data": {
      "text/html": [
       "<span style=\"color:#4527A0\"><h1 style=\"font-size:18px\">Trial complete</h1></span>"
      ],
      "text/plain": [
       "<IPython.core.display.HTML object>"
      ]
     },
     "metadata": {
      "tags": []
     },
     "output_type": "display_data"
    },
    {
     "data": {
      "text/html": [
       "<span style=\"color:#4527A0\"><h1 style=\"font-size:18px\">Trial summary</h1></span>"
      ],
      "text/plain": [
       "<IPython.core.display.HTML object>"
      ]
     },
     "metadata": {
      "tags": []
     },
     "output_type": "display_data"
    },
    {
     "data": {
      "text/html": [
       "<span style=\"color:cyan\"> |-Trial ID: dd09e91df40650f8646c9b0f4d613e85</span>"
      ],
      "text/plain": [
       "<IPython.core.display.HTML object>"
      ]
     },
     "metadata": {
      "tags": []
     },
     "output_type": "display_data"
    },
    {
     "data": {
      "text/html": [
       "<span style=\"color:cyan\"> |-Score: 1.0</span>"
      ],
      "text/plain": [
       "<IPython.core.display.HTML object>"
      ]
     },
     "metadata": {
      "tags": []
     },
     "output_type": "display_data"
    },
    {
     "data": {
      "text/html": [
       "<span style=\"color:cyan\"> |-Best step: 0</span>"
      ],
      "text/plain": [
       "<IPython.core.display.HTML object>"
      ]
     },
     "metadata": {
      "tags": []
     },
     "output_type": "display_data"
    },
    {
     "data": {
      "text/html": [
       "<span style=\"color:#7E57C2\"><h2 style=\"font-size:16px\">Hyperparameters:</h2></span>"
      ],
      "text/plain": [
       "<IPython.core.display.HTML object>"
      ]
     },
     "metadata": {
      "tags": []
     },
     "output_type": "display_data"
    },
    {
     "data": {
      "text/html": [
       "<span style=\"color:cyan\"> |-conv_blocks: 5</span>"
      ],
      "text/plain": [
       "<IPython.core.display.HTML object>"
      ]
     },
     "metadata": {
      "tags": []
     },
     "output_type": "display_data"
    },
    {
     "data": {
      "text/html": [
       "<span style=\"color:blue\"> |-dense_activation: tanh</span>"
      ],
      "text/plain": [
       "<IPython.core.display.HTML object>"
      ]
     },
     "metadata": {
      "tags": []
     },
     "output_type": "display_data"
    },
    {
     "data": {
      "text/html": [
       "<span style=\"color:cyan\"> |-dropout: 0.2</span>"
      ],
      "text/plain": [
       "<IPython.core.display.HTML object>"
      ]
     },
     "metadata": {
      "tags": []
     },
     "output_type": "display_data"
    },
    {
     "data": {
      "text/html": [
       "<span style=\"color:blue\"> |-filters_0: 96</span>"
      ],
      "text/plain": [
       "<IPython.core.display.HTML object>"
      ]
     },
     "metadata": {
      "tags": []
     },
     "output_type": "display_data"
    },
    {
     "data": {
      "text/html": [
       "<span style=\"color:cyan\"> |-filters_1: 96</span>"
      ],
      "text/plain": [
       "<IPython.core.display.HTML object>"
      ]
     },
     "metadata": {
      "tags": []
     },
     "output_type": "display_data"
    },
    {
     "data": {
      "text/html": [
       "<span style=\"color:blue\"> |-filters_2: 64</span>"
      ],
      "text/plain": [
       "<IPython.core.display.HTML object>"
      ]
     },
     "metadata": {
      "tags": []
     },
     "output_type": "display_data"
    },
    {
     "data": {
      "text/html": [
       "<span style=\"color:cyan\"> |-filters_3: 128</span>"
      ],
      "text/plain": [
       "<IPython.core.display.HTML object>"
      ]
     },
     "metadata": {
      "tags": []
     },
     "output_type": "display_data"
    },
    {
     "data": {
      "text/html": [
       "<span style=\"color:blue\"> |-filters_4: 160</span>"
      ],
      "text/plain": [
       "<IPython.core.display.HTML object>"
      ]
     },
     "metadata": {
      "tags": []
     },
     "output_type": "display_data"
    },
    {
     "data": {
      "text/html": [
       "<span style=\"color:cyan\"> |-hidden_size: 50</span>"
      ],
      "text/plain": [
       "<IPython.core.display.HTML object>"
      ]
     },
     "metadata": {
      "tags": []
     },
     "output_type": "display_data"
    },
    {
     "data": {
      "text/html": [
       "<span style=\"color:blue\"> |-learning_rate: 0.00018234151083638657</span>"
      ],
      "text/plain": [
       "<IPython.core.display.HTML object>"
      ]
     },
     "metadata": {
      "tags": []
     },
     "output_type": "display_data"
    },
    {
     "data": {
      "text/html": [
       "<span style=\"color:cyan\"> |-pooling_0: avg</span>"
      ],
      "text/plain": [
       "<IPython.core.display.HTML object>"
      ]
     },
     "metadata": {
      "tags": []
     },
     "output_type": "display_data"
    },
    {
     "data": {
      "text/html": [
       "<span style=\"color:blue\"> |-pooling_1: max</span>"
      ],
      "text/plain": [
       "<IPython.core.display.HTML object>"
      ]
     },
     "metadata": {
      "tags": []
     },
     "output_type": "display_data"
    },
    {
     "data": {
      "text/html": [
       "<span style=\"color:cyan\"> |-pooling_2: max</span>"
      ],
      "text/plain": [
       "<IPython.core.display.HTML object>"
      ]
     },
     "metadata": {
      "tags": []
     },
     "output_type": "display_data"
    },
    {
     "data": {
      "text/html": [
       "<span style=\"color:blue\"> |-pooling_3: max</span>"
      ],
      "text/plain": [
       "<IPython.core.display.HTML object>"
      ]
     },
     "metadata": {
      "tags": []
     },
     "output_type": "display_data"
    },
    {
     "data": {
      "text/html": [
       "<span style=\"color:cyan\"> |-pooling_4: max</span>"
      ],
      "text/plain": [
       "<IPython.core.display.HTML object>"
      ]
     },
     "metadata": {
      "tags": []
     },
     "output_type": "display_data"
    },
    {
     "data": {
      "text/html": [
       "<span style=\"color:blue\"> |-tuner/bracket: 1</span>"
      ],
      "text/plain": [
       "<IPython.core.display.HTML object>"
      ]
     },
     "metadata": {
      "tags": []
     },
     "output_type": "display_data"
    },
    {
     "data": {
      "text/html": [
       "<span style=\"color:cyan\"> |-tuner/epochs: 3</span>"
      ],
      "text/plain": [
       "<IPython.core.display.HTML object>"
      ]
     },
     "metadata": {
      "tags": []
     },
     "output_type": "display_data"
    },
    {
     "data": {
      "text/html": [
       "<span style=\"color:blue\"> |-tuner/initial_epoch: 0</span>"
      ],
      "text/plain": [
       "<IPython.core.display.HTML object>"
      ]
     },
     "metadata": {
      "tags": []
     },
     "output_type": "display_data"
    },
    {
     "data": {
      "text/html": [
       "<span style=\"color:cyan\"> |-tuner/round: 0</span>"
      ],
      "text/plain": [
       "<IPython.core.display.HTML object>"
      ]
     },
     "metadata": {
      "tags": []
     },
     "output_type": "display_data"
    },
    {
     "name": "stdout",
     "output_type": "stream",
     "text": [
      "Epoch 1/3\n",
      "183/183 [==============================] - 70s 381ms/step - loss: 0.9892 - accuracy: 0.5640 - val_loss: 7.5382 - val_accuracy: 0.3438\n",
      "Epoch 2/3\n",
      "183/183 [==============================] - 69s 380ms/step - loss: 0.6973 - accuracy: 0.7287 - val_loss: 3.8571 - val_accuracy: 0.2812\n",
      "Epoch 3/3\n",
      "183/183 [==============================] - 70s 381ms/step - loss: 0.5251 - accuracy: 0.7994 - val_loss: 1.3630 - val_accuracy: 0.5625\n"
     ]
    },
    {
     "data": {
      "text/html": [
       "<span style=\"color:#4527A0\"><h1 style=\"font-size:18px\">Trial complete</h1></span>"
      ],
      "text/plain": [
       "<IPython.core.display.HTML object>"
      ]
     },
     "metadata": {
      "tags": []
     },
     "output_type": "display_data"
    },
    {
     "data": {
      "text/html": [
       "<span style=\"color:#4527A0\"><h1 style=\"font-size:18px\">Trial summary</h1></span>"
      ],
      "text/plain": [
       "<IPython.core.display.HTML object>"
      ]
     },
     "metadata": {
      "tags": []
     },
     "output_type": "display_data"
    },
    {
     "data": {
      "text/html": [
       "<span style=\"color:cyan\"> |-Trial ID: ebde2a2203fb011521383f1396951ef5</span>"
      ],
      "text/plain": [
       "<IPython.core.display.HTML object>"
      ]
     },
     "metadata": {
      "tags": []
     },
     "output_type": "display_data"
    },
    {
     "data": {
      "text/html": [
       "<span style=\"color:cyan\"> |-Score: 0.5625</span>"
      ],
      "text/plain": [
       "<IPython.core.display.HTML object>"
      ]
     },
     "metadata": {
      "tags": []
     },
     "output_type": "display_data"
    },
    {
     "data": {
      "text/html": [
       "<span style=\"color:cyan\"> |-Best step: 0</span>"
      ],
      "text/plain": [
       "<IPython.core.display.HTML object>"
      ]
     },
     "metadata": {
      "tags": []
     },
     "output_type": "display_data"
    },
    {
     "data": {
      "text/html": [
       "<span style=\"color:#7E57C2\"><h2 style=\"font-size:16px\">Hyperparameters:</h2></span>"
      ],
      "text/plain": [
       "<IPython.core.display.HTML object>"
      ]
     },
     "metadata": {
      "tags": []
     },
     "output_type": "display_data"
    },
    {
     "data": {
      "text/html": [
       "<span style=\"color:cyan\"> |-conv_blocks: 4</span>"
      ],
      "text/plain": [
       "<IPython.core.display.HTML object>"
      ]
     },
     "metadata": {
      "tags": []
     },
     "output_type": "display_data"
    },
    {
     "data": {
      "text/html": [
       "<span style=\"color:blue\"> |-dense_activation: tanh</span>"
      ],
      "text/plain": [
       "<IPython.core.display.HTML object>"
      ]
     },
     "metadata": {
      "tags": []
     },
     "output_type": "display_data"
    },
    {
     "data": {
      "text/html": [
       "<span style=\"color:cyan\"> |-dropout: 0.1</span>"
      ],
      "text/plain": [
       "<IPython.core.display.HTML object>"
      ]
     },
     "metadata": {
      "tags": []
     },
     "output_type": "display_data"
    },
    {
     "data": {
      "text/html": [
       "<span style=\"color:blue\"> |-filters_0: 160</span>"
      ],
      "text/plain": [
       "<IPython.core.display.HTML object>"
      ]
     },
     "metadata": {
      "tags": []
     },
     "output_type": "display_data"
    },
    {
     "data": {
      "text/html": [
       "<span style=\"color:cyan\"> |-filters_1: 64</span>"
      ],
      "text/plain": [
       "<IPython.core.display.HTML object>"
      ]
     },
     "metadata": {
      "tags": []
     },
     "output_type": "display_data"
    },
    {
     "data": {
      "text/html": [
       "<span style=\"color:blue\"> |-filters_2: 160</span>"
      ],
      "text/plain": [
       "<IPython.core.display.HTML object>"
      ]
     },
     "metadata": {
      "tags": []
     },
     "output_type": "display_data"
    },
    {
     "data": {
      "text/html": [
       "<span style=\"color:cyan\"> |-filters_3: 96</span>"
      ],
      "text/plain": [
       "<IPython.core.display.HTML object>"
      ]
     },
     "metadata": {
      "tags": []
     },
     "output_type": "display_data"
    },
    {
     "data": {
      "text/html": [
       "<span style=\"color:blue\"> |-filters_4: 160</span>"
      ],
      "text/plain": [
       "<IPython.core.display.HTML object>"
      ]
     },
     "metadata": {
      "tags": []
     },
     "output_type": "display_data"
    },
    {
     "data": {
      "text/html": [
       "<span style=\"color:cyan\"> |-hidden_size: 50</span>"
      ],
      "text/plain": [
       "<IPython.core.display.HTML object>"
      ]
     },
     "metadata": {
      "tags": []
     },
     "output_type": "display_data"
    },
    {
     "data": {
      "text/html": [
       "<span style=\"color:blue\"> |-learning_rate: 0.0015736310379180364</span>"
      ],
      "text/plain": [
       "<IPython.core.display.HTML object>"
      ]
     },
     "metadata": {
      "tags": []
     },
     "output_type": "display_data"
    },
    {
     "data": {
      "text/html": [
       "<span style=\"color:cyan\"> |-pooling_0: avg</span>"
      ],
      "text/plain": [
       "<IPython.core.display.HTML object>"
      ]
     },
     "metadata": {
      "tags": []
     },
     "output_type": "display_data"
    },
    {
     "data": {
      "text/html": [
       "<span style=\"color:blue\"> |-pooling_1: max</span>"
      ],
      "text/plain": [
       "<IPython.core.display.HTML object>"
      ]
     },
     "metadata": {
      "tags": []
     },
     "output_type": "display_data"
    },
    {
     "data": {
      "text/html": [
       "<span style=\"color:cyan\"> |-pooling_2: avg</span>"
      ],
      "text/plain": [
       "<IPython.core.display.HTML object>"
      ]
     },
     "metadata": {
      "tags": []
     },
     "output_type": "display_data"
    },
    {
     "data": {
      "text/html": [
       "<span style=\"color:blue\"> |-pooling_3: avg</span>"
      ],
      "text/plain": [
       "<IPython.core.display.HTML object>"
      ]
     },
     "metadata": {
      "tags": []
     },
     "output_type": "display_data"
    },
    {
     "data": {
      "text/html": [
       "<span style=\"color:cyan\"> |-pooling_4: max</span>"
      ],
      "text/plain": [
       "<IPython.core.display.HTML object>"
      ]
     },
     "metadata": {
      "tags": []
     },
     "output_type": "display_data"
    },
    {
     "data": {
      "text/html": [
       "<span style=\"color:blue\"> |-tuner/bracket: 1</span>"
      ],
      "text/plain": [
       "<IPython.core.display.HTML object>"
      ]
     },
     "metadata": {
      "tags": []
     },
     "output_type": "display_data"
    },
    {
     "data": {
      "text/html": [
       "<span style=\"color:cyan\"> |-tuner/epochs: 3</span>"
      ],
      "text/plain": [
       "<IPython.core.display.HTML object>"
      ]
     },
     "metadata": {
      "tags": []
     },
     "output_type": "display_data"
    },
    {
     "data": {
      "text/html": [
       "<span style=\"color:blue\"> |-tuner/initial_epoch: 0</span>"
      ],
      "text/plain": [
       "<IPython.core.display.HTML object>"
      ]
     },
     "metadata": {
      "tags": []
     },
     "output_type": "display_data"
    },
    {
     "data": {
      "text/html": [
       "<span style=\"color:cyan\"> |-tuner/round: 0</span>"
      ],
      "text/plain": [
       "<IPython.core.display.HTML object>"
      ]
     },
     "metadata": {
      "tags": []
     },
     "output_type": "display_data"
    },
    {
     "name": "stdout",
     "output_type": "stream",
     "text": [
      "Epoch 1/3\n",
      "183/183 [==============================] - 47s 258ms/step - loss: 0.8090 - accuracy: 0.6728 - val_loss: 5.4500 - val_accuracy: 0.4688\n",
      "Epoch 2/3\n",
      "183/183 [==============================] - 47s 257ms/step - loss: 0.4897 - accuracy: 0.8216 - val_loss: 4.7820 - val_accuracy: 0.2500\n",
      "Epoch 3/3\n",
      "183/183 [==============================] - 47s 257ms/step - loss: 0.3801 - accuracy: 0.8595 - val_loss: 0.8151 - val_accuracy: 0.6875\n"
     ]
    },
    {
     "data": {
      "text/html": [
       "<span style=\"color:#4527A0\"><h1 style=\"font-size:18px\">Trial complete</h1></span>"
      ],
      "text/plain": [
       "<IPython.core.display.HTML object>"
      ]
     },
     "metadata": {
      "tags": []
     },
     "output_type": "display_data"
    },
    {
     "data": {
      "text/html": [
       "<span style=\"color:#4527A0\"><h1 style=\"font-size:18px\">Trial summary</h1></span>"
      ],
      "text/plain": [
       "<IPython.core.display.HTML object>"
      ]
     },
     "metadata": {
      "tags": []
     },
     "output_type": "display_data"
    },
    {
     "data": {
      "text/html": [
       "<span style=\"color:cyan\"> |-Trial ID: 74dd6c44d249868f3cf36d987f7d9411</span>"
      ],
      "text/plain": [
       "<IPython.core.display.HTML object>"
      ]
     },
     "metadata": {
      "tags": []
     },
     "output_type": "display_data"
    },
    {
     "data": {
      "text/html": [
       "<span style=\"color:cyan\"> |-Score: 0.6875</span>"
      ],
      "text/plain": [
       "<IPython.core.display.HTML object>"
      ]
     },
     "metadata": {
      "tags": []
     },
     "output_type": "display_data"
    },
    {
     "data": {
      "text/html": [
       "<span style=\"color:cyan\"> |-Best step: 0</span>"
      ],
      "text/plain": [
       "<IPython.core.display.HTML object>"
      ]
     },
     "metadata": {
      "tags": []
     },
     "output_type": "display_data"
    },
    {
     "data": {
      "text/html": [
       "<span style=\"color:#7E57C2\"><h2 style=\"font-size:16px\">Hyperparameters:</h2></span>"
      ],
      "text/plain": [
       "<IPython.core.display.HTML object>"
      ]
     },
     "metadata": {
      "tags": []
     },
     "output_type": "display_data"
    },
    {
     "data": {
      "text/html": [
       "<span style=\"color:cyan\"> |-conv_blocks: 5</span>"
      ],
      "text/plain": [
       "<IPython.core.display.HTML object>"
      ]
     },
     "metadata": {
      "tags": []
     },
     "output_type": "display_data"
    },
    {
     "data": {
      "text/html": [
       "<span style=\"color:blue\"> |-dense_activation: relu</span>"
      ],
      "text/plain": [
       "<IPython.core.display.HTML object>"
      ]
     },
     "metadata": {
      "tags": []
     },
     "output_type": "display_data"
    },
    {
     "data": {
      "text/html": [
       "<span style=\"color:cyan\"> |-dropout: 0.1</span>"
      ],
      "text/plain": [
       "<IPython.core.display.HTML object>"
      ]
     },
     "metadata": {
      "tags": []
     },
     "output_type": "display_data"
    },
    {
     "data": {
      "text/html": [
       "<span style=\"color:blue\"> |-filters_0: 96</span>"
      ],
      "text/plain": [
       "<IPython.core.display.HTML object>"
      ]
     },
     "metadata": {
      "tags": []
     },
     "output_type": "display_data"
    },
    {
     "data": {
      "text/html": [
       "<span style=\"color:cyan\"> |-filters_1: 96</span>"
      ],
      "text/plain": [
       "<IPython.core.display.HTML object>"
      ]
     },
     "metadata": {
      "tags": []
     },
     "output_type": "display_data"
    },
    {
     "data": {
      "text/html": [
       "<span style=\"color:blue\"> |-filters_2: 224</span>"
      ],
      "text/plain": [
       "<IPython.core.display.HTML object>"
      ]
     },
     "metadata": {
      "tags": []
     },
     "output_type": "display_data"
    },
    {
     "data": {
      "text/html": [
       "<span style=\"color:cyan\"> |-filters_3: 96</span>"
      ],
      "text/plain": [
       "<IPython.core.display.HTML object>"
      ]
     },
     "metadata": {
      "tags": []
     },
     "output_type": "display_data"
    },
    {
     "data": {
      "text/html": [
       "<span style=\"color:blue\"> |-filters_4: 160</span>"
      ],
      "text/plain": [
       "<IPython.core.display.HTML object>"
      ]
     },
     "metadata": {
      "tags": []
     },
     "output_type": "display_data"
    },
    {
     "data": {
      "text/html": [
       "<span style=\"color:cyan\"> |-hidden_size: 40</span>"
      ],
      "text/plain": [
       "<IPython.core.display.HTML object>"
      ]
     },
     "metadata": {
      "tags": []
     },
     "output_type": "display_data"
    },
    {
     "data": {
      "text/html": [
       "<span style=\"color:blue\"> |-learning_rate: 0.00035515842891719766</span>"
      ],
      "text/plain": [
       "<IPython.core.display.HTML object>"
      ]
     },
     "metadata": {
      "tags": []
     },
     "output_type": "display_data"
    },
    {
     "data": {
      "text/html": [
       "<span style=\"color:cyan\"> |-pooling_0: avg</span>"
      ],
      "text/plain": [
       "<IPython.core.display.HTML object>"
      ]
     },
     "metadata": {
      "tags": []
     },
     "output_type": "display_data"
    },
    {
     "data": {
      "text/html": [
       "<span style=\"color:blue\"> |-pooling_1: avg</span>"
      ],
      "text/plain": [
       "<IPython.core.display.HTML object>"
      ]
     },
     "metadata": {
      "tags": []
     },
     "output_type": "display_data"
    },
    {
     "data": {
      "text/html": [
       "<span style=\"color:cyan\"> |-pooling_2: max</span>"
      ],
      "text/plain": [
       "<IPython.core.display.HTML object>"
      ]
     },
     "metadata": {
      "tags": []
     },
     "output_type": "display_data"
    },
    {
     "data": {
      "text/html": [
       "<span style=\"color:blue\"> |-pooling_3: max</span>"
      ],
      "text/plain": [
       "<IPython.core.display.HTML object>"
      ]
     },
     "metadata": {
      "tags": []
     },
     "output_type": "display_data"
    },
    {
     "data": {
      "text/html": [
       "<span style=\"color:cyan\"> |-pooling_4: avg</span>"
      ],
      "text/plain": [
       "<IPython.core.display.HTML object>"
      ]
     },
     "metadata": {
      "tags": []
     },
     "output_type": "display_data"
    },
    {
     "data": {
      "text/html": [
       "<span style=\"color:blue\"> |-tuner/bracket: 1</span>"
      ],
      "text/plain": [
       "<IPython.core.display.HTML object>"
      ]
     },
     "metadata": {
      "tags": []
     },
     "output_type": "display_data"
    },
    {
     "data": {
      "text/html": [
       "<span style=\"color:cyan\"> |-tuner/epochs: 3</span>"
      ],
      "text/plain": [
       "<IPython.core.display.HTML object>"
      ]
     },
     "metadata": {
      "tags": []
     },
     "output_type": "display_data"
    },
    {
     "data": {
      "text/html": [
       "<span style=\"color:blue\"> |-tuner/initial_epoch: 0</span>"
      ],
      "text/plain": [
       "<IPython.core.display.HTML object>"
      ]
     },
     "metadata": {
      "tags": []
     },
     "output_type": "display_data"
    },
    {
     "data": {
      "text/html": [
       "<span style=\"color:cyan\"> |-tuner/round: 0</span>"
      ],
      "text/plain": [
       "<IPython.core.display.HTML object>"
      ]
     },
     "metadata": {
      "tags": []
     },
     "output_type": "display_data"
    },
    {
     "name": "stdout",
     "output_type": "stream",
     "text": [
      "Epoch 1/3\n",
      "183/183 [==============================] - 76s 418ms/step - loss: 1.1106 - accuracy: 0.4957 - val_loss: 7.0841 - val_accuracy: 0.2500\n",
      "Epoch 2/3\n",
      "183/183 [==============================] - 76s 416ms/step - loss: 0.7746 - accuracy: 0.6872 - val_loss: 4.4506 - val_accuracy: 0.4062\n",
      "Epoch 3/3\n",
      "183/183 [==============================] - 77s 418ms/step - loss: 0.5434 - accuracy: 0.7973 - val_loss: 1.9664 - val_accuracy: 0.5312\n"
     ]
    },
    {
     "data": {
      "text/html": [
       "<span style=\"color:#4527A0\"><h1 style=\"font-size:18px\">Trial complete</h1></span>"
      ],
      "text/plain": [
       "<IPython.core.display.HTML object>"
      ]
     },
     "metadata": {
      "tags": []
     },
     "output_type": "display_data"
    },
    {
     "data": {
      "text/html": [
       "<span style=\"color:#4527A0\"><h1 style=\"font-size:18px\">Trial summary</h1></span>"
      ],
      "text/plain": [
       "<IPython.core.display.HTML object>"
      ]
     },
     "metadata": {
      "tags": []
     },
     "output_type": "display_data"
    },
    {
     "data": {
      "text/html": [
       "<span style=\"color:cyan\"> |-Trial ID: ea53b1d73ce6d6f6792b90e69874cc9a</span>"
      ],
      "text/plain": [
       "<IPython.core.display.HTML object>"
      ]
     },
     "metadata": {
      "tags": []
     },
     "output_type": "display_data"
    },
    {
     "data": {
      "text/html": [
       "<span style=\"color:cyan\"> |-Score: 0.53125</span>"
      ],
      "text/plain": [
       "<IPython.core.display.HTML object>"
      ]
     },
     "metadata": {
      "tags": []
     },
     "output_type": "display_data"
    },
    {
     "data": {
      "text/html": [
       "<span style=\"color:cyan\"> |-Best step: 0</span>"
      ],
      "text/plain": [
       "<IPython.core.display.HTML object>"
      ]
     },
     "metadata": {
      "tags": []
     },
     "output_type": "display_data"
    },
    {
     "data": {
      "text/html": [
       "<span style=\"color:#7E57C2\"><h2 style=\"font-size:16px\">Hyperparameters:</h2></span>"
      ],
      "text/plain": [
       "<IPython.core.display.HTML object>"
      ]
     },
     "metadata": {
      "tags": []
     },
     "output_type": "display_data"
    },
    {
     "data": {
      "text/html": [
       "<span style=\"color:cyan\"> |-conv_blocks: 3</span>"
      ],
      "text/plain": [
       "<IPython.core.display.HTML object>"
      ]
     },
     "metadata": {
      "tags": []
     },
     "output_type": "display_data"
    },
    {
     "data": {
      "text/html": [
       "<span style=\"color:blue\"> |-dense_activation: tanh</span>"
      ],
      "text/plain": [
       "<IPython.core.display.HTML object>"
      ]
     },
     "metadata": {
      "tags": []
     },
     "output_type": "display_data"
    },
    {
     "data": {
      "text/html": [
       "<span style=\"color:cyan\"> |-dropout: 0.2</span>"
      ],
      "text/plain": [
       "<IPython.core.display.HTML object>"
      ]
     },
     "metadata": {
      "tags": []
     },
     "output_type": "display_data"
    },
    {
     "data": {
      "text/html": [
       "<span style=\"color:blue\"> |-filters_0: 128</span>"
      ],
      "text/plain": [
       "<IPython.core.display.HTML object>"
      ]
     },
     "metadata": {
      "tags": []
     },
     "output_type": "display_data"
    },
    {
     "data": {
      "text/html": [
       "<span style=\"color:cyan\"> |-filters_1: 192</span>"
      ],
      "text/plain": [
       "<IPython.core.display.HTML object>"
      ]
     },
     "metadata": {
      "tags": []
     },
     "output_type": "display_data"
    },
    {
     "data": {
      "text/html": [
       "<span style=\"color:blue\"> |-filters_2: 256</span>"
      ],
      "text/plain": [
       "<IPython.core.display.HTML object>"
      ]
     },
     "metadata": {
      "tags": []
     },
     "output_type": "display_data"
    },
    {
     "data": {
      "text/html": [
       "<span style=\"color:cyan\"> |-filters_3: 160</span>"
      ],
      "text/plain": [
       "<IPython.core.display.HTML object>"
      ]
     },
     "metadata": {
      "tags": []
     },
     "output_type": "display_data"
    },
    {
     "data": {
      "text/html": [
       "<span style=\"color:blue\"> |-filters_4: 64</span>"
      ],
      "text/plain": [
       "<IPython.core.display.HTML object>"
      ]
     },
     "metadata": {
      "tags": []
     },
     "output_type": "display_data"
    },
    {
     "data": {
      "text/html": [
       "<span style=\"color:cyan\"> |-hidden_size: 50</span>"
      ],
      "text/plain": [
       "<IPython.core.display.HTML object>"
      ]
     },
     "metadata": {
      "tags": []
     },
     "output_type": "display_data"
    },
    {
     "data": {
      "text/html": [
       "<span style=\"color:blue\"> |-learning_rate: 0.0008673412137840665</span>"
      ],
      "text/plain": [
       "<IPython.core.display.HTML object>"
      ]
     },
     "metadata": {
      "tags": []
     },
     "output_type": "display_data"
    },
    {
     "data": {
      "text/html": [
       "<span style=\"color:cyan\"> |-pooling_0: max</span>"
      ],
      "text/plain": [
       "<IPython.core.display.HTML object>"
      ]
     },
     "metadata": {
      "tags": []
     },
     "output_type": "display_data"
    },
    {
     "data": {
      "text/html": [
       "<span style=\"color:blue\"> |-pooling_1: max</span>"
      ],
      "text/plain": [
       "<IPython.core.display.HTML object>"
      ]
     },
     "metadata": {
      "tags": []
     },
     "output_type": "display_data"
    },
    {
     "data": {
      "text/html": [
       "<span style=\"color:cyan\"> |-pooling_2: avg</span>"
      ],
      "text/plain": [
       "<IPython.core.display.HTML object>"
      ]
     },
     "metadata": {
      "tags": []
     },
     "output_type": "display_data"
    },
    {
     "data": {
      "text/html": [
       "<span style=\"color:blue\"> |-pooling_3: max</span>"
      ],
      "text/plain": [
       "<IPython.core.display.HTML object>"
      ]
     },
     "metadata": {
      "tags": []
     },
     "output_type": "display_data"
    },
    {
     "data": {
      "text/html": [
       "<span style=\"color:cyan\"> |-pooling_4: max</span>"
      ],
      "text/plain": [
       "<IPython.core.display.HTML object>"
      ]
     },
     "metadata": {
      "tags": []
     },
     "output_type": "display_data"
    },
    {
     "data": {
      "text/html": [
       "<span style=\"color:blue\"> |-tuner/bracket: 1</span>"
      ],
      "text/plain": [
       "<IPython.core.display.HTML object>"
      ]
     },
     "metadata": {
      "tags": []
     },
     "output_type": "display_data"
    },
    {
     "data": {
      "text/html": [
       "<span style=\"color:cyan\"> |-tuner/epochs: 3</span>"
      ],
      "text/plain": [
       "<IPython.core.display.HTML object>"
      ]
     },
     "metadata": {
      "tags": []
     },
     "output_type": "display_data"
    },
    {
     "data": {
      "text/html": [
       "<span style=\"color:blue\"> |-tuner/initial_epoch: 0</span>"
      ],
      "text/plain": [
       "<IPython.core.display.HTML object>"
      ]
     },
     "metadata": {
      "tags": []
     },
     "output_type": "display_data"
    },
    {
     "data": {
      "text/html": [
       "<span style=\"color:cyan\"> |-tuner/round: 0</span>"
      ],
      "text/plain": [
       "<IPython.core.display.HTML object>"
      ]
     },
     "metadata": {
      "tags": []
     },
     "output_type": "display_data"
    },
    {
     "name": "stdout",
     "output_type": "stream",
     "text": [
      "Epoch 4/8\n",
      "183/183 [==============================] - 37s 203ms/step - loss: 0.8935 - accuracy: 0.6260 - val_loss: 2.9037 - val_accuracy: 0.2500\n",
      "Epoch 5/8\n",
      "183/183 [==============================] - 37s 202ms/step - loss: 0.4740 - accuracy: 0.8337 - val_loss: 2.5708 - val_accuracy: 0.2500\n",
      "Epoch 6/8\n",
      "183/183 [==============================] - 37s 202ms/step - loss: 0.3556 - accuracy: 0.8733 - val_loss: 0.7148 - val_accuracy: 0.6875\n",
      "Epoch 7/8\n",
      "183/183 [==============================] - 37s 202ms/step - loss: 0.3009 - accuracy: 0.8957 - val_loss: 0.8038 - val_accuracy: 0.7500\n"
     ]
    },
    {
     "data": {
      "text/html": [
       "<span style=\"color:#4527A0\"><h1 style=\"font-size:18px\">Trial complete</h1></span>"
      ],
      "text/plain": [
       "<IPython.core.display.HTML object>"
      ]
     },
     "metadata": {
      "tags": []
     },
     "output_type": "display_data"
    },
    {
     "data": {
      "text/html": [
       "<span style=\"color:#4527A0\"><h1 style=\"font-size:18px\">Trial summary</h1></span>"
      ],
      "text/plain": [
       "<IPython.core.display.HTML object>"
      ]
     },
     "metadata": {
      "tags": []
     },
     "output_type": "display_data"
    },
    {
     "data": {
      "text/html": [
       "<span style=\"color:cyan\"> |-Trial ID: 811ada465eb5ba3c8f527c32c42e3865</span>"
      ],
      "text/plain": [
       "<IPython.core.display.HTML object>"
      ]
     },
     "metadata": {
      "tags": []
     },
     "output_type": "display_data"
    },
    {
     "data": {
      "text/html": [
       "<span style=\"color:cyan\"> |-Score: 0.75</span>"
      ],
      "text/plain": [
       "<IPython.core.display.HTML object>"
      ]
     },
     "metadata": {
      "tags": []
     },
     "output_type": "display_data"
    },
    {
     "data": {
      "text/html": [
       "<span style=\"color:cyan\"> |-Best step: 0</span>"
      ],
      "text/plain": [
       "<IPython.core.display.HTML object>"
      ]
     },
     "metadata": {
      "tags": []
     },
     "output_type": "display_data"
    },
    {
     "data": {
      "text/html": [
       "<span style=\"color:#7E57C2\"><h2 style=\"font-size:16px\">Hyperparameters:</h2></span>"
      ],
      "text/plain": [
       "<IPython.core.display.HTML object>"
      ]
     },
     "metadata": {
      "tags": []
     },
     "output_type": "display_data"
    },
    {
     "data": {
      "text/html": [
       "<span style=\"color:cyan\"> |-conv_blocks: 5</span>"
      ],
      "text/plain": [
       "<IPython.core.display.HTML object>"
      ]
     },
     "metadata": {
      "tags": []
     },
     "output_type": "display_data"
    },
    {
     "data": {
      "text/html": [
       "<span style=\"color:blue\"> |-dense_activation: tanh</span>"
      ],
      "text/plain": [
       "<IPython.core.display.HTML object>"
      ]
     },
     "metadata": {
      "tags": []
     },
     "output_type": "display_data"
    },
    {
     "data": {
      "text/html": [
       "<span style=\"color:cyan\"> |-dropout: 0.2</span>"
      ],
      "text/plain": [
       "<IPython.core.display.HTML object>"
      ]
     },
     "metadata": {
      "tags": []
     },
     "output_type": "display_data"
    },
    {
     "data": {
      "text/html": [
       "<span style=\"color:blue\"> |-filters_0: 96</span>"
      ],
      "text/plain": [
       "<IPython.core.display.HTML object>"
      ]
     },
     "metadata": {
      "tags": []
     },
     "output_type": "display_data"
    },
    {
     "data": {
      "text/html": [
       "<span style=\"color:cyan\"> |-filters_1: 96</span>"
      ],
      "text/plain": [
       "<IPython.core.display.HTML object>"
      ]
     },
     "metadata": {
      "tags": []
     },
     "output_type": "display_data"
    },
    {
     "data": {
      "text/html": [
       "<span style=\"color:blue\"> |-filters_2: 64</span>"
      ],
      "text/plain": [
       "<IPython.core.display.HTML object>"
      ]
     },
     "metadata": {
      "tags": []
     },
     "output_type": "display_data"
    },
    {
     "data": {
      "text/html": [
       "<span style=\"color:cyan\"> |-filters_3: 128</span>"
      ],
      "text/plain": [
       "<IPython.core.display.HTML object>"
      ]
     },
     "metadata": {
      "tags": []
     },
     "output_type": "display_data"
    },
    {
     "data": {
      "text/html": [
       "<span style=\"color:blue\"> |-filters_4: 160</span>"
      ],
      "text/plain": [
       "<IPython.core.display.HTML object>"
      ]
     },
     "metadata": {
      "tags": []
     },
     "output_type": "display_data"
    },
    {
     "data": {
      "text/html": [
       "<span style=\"color:cyan\"> |-hidden_size: 50</span>"
      ],
      "text/plain": [
       "<IPython.core.display.HTML object>"
      ]
     },
     "metadata": {
      "tags": []
     },
     "output_type": "display_data"
    },
    {
     "data": {
      "text/html": [
       "<span style=\"color:blue\"> |-learning_rate: 0.00018234151083638657</span>"
      ],
      "text/plain": [
       "<IPython.core.display.HTML object>"
      ]
     },
     "metadata": {
      "tags": []
     },
     "output_type": "display_data"
    },
    {
     "data": {
      "text/html": [
       "<span style=\"color:cyan\"> |-pooling_0: avg</span>"
      ],
      "text/plain": [
       "<IPython.core.display.HTML object>"
      ]
     },
     "metadata": {
      "tags": []
     },
     "output_type": "display_data"
    },
    {
     "data": {
      "text/html": [
       "<span style=\"color:blue\"> |-pooling_1: max</span>"
      ],
      "text/plain": [
       "<IPython.core.display.HTML object>"
      ]
     },
     "metadata": {
      "tags": []
     },
     "output_type": "display_data"
    },
    {
     "data": {
      "text/html": [
       "<span style=\"color:cyan\"> |-pooling_2: max</span>"
      ],
      "text/plain": [
       "<IPython.core.display.HTML object>"
      ]
     },
     "metadata": {
      "tags": []
     },
     "output_type": "display_data"
    },
    {
     "data": {
      "text/html": [
       "<span style=\"color:blue\"> |-pooling_3: max</span>"
      ],
      "text/plain": [
       "<IPython.core.display.HTML object>"
      ]
     },
     "metadata": {
      "tags": []
     },
     "output_type": "display_data"
    },
    {
     "data": {
      "text/html": [
       "<span style=\"color:cyan\"> |-pooling_4: max</span>"
      ],
      "text/plain": [
       "<IPython.core.display.HTML object>"
      ]
     },
     "metadata": {
      "tags": []
     },
     "output_type": "display_data"
    },
    {
     "data": {
      "text/html": [
       "<span style=\"color:blue\"> |-tuner/bracket: 1</span>"
      ],
      "text/plain": [
       "<IPython.core.display.HTML object>"
      ]
     },
     "metadata": {
      "tags": []
     },
     "output_type": "display_data"
    },
    {
     "data": {
      "text/html": [
       "<span style=\"color:cyan\"> |-tuner/epochs: 8</span>"
      ],
      "text/plain": [
       "<IPython.core.display.HTML object>"
      ]
     },
     "metadata": {
      "tags": []
     },
     "output_type": "display_data"
    },
    {
     "data": {
      "text/html": [
       "<span style=\"color:blue\"> |-tuner/initial_epoch: 3</span>"
      ],
      "text/plain": [
       "<IPython.core.display.HTML object>"
      ]
     },
     "metadata": {
      "tags": []
     },
     "output_type": "display_data"
    },
    {
     "data": {
      "text/html": [
       "<span style=\"color:cyan\"> |-tuner/round: 1</span>"
      ],
      "text/plain": [
       "<IPython.core.display.HTML object>"
      ]
     },
     "metadata": {
      "tags": []
     },
     "output_type": "display_data"
    },
    {
     "data": {
      "text/html": [
       "<span style=\"color:blue\"> |-tuner/trial_id: dd09e91df40650f8646c9b0f4d613e85</span>"
      ],
      "text/plain": [
       "<IPython.core.display.HTML object>"
      ]
     },
     "metadata": {
      "tags": []
     },
     "output_type": "display_data"
    },
    {
     "name": "stdout",
     "output_type": "stream",
     "text": [
      "Epoch 4/8\n",
      "183/183 [==============================] - 47s 258ms/step - loss: 0.8280 - accuracy: 0.6598 - val_loss: 7.0881 - val_accuracy: 0.2500\n",
      "Epoch 5/8\n",
      "183/183 [==============================] - 47s 257ms/step - loss: 0.4899 - accuracy: 0.8202 - val_loss: 2.4652 - val_accuracy: 0.4062\n",
      "Epoch 6/8\n",
      "183/183 [==============================] - 47s 257ms/step - loss: 0.3965 - accuracy: 0.8538 - val_loss: 1.4354 - val_accuracy: 0.6250\n",
      "Epoch 7/8\n",
      "183/183 [==============================] - 47s 257ms/step - loss: 0.2995 - accuracy: 0.8934 - val_loss: 0.2078 - val_accuracy: 0.9062\n",
      "Epoch 8/8\n",
      "183/183 [==============================] - 47s 257ms/step - loss: 0.2798 - accuracy: 0.9018 - val_loss: 0.1581 - val_accuracy: 0.9375\n"
     ]
    },
    {
     "data": {
      "text/html": [
       "<span style=\"color:#4527A0\"><h1 style=\"font-size:18px\">Trial complete</h1></span>"
      ],
      "text/plain": [
       "<IPython.core.display.HTML object>"
      ]
     },
     "metadata": {
      "tags": []
     },
     "output_type": "display_data"
    },
    {
     "data": {
      "text/html": [
       "<span style=\"color:#4527A0\"><h1 style=\"font-size:18px\">Trial summary</h1></span>"
      ],
      "text/plain": [
       "<IPython.core.display.HTML object>"
      ]
     },
     "metadata": {
      "tags": []
     },
     "output_type": "display_data"
    },
    {
     "data": {
      "text/html": [
       "<span style=\"color:cyan\"> |-Trial ID: c9e7c2c1857f9ed09554be99246f7f39</span>"
      ],
      "text/plain": [
       "<IPython.core.display.HTML object>"
      ]
     },
     "metadata": {
      "tags": []
     },
     "output_type": "display_data"
    },
    {
     "data": {
      "text/html": [
       "<span style=\"color:cyan\"> |-Score: 0.9375</span>"
      ],
      "text/plain": [
       "<IPython.core.display.HTML object>"
      ]
     },
     "metadata": {
      "tags": []
     },
     "output_type": "display_data"
    },
    {
     "data": {
      "text/html": [
       "<span style=\"color:cyan\"> |-Best step: 0</span>"
      ],
      "text/plain": [
       "<IPython.core.display.HTML object>"
      ]
     },
     "metadata": {
      "tags": []
     },
     "output_type": "display_data"
    },
    {
     "data": {
      "text/html": [
       "<span style=\"color:#7E57C2\"><h2 style=\"font-size:16px\">Hyperparameters:</h2></span>"
      ],
      "text/plain": [
       "<IPython.core.display.HTML object>"
      ]
     },
     "metadata": {
      "tags": []
     },
     "output_type": "display_data"
    },
    {
     "data": {
      "text/html": [
       "<span style=\"color:cyan\"> |-conv_blocks: 5</span>"
      ],
      "text/plain": [
       "<IPython.core.display.HTML object>"
      ]
     },
     "metadata": {
      "tags": []
     },
     "output_type": "display_data"
    },
    {
     "data": {
      "text/html": [
       "<span style=\"color:blue\"> |-dense_activation: relu</span>"
      ],
      "text/plain": [
       "<IPython.core.display.HTML object>"
      ]
     },
     "metadata": {
      "tags": []
     },
     "output_type": "display_data"
    },
    {
     "data": {
      "text/html": [
       "<span style=\"color:cyan\"> |-dropout: 0.1</span>"
      ],
      "text/plain": [
       "<IPython.core.display.HTML object>"
      ]
     },
     "metadata": {
      "tags": []
     },
     "output_type": "display_data"
    },
    {
     "data": {
      "text/html": [
       "<span style=\"color:blue\"> |-filters_0: 96</span>"
      ],
      "text/plain": [
       "<IPython.core.display.HTML object>"
      ]
     },
     "metadata": {
      "tags": []
     },
     "output_type": "display_data"
    },
    {
     "data": {
      "text/html": [
       "<span style=\"color:cyan\"> |-filters_1: 96</span>"
      ],
      "text/plain": [
       "<IPython.core.display.HTML object>"
      ]
     },
     "metadata": {
      "tags": []
     },
     "output_type": "display_data"
    },
    {
     "data": {
      "text/html": [
       "<span style=\"color:blue\"> |-filters_2: 224</span>"
      ],
      "text/plain": [
       "<IPython.core.display.HTML object>"
      ]
     },
     "metadata": {
      "tags": []
     },
     "output_type": "display_data"
    },
    {
     "data": {
      "text/html": [
       "<span style=\"color:cyan\"> |-filters_3: 96</span>"
      ],
      "text/plain": [
       "<IPython.core.display.HTML object>"
      ]
     },
     "metadata": {
      "tags": []
     },
     "output_type": "display_data"
    },
    {
     "data": {
      "text/html": [
       "<span style=\"color:blue\"> |-filters_4: 160</span>"
      ],
      "text/plain": [
       "<IPython.core.display.HTML object>"
      ]
     },
     "metadata": {
      "tags": []
     },
     "output_type": "display_data"
    },
    {
     "data": {
      "text/html": [
       "<span style=\"color:cyan\"> |-hidden_size: 40</span>"
      ],
      "text/plain": [
       "<IPython.core.display.HTML object>"
      ]
     },
     "metadata": {
      "tags": []
     },
     "output_type": "display_data"
    },
    {
     "data": {
      "text/html": [
       "<span style=\"color:blue\"> |-learning_rate: 0.00035515842891719766</span>"
      ],
      "text/plain": [
       "<IPython.core.display.HTML object>"
      ]
     },
     "metadata": {
      "tags": []
     },
     "output_type": "display_data"
    },
    {
     "data": {
      "text/html": [
       "<span style=\"color:cyan\"> |-pooling_0: avg</span>"
      ],
      "text/plain": [
       "<IPython.core.display.HTML object>"
      ]
     },
     "metadata": {
      "tags": []
     },
     "output_type": "display_data"
    },
    {
     "data": {
      "text/html": [
       "<span style=\"color:blue\"> |-pooling_1: avg</span>"
      ],
      "text/plain": [
       "<IPython.core.display.HTML object>"
      ]
     },
     "metadata": {
      "tags": []
     },
     "output_type": "display_data"
    },
    {
     "data": {
      "text/html": [
       "<span style=\"color:cyan\"> |-pooling_2: max</span>"
      ],
      "text/plain": [
       "<IPython.core.display.HTML object>"
      ]
     },
     "metadata": {
      "tags": []
     },
     "output_type": "display_data"
    },
    {
     "data": {
      "text/html": [
       "<span style=\"color:blue\"> |-pooling_3: max</span>"
      ],
      "text/plain": [
       "<IPython.core.display.HTML object>"
      ]
     },
     "metadata": {
      "tags": []
     },
     "output_type": "display_data"
    },
    {
     "data": {
      "text/html": [
       "<span style=\"color:cyan\"> |-pooling_4: avg</span>"
      ],
      "text/plain": [
       "<IPython.core.display.HTML object>"
      ]
     },
     "metadata": {
      "tags": []
     },
     "output_type": "display_data"
    },
    {
     "data": {
      "text/html": [
       "<span style=\"color:blue\"> |-tuner/bracket: 1</span>"
      ],
      "text/plain": [
       "<IPython.core.display.HTML object>"
      ]
     },
     "metadata": {
      "tags": []
     },
     "output_type": "display_data"
    },
    {
     "data": {
      "text/html": [
       "<span style=\"color:cyan\"> |-tuner/epochs: 8</span>"
      ],
      "text/plain": [
       "<IPython.core.display.HTML object>"
      ]
     },
     "metadata": {
      "tags": []
     },
     "output_type": "display_data"
    },
    {
     "data": {
      "text/html": [
       "<span style=\"color:blue\"> |-tuner/initial_epoch: 3</span>"
      ],
      "text/plain": [
       "<IPython.core.display.HTML object>"
      ]
     },
     "metadata": {
      "tags": []
     },
     "output_type": "display_data"
    },
    {
     "data": {
      "text/html": [
       "<span style=\"color:cyan\"> |-tuner/round: 1</span>"
      ],
      "text/plain": [
       "<IPython.core.display.HTML object>"
      ]
     },
     "metadata": {
      "tags": []
     },
     "output_type": "display_data"
    },
    {
     "data": {
      "text/html": [
       "<span style=\"color:blue\"> |-tuner/trial_id: 74dd6c44d249868f3cf36d987f7d9411</span>"
      ],
      "text/plain": [
       "<IPython.core.display.HTML object>"
      ]
     },
     "metadata": {
      "tags": []
     },
     "output_type": "display_data"
    },
    {
     "name": "stdout",
     "output_type": "stream",
     "text": [
      "Epoch 1/8\n",
      "183/183 [==============================] - 39s 211ms/step - loss: 1.0945 - accuracy: 0.5099 - val_loss: 10.7894 - val_accuracy: 0.2500\n",
      "Epoch 2/8\n",
      "183/183 [==============================] - 38s 209ms/step - loss: 0.7522 - accuracy: 0.7047 - val_loss: 3.0791 - val_accuracy: 0.3125\n",
      "Epoch 3/8\n",
      "183/183 [==============================] - 38s 210ms/step - loss: 0.5747 - accuracy: 0.7775 - val_loss: 1.8453 - val_accuracy: 0.5938\n",
      "Epoch 4/8\n",
      "183/183 [==============================] - 38s 209ms/step - loss: 0.4573 - accuracy: 0.8229 - val_loss: 4.6355 - val_accuracy: 0.2500\n"
     ]
    },
    {
     "data": {
      "text/html": [
       "<span style=\"color:#4527A0\"><h1 style=\"font-size:18px\">Trial complete</h1></span>"
      ],
      "text/plain": [
       "<IPython.core.display.HTML object>"
      ]
     },
     "metadata": {
      "tags": []
     },
     "output_type": "display_data"
    },
    {
     "data": {
      "text/html": [
       "<span style=\"color:#4527A0\"><h1 style=\"font-size:18px\">Trial summary</h1></span>"
      ],
      "text/plain": [
       "<IPython.core.display.HTML object>"
      ]
     },
     "metadata": {
      "tags": []
     },
     "output_type": "display_data"
    },
    {
     "data": {
      "text/html": [
       "<span style=\"color:cyan\"> |-Trial ID: cf73a4ab3220842e7017f5749bbb3dae</span>"
      ],
      "text/plain": [
       "<IPython.core.display.HTML object>"
      ]
     },
     "metadata": {
      "tags": []
     },
     "output_type": "display_data"
    },
    {
     "data": {
      "text/html": [
       "<span style=\"color:cyan\"> |-Score: 0.59375</span>"
      ],
      "text/plain": [
       "<IPython.core.display.HTML object>"
      ]
     },
     "metadata": {
      "tags": []
     },
     "output_type": "display_data"
    },
    {
     "data": {
      "text/html": [
       "<span style=\"color:cyan\"> |-Best step: 0</span>"
      ],
      "text/plain": [
       "<IPython.core.display.HTML object>"
      ]
     },
     "metadata": {
      "tags": []
     },
     "output_type": "display_data"
    },
    {
     "data": {
      "text/html": [
       "<span style=\"color:#7E57C2\"><h2 style=\"font-size:16px\">Hyperparameters:</h2></span>"
      ],
      "text/plain": [
       "<IPython.core.display.HTML object>"
      ]
     },
     "metadata": {
      "tags": []
     },
     "output_type": "display_data"
    },
    {
     "data": {
      "text/html": [
       "<span style=\"color:cyan\"> |-conv_blocks: 5</span>"
      ],
      "text/plain": [
       "<IPython.core.display.HTML object>"
      ]
     },
     "metadata": {
      "tags": []
     },
     "output_type": "display_data"
    },
    {
     "data": {
      "text/html": [
       "<span style=\"color:blue\"> |-dense_activation: tanh</span>"
      ],
      "text/plain": [
       "<IPython.core.display.HTML object>"
      ]
     },
     "metadata": {
      "tags": []
     },
     "output_type": "display_data"
    },
    {
     "data": {
      "text/html": [
       "<span style=\"color:cyan\"> |-dropout: 0.0</span>"
      ],
      "text/plain": [
       "<IPython.core.display.HTML object>"
      ]
     },
     "metadata": {
      "tags": []
     },
     "output_type": "display_data"
    },
    {
     "data": {
      "text/html": [
       "<span style=\"color:blue\"> |-filters_0: 96</span>"
      ],
      "text/plain": [
       "<IPython.core.display.HTML object>"
      ]
     },
     "metadata": {
      "tags": []
     },
     "output_type": "display_data"
    },
    {
     "data": {
      "text/html": [
       "<span style=\"color:cyan\"> |-filters_1: 96</span>"
      ],
      "text/plain": [
       "<IPython.core.display.HTML object>"
      ]
     },
     "metadata": {
      "tags": []
     },
     "output_type": "display_data"
    },
    {
     "data": {
      "text/html": [
       "<span style=\"color:blue\"> |-filters_2: 64</span>"
      ],
      "text/plain": [
       "<IPython.core.display.HTML object>"
      ]
     },
     "metadata": {
      "tags": []
     },
     "output_type": "display_data"
    },
    {
     "data": {
      "text/html": [
       "<span style=\"color:cyan\"> |-filters_3: 192</span>"
      ],
      "text/plain": [
       "<IPython.core.display.HTML object>"
      ]
     },
     "metadata": {
      "tags": []
     },
     "output_type": "display_data"
    },
    {
     "data": {
      "text/html": [
       "<span style=\"color:blue\"> |-filters_4: 256</span>"
      ],
      "text/plain": [
       "<IPython.core.display.HTML object>"
      ]
     },
     "metadata": {
      "tags": []
     },
     "output_type": "display_data"
    },
    {
     "data": {
      "text/html": [
       "<span style=\"color:cyan\"> |-hidden_size: 100</span>"
      ],
      "text/plain": [
       "<IPython.core.display.HTML object>"
      ]
     },
     "metadata": {
      "tags": []
     },
     "output_type": "display_data"
    },
    {
     "data": {
      "text/html": [
       "<span style=\"color:blue\"> |-learning_rate: 0.0016610199547552847</span>"
      ],
      "text/plain": [
       "<IPython.core.display.HTML object>"
      ]
     },
     "metadata": {
      "tags": []
     },
     "output_type": "display_data"
    },
    {
     "data": {
      "text/html": [
       "<span style=\"color:cyan\"> |-pooling_0: avg</span>"
      ],
      "text/plain": [
       "<IPython.core.display.HTML object>"
      ]
     },
     "metadata": {
      "tags": []
     },
     "output_type": "display_data"
    },
    {
     "data": {
      "text/html": [
       "<span style=\"color:blue\"> |-pooling_1: max</span>"
      ],
      "text/plain": [
       "<IPython.core.display.HTML object>"
      ]
     },
     "metadata": {
      "tags": []
     },
     "output_type": "display_data"
    },
    {
     "data": {
      "text/html": [
       "<span style=\"color:cyan\"> |-pooling_2: avg</span>"
      ],
      "text/plain": [
       "<IPython.core.display.HTML object>"
      ]
     },
     "metadata": {
      "tags": []
     },
     "output_type": "display_data"
    },
    {
     "data": {
      "text/html": [
       "<span style=\"color:blue\"> |-pooling_3: avg</span>"
      ],
      "text/plain": [
       "<IPython.core.display.HTML object>"
      ]
     },
     "metadata": {
      "tags": []
     },
     "output_type": "display_data"
    },
    {
     "data": {
      "text/html": [
       "<span style=\"color:cyan\"> |-pooling_4: max</span>"
      ],
      "text/plain": [
       "<IPython.core.display.HTML object>"
      ]
     },
     "metadata": {
      "tags": []
     },
     "output_type": "display_data"
    },
    {
     "data": {
      "text/html": [
       "<span style=\"color:blue\"> |-tuner/bracket: 0</span>"
      ],
      "text/plain": [
       "<IPython.core.display.HTML object>"
      ]
     },
     "metadata": {
      "tags": []
     },
     "output_type": "display_data"
    },
    {
     "data": {
      "text/html": [
       "<span style=\"color:cyan\"> |-tuner/epochs: 8</span>"
      ],
      "text/plain": [
       "<IPython.core.display.HTML object>"
      ]
     },
     "metadata": {
      "tags": []
     },
     "output_type": "display_data"
    },
    {
     "data": {
      "text/html": [
       "<span style=\"color:blue\"> |-tuner/initial_epoch: 0</span>"
      ],
      "text/plain": [
       "<IPython.core.display.HTML object>"
      ]
     },
     "metadata": {
      "tags": []
     },
     "output_type": "display_data"
    },
    {
     "data": {
      "text/html": [
       "<span style=\"color:cyan\"> |-tuner/round: 0</span>"
      ],
      "text/plain": [
       "<IPython.core.display.HTML object>"
      ]
     },
     "metadata": {
      "tags": []
     },
     "output_type": "display_data"
    },
    {
     "name": "stdout",
     "output_type": "stream",
     "text": [
      "Epoch 1/8\n",
      "183/183 [==============================] - 38s 207ms/step - loss: 1.2345 - accuracy: 0.3999 - val_loss: 38.8857 - val_accuracy: 0.2500\n",
      "Epoch 2/8\n",
      "183/183 [==============================] - 38s 206ms/step - loss: 0.9870 - accuracy: 0.5509 - val_loss: 44.4474 - val_accuracy: 0.2500\n"
     ]
    },
    {
     "data": {
      "text/html": [
       "<span style=\"color:#4527A0\"><h1 style=\"font-size:18px\">Trial complete</h1></span>"
      ],
      "text/plain": [
       "<IPython.core.display.HTML object>"
      ]
     },
     "metadata": {
      "tags": []
     },
     "output_type": "display_data"
    },
    {
     "data": {
      "text/html": [
       "<span style=\"color:#4527A0\"><h1 style=\"font-size:18px\">Trial summary</h1></span>"
      ],
      "text/plain": [
       "<IPython.core.display.HTML object>"
      ]
     },
     "metadata": {
      "tags": []
     },
     "output_type": "display_data"
    },
    {
     "data": {
      "text/html": [
       "<span style=\"color:cyan\"> |-Trial ID: 318139341bc53af43e1aa393a813e214</span>"
      ],
      "text/plain": [
       "<IPython.core.display.HTML object>"
      ]
     },
     "metadata": {
      "tags": []
     },
     "output_type": "display_data"
    },
    {
     "data": {
      "text/html": [
       "<span style=\"color:cyan\"> |-Score: 0.25</span>"
      ],
      "text/plain": [
       "<IPython.core.display.HTML object>"
      ]
     },
     "metadata": {
      "tags": []
     },
     "output_type": "display_data"
    },
    {
     "data": {
      "text/html": [
       "<span style=\"color:cyan\"> |-Best step: 0</span>"
      ],
      "text/plain": [
       "<IPython.core.display.HTML object>"
      ]
     },
     "metadata": {
      "tags": []
     },
     "output_type": "display_data"
    },
    {
     "data": {
      "text/html": [
       "<span style=\"color:#7E57C2\"><h2 style=\"font-size:16px\">Hyperparameters:</h2></span>"
      ],
      "text/plain": [
       "<IPython.core.display.HTML object>"
      ]
     },
     "metadata": {
      "tags": []
     },
     "output_type": "display_data"
    },
    {
     "data": {
      "text/html": [
       "<span style=\"color:cyan\"> |-conv_blocks: 5</span>"
      ],
      "text/plain": [
       "<IPython.core.display.HTML object>"
      ]
     },
     "metadata": {
      "tags": []
     },
     "output_type": "display_data"
    },
    {
     "data": {
      "text/html": [
       "<span style=\"color:blue\"> |-dense_activation: relu</span>"
      ],
      "text/plain": [
       "<IPython.core.display.HTML object>"
      ]
     },
     "metadata": {
      "tags": []
     },
     "output_type": "display_data"
    },
    {
     "data": {
      "text/html": [
       "<span style=\"color:cyan\"> |-dropout: 0.4</span>"
      ],
      "text/plain": [
       "<IPython.core.display.HTML object>"
      ]
     },
     "metadata": {
      "tags": []
     },
     "output_type": "display_data"
    },
    {
     "data": {
      "text/html": [
       "<span style=\"color:blue\"> |-filters_0: 64</span>"
      ],
      "text/plain": [
       "<IPython.core.display.HTML object>"
      ]
     },
     "metadata": {
      "tags": []
     },
     "output_type": "display_data"
    },
    {
     "data": {
      "text/html": [
       "<span style=\"color:cyan\"> |-filters_1: 160</span>"
      ],
      "text/plain": [
       "<IPython.core.display.HTML object>"
      ]
     },
     "metadata": {
      "tags": []
     },
     "output_type": "display_data"
    },
    {
     "data": {
      "text/html": [
       "<span style=\"color:blue\"> |-filters_2: 32</span>"
      ],
      "text/plain": [
       "<IPython.core.display.HTML object>"
      ]
     },
     "metadata": {
      "tags": []
     },
     "output_type": "display_data"
    },
    {
     "data": {
      "text/html": [
       "<span style=\"color:cyan\"> |-filters_3: 224</span>"
      ],
      "text/plain": [
       "<IPython.core.display.HTML object>"
      ]
     },
     "metadata": {
      "tags": []
     },
     "output_type": "display_data"
    },
    {
     "data": {
      "text/html": [
       "<span style=\"color:blue\"> |-filters_4: 32</span>"
      ],
      "text/plain": [
       "<IPython.core.display.HTML object>"
      ]
     },
     "metadata": {
      "tags": []
     },
     "output_type": "display_data"
    },
    {
     "data": {
      "text/html": [
       "<span style=\"color:cyan\"> |-hidden_size: 30</span>"
      ],
      "text/plain": [
       "<IPython.core.display.HTML object>"
      ]
     },
     "metadata": {
      "tags": []
     },
     "output_type": "display_data"
    },
    {
     "data": {
      "text/html": [
       "<span style=\"color:blue\"> |-learning_rate: 0.005772941197893878</span>"
      ],
      "text/plain": [
       "<IPython.core.display.HTML object>"
      ]
     },
     "metadata": {
      "tags": []
     },
     "output_type": "display_data"
    },
    {
     "data": {
      "text/html": [
       "<span style=\"color:cyan\"> |-pooling_0: max</span>"
      ],
      "text/plain": [
       "<IPython.core.display.HTML object>"
      ]
     },
     "metadata": {
      "tags": []
     },
     "output_type": "display_data"
    },
    {
     "data": {
      "text/html": [
       "<span style=\"color:blue\"> |-pooling_1: avg</span>"
      ],
      "text/plain": [
       "<IPython.core.display.HTML object>"
      ]
     },
     "metadata": {
      "tags": []
     },
     "output_type": "display_data"
    },
    {
     "data": {
      "text/html": [
       "<span style=\"color:cyan\"> |-pooling_2: avg</span>"
      ],
      "text/plain": [
       "<IPython.core.display.HTML object>"
      ]
     },
     "metadata": {
      "tags": []
     },
     "output_type": "display_data"
    },
    {
     "data": {
      "text/html": [
       "<span style=\"color:blue\"> |-pooling_3: max</span>"
      ],
      "text/plain": [
       "<IPython.core.display.HTML object>"
      ]
     },
     "metadata": {
      "tags": []
     },
     "output_type": "display_data"
    },
    {
     "data": {
      "text/html": [
       "<span style=\"color:cyan\"> |-pooling_4: max</span>"
      ],
      "text/plain": [
       "<IPython.core.display.HTML object>"
      ]
     },
     "metadata": {
      "tags": []
     },
     "output_type": "display_data"
    },
    {
     "data": {
      "text/html": [
       "<span style=\"color:blue\"> |-tuner/bracket: 0</span>"
      ],
      "text/plain": [
       "<IPython.core.display.HTML object>"
      ]
     },
     "metadata": {
      "tags": []
     },
     "output_type": "display_data"
    },
    {
     "data": {
      "text/html": [
       "<span style=\"color:cyan\"> |-tuner/epochs: 8</span>"
      ],
      "text/plain": [
       "<IPython.core.display.HTML object>"
      ]
     },
     "metadata": {
      "tags": []
     },
     "output_type": "display_data"
    },
    {
     "data": {
      "text/html": [
       "<span style=\"color:blue\"> |-tuner/initial_epoch: 0</span>"
      ],
      "text/plain": [
       "<IPython.core.display.HTML object>"
      ]
     },
     "metadata": {
      "tags": []
     },
     "output_type": "display_data"
    },
    {
     "data": {
      "text/html": [
       "<span style=\"color:cyan\"> |-tuner/round: 0</span>"
      ],
      "text/plain": [
       "<IPython.core.display.HTML object>"
      ]
     },
     "metadata": {
      "tags": []
     },
     "output_type": "display_data"
    },
    {
     "name": "stdout",
     "output_type": "stream",
     "text": [
      "Epoch 1/8\n",
      "183/183 [==============================] - 41s 226ms/step - loss: 1.0852 - accuracy: 0.5227 - val_loss: 2.0533 - val_accuracy: 0.2500\n",
      "Epoch 2/8\n",
      "183/183 [==============================] - 41s 225ms/step - loss: 0.7085 - accuracy: 0.7421 - val_loss: 2.9238 - val_accuracy: 0.2812\n"
     ]
    },
    {
     "data": {
      "text/html": [
       "<span style=\"color:#4527A0\"><h1 style=\"font-size:18px\">Trial complete</h1></span>"
      ],
      "text/plain": [
       "<IPython.core.display.HTML object>"
      ]
     },
     "metadata": {
      "tags": []
     },
     "output_type": "display_data"
    },
    {
     "data": {
      "text/html": [
       "<span style=\"color:#4527A0\"><h1 style=\"font-size:18px\">Trial summary</h1></span>"
      ],
      "text/plain": [
       "<IPython.core.display.HTML object>"
      ]
     },
     "metadata": {
      "tags": []
     },
     "output_type": "display_data"
    },
    {
     "data": {
      "text/html": [
       "<span style=\"color:cyan\"> |-Trial ID: 2d7fd4a72ee39650bca2d666868b4960</span>"
      ],
      "text/plain": [
       "<IPython.core.display.HTML object>"
      ]
     },
     "metadata": {
      "tags": []
     },
     "output_type": "display_data"
    },
    {
     "data": {
      "text/html": [
       "<span style=\"color:cyan\"> |-Score: 0.28125</span>"
      ],
      "text/plain": [
       "<IPython.core.display.HTML object>"
      ]
     },
     "metadata": {
      "tags": []
     },
     "output_type": "display_data"
    },
    {
     "data": {
      "text/html": [
       "<span style=\"color:cyan\"> |-Best step: 0</span>"
      ],
      "text/plain": [
       "<IPython.core.display.HTML object>"
      ]
     },
     "metadata": {
      "tags": []
     },
     "output_type": "display_data"
    },
    {
     "data": {
      "text/html": [
       "<span style=\"color:#7E57C2\"><h2 style=\"font-size:16px\">Hyperparameters:</h2></span>"
      ],
      "text/plain": [
       "<IPython.core.display.HTML object>"
      ]
     },
     "metadata": {
      "tags": []
     },
     "output_type": "display_data"
    },
    {
     "data": {
      "text/html": [
       "<span style=\"color:cyan\"> |-conv_blocks: 3</span>"
      ],
      "text/plain": [
       "<IPython.core.display.HTML object>"
      ]
     },
     "metadata": {
      "tags": []
     },
     "output_type": "display_data"
    },
    {
     "data": {
      "text/html": [
       "<span style=\"color:blue\"> |-dense_activation: relu</span>"
      ],
      "text/plain": [
       "<IPython.core.display.HTML object>"
      ]
     },
     "metadata": {
      "tags": []
     },
     "output_type": "display_data"
    },
    {
     "data": {
      "text/html": [
       "<span style=\"color:cyan\"> |-dropout: 0.30000000000000004</span>"
      ],
      "text/plain": [
       "<IPython.core.display.HTML object>"
      ]
     },
     "metadata": {
      "tags": []
     },
     "output_type": "display_data"
    },
    {
     "data": {
      "text/html": [
       "<span style=\"color:blue\"> |-filters_0: 96</span>"
      ],
      "text/plain": [
       "<IPython.core.display.HTML object>"
      ]
     },
     "metadata": {
      "tags": []
     },
     "output_type": "display_data"
    },
    {
     "data": {
      "text/html": [
       "<span style=\"color:cyan\"> |-filters_1: 96</span>"
      ],
      "text/plain": [
       "<IPython.core.display.HTML object>"
      ]
     },
     "metadata": {
      "tags": []
     },
     "output_type": "display_data"
    },
    {
     "data": {
      "text/html": [
       "<span style=\"color:blue\"> |-filters_2: 192</span>"
      ],
      "text/plain": [
       "<IPython.core.display.HTML object>"
      ]
     },
     "metadata": {
      "tags": []
     },
     "output_type": "display_data"
    },
    {
     "data": {
      "text/html": [
       "<span style=\"color:cyan\"> |-filters_3: 64</span>"
      ],
      "text/plain": [
       "<IPython.core.display.HTML object>"
      ]
     },
     "metadata": {
      "tags": []
     },
     "output_type": "display_data"
    },
    {
     "data": {
      "text/html": [
       "<span style=\"color:blue\"> |-filters_4: 160</span>"
      ],
      "text/plain": [
       "<IPython.core.display.HTML object>"
      ]
     },
     "metadata": {
      "tags": []
     },
     "output_type": "display_data"
    },
    {
     "data": {
      "text/html": [
       "<span style=\"color:cyan\"> |-hidden_size: 50</span>"
      ],
      "text/plain": [
       "<IPython.core.display.HTML object>"
      ]
     },
     "metadata": {
      "tags": []
     },
     "output_type": "display_data"
    },
    {
     "data": {
      "text/html": [
       "<span style=\"color:blue\"> |-learning_rate: 0.00014104109456631548</span>"
      ],
      "text/plain": [
       "<IPython.core.display.HTML object>"
      ]
     },
     "metadata": {
      "tags": []
     },
     "output_type": "display_data"
    },
    {
     "data": {
      "text/html": [
       "<span style=\"color:cyan\"> |-pooling_0: max</span>"
      ],
      "text/plain": [
       "<IPython.core.display.HTML object>"
      ]
     },
     "metadata": {
      "tags": []
     },
     "output_type": "display_data"
    },
    {
     "data": {
      "text/html": [
       "<span style=\"color:blue\"> |-pooling_1: max</span>"
      ],
      "text/plain": [
       "<IPython.core.display.HTML object>"
      ]
     },
     "metadata": {
      "tags": []
     },
     "output_type": "display_data"
    },
    {
     "data": {
      "text/html": [
       "<span style=\"color:cyan\"> |-pooling_2: avg</span>"
      ],
      "text/plain": [
       "<IPython.core.display.HTML object>"
      ]
     },
     "metadata": {
      "tags": []
     },
     "output_type": "display_data"
    },
    {
     "data": {
      "text/html": [
       "<span style=\"color:blue\"> |-pooling_3: avg</span>"
      ],
      "text/plain": [
       "<IPython.core.display.HTML object>"
      ]
     },
     "metadata": {
      "tags": []
     },
     "output_type": "display_data"
    },
    {
     "data": {
      "text/html": [
       "<span style=\"color:cyan\"> |-pooling_4: max</span>"
      ],
      "text/plain": [
       "<IPython.core.display.HTML object>"
      ]
     },
     "metadata": {
      "tags": []
     },
     "output_type": "display_data"
    },
    {
     "data": {
      "text/html": [
       "<span style=\"color:blue\"> |-tuner/bracket: 0</span>"
      ],
      "text/plain": [
       "<IPython.core.display.HTML object>"
      ]
     },
     "metadata": {
      "tags": []
     },
     "output_type": "display_data"
    },
    {
     "data": {
      "text/html": [
       "<span style=\"color:cyan\"> |-tuner/epochs: 8</span>"
      ],
      "text/plain": [
       "<IPython.core.display.HTML object>"
      ]
     },
     "metadata": {
      "tags": []
     },
     "output_type": "display_data"
    },
    {
     "data": {
      "text/html": [
       "<span style=\"color:blue\"> |-tuner/initial_epoch: 0</span>"
      ],
      "text/plain": [
       "<IPython.core.display.HTML object>"
      ]
     },
     "metadata": {
      "tags": []
     },
     "output_type": "display_data"
    },
    {
     "data": {
      "text/html": [
       "<span style=\"color:cyan\"> |-tuner/round: 0</span>"
      ],
      "text/plain": [
       "<IPython.core.display.HTML object>"
      ]
     },
     "metadata": {
      "tags": []
     },
     "output_type": "display_data"
    },
    {
     "name": "stdout",
     "output_type": "stream",
     "text": [
      "INFO:tensorflow:Oracle triggered exit\n"
     ]
    }
   ],
   "source": [
    "\"\"\"the hyperparameter search. To start the search, search method is used. \n",
    "This method has the same signature as keras.Model.fit\"\"\"\n",
    "tuner.search(train_data_gen_hpTuning, batch_size=32,\n",
    "             validation_data=val_data_gen_hpTuning,\n",
    "             callbacks=[tf.keras.callbacks.EarlyStopping(patience=1)])\n",
    "\n"
   ]
  },
  {
   "cell_type": "markdown",
   "metadata": {},
   "source": [
    "# Loading Best Model"
   ]
  },
  {
   "cell_type": "code",
   "execution_count": 19,
   "metadata": {
    "colab": {
     "base_uri": "https://localhost:8080/",
     "height": 35
    },
    "colab_type": "code",
    "id": "qPwSADDHUyWt",
    "outputId": "1117c807-5c79-432f-bb6f-3faeb07ccc41"
   },
   "outputs": [
    {
     "name": "stdout",
     "output_type": "stream",
     "text": [
      "best hyperparameters are:  <kerastuner.engine.hyperparameters.HyperParameters object at 0x7fafce790828>\n"
     ]
    }
   ],
   "source": [
    "\"\"\"Each model will train for at most 8 epochs, and two iterations of the Hyperband algorithm will be run. \n",
    "Afterwards, the best models found during the search can be retrieved using the get_best_models function\"\"\"\n",
    "\n",
    "best_model = tuner.get_best_models(1)[0]\n",
    "best_hyperparameters = tuner.get_best_hyperparameters(1)[0]\n",
    "\n",
    "# the optimal hyperparameter values found by the search\n",
    "print(\"best hyperparameters are: \", best_hyperparameters)"
   ]
  },
  {
   "cell_type": "code",
   "execution_count": 20,
   "metadata": {
    "colab": {
     "base_uri": "https://localhost:8080/",
     "height": 1000
    },
    "colab_type": "code",
    "id": "C6hZ3mptU7VP",
    "outputId": "3e716f36-0c4e-4ec8-99f3-2de81d7d6516",
    "scrolled": true
   },
   "outputs": [
    {
     "name": "stdout",
     "output_type": "stream",
     "text": [
      "Model: \"model\"\n",
      "_________________________________________________________________\n",
      "Layer (type)                 Output Shape              Param #   \n",
      "=================================================================\n",
      "input_1 (InputLayer)         [(None, 128, 128, 3)]     0         \n",
      "_________________________________________________________________\n",
      "conv2d (Conv2D)              (None, 128, 128, 96)      4416      \n",
      "_________________________________________________________________\n",
      "batch_normalization (BatchNo (None, 128, 128, 96)      384       \n",
      "_________________________________________________________________\n",
      "re_lu (ReLU)                 (None, 128, 128, 96)      0         \n",
      "_________________________________________________________________\n",
      "conv2d_1 (Conv2D)            (None, 128, 128, 96)      138336    \n",
      "_________________________________________________________________\n",
      "batch_normalization_1 (Batch (None, 128, 128, 96)      384       \n",
      "_________________________________________________________________\n",
      "re_lu_1 (ReLU)               (None, 128, 128, 96)      0         \n",
      "_________________________________________________________________\n",
      "average_pooling2d (AveragePo (None, 64, 64, 96)        0         \n",
      "_________________________________________________________________\n",
      "conv2d_2 (Conv2D)            (None, 64, 64, 96)        138336    \n",
      "_________________________________________________________________\n",
      "batch_normalization_2 (Batch (None, 64, 64, 96)        384       \n",
      "_________________________________________________________________\n",
      "re_lu_2 (ReLU)               (None, 64, 64, 96)        0         \n",
      "_________________________________________________________________\n",
      "conv2d_3 (Conv2D)            (None, 64, 64, 96)        138336    \n",
      "_________________________________________________________________\n",
      "batch_normalization_3 (Batch (None, 64, 64, 96)        384       \n",
      "_________________________________________________________________\n",
      "re_lu_3 (ReLU)               (None, 64, 64, 96)        0         \n",
      "_________________________________________________________________\n",
      "max_pooling2d (MaxPooling2D) (None, 32, 32, 96)        0         \n",
      "_________________________________________________________________\n",
      "conv2d_4 (Conv2D)            (None, 32, 32, 64)        92224     \n",
      "_________________________________________________________________\n",
      "batch_normalization_4 (Batch (None, 32, 32, 64)        256       \n",
      "_________________________________________________________________\n",
      "re_lu_4 (ReLU)               (None, 32, 32, 64)        0         \n",
      "_________________________________________________________________\n",
      "conv2d_5 (Conv2D)            (None, 32, 32, 64)        61504     \n",
      "_________________________________________________________________\n",
      "batch_normalization_5 (Batch (None, 32, 32, 64)        256       \n",
      "_________________________________________________________________\n",
      "re_lu_5 (ReLU)               (None, 32, 32, 64)        0         \n",
      "_________________________________________________________________\n",
      "max_pooling2d_1 (MaxPooling2 (None, 16, 16, 64)        0         \n",
      "_________________________________________________________________\n",
      "conv2d_6 (Conv2D)            (None, 16, 16, 128)       123008    \n",
      "_________________________________________________________________\n",
      "batch_normalization_6 (Batch (None, 16, 16, 128)       512       \n",
      "_________________________________________________________________\n",
      "re_lu_6 (ReLU)               (None, 16, 16, 128)       0         \n",
      "_________________________________________________________________\n",
      "conv2d_7 (Conv2D)            (None, 16, 16, 128)       245888    \n",
      "_________________________________________________________________\n",
      "batch_normalization_7 (Batch (None, 16, 16, 128)       512       \n",
      "_________________________________________________________________\n",
      "re_lu_7 (ReLU)               (None, 16, 16, 128)       0         \n",
      "_________________________________________________________________\n",
      "max_pooling2d_2 (MaxPooling2 (None, 8, 8, 128)         0         \n",
      "_________________________________________________________________\n",
      "conv2d_8 (Conv2D)            (None, 8, 8, 160)         307360    \n",
      "_________________________________________________________________\n",
      "batch_normalization_8 (Batch (None, 8, 8, 160)         640       \n",
      "_________________________________________________________________\n",
      "re_lu_8 (ReLU)               (None, 8, 8, 160)         0         \n",
      "_________________________________________________________________\n",
      "conv2d_9 (Conv2D)            (None, 8, 8, 160)         384160    \n",
      "_________________________________________________________________\n",
      "batch_normalization_9 (Batch (None, 8, 8, 160)         640       \n",
      "_________________________________________________________________\n",
      "re_lu_9 (ReLU)               (None, 8, 8, 160)         0         \n",
      "_________________________________________________________________\n",
      "max_pooling2d_3 (MaxPooling2 (None, 4, 4, 160)         0         \n",
      "_________________________________________________________________\n",
      "global_average_pooling2d (Gl (None, 160)               0         \n",
      "_________________________________________________________________\n",
      "flatten (Flatten)            (None, 160)               0         \n",
      "_________________________________________________________________\n",
      "dense (Dense)                (None, 50)                8050      \n",
      "_________________________________________________________________\n",
      "dropout (Dropout)            (None, 50)                0         \n",
      "_________________________________________________________________\n",
      "dense_1 (Dense)              (None, 4)                 204       \n",
      "=================================================================\n",
      "Total params: 1,646,174\n",
      "Trainable params: 1,643,998\n",
      "Non-trainable params: 2,176\n",
      "_________________________________________________________________\n"
     ]
    }
   ],
   "source": [
    "# the model is built using the optimal hyperparameter values found by the search\n",
    "model = tuner.hypermodel.build(best_hyperparameters)\n",
    "model.summary()\n"
   ]
  },
  {
   "cell_type": "code",
   "execution_count": 23,
   "metadata": {
    "colab": {},
    "colab_type": "code",
    "id": "W3qPZmb8N9c5"
   },
   "outputs": [],
   "source": [
    "model.save('OCT_model_colab.h5') "
   ]
  },
  {
   "cell_type": "markdown",
   "metadata": {},
   "source": [
    "# File Path for Training Dataset"
   ]
  },
  {
   "cell_type": "code",
   "execution_count": 3,
   "metadata": {},
   "outputs": [
    {
     "data": {
      "text/plain": [
       "WindowsPath('C:/StudyNCI/Lectures/Machine Learning 2/OCT2017 - ModelTesting/train')"
      ]
     },
     "execution_count": 3,
     "metadata": {},
     "output_type": "execute_result"
    }
   ],
   "source": [
    "\"\"\"data preparation step for model training\n",
    "the training set is a different set of images, than that was used for finding optimal hyperparameters\n",
    "\n",
    "This is to ensure that the model built using best hyperparameters (returned by keras tuner) \n",
    "is trained on a different set of images. \n",
    "This step will equip the model to work well on unseen data in real time scnearios \n",
    "\"\"\"\n",
    "fullDataPath = pathlib.Path(\"C://StudyNCI//Lectures//Machine Learning 2//OCT2017 - ModelTesting\")\n",
    "trainingSet = fullDataPath / 'train'\n",
    "testingSet = fullDataPath / 'test'\n",
    "validationSet = fullDataPath / 'val'\n",
    "\n",
    "trainingSet"
   ]
  },
  {
   "cell_type": "markdown",
   "metadata": {},
   "source": [
    "# Imagegenerators for Training, Testing and Validation"
   ]
  },
  {
   "cell_type": "code",
   "execution_count": 4,
   "metadata": {},
   "outputs": [
    {
     "name": "stdout",
     "output_type": "stream",
     "text": [
      "Found 1000 images belonging to 4 classes.\n",
      "total testing samples :  1000\n"
     ]
    }
   ],
   "source": [
    "test_datagen = ImageDataGenerator(rescale=1./255)\n",
    "test_generator = test_datagen.flow_from_directory(directory=testingSet,\n",
    "                                                  target_size=(IMG_HEIGHT, IMG_WIDTH),\n",
    "                                                  batch_size=32,\n",
    "                                                  classes=[\"DME\",\"CNV\",\"NORMAL\",\"DRUSEN\"])\n",
    "print(\"total testing samples : \", test_generator.samples)"
   ]
  },
  {
   "cell_type": "code",
   "execution_count": 5,
   "metadata": {},
   "outputs": [
    {
     "name": "stdout",
     "output_type": "stream",
     "text": [
      "Found 76716 images belonging to 4 classes.\n",
      "total training samples :  76716\n"
     ]
    }
   ],
   "source": [
    "train_image_generator = ImageDataGenerator(rescale=1./255) # Generator for our training data\n",
    "\n",
    "train_data_gen = train_image_generator.flow_from_directory(batch_size=80000,\n",
    "                                                           directory=trainingSet,\n",
    "                                                           target_size=(IMG_HEIGHT, IMG_WIDTH),\n",
    "                                                           classes=[\"DME\",\"CNV\",\"NORMAL\",\"DRUSEN\"])\n",
    "print(\"total training samples : \", train_data_gen.samples)"
   ]
  },
  {
   "cell_type": "code",
   "execution_count": 7,
   "metadata": {},
   "outputs": [
    {
     "name": "stdout",
     "output_type": "stream",
     "text": [
      "Found 32 images belonging to 4 classes.\n",
      "total validation samples :  32\n"
     ]
    }
   ],
   "source": [
    "validation_image_generator = ImageDataGenerator(rescale=1./255) # Generator for our validation data\n",
    "\n",
    "val_data_gen = validation_image_generator.flow_from_directory(batch_size=32,\n",
    "                                                              directory=validationSet,\n",
    "                                                              target_size=(IMG_HEIGHT, IMG_WIDTH),\n",
    "                                                              classes=[\"DME\",\"CNV\",\"NORMAL\",\"DRUSEN\"])\n",
    "print(\"total validation samples : \", val_data_gen.samples)"
   ]
  },
  {
   "cell_type": "code",
   "execution_count": 8,
   "metadata": {},
   "outputs": [
    {
     "name": "stdout",
     "output_type": "stream",
     "text": [
      "(76716, 128, 128, 3)\n"
     ]
    }
   ],
   "source": [
    "X_train, Y_train = next(train_data_gen)\n",
    "X_test, Y_test = next(test_generator)\n",
    "print(X_train.shape)"
   ]
  },
  {
   "cell_type": "markdown",
   "metadata": {},
   "source": [
    "# Class Imbalance Handler"
   ]
  },
  {
   "cell_type": "code",
   "execution_count": 9,
   "metadata": {},
   "outputs": [
    {
     "name": "stderr",
     "output_type": "stream",
     "text": [
      "C:\\ProgramData\\Anaconda3\\lib\\site-packages\\sklearn\\utils\\validation.py:71: FutureWarning: Pass classes=[0 1 2 3] as keyword args. From version 0.25 passing these as positional arguments will result in an error\n",
      "  FutureWarning)\n",
      "C:\\ProgramData\\Anaconda3\\lib\\site-packages\\sklearn\\utils\\validation.py:71: FutureWarning: Pass classes=[0 1 2 3] as keyword args. From version 0.25 passing these as positional arguments will result in an error\n",
      "  FutureWarning)\n"
     ]
    },
    {
     "name": "stdout",
     "output_type": "stream",
     "text": [
      "(27072, 128, 128, 3)\n"
     ]
    }
   ],
   "source": [
    "X_trainShape = X_train.shape[1]*X_train.shape[2]*X_train.shape[3]\n",
    "X_testShape = X_test.shape[1]*X_test.shape[2]*X_test.shape[3]\n",
    "\n",
    "# Make Data 1-Dimensional for compatability with under-sampling methods\n",
    "X_trainFlat = X_train.reshape(X_train.shape[0], X_trainShape)\n",
    "# for example: X_trainShape (27072, 128, 128, 3) will be reshaped to X_trainFlat(27072,49152)\n",
    "X_testFlat = X_test.reshape(X_test.shape[0], X_testShape)\n",
    "\n",
    "\"\"\"Random undersampling involves randomly selecting examples from the majority class \n",
    "to delete from the training dataset.\"\"\"\n",
    "\n",
    "#initialize under sampler\n",
    "ros = RandomUnderSampler()    \n",
    "X_trainRos, Y_trainRos = ros.fit_sample(X_trainFlat, Y_train)\n",
    "X_testRos, Y_testRos = ros.fit_sample(X_testFlat, Y_test)\n",
    "\n",
    "# Restore the 1-D undersampled training data to its previous state using image height, image weight and channel info\n",
    "for i in range(len(X_trainRos)):\n",
    "    height, width, channels = IMG_HEIGHT,IMG_WIDTH,3\n",
    "    X_trainRosReshaped = X_trainRos.reshape(len(X_trainRos),height,width,channels)\n",
    "\n",
    "# Restore the 1-D undersampled validation data to its previous state using image height, image weight and channel info\n",
    "for i in range(len(X_testRos)):\n",
    "    height, width, channels = IMG_HEIGHT,IMG_WIDTH,3\n",
    "    X_testRosReshaped = X_testRos.reshape(len(X_testRos),height,width,channels)\n",
    "\n",
    "print(X_trainRosReshaped.shape)    "
   ]
  },
  {
   "cell_type": "markdown",
   "metadata": {},
   "source": [
    "# Checkpoints"
   ]
  },
  {
   "cell_type": "code",
   "execution_count": 5,
   "metadata": {},
   "outputs": [],
   "source": [
    "checkpoint_dir = fullDataPath /'checkpoints'\n",
    "# Name of the checkpoint files\n",
    "checkpoint_file = os.path.join(checkpoint_dir, \"ckpt_{epoch}.ckpt\")\n",
    "\n",
    "checkpoint_callback=tf.keras.callbacks.ModelCheckpoint(\n",
    "    filepath=checkpoint_file,\n",
    "    save_weights_only=True,\n",
    "    save_freq=3)"
   ]
  },
  {
   "cell_type": "code",
   "execution_count": 6,
   "metadata": {
    "scrolled": true
   },
   "outputs": [
    {
     "name": "stdout",
     "output_type": "stream",
     "text": [
      "Model: \"model\"\n",
      "_________________________________________________________________\n",
      "Layer (type)                 Output Shape              Param #   \n",
      "=================================================================\n",
      "input_1 (InputLayer)         [(None, 128, 128, 3)]     0         \n",
      "_________________________________________________________________\n",
      "conv2d (Conv2D)              (None, 128, 128, 96)      4416      \n",
      "_________________________________________________________________\n",
      "batch_normalization (BatchNo (None, 128, 128, 96)      384       \n",
      "_________________________________________________________________\n",
      "re_lu (ReLU)                 (None, 128, 128, 96)      0         \n",
      "_________________________________________________________________\n",
      "conv2d_1 (Conv2D)            (None, 128, 128, 96)      138336    \n",
      "_________________________________________________________________\n",
      "batch_normalization_1 (Batch (None, 128, 128, 96)      384       \n",
      "_________________________________________________________________\n",
      "re_lu_1 (ReLU)               (None, 128, 128, 96)      0         \n",
      "_________________________________________________________________\n",
      "average_pooling2d (AveragePo (None, 64, 64, 96)        0         \n",
      "_________________________________________________________________\n",
      "conv2d_2 (Conv2D)            (None, 64, 64, 96)        138336    \n",
      "_________________________________________________________________\n",
      "batch_normalization_2 (Batch (None, 64, 64, 96)        384       \n",
      "_________________________________________________________________\n",
      "re_lu_2 (ReLU)               (None, 64, 64, 96)        0         \n",
      "_________________________________________________________________\n",
      "conv2d_3 (Conv2D)            (None, 64, 64, 96)        138336    \n",
      "_________________________________________________________________\n",
      "batch_normalization_3 (Batch (None, 64, 64, 96)        384       \n",
      "_________________________________________________________________\n",
      "re_lu_3 (ReLU)               (None, 64, 64, 96)        0         \n",
      "_________________________________________________________________\n",
      "max_pooling2d (MaxPooling2D) (None, 32, 32, 96)        0         \n",
      "_________________________________________________________________\n",
      "conv2d_4 (Conv2D)            (None, 32, 32, 64)        92224     \n",
      "_________________________________________________________________\n",
      "batch_normalization_4 (Batch (None, 32, 32, 64)        256       \n",
      "_________________________________________________________________\n",
      "re_lu_4 (ReLU)               (None, 32, 32, 64)        0         \n",
      "_________________________________________________________________\n",
      "conv2d_5 (Conv2D)            (None, 32, 32, 64)        61504     \n",
      "_________________________________________________________________\n",
      "batch_normalization_5 (Batch (None, 32, 32, 64)        256       \n",
      "_________________________________________________________________\n",
      "re_lu_5 (ReLU)               (None, 32, 32, 64)        0         \n",
      "_________________________________________________________________\n",
      "max_pooling2d_1 (MaxPooling2 (None, 16, 16, 64)        0         \n",
      "_________________________________________________________________\n",
      "conv2d_6 (Conv2D)            (None, 16, 16, 128)       123008    \n",
      "_________________________________________________________________\n",
      "batch_normalization_6 (Batch (None, 16, 16, 128)       512       \n",
      "_________________________________________________________________\n",
      "re_lu_6 (ReLU)               (None, 16, 16, 128)       0         \n",
      "_________________________________________________________________\n",
      "conv2d_7 (Conv2D)            (None, 16, 16, 128)       245888    \n",
      "_________________________________________________________________\n",
      "batch_normalization_7 (Batch (None, 16, 16, 128)       512       \n",
      "_________________________________________________________________\n",
      "re_lu_7 (ReLU)               (None, 16, 16, 128)       0         \n",
      "_________________________________________________________________\n",
      "max_pooling2d_2 (MaxPooling2 (None, 8, 8, 128)         0         \n",
      "_________________________________________________________________\n",
      "conv2d_8 (Conv2D)            (None, 8, 8, 160)         307360    \n",
      "_________________________________________________________________\n",
      "batch_normalization_8 (Batch (None, 8, 8, 160)         640       \n",
      "_________________________________________________________________\n",
      "re_lu_8 (ReLU)               (None, 8, 8, 160)         0         \n",
      "_________________________________________________________________\n",
      "conv2d_9 (Conv2D)            (None, 8, 8, 160)         384160    \n",
      "_________________________________________________________________\n",
      "batch_normalization_9 (Batch (None, 8, 8, 160)         640       \n",
      "_________________________________________________________________\n",
      "re_lu_9 (ReLU)               (None, 8, 8, 160)         0         \n",
      "_________________________________________________________________\n",
      "max_pooling2d_3 (MaxPooling2 (None, 4, 4, 160)         0         \n",
      "_________________________________________________________________\n",
      "global_average_pooling2d (Gl (None, 160)               0         \n",
      "_________________________________________________________________\n",
      "flatten (Flatten)            (None, 160)               0         \n",
      "_________________________________________________________________\n",
      "dense (Dense)                (None, 50)                8050      \n",
      "_________________________________________________________________\n",
      "dropout (Dropout)            (None, 50)                0         \n",
      "_________________________________________________________________\n",
      "dense_1 (Dense)              (None, 4)                 204       \n",
      "=================================================================\n",
      "Total params: 1,646,174\n",
      "Trainable params: 1,643,998\n",
      "Non-trainable params: 2,176\n",
      "_________________________________________________________________\n"
     ]
    }
   ],
   "source": [
    "new_model = tf.keras.models.load_model('C://StudyNCI//Lectures//Machine Learning 2//OCT_model_colab.h5')\n",
    "\n",
    "# Check its architecture\n",
    "new_model.summary()"
   ]
  },
  {
   "cell_type": "markdown",
   "metadata": {},
   "source": [
    "# Model Training"
   ]
  },
  {
   "cell_type": "code",
   "execution_count": 15,
   "metadata": {
    "scrolled": true
   },
   "outputs": [
    {
     "name": "stdout",
     "output_type": "stream",
     "text": [
      "Epoch 1/5\n",
      "170/846 [=====>........................] - ETA: 0s - loss: 2.2620 - accuracy: 0.18 - ETA: 1:05:39 - loss: 2.3053 - accuracy: 0.218 - ETA: 1:31:27 - loss: 2.0729 - accuracy: 0.260 - ETA: 1:44:07 - loss: 1.9296 - accuracy: 0.265 - ETA: 1:53:14 - loss: 1.8559 - accuracy: 0.256 - ETA: 1:59:42 - loss: 1.7823 - accuracy: 0.260 - ETA: 2:05:44 - loss: 1.7326 - accuracy: 0.263 - ETA: 2:13:01 - loss: 1.6989 - accuracy: 0.265 - ETA: 2:19:14 - loss: 1.6879 - accuracy: 0.260 - ETA: 2:22:04 - loss: 1.6716 - accuracy: 0.256 - ETA: 2:23:21 - loss: 1.6608 - accuracy: 0.255 - ETA: 2:24:43 - loss: 1.6481 - accuracy: 0.260 - ETA: 2:25:48 - loss: 1.6343 - accuracy: 0.262 - ETA: 2:27:28 - loss: 1.6442 - accuracy: 0.261 - ETA: 2:30:00 - loss: 1.6248 - accuracy: 0.262 - ETA: 2:30:22 - loss: 1.6183 - accuracy: 0.265 - ETA: 2:30:41 - loss: 1.6005 - accuracy: 0.273 - ETA: 2:31:17 - loss: 1.6012 - accuracy: 0.276 - ETA: 2:31:39 - loss: 1.5962 - accuracy: 0.273 - ETA: 2:31:58 - loss: 1.5846 - accuracy: 0.282 - ETA: 2:32:24 - loss: 1.5717 - accuracy: 0.285 - ETA: 2:33:05 - loss: 1.5615 - accuracy: 0.294 - ETA: 2:33:33 - loss: 1.5581 - accuracy: 0.294 - ETA: 2:33:52 - loss: 1.5487 - accuracy: 0.298 - ETA: 2:33:44 - loss: 1.5466 - accuracy: 0.296 - ETA: 2:34:12 - loss: 1.5442 - accuracy: 0.295 - ETA: 2:34:16 - loss: 1.5449 - accuracy: 0.294 - ETA: 2:34:09 - loss: 1.5386 - accuracy: 0.294 - ETA: 2:34:05 - loss: 1.5439 - accuracy: 0.295 - ETA: 2:34:09 - loss: 1.5379 - accuracy: 0.293 - ETA: 2:34:29 - loss: 1.5335 - accuracy: 0.294 - ETA: 2:35:00 - loss: 1.5307 - accuracy: 0.294 - ETA: 2:35:14 - loss: 1.5264 - accuracy: 0.297 - ETA: 2:34:55 - loss: 1.5219 - accuracy: 0.298 - ETA: 2:34:40 - loss: 1.5124 - accuracy: 0.303 - ETA: 2:34:33 - loss: 1.5093 - accuracy: 0.301 - ETA: 2:34:21 - loss: 1.5029 - accuracy: 0.304 - ETA: 2:34:03 - loss: 1.4983 - accuracy: 0.305 - ETA: 2:33:48 - loss: 1.4949 - accuracy: 0.308 - ETA: 2:33:30 - loss: 1.4921 - accuracy: 0.310 - ETA: 2:33:21 - loss: 1.4889 - accuracy: 0.309 - ETA: 2:33:16 - loss: 1.4872 - accuracy: 0.308 - ETA: 2:32:57 - loss: 1.4841 - accuracy: 0.310 - ETA: 2:32:38 - loss: 1.4799 - accuracy: 0.311 - ETA: 2:32:19 - loss: 1.4752 - accuracy: 0.313 - ETA: 2:32:04 - loss: 1.4723 - accuracy: 0.317 - ETA: 2:31:49 - loss: 1.4679 - accuracy: 0.317 - ETA: 2:31:37 - loss: 1.4639 - accuracy: 0.319 - ETA: 2:31:17 - loss: 1.4619 - accuracy: 0.320 - ETA: 2:30:58 - loss: 1.4564 - accuracy: 0.323 - ETA: 2:30:43 - loss: 1.4511 - accuracy: 0.324 - ETA: 2:30:25 - loss: 1.4477 - accuracy: 0.325 - ETA: 2:30:15 - loss: 1.4454 - accuracy: 0.327 - ETA: 2:30:01 - loss: 1.4414 - accuracy: 0.330 - ETA: 2:29:43 - loss: 1.4361 - accuracy: 0.333 - ETA: 2:29:24 - loss: 1.4308 - accuracy: 0.335 - ETA: 2:29:11 - loss: 1.4291 - accuracy: 0.337 - ETA: 2:28:56 - loss: 1.4246 - accuracy: 0.337 - ETA: 2:28:39 - loss: 1.4218 - accuracy: 0.340 - ETA: 2:28:27 - loss: 1.4158 - accuracy: 0.342 - ETA: 2:28:09 - loss: 1.4148 - accuracy: 0.341 - ETA: 2:27:54 - loss: 1.4100 - accuracy: 0.342 - ETA: 2:27:42 - loss: 1.4042 - accuracy: 0.347 - ETA: 2:27:30 - loss: 1.4008 - accuracy: 0.348 - ETA: 2:27:19 - loss: 1.3969 - accuracy: 0.351 - ETA: 2:27:13 - loss: 1.3919 - accuracy: 0.354 - ETA: 2:27:00 - loss: 1.3895 - accuracy: 0.356 - ETA: 2:26:46 - loss: 1.3840 - accuracy: 0.360 - ETA: 2:26:34 - loss: 1.3772 - accuracy: 0.366 - ETA: 2:26:19 - loss: 1.3735 - accuracy: 0.369 - ETA: 2:26:06 - loss: 1.3707 - accuracy: 0.369 - ETA: 2:25:54 - loss: 1.3648 - accuracy: 0.373 - ETA: 2:25:39 - loss: 1.3623 - accuracy: 0.375 - ETA: 2:25:24 - loss: 1.3607 - accuracy: 0.376 - ETA: 2:25:14 - loss: 1.3567 - accuracy: 0.378 - ETA: 2:24:59 - loss: 1.3531 - accuracy: 0.379 - ETA: 2:24:50 - loss: 1.3498 - accuracy: 0.382 - ETA: 2:24:40 - loss: 1.3464 - accuracy: 0.384 - ETA: 2:24:30 - loss: 1.3410 - accuracy: 0.386 - ETA: 2:24:19 - loss: 1.3378 - accuracy: 0.387 - ETA: 2:24:09 - loss: 1.3337 - accuracy: 0.391 - ETA: 2:23:58 - loss: 1.3280 - accuracy: 0.394 - ETA: 2:23:47 - loss: 1.3289 - accuracy: 0.396 - ETA: 2:23:35 - loss: 1.3265 - accuracy: 0.398 - ETA: 2:23:20 - loss: 1.3273 - accuracy: 0.398 - ETA: 2:23:06 - loss: 1.3259 - accuracy: 0.399 - ETA: 2:22:54 - loss: 1.3242 - accuracy: 0.400 - ETA: 2:22:39 - loss: 1.3217 - accuracy: 0.402 - ETA: 2:22:28 - loss: 1.3180 - accuracy: 0.405 - ETA: 2:22:19 - loss: 1.3119 - accuracy: 0.408 - ETA: 2:22:04 - loss: 1.3091 - accuracy: 0.410 - ETA: 2:21:50 - loss: 1.3070 - accuracy: 0.412 - ETA: 2:21:38 - loss: 1.3063 - accuracy: 0.412 - ETA: 2:21:24 - loss: 1.3051 - accuracy: 0.413 - ETA: 2:21:13 - loss: 1.3027 - accuracy: 0.413 - ETA: 2:21:04 - loss: 1.3002 - accuracy: 0.414 - ETA: 2:20:50 - loss: 1.2974 - accuracy: 0.414 - ETA: 2:20:36 - loss: 1.2943 - accuracy: 0.416 - ETA: 2:20:24 - loss: 1.2916 - accuracy: 0.417 - ETA: 2:20:12 - loss: 1.2890 - accuracy: 0.419 - ETA: 2:20:00 - loss: 1.2861 - accuracy: 0.421 - ETA: 2:19:47 - loss: 1.2853 - accuracy: 0.421 - ETA: 2:19:33 - loss: 1.2832 - accuracy: 0.421 - ETA: 2:19:19 - loss: 1.2775 - accuracy: 0.425 - ETA: 2:19:07 - loss: 1.2755 - accuracy: 0.426 - ETA: 2:18:54 - loss: 1.2726 - accuracy: 0.428 - ETA: 2:18:43 - loss: 1.2709 - accuracy: 0.428 - ETA: 2:18:30 - loss: 1.2694 - accuracy: 0.429 - ETA: 2:18:16 - loss: 1.2669 - accuracy: 0.430 - ETA: 2:18:03 - loss: 1.2647 - accuracy: 0.431 - ETA: 2:17:51 - loss: 1.2615 - accuracy: 0.432 - ETA: 2:17:39 - loss: 1.2596 - accuracy: 0.432 - ETA: 2:17:26 - loss: 1.2587 - accuracy: 0.433 - ETA: 2:17:14 - loss: 1.2577 - accuracy: 0.434 - ETA: 2:17:00 - loss: 1.2551 - accuracy: 0.435 - ETA: 2:16:47 - loss: 1.2530 - accuracy: 0.436 - ETA: 2:16:34 - loss: 1.2515 - accuracy: 0.437 - ETA: 2:16:22 - loss: 1.2492 - accuracy: 0.439 - ETA: 2:16:09 - loss: 1.2523 - accuracy: 0.437 - ETA: 2:15:58 - loss: 1.2507 - accuracy: 0.439 - ETA: 2:15:43 - loss: 1.2482 - accuracy: 0.439 - ETA: 2:15:31 - loss: 1.2467 - accuracy: 0.441 - ETA: 2:15:21 - loss: 1.2433 - accuracy: 0.443 - ETA: 2:15:10 - loss: 1.2402 - accuracy: 0.444 - ETA: 2:14:57 - loss: 1.2370 - accuracy: 0.446 - ETA: 2:14:44 - loss: 1.2351 - accuracy: 0.446 - ETA: 2:14:31 - loss: 1.2334 - accuracy: 0.447 - ETA: 2:14:18 - loss: 1.2315 - accuracy: 0.449 - ETA: 2:14:06 - loss: 1.2313 - accuracy: 0.449 - ETA: 2:13:55 - loss: 1.2303 - accuracy: 0.450 - ETA: 2:13:47 - loss: 1.2291 - accuracy: 0.451 - ETA: 2:13:37 - loss: 1.2300 - accuracy: 0.451 - ETA: 2:13:25 - loss: 1.2283 - accuracy: 0.451 - ETA: 2:13:13 - loss: 1.2270 - accuracy: 0.452 - ETA: 2:13:01 - loss: 1.2247 - accuracy: 0.453 - ETA: 2:12:49 - loss: 1.2231 - accuracy: 0.454 - ETA: 2:12:37 - loss: 1.2204 - accuracy: 0.455 - ETA: 2:12:25 - loss: 1.2180 - accuracy: 0.456 - ETA: 2:12:13 - loss: 1.2159 - accuracy: 0.458 - ETA: 2:12:00 - loss: 1.2133 - accuracy: 0.460 - ETA: 2:11:48 - loss: 1.2118 - accuracy: 0.461 - ETA: 2:11:36 - loss: 1.2095 - accuracy: 0.462 - ETA: 2:11:24 - loss: 1.2074 - accuracy: 0.463 - ETA: 2:11:13 - loss: 1.2039 - accuracy: 0.465 - ETA: 2:11:00 - loss: 1.2017 - accuracy: 0.466 - ETA: 2:10:48 - loss: 1.1982 - accuracy: 0.468 - ETA: 2:10:36 - loss: 1.1953 - accuracy: 0.470 - ETA: 2:10:24 - loss: 1.1921 - accuracy: 0.471 - ETA: 2:10:12 - loss: 1.1910 - accuracy: 0.472 - ETA: 2:10:01 - loss: 1.1868 - accuracy: 0.474 - ETA: 2:09:48 - loss: 1.1833 - accuracy: 0.476 - ETA: 2:09:36 - loss: 1.1815 - accuracy: 0.477 - ETA: 2:09:30 - loss: 1.1800 - accuracy: 0.478 - ETA: 2:09:24 - loss: 1.1788 - accuracy: 0.479 - ETA: 2:09:13 - loss: 1.1768 - accuracy: 0.480 - ETA: 2:09:04 - loss: 1.1737 - accuracy: 0.482 - ETA: 2:09:00 - loss: 1.1708 - accuracy: 0.483 - ETA: 2:08:49 - loss: 1.1679 - accuracy: 0.485 - ETA: 2:08:39 - loss: 1.1658 - accuracy: 0.485 - ETA: 2:08:28 - loss: 1.1640 - accuracy: 0.486 - ETA: 2:08:16 - loss: 1.1615 - accuracy: 0.487 - ETA: 2:08:05 - loss: 1.1594 - accuracy: 0.488 - ETA: 2:07:53 - loss: 1.1564 - accuracy: 0.490 - ETA: 2:07:42 - loss: 1.1538 - accuracy: 0.491 - ETA: 2:07:33 - loss: 1.1512 - accuracy: 0.492 - ETA: 2:07:22 - loss: 1.1483 - accuracy: 0.494 - ETA: 2:07:10 - loss: 1.1475 - accuracy: 0.494 - ETA: 2:07:00 - loss: 1.1458 - accuracy: 0.495 - ETA: 2:06:49 - loss: 1.1447 - accuracy: 0.496 - ETA: 2:06:38 - loss: 1.1417 - accuracy: 0.498340/846 [===========>..................] - ETA: 2:06:27 - loss: 1.1405 - accuracy: 0.498 - ETA: 2:06:15 - loss: 1.1395 - accuracy: 0.499 - ETA: 2:06:04 - loss: 1.1385 - accuracy: 0.499 - ETA: 2:05:53 - loss: 1.1354 - accuracy: 0.500 - ETA: 2:05:44 - loss: 1.1328 - accuracy: 0.502 - ETA: 2:05:34 - loss: 1.1296 - accuracy: 0.503 - ETA: 2:05:26 - loss: 1.1281 - accuracy: 0.504 - ETA: 2:05:16 - loss: 1.1267 - accuracy: 0.505 - ETA: 2:05:04 - loss: 1.1248 - accuracy: 0.506 - ETA: 2:04:52 - loss: 1.1233 - accuracy: 0.507 - ETA: 2:04:39 - loss: 1.1213 - accuracy: 0.508 - ETA: 2:04:27 - loss: 1.1202 - accuracy: 0.509 - ETA: 2:04:16 - loss: 1.1182 - accuracy: 0.510 - ETA: 2:04:05 - loss: 1.1165 - accuracy: 0.510 - ETA: 2:03:52 - loss: 1.1158 - accuracy: 0.511 - ETA: 2:03:40 - loss: 1.1143 - accuracy: 0.511 - ETA: 2:03:28 - loss: 1.1130 - accuracy: 0.512 - ETA: 2:03:16 - loss: 1.1115 - accuracy: 0.513 - ETA: 2:03:05 - loss: 1.1092 - accuracy: 0.513 - ETA: 2:02:54 - loss: 1.1084 - accuracy: 0.514 - ETA: 2:02:43 - loss: 1.1074 - accuracy: 0.514 - ETA: 2:02:31 - loss: 1.1057 - accuracy: 0.515 - ETA: 2:02:19 - loss: 1.1028 - accuracy: 0.516 - ETA: 2:02:07 - loss: 1.1009 - accuracy: 0.518 - ETA: 2:01:58 - loss: 1.0983 - accuracy: 0.519 - ETA: 2:01:46 - loss: 1.0981 - accuracy: 0.519 - ETA: 2:01:34 - loss: 1.0974 - accuracy: 0.520 - ETA: 2:01:22 - loss: 1.0952 - accuracy: 0.521 - ETA: 2:01:09 - loss: 1.0930 - accuracy: 0.521 - ETA: 2:00:57 - loss: 1.0913 - accuracy: 0.523 - ETA: 2:00:45 - loss: 1.0896 - accuracy: 0.523 - ETA: 2:00:33 - loss: 1.0876 - accuracy: 0.524 - ETA: 2:00:21 - loss: 1.0864 - accuracy: 0.526 - ETA: 2:00:09 - loss: 1.0837 - accuracy: 0.527 - ETA: 1:59:57 - loss: 1.0817 - accuracy: 0.527 - ETA: 1:59:45 - loss: 1.0797 - accuracy: 0.528 - ETA: 1:59:33 - loss: 1.0773 - accuracy: 0.529 - ETA: 1:59:21 - loss: 1.0766 - accuracy: 0.529 - ETA: 1:59:08 - loss: 1.0747 - accuracy: 0.531 - ETA: 1:58:56 - loss: 1.0728 - accuracy: 0.532 - ETA: 1:58:43 - loss: 1.0707 - accuracy: 0.533 - ETA: 1:58:31 - loss: 1.0702 - accuracy: 0.533 - ETA: 1:58:20 - loss: 1.0690 - accuracy: 0.534 - ETA: 1:58:08 - loss: 1.0667 - accuracy: 0.535 - ETA: 1:57:55 - loss: 1.0645 - accuracy: 0.537 - ETA: 1:57:43 - loss: 1.0627 - accuracy: 0.538 - ETA: 1:57:31 - loss: 1.0603 - accuracy: 0.539 - ETA: 1:57:19 - loss: 1.0588 - accuracy: 0.539 - ETA: 1:57:08 - loss: 1.0573 - accuracy: 0.540 - ETA: 1:56:56 - loss: 1.0573 - accuracy: 0.540 - ETA: 1:56:43 - loss: 1.0548 - accuracy: 0.541 - ETA: 1:56:31 - loss: 1.0530 - accuracy: 0.542 - ETA: 1:56:18 - loss: 1.0503 - accuracy: 0.544 - ETA: 1:56:06 - loss: 1.0484 - accuracy: 0.545 - ETA: 1:55:55 - loss: 1.0470 - accuracy: 0.546 - ETA: 1:55:43 - loss: 1.0457 - accuracy: 0.546 - ETA: 1:55:31 - loss: 1.0457 - accuracy: 0.546 - ETA: 1:55:19 - loss: 1.0448 - accuracy: 0.547 - ETA: 1:55:06 - loss: 1.0441 - accuracy: 0.547 - ETA: 1:54:54 - loss: 1.0437 - accuracy: 0.548 - ETA: 1:54:44 - loss: 1.0418 - accuracy: 0.549 - ETA: 1:54:31 - loss: 1.0400 - accuracy: 0.550 - ETA: 1:54:19 - loss: 1.0384 - accuracy: 0.551 - ETA: 1:54:07 - loss: 1.0369 - accuracy: 0.552 - ETA: 1:53:55 - loss: 1.0354 - accuracy: 0.553 - ETA: 1:53:43 - loss: 1.0346 - accuracy: 0.552 - ETA: 1:53:31 - loss: 1.0325 - accuracy: 0.553 - ETA: 1:53:20 - loss: 1.0316 - accuracy: 0.554 - ETA: 1:53:08 - loss: 1.0292 - accuracy: 0.555 - ETA: 1:52:56 - loss: 1.0276 - accuracy: 0.556 - ETA: 1:52:44 - loss: 1.0262 - accuracy: 0.557 - ETA: 1:52:32 - loss: 1.0242 - accuracy: 0.558 - ETA: 1:52:22 - loss: 1.0226 - accuracy: 0.559 - ETA: 1:52:10 - loss: 1.0212 - accuracy: 0.559 - ETA: 1:51:59 - loss: 1.0192 - accuracy: 0.560 - ETA: 1:51:48 - loss: 1.0177 - accuracy: 0.561 - ETA: 1:51:36 - loss: 1.0164 - accuracy: 0.562 - ETA: 1:51:24 - loss: 1.0157 - accuracy: 0.562 - ETA: 1:51:12 - loss: 1.0138 - accuracy: 0.564 - ETA: 1:51:01 - loss: 1.0115 - accuracy: 0.565 - ETA: 1:50:49 - loss: 1.0096 - accuracy: 0.566 - ETA: 1:50:38 - loss: 1.0084 - accuracy: 0.566 - ETA: 1:50:26 - loss: 1.0066 - accuracy: 0.567 - ETA: 1:50:14 - loss: 1.0052 - accuracy: 0.568 - ETA: 1:50:03 - loss: 1.0053 - accuracy: 0.568 - ETA: 1:49:51 - loss: 1.0056 - accuracy: 0.568 - ETA: 1:49:40 - loss: 1.0035 - accuracy: 0.569 - ETA: 1:49:30 - loss: 1.0027 - accuracy: 0.570 - ETA: 1:49:19 - loss: 1.0008 - accuracy: 0.570 - ETA: 1:49:08 - loss: 1.0008 - accuracy: 0.571 - ETA: 1:48:57 - loss: 1.0003 - accuracy: 0.571 - ETA: 1:48:45 - loss: 0.9993 - accuracy: 0.571 - ETA: 1:48:34 - loss: 0.9982 - accuracy: 0.572 - ETA: 1:48:22 - loss: 0.9971 - accuracy: 0.573 - ETA: 1:48:10 - loss: 0.9959 - accuracy: 0.573 - ETA: 1:47:59 - loss: 0.9949 - accuracy: 0.574 - ETA: 1:47:47 - loss: 0.9929 - accuracy: 0.575 - ETA: 1:47:36 - loss: 0.9925 - accuracy: 0.575 - ETA: 1:47:24 - loss: 0.9913 - accuracy: 0.576 - ETA: 1:47:13 - loss: 0.9898 - accuracy: 0.577 - ETA: 1:47:01 - loss: 0.9892 - accuracy: 0.577 - ETA: 1:46:49 - loss: 0.9876 - accuracy: 0.578 - ETA: 1:46:39 - loss: 0.9862 - accuracy: 0.578 - ETA: 1:46:28 - loss: 0.9848 - accuracy: 0.579 - ETA: 1:46:16 - loss: 0.9830 - accuracy: 0.580 - ETA: 1:46:04 - loss: 0.9815 - accuracy: 0.581 - ETA: 1:45:53 - loss: 0.9798 - accuracy: 0.582 - ETA: 1:45:42 - loss: 0.9789 - accuracy: 0.582 - ETA: 1:45:31 - loss: 0.9770 - accuracy: 0.583 - ETA: 1:45:19 - loss: 0.9757 - accuracy: 0.584 - ETA: 1:45:07 - loss: 0.9742 - accuracy: 0.584 - ETA: 1:44:56 - loss: 0.9727 - accuracy: 0.585 - ETA: 1:44:45 - loss: 0.9707 - accuracy: 0.586 - ETA: 1:44:34 - loss: 0.9695 - accuracy: 0.587 - ETA: 1:44:23 - loss: 0.9678 - accuracy: 0.588 - ETA: 1:44:12 - loss: 0.9660 - accuracy: 0.589 - ETA: 1:44:01 - loss: 0.9654 - accuracy: 0.589 - ETA: 1:43:49 - loss: 0.9653 - accuracy: 0.589 - ETA: 1:43:38 - loss: 0.9647 - accuracy: 0.589 - ETA: 1:43:26 - loss: 0.9639 - accuracy: 0.590 - ETA: 1:43:15 - loss: 0.9632 - accuracy: 0.590 - ETA: 1:43:04 - loss: 0.9619 - accuracy: 0.591 - ETA: 1:42:52 - loss: 0.9604 - accuracy: 0.591 - ETA: 1:42:41 - loss: 0.9600 - accuracy: 0.591 - ETA: 1:42:29 - loss: 0.9587 - accuracy: 0.592 - ETA: 1:42:18 - loss: 0.9579 - accuracy: 0.593 - ETA: 1:42:07 - loss: 0.9580 - accuracy: 0.593 - ETA: 1:41:55 - loss: 0.9580 - accuracy: 0.593 - ETA: 1:41:43 - loss: 0.9565 - accuracy: 0.593 - ETA: 1:41:32 - loss: 0.9557 - accuracy: 0.594 - ETA: 1:41:21 - loss: 0.9558 - accuracy: 0.594 - ETA: 1:41:10 - loss: 0.9541 - accuracy: 0.594 - ETA: 1:40:59 - loss: 0.9523 - accuracy: 0.595 - ETA: 1:40:48 - loss: 0.9511 - accuracy: 0.596 - ETA: 1:40:36 - loss: 0.9507 - accuracy: 0.596 - ETA: 1:40:25 - loss: 0.9494 - accuracy: 0.597 - ETA: 1:40:14 - loss: 0.9488 - accuracy: 0.597 - ETA: 1:40:02 - loss: 0.9484 - accuracy: 0.598 - ETA: 1:39:52 - loss: 0.9469 - accuracy: 0.598 - ETA: 1:39:40 - loss: 0.9467 - accuracy: 0.598 - ETA: 1:39:28 - loss: 0.9449 - accuracy: 0.599 - ETA: 1:39:17 - loss: 0.9435 - accuracy: 0.600 - ETA: 1:39:06 - loss: 0.9426 - accuracy: 0.600 - ETA: 1:38:55 - loss: 0.9414 - accuracy: 0.601 - ETA: 1:38:43 - loss: 0.9404 - accuracy: 0.601 - ETA: 1:38:32 - loss: 0.9391 - accuracy: 0.602 - ETA: 1:38:21 - loss: 0.9379 - accuracy: 0.603 - ETA: 1:38:09 - loss: 0.9366 - accuracy: 0.604 - ETA: 1:37:57 - loss: 0.9360 - accuracy: 0.604 - ETA: 1:37:46 - loss: 0.9364 - accuracy: 0.604 - ETA: 1:37:35 - loss: 0.9351 - accuracy: 0.604 - ETA: 1:37:23 - loss: 0.9336 - accuracy: 0.605 - ETA: 1:37:12 - loss: 0.9320 - accuracy: 0.606 - ETA: 1:37:00 - loss: 0.9309 - accuracy: 0.606 - ETA: 1:36:48 - loss: 0.9296 - accuracy: 0.607 - ETA: 1:36:37 - loss: 0.9279 - accuracy: 0.608 - ETA: 1:36:26 - loss: 0.9265 - accuracy: 0.609 - ETA: 1:36:14 - loss: 0.9253 - accuracy: 0.609 - ETA: 1:36:02 - loss: 0.9238 - accuracy: 0.610 - ETA: 1:35:51 - loss: 0.9222 - accuracy: 0.611 - ETA: 1:35:39 - loss: 0.9217 - accuracy: 0.612 - ETA: 1:35:28 - loss: 0.9202 - accuracy: 0.612 - ETA: 1:35:17 - loss: 0.9188 - accuracy: 0.613 - ETA: 1:35:06 - loss: 0.9177 - accuracy: 0.613 - ETA: 1:34:55 - loss: 0.9159 - accuracy: 0.614 - ETA: 1:34:44 - loss: 0.9149 - accuracy: 0.615 - ETA: 1:34:32 - loss: 0.9150 - accuracy: 0.615 - ETA: 1:34:21 - loss: 0.9143 - accuracy: 0.615 - ETA: 1:34:10 - loss: 0.9131 - accuracy: 0.616 - ETA: 1:33:58 - loss: 0.9124 - accuracy: 0.6165510/846 [=================>............] - ETA: 1:33:47 - loss: 0.9114 - accuracy: 0.617 - ETA: 1:33:35 - loss: 0.9102 - accuracy: 0.617 - ETA: 1:33:24 - loss: 0.9095 - accuracy: 0.618 - ETA: 1:33:13 - loss: 0.9085 - accuracy: 0.618 - ETA: 1:33:01 - loss: 0.9070 - accuracy: 0.619 - ETA: 1:32:50 - loss: 0.9057 - accuracy: 0.619 - ETA: 1:32:38 - loss: 0.9047 - accuracy: 0.620 - ETA: 1:32:27 - loss: 0.9043 - accuracy: 0.620 - ETA: 1:32:15 - loss: 0.9037 - accuracy: 0.621 - ETA: 1:32:04 - loss: 0.9034 - accuracy: 0.621 - ETA: 1:31:53 - loss: 0.9024 - accuracy: 0.621 - ETA: 1:31:41 - loss: 0.9017 - accuracy: 0.622 - ETA: 1:31:30 - loss: 0.9010 - accuracy: 0.622 - ETA: 1:31:18 - loss: 0.8997 - accuracy: 0.623 - ETA: 1:31:07 - loss: 0.8983 - accuracy: 0.624 - ETA: 1:30:56 - loss: 0.8986 - accuracy: 0.624 - ETA: 1:30:44 - loss: 0.8973 - accuracy: 0.624 - ETA: 1:30:33 - loss: 0.8957 - accuracy: 0.625 - ETA: 1:30:21 - loss: 0.8952 - accuracy: 0.625 - ETA: 1:30:10 - loss: 0.8939 - accuracy: 0.626 - ETA: 1:29:58 - loss: 0.8934 - accuracy: 0.626 - ETA: 1:29:47 - loss: 0.8923 - accuracy: 0.627 - ETA: 1:29:36 - loss: 0.8915 - accuracy: 0.627 - ETA: 1:29:24 - loss: 0.8904 - accuracy: 0.628 - ETA: 1:29:13 - loss: 0.8890 - accuracy: 0.628 - ETA: 1:29:02 - loss: 0.8881 - accuracy: 0.629 - ETA: 1:28:50 - loss: 0.8872 - accuracy: 0.630 - ETA: 1:28:39 - loss: 0.8863 - accuracy: 0.630 - ETA: 1:28:28 - loss: 0.8856 - accuracy: 0.630 - ETA: 1:28:17 - loss: 0.8849 - accuracy: 0.631 - ETA: 1:28:06 - loss: 0.8840 - accuracy: 0.631 - ETA: 1:27:54 - loss: 0.8832 - accuracy: 0.632 - ETA: 1:27:43 - loss: 0.8822 - accuracy: 0.632 - ETA: 1:27:32 - loss: 0.8818 - accuracy: 0.633 - ETA: 1:27:21 - loss: 0.8810 - accuracy: 0.633 - ETA: 1:27:09 - loss: 0.8797 - accuracy: 0.634 - ETA: 1:26:58 - loss: 0.8787 - accuracy: 0.634 - ETA: 1:26:46 - loss: 0.8774 - accuracy: 0.635 - ETA: 1:26:35 - loss: 0.8766 - accuracy: 0.635 - ETA: 1:26:24 - loss: 0.8755 - accuracy: 0.635 - ETA: 1:26:12 - loss: 0.8743 - accuracy: 0.636 - ETA: 1:26:01 - loss: 0.8729 - accuracy: 0.637 - ETA: 1:25:50 - loss: 0.8717 - accuracy: 0.637 - ETA: 1:25:38 - loss: 0.8705 - accuracy: 0.638 - ETA: 1:25:27 - loss: 0.8696 - accuracy: 0.638 - ETA: 1:25:15 - loss: 0.8685 - accuracy: 0.638 - ETA: 1:25:04 - loss: 0.8677 - accuracy: 0.639 - ETA: 1:24:53 - loss: 0.8673 - accuracy: 0.639 - ETA: 1:24:41 - loss: 0.8664 - accuracy: 0.639 - ETA: 1:24:30 - loss: 0.8652 - accuracy: 0.640 - ETA: 1:24:19 - loss: 0.8647 - accuracy: 0.640 - ETA: 1:24:08 - loss: 0.8637 - accuracy: 0.641 - ETA: 1:23:57 - loss: 0.8624 - accuracy: 0.641 - ETA: 1:23:46 - loss: 0.8621 - accuracy: 0.642 - ETA: 1:23:34 - loss: 0.8613 - accuracy: 0.642 - ETA: 1:23:23 - loss: 0.8603 - accuracy: 0.642 - ETA: 1:23:12 - loss: 0.8596 - accuracy: 0.643 - ETA: 1:23:00 - loss: 0.8590 - accuracy: 0.643 - ETA: 1:22:49 - loss: 0.8586 - accuracy: 0.643 - ETA: 1:22:38 - loss: 0.8582 - accuracy: 0.643 - ETA: 1:22:26 - loss: 0.8577 - accuracy: 0.644 - ETA: 1:22:15 - loss: 0.8573 - accuracy: 0.644 - ETA: 1:22:04 - loss: 0.8560 - accuracy: 0.645 - ETA: 1:21:54 - loss: 0.8545 - accuracy: 0.646 - ETA: 1:21:43 - loss: 0.8541 - accuracy: 0.646 - ETA: 1:21:32 - loss: 0.8530 - accuracy: 0.646 - ETA: 1:21:21 - loss: 0.8527 - accuracy: 0.647 - ETA: 1:21:12 - loss: 0.8516 - accuracy: 0.647 - ETA: 1:21:01 - loss: 0.8510 - accuracy: 0.647 - ETA: 1:20:51 - loss: 0.8503 - accuracy: 0.648 - ETA: 1:20:41 - loss: 0.8497 - accuracy: 0.648 - ETA: 1:20:30 - loss: 0.8488 - accuracy: 0.648 - ETA: 1:20:19 - loss: 0.8476 - accuracy: 0.649 - ETA: 1:20:09 - loss: 0.8463 - accuracy: 0.649 - ETA: 1:20:00 - loss: 0.8450 - accuracy: 0.650 - ETA: 1:19:50 - loss: 0.8441 - accuracy: 0.651 - ETA: 1:19:41 - loss: 0.8430 - accuracy: 0.651 - ETA: 1:19:30 - loss: 0.8429 - accuracy: 0.651 - ETA: 1:19:20 - loss: 0.8420 - accuracy: 0.651 - ETA: 1:19:11 - loss: 0.8409 - accuracy: 0.652 - ETA: 1:19:01 - loss: 0.8400 - accuracy: 0.652 - ETA: 1:18:51 - loss: 0.8386 - accuracy: 0.653 - ETA: 1:18:40 - loss: 0.8379 - accuracy: 0.654 - ETA: 1:18:30 - loss: 0.8367 - accuracy: 0.654 - ETA: 1:18:20 - loss: 0.8360 - accuracy: 0.654 - ETA: 1:18:10 - loss: 0.8350 - accuracy: 0.655 - ETA: 1:18:01 - loss: 0.8344 - accuracy: 0.655 - ETA: 1:17:50 - loss: 0.8335 - accuracy: 0.656 - ETA: 1:17:39 - loss: 0.8326 - accuracy: 0.656 - ETA: 1:17:28 - loss: 0.8319 - accuracy: 0.656 - ETA: 1:17:17 - loss: 0.8308 - accuracy: 0.657 - ETA: 1:17:07 - loss: 0.8300 - accuracy: 0.657 - ETA: 1:16:55 - loss: 0.8297 - accuracy: 0.657 - ETA: 1:16:44 - loss: 0.8291 - accuracy: 0.657 - ETA: 1:16:34 - loss: 0.8284 - accuracy: 0.658 - ETA: 1:16:24 - loss: 0.8278 - accuracy: 0.658 - ETA: 1:16:13 - loss: 0.8275 - accuracy: 0.658 - ETA: 1:16:03 - loss: 0.8262 - accuracy: 0.659 - ETA: 1:15:52 - loss: 0.8253 - accuracy: 0.659 - ETA: 1:15:42 - loss: 0.8250 - accuracy: 0.659 - ETA: 1:15:31 - loss: 0.8241 - accuracy: 0.660 - ETA: 1:15:20 - loss: 0.8235 - accuracy: 0.660 - ETA: 1:15:09 - loss: 0.8227 - accuracy: 0.660 - ETA: 1:14:59 - loss: 0.8220 - accuracy: 0.660 - ETA: 1:14:49 - loss: 0.8213 - accuracy: 0.661 - ETA: 1:14:39 - loss: 0.8208 - accuracy: 0.661 - ETA: 1:14:29 - loss: 0.8205 - accuracy: 0.661 - ETA: 1:14:20 - loss: 0.8204 - accuracy: 0.661 - ETA: 1:14:11 - loss: 0.8197 - accuracy: 0.661 - ETA: 1:14:01 - loss: 0.8187 - accuracy: 0.662 - ETA: 1:13:52 - loss: 0.8178 - accuracy: 0.662 - ETA: 1:13:43 - loss: 0.8172 - accuracy: 0.662 - ETA: 1:13:33 - loss: 0.8167 - accuracy: 0.663 - ETA: 1:13:23 - loss: 0.8163 - accuracy: 0.663 - ETA: 1:13:13 - loss: 0.8152 - accuracy: 0.663 - ETA: 1:13:03 - loss: 0.8147 - accuracy: 0.664 - ETA: 1:12:53 - loss: 0.8140 - accuracy: 0.664 - ETA: 1:12:43 - loss: 0.8130 - accuracy: 0.664 - ETA: 1:12:33 - loss: 0.8124 - accuracy: 0.665 - ETA: 1:12:24 - loss: 0.8120 - accuracy: 0.665 - ETA: 1:12:14 - loss: 0.8113 - accuracy: 0.665 - ETA: 1:12:04 - loss: 0.8102 - accuracy: 0.666 - ETA: 1:11:53 - loss: 0.8095 - accuracy: 0.666 - ETA: 1:11:42 - loss: 0.8085 - accuracy: 0.667 - ETA: 1:11:32 - loss: 0.8080 - accuracy: 0.667 - ETA: 1:11:21 - loss: 0.8073 - accuracy: 0.668 - ETA: 1:11:10 - loss: 0.8066 - accuracy: 0.668 - ETA: 1:10:59 - loss: 0.8058 - accuracy: 0.668 - ETA: 1:10:49 - loss: 0.8047 - accuracy: 0.669 - ETA: 1:10:38 - loss: 0.8040 - accuracy: 0.669 - ETA: 1:10:26 - loss: 0.8033 - accuracy: 0.669 - ETA: 1:10:14 - loss: 0.8027 - accuracy: 0.669 - ETA: 1:10:03 - loss: 0.8021 - accuracy: 0.670 - ETA: 1:09:52 - loss: 0.8019 - accuracy: 0.670 - ETA: 1:09:40 - loss: 0.8010 - accuracy: 0.670 - ETA: 1:09:28 - loss: 0.8002 - accuracy: 0.671 - ETA: 1:09:17 - loss: 0.8000 - accuracy: 0.671 - ETA: 1:09:05 - loss: 0.7994 - accuracy: 0.671 - ETA: 1:08:54 - loss: 0.7986 - accuracy: 0.671 - ETA: 1:08:44 - loss: 0.7979 - accuracy: 0.672 - ETA: 1:08:34 - loss: 0.7967 - accuracy: 0.672 - ETA: 1:08:23 - loss: 0.7964 - accuracy: 0.672 - ETA: 1:08:12 - loss: 0.7954 - accuracy: 0.673 - ETA: 1:08:01 - loss: 0.7952 - accuracy: 0.673 - ETA: 1:07:50 - loss: 0.7946 - accuracy: 0.673 - ETA: 1:07:39 - loss: 0.7939 - accuracy: 0.674 - ETA: 1:07:28 - loss: 0.7937 - accuracy: 0.674 - ETA: 1:07:16 - loss: 0.7926 - accuracy: 0.674 - ETA: 1:07:05 - loss: 0.7919 - accuracy: 0.675 - ETA: 1:06:53 - loss: 0.7913 - accuracy: 0.675 - ETA: 1:06:42 - loss: 0.7905 - accuracy: 0.675 - ETA: 1:06:31 - loss: 0.7903 - accuracy: 0.676 - ETA: 1:06:20 - loss: 0.7900 - accuracy: 0.676 - ETA: 1:06:08 - loss: 0.7895 - accuracy: 0.676 - ETA: 1:05:57 - loss: 0.7895 - accuracy: 0.676 - ETA: 1:05:45 - loss: 0.7889 - accuracy: 0.677 - ETA: 1:05:34 - loss: 0.7885 - accuracy: 0.677 - ETA: 1:05:22 - loss: 0.7879 - accuracy: 0.677 - ETA: 1:05:11 - loss: 0.7875 - accuracy: 0.677 - ETA: 1:05:00 - loss: 0.7872 - accuracy: 0.677 - ETA: 1:04:48 - loss: 0.7869 - accuracy: 0.678 - ETA: 1:04:37 - loss: 0.7863 - accuracy: 0.678 - ETA: 1:04:25 - loss: 0.7858 - accuracy: 0.678 - ETA: 1:04:14 - loss: 0.7852 - accuracy: 0.678 - ETA: 1:04:03 - loss: 0.7850 - accuracy: 0.678 - ETA: 1:03:52 - loss: 0.7847 - accuracy: 0.678 - ETA: 1:03:40 - loss: 0.7840 - accuracy: 0.679 - ETA: 1:03:29 - loss: 0.7831 - accuracy: 0.679 - ETA: 1:03:18 - loss: 0.7827 - accuracy: 0.679 - ETA: 1:03:07 - loss: 0.7828 - accuracy: 0.6796687/846 [=======================>......] - ETA: 1:02:55 - loss: 0.7825 - accuracy: 0.679 - ETA: 1:02:44 - loss: 0.7820 - accuracy: 0.680 - ETA: 1:02:33 - loss: 0.7820 - accuracy: 0.680 - ETA: 1:02:22 - loss: 0.7813 - accuracy: 0.680 - ETA: 1:02:10 - loss: 0.7806 - accuracy: 0.680 - ETA: 1:01:59 - loss: 0.7800 - accuracy: 0.681 - ETA: 1:01:48 - loss: 0.7799 - accuracy: 0.681 - ETA: 1:01:36 - loss: 0.7794 - accuracy: 0.681 - ETA: 1:01:25 - loss: 0.7784 - accuracy: 0.682 - ETA: 1:01:14 - loss: 0.7781 - accuracy: 0.682 - ETA: 1:01:02 - loss: 0.7775 - accuracy: 0.682 - ETA: 1:00:51 - loss: 0.7768 - accuracy: 0.682 - ETA: 1:00:40 - loss: 0.7761 - accuracy: 0.683 - ETA: 1:00:28 - loss: 0.7758 - accuracy: 0.683 - ETA: 1:00:17 - loss: 0.7755 - accuracy: 0.683 - ETA: 1:00:06 - loss: 0.7749 - accuracy: 0.683 - ETA: 59:55 - loss: 0.7745 - accuracy: 0.6839  - ETA: 59:44 - loss: 0.7739 - accuracy: 0.684 - ETA: 59:32 - loss: 0.7735 - accuracy: 0.684 - ETA: 59:21 - loss: 0.7732 - accuracy: 0.684 - ETA: 59:10 - loss: 0.7727 - accuracy: 0.685 - ETA: 58:58 - loss: 0.7719 - accuracy: 0.685 - ETA: 58:47 - loss: 0.7710 - accuracy: 0.685 - ETA: 58:36 - loss: 0.7711 - accuracy: 0.685 - ETA: 58:25 - loss: 0.7702 - accuracy: 0.686 - ETA: 58:14 - loss: 0.7694 - accuracy: 0.686 - ETA: 58:02 - loss: 0.7689 - accuracy: 0.686 - ETA: 57:52 - loss: 0.7682 - accuracy: 0.687 - ETA: 57:40 - loss: 0.7675 - accuracy: 0.687 - ETA: 57:29 - loss: 0.7677 - accuracy: 0.687 - ETA: 57:18 - loss: 0.7676 - accuracy: 0.687 - ETA: 57:07 - loss: 0.7673 - accuracy: 0.687 - ETA: 56:56 - loss: 0.7673 - accuracy: 0.687 - ETA: 56:45 - loss: 0.7665 - accuracy: 0.688 - ETA: 56:35 - loss: 0.7659 - accuracy: 0.688 - ETA: 56:25 - loss: 0.7652 - accuracy: 0.688 - ETA: 56:15 - loss: 0.7644 - accuracy: 0.688 - ETA: 56:05 - loss: 0.7639 - accuracy: 0.689 - ETA: 55:55 - loss: 0.7632 - accuracy: 0.689 - ETA: 55:45 - loss: 0.7628 - accuracy: 0.689 - ETA: 55:34 - loss: 0.7622 - accuracy: 0.689 - ETA: 55:24 - loss: 0.7615 - accuracy: 0.690 - ETA: 55:14 - loss: 0.7608 - accuracy: 0.690 - ETA: 55:04 - loss: 0.7606 - accuracy: 0.690 - ETA: 54:53 - loss: 0.7609 - accuracy: 0.690 - ETA: 54:42 - loss: 0.7599 - accuracy: 0.690 - ETA: 54:31 - loss: 0.7594 - accuracy: 0.691 - ETA: 54:20 - loss: 0.7587 - accuracy: 0.691 - ETA: 54:09 - loss: 0.7581 - accuracy: 0.691 - ETA: 53:57 - loss: 0.7576 - accuracy: 0.691 - ETA: 53:46 - loss: 0.7566 - accuracy: 0.692 - ETA: 53:36 - loss: 0.7563 - accuracy: 0.692 - ETA: 53:25 - loss: 0.7553 - accuracy: 0.693 - ETA: 53:14 - loss: 0.7550 - accuracy: 0.693 - ETA: 53:04 - loss: 0.7560 - accuracy: 0.693 - ETA: 52:53 - loss: 0.7558 - accuracy: 0.693 - ETA: 52:43 - loss: 0.7555 - accuracy: 0.693 - ETA: 52:33 - loss: 0.7550 - accuracy: 0.693 - ETA: 52:22 - loss: 0.7547 - accuracy: 0.693 - ETA: 52:11 - loss: 0.7545 - accuracy: 0.693 - ETA: 52:01 - loss: 0.7537 - accuracy: 0.694 - ETA: 51:50 - loss: 0.7532 - accuracy: 0.694 - ETA: 51:39 - loss: 0.7524 - accuracy: 0.694 - ETA: 51:28 - loss: 0.7519 - accuracy: 0.694 - ETA: 51:17 - loss: 0.7515 - accuracy: 0.694 - ETA: 51:06 - loss: 0.7514 - accuracy: 0.694 - ETA: 50:55 - loss: 0.7510 - accuracy: 0.695 - ETA: 50:44 - loss: 0.7509 - accuracy: 0.695 - ETA: 50:32 - loss: 0.7503 - accuracy: 0.695 - ETA: 50:21 - loss: 0.7499 - accuracy: 0.695 - ETA: 50:10 - loss: 0.7493 - accuracy: 0.695 - ETA: 49:58 - loss: 0.7489 - accuracy: 0.695 - ETA: 49:47 - loss: 0.7487 - accuracy: 0.696 - ETA: 49:35 - loss: 0.7483 - accuracy: 0.696 - ETA: 49:24 - loss: 0.7476 - accuracy: 0.696 - ETA: 49:12 - loss: 0.7469 - accuracy: 0.696 - ETA: 49:01 - loss: 0.7465 - accuracy: 0.697 - ETA: 48:50 - loss: 0.7460 - accuracy: 0.697 - ETA: 48:38 - loss: 0.7454 - accuracy: 0.697 - ETA: 48:27 - loss: 0.7449 - accuracy: 0.697 - ETA: 48:16 - loss: 0.7447 - accuracy: 0.697 - ETA: 48:05 - loss: 0.7441 - accuracy: 0.698 - ETA: 47:53 - loss: 0.7437 - accuracy: 0.698 - ETA: 47:42 - loss: 0.7436 - accuracy: 0.698 - ETA: 47:30 - loss: 0.7431 - accuracy: 0.698 - ETA: 47:19 - loss: 0.7434 - accuracy: 0.698 - ETA: 47:07 - loss: 0.7430 - accuracy: 0.698 - ETA: 46:56 - loss: 0.7428 - accuracy: 0.698 - ETA: 46:44 - loss: 0.7423 - accuracy: 0.699 - ETA: 46:33 - loss: 0.7420 - accuracy: 0.699 - ETA: 46:21 - loss: 0.7413 - accuracy: 0.699 - ETA: 46:10 - loss: 0.7414 - accuracy: 0.699 - ETA: 45:58 - loss: 0.7411 - accuracy: 0.699 - ETA: 45:47 - loss: 0.7403 - accuracy: 0.700 - ETA: 45:35 - loss: 0.7400 - accuracy: 0.700 - ETA: 45:24 - loss: 0.7399 - accuracy: 0.700 - ETA: 45:12 - loss: 0.7397 - accuracy: 0.700 - ETA: 45:01 - loss: 0.7392 - accuracy: 0.700 - ETA: 44:49 - loss: 0.7392 - accuracy: 0.700 - ETA: 44:38 - loss: 0.7386 - accuracy: 0.700 - ETA: 44:27 - loss: 0.7383 - accuracy: 0.701 - ETA: 44:16 - loss: 0.7381 - accuracy: 0.701 - ETA: 44:04 - loss: 0.7374 - accuracy: 0.701 - ETA: 43:53 - loss: 0.7370 - accuracy: 0.701 - ETA: 43:41 - loss: 0.7361 - accuracy: 0.702 - ETA: 43:30 - loss: 0.7355 - accuracy: 0.702 - ETA: 43:19 - loss: 0.7348 - accuracy: 0.702 - ETA: 43:08 - loss: 0.7345 - accuracy: 0.702 - ETA: 42:57 - loss: 0.7342 - accuracy: 0.702 - ETA: 42:46 - loss: 0.7337 - accuracy: 0.703 - ETA: 42:35 - loss: 0.7332 - accuracy: 0.703 - ETA: 42:24 - loss: 0.7326 - accuracy: 0.703 - ETA: 42:12 - loss: 0.7322 - accuracy: 0.703 - ETA: 42:01 - loss: 0.7315 - accuracy: 0.704 - ETA: 41:50 - loss: 0.7309 - accuracy: 0.704 - ETA: 41:38 - loss: 0.7308 - accuracy: 0.704 - ETA: 41:27 - loss: 0.7310 - accuracy: 0.704 - ETA: 41:16 - loss: 0.7307 - accuracy: 0.704 - ETA: 41:04 - loss: 0.7302 - accuracy: 0.705 - ETA: 40:53 - loss: 0.7297 - accuracy: 0.705 - ETA: 40:41 - loss: 0.7295 - accuracy: 0.705 - ETA: 40:30 - loss: 0.7289 - accuracy: 0.705 - ETA: 40:19 - loss: 0.7282 - accuracy: 0.705 - ETA: 40:07 - loss: 0.7277 - accuracy: 0.706 - ETA: 39:56 - loss: 0.7275 - accuracy: 0.706 - ETA: 39:45 - loss: 0.7269 - accuracy: 0.706 - ETA: 39:34 - loss: 0.7264 - accuracy: 0.706 - ETA: 39:23 - loss: 0.7258 - accuracy: 0.707 - ETA: 39:12 - loss: 0.7255 - accuracy: 0.707 - ETA: 39:01 - loss: 0.7251 - accuracy: 0.707 - ETA: 38:50 - loss: 0.7248 - accuracy: 0.707 - ETA: 38:39 - loss: 0.7246 - accuracy: 0.707 - ETA: 38:28 - loss: 0.7242 - accuracy: 0.708 - ETA: 38:18 - loss: 0.7237 - accuracy: 0.708 - ETA: 38:07 - loss: 0.7233 - accuracy: 0.708 - ETA: 37:56 - loss: 0.7231 - accuracy: 0.708 - ETA: 37:45 - loss: 0.7229 - accuracy: 0.708 - ETA: 37:35 - loss: 0.7223 - accuracy: 0.709 - ETA: 37:24 - loss: 0.7220 - accuracy: 0.709 - ETA: 37:14 - loss: 0.7211 - accuracy: 0.709 - ETA: 37:03 - loss: 0.7207 - accuracy: 0.709 - ETA: 36:52 - loss: 0.7201 - accuracy: 0.709 - ETA: 36:41 - loss: 0.7198 - accuracy: 0.710 - ETA: 36:30 - loss: 0.7191 - accuracy: 0.710 - ETA: 36:19 - loss: 0.7186 - accuracy: 0.710 - ETA: 36:07 - loss: 0.7182 - accuracy: 0.710 - ETA: 35:56 - loss: 0.7178 - accuracy: 0.710 - ETA: 35:45 - loss: 0.7171 - accuracy: 0.711 - ETA: 35:33 - loss: 0.7168 - accuracy: 0.711 - ETA: 35:22 - loss: 0.7164 - accuracy: 0.711 - ETA: 35:11 - loss: 0.7166 - accuracy: 0.711 - ETA: 35:00 - loss: 0.7162 - accuracy: 0.711 - ETA: 34:49 - loss: 0.7159 - accuracy: 0.711 - ETA: 34:38 - loss: 0.7152 - accuracy: 0.712 - ETA: 34:26 - loss: 0.7145 - accuracy: 0.712 - ETA: 34:15 - loss: 0.7146 - accuracy: 0.712 - ETA: 34:04 - loss: 0.7140 - accuracy: 0.712 - ETA: 33:53 - loss: 0.7138 - accuracy: 0.713 - ETA: 33:41 - loss: 0.7131 - accuracy: 0.713 - ETA: 33:30 - loss: 0.7128 - accuracy: 0.713 - ETA: 33:19 - loss: 0.7129 - accuracy: 0.713 - ETA: 33:07 - loss: 0.7123 - accuracy: 0.713 - ETA: 32:56 - loss: 0.7118 - accuracy: 0.714 - ETA: 32:45 - loss: 0.7111 - accuracy: 0.714 - ETA: 32:34 - loss: 0.7109 - accuracy: 0.714 - ETA: 32:23 - loss: 0.7104 - accuracy: 0.714 - ETA: 32:12 - loss: 0.7103 - accuracy: 0.714 - ETA: 32:01 - loss: 0.7100 - accuracy: 0.715 - ETA: 31:49 - loss: 0.7097 - accuracy: 0.715 - ETA: 31:38 - loss: 0.7091 - accuracy: 0.715 - ETA: 31:27 - loss: 0.7089 - accuracy: 0.715 - ETA: 31:16 - loss: 0.7085 - accuracy: 0.715 - ETA: 31:05 - loss: 0.7080 - accuracy: 0.716 - ETA: 30:54 - loss: 0.7077 - accuracy: 0.716 - ETA: 30:42 - loss: 0.7076 - accuracy: 0.716 - ETA: 30:31 - loss: 0.7069 - accuracy: 0.716 - ETA: 30:20 - loss: 0.7065 - accuracy: 0.7170846/846 [==============================] - ETA: 30:09 - loss: 0.7061 - accuracy: 0.717 - ETA: 29:57 - loss: 0.7055 - accuracy: 0.717 - ETA: 29:46 - loss: 0.7048 - accuracy: 0.717 - ETA: 29:34 - loss: 0.7044 - accuracy: 0.718 - ETA: 29:23 - loss: 0.7039 - accuracy: 0.718 - ETA: 29:12 - loss: 0.7035 - accuracy: 0.718 - ETA: 29:01 - loss: 0.7032 - accuracy: 0.718 - ETA: 28:49 - loss: 0.7030 - accuracy: 0.718 - ETA: 28:38 - loss: 0.7025 - accuracy: 0.719 - ETA: 28:27 - loss: 0.7021 - accuracy: 0.719 - ETA: 28:16 - loss: 0.7017 - accuracy: 0.719 - ETA: 28:05 - loss: 0.7016 - accuracy: 0.719 - ETA: 27:53 - loss: 0.7016 - accuracy: 0.719 - ETA: 27:42 - loss: 0.7018 - accuracy: 0.719 - ETA: 27:31 - loss: 0.7015 - accuracy: 0.719 - ETA: 27:19 - loss: 0.7014 - accuracy: 0.719 - ETA: 27:08 - loss: 0.7013 - accuracy: 0.720 - ETA: 26:56 - loss: 0.7008 - accuracy: 0.720 - ETA: 26:45 - loss: 0.7005 - accuracy: 0.720 - ETA: 26:34 - loss: 0.7000 - accuracy: 0.720 - ETA: 26:23 - loss: 0.6999 - accuracy: 0.720 - ETA: 26:11 - loss: 0.6996 - accuracy: 0.720 - ETA: 26:00 - loss: 0.6992 - accuracy: 0.721 - ETA: 25:48 - loss: 0.6988 - accuracy: 0.721 - ETA: 25:37 - loss: 0.6982 - accuracy: 0.721 - ETA: 25:25 - loss: 0.6976 - accuracy: 0.721 - ETA: 25:14 - loss: 0.6973 - accuracy: 0.722 - ETA: 25:03 - loss: 0.6971 - accuracy: 0.722 - ETA: 24:52 - loss: 0.6968 - accuracy: 0.722 - ETA: 24:40 - loss: 0.6967 - accuracy: 0.722 - ETA: 24:29 - loss: 0.6965 - accuracy: 0.722 - ETA: 24:18 - loss: 0.6960 - accuracy: 0.722 - ETA: 24:06 - loss: 0.6955 - accuracy: 0.722 - ETA: 23:55 - loss: 0.6948 - accuracy: 0.723 - ETA: 23:44 - loss: 0.6945 - accuracy: 0.723 - ETA: 23:33 - loss: 0.6942 - accuracy: 0.723 - ETA: 23:21 - loss: 0.6939 - accuracy: 0.723 - ETA: 23:10 - loss: 0.6933 - accuracy: 0.723 - ETA: 22:59 - loss: 0.6930 - accuracy: 0.723 - ETA: 22:47 - loss: 0.6926 - accuracy: 0.724 - ETA: 22:36 - loss: 0.6921 - accuracy: 0.724 - ETA: 22:24 - loss: 0.6916 - accuracy: 0.724 - ETA: 22:13 - loss: 0.6913 - accuracy: 0.724 - ETA: 22:02 - loss: 0.6907 - accuracy: 0.724 - ETA: 21:50 - loss: 0.6902 - accuracy: 0.725 - ETA: 21:39 - loss: 0.6901 - accuracy: 0.725 - ETA: 21:27 - loss: 0.6898 - accuracy: 0.725 - ETA: 21:16 - loss: 0.6897 - accuracy: 0.725 - ETA: 21:05 - loss: 0.6890 - accuracy: 0.725 - ETA: 20:54 - loss: 0.6889 - accuracy: 0.725 - ETA: 20:42 - loss: 0.6885 - accuracy: 0.725 - ETA: 20:31 - loss: 0.6881 - accuracy: 0.726 - ETA: 20:19 - loss: 0.6875 - accuracy: 0.726 - ETA: 20:08 - loss: 0.6877 - accuracy: 0.726 - ETA: 19:56 - loss: 0.6873 - accuracy: 0.726 - ETA: 19:45 - loss: 0.6872 - accuracy: 0.726 - ETA: 19:33 - loss: 0.6866 - accuracy: 0.727 - ETA: 19:22 - loss: 0.6863 - accuracy: 0.727 - ETA: 19:10 - loss: 0.6861 - accuracy: 0.727 - ETA: 18:59 - loss: 0.6859 - accuracy: 0.727 - ETA: 18:47 - loss: 0.6854 - accuracy: 0.727 - ETA: 18:36 - loss: 0.6852 - accuracy: 0.727 - ETA: 18:24 - loss: 0.6846 - accuracy: 0.728 - ETA: 18:13 - loss: 0.6844 - accuracy: 0.728 - ETA: 18:02 - loss: 0.6845 - accuracy: 0.728 - ETA: 17:50 - loss: 0.6844 - accuracy: 0.728 - ETA: 17:39 - loss: 0.6845 - accuracy: 0.728 - ETA: 17:27 - loss: 0.6841 - accuracy: 0.728 - ETA: 17:16 - loss: 0.6836 - accuracy: 0.728 - ETA: 17:04 - loss: 0.6834 - accuracy: 0.728 - ETA: 16:53 - loss: 0.6827 - accuracy: 0.728 - ETA: 16:41 - loss: 0.6826 - accuracy: 0.728 - ETA: 16:30 - loss: 0.6825 - accuracy: 0.729 - ETA: 16:18 - loss: 0.6823 - accuracy: 0.729 - ETA: 16:07 - loss: 0.6818 - accuracy: 0.729 - ETA: 15:55 - loss: 0.6814 - accuracy: 0.729 - ETA: 15:43 - loss: 0.6818 - accuracy: 0.729 - ETA: 15:32 - loss: 0.6814 - accuracy: 0.729 - ETA: 15:20 - loss: 0.6815 - accuracy: 0.729 - ETA: 15:09 - loss: 0.6811 - accuracy: 0.729 - ETA: 14:57 - loss: 0.6806 - accuracy: 0.730 - ETA: 14:46 - loss: 0.6802 - accuracy: 0.730 - ETA: 14:34 - loss: 0.6800 - accuracy: 0.730 - ETA: 14:23 - loss: 0.6799 - accuracy: 0.730 - ETA: 14:11 - loss: 0.6796 - accuracy: 0.730 - ETA: 14:00 - loss: 0.6795 - accuracy: 0.730 - ETA: 13:48 - loss: 0.6793 - accuracy: 0.730 - ETA: 13:37 - loss: 0.6791 - accuracy: 0.730 - ETA: 13:25 - loss: 0.6787 - accuracy: 0.730 - ETA: 13:14 - loss: 0.6784 - accuracy: 0.730 - ETA: 13:02 - loss: 0.6782 - accuracy: 0.731 - ETA: 12:50 - loss: 0.6779 - accuracy: 0.731 - ETA: 12:39 - loss: 0.6775 - accuracy: 0.731 - ETA: 12:27 - loss: 0.6772 - accuracy: 0.731 - ETA: 12:16 - loss: 0.6768 - accuracy: 0.731 - ETA: 12:04 - loss: 0.6763 - accuracy: 0.731 - ETA: 11:53 - loss: 0.6759 - accuracy: 0.732 - ETA: 11:41 - loss: 0.6756 - accuracy: 0.732 - ETA: 11:30 - loss: 0.6755 - accuracy: 0.732 - ETA: 11:18 - loss: 0.6753 - accuracy: 0.732 - ETA: 11:07 - loss: 0.6750 - accuracy: 0.732 - ETA: 10:55 - loss: 0.6747 - accuracy: 0.732 - ETA: 10:44 - loss: 0.6745 - accuracy: 0.732 - ETA: 10:32 - loss: 0.6742 - accuracy: 0.732 - ETA: 10:21 - loss: 0.6740 - accuracy: 0.733 - ETA: 10:09 - loss: 0.6738 - accuracy: 0.733 - ETA: 9:58 - loss: 0.6736 - accuracy: 0.733 - ETA: 9:46 - loss: 0.6732 - accuracy: 0.73 - ETA: 9:35 - loss: 0.6727 - accuracy: 0.73 - ETA: 9:23 - loss: 0.6725 - accuracy: 0.73 - ETA: 9:12 - loss: 0.6721 - accuracy: 0.73 - ETA: 9:00 - loss: 0.6719 - accuracy: 0.73 - ETA: 8:49 - loss: 0.6715 - accuracy: 0.73 - ETA: 8:37 - loss: 0.6710 - accuracy: 0.73 - ETA: 8:26 - loss: 0.6707 - accuracy: 0.73 - ETA: 8:14 - loss: 0.6703 - accuracy: 0.73 - ETA: 8:03 - loss: 0.6703 - accuracy: 0.73 - ETA: 7:51 - loss: 0.6699 - accuracy: 0.73 - ETA: 7:40 - loss: 0.6696 - accuracy: 0.73 - ETA: 7:28 - loss: 0.6694 - accuracy: 0.73 - ETA: 7:17 - loss: 0.6691 - accuracy: 0.73 - ETA: 7:05 - loss: 0.6686 - accuracy: 0.73 - ETA: 6:54 - loss: 0.6681 - accuracy: 0.73 - ETA: 6:42 - loss: 0.6677 - accuracy: 0.73 - ETA: 6:31 - loss: 0.6673 - accuracy: 0.73 - ETA: 6:19 - loss: 0.6671 - accuracy: 0.73 - ETA: 6:08 - loss: 0.6671 - accuracy: 0.73 - ETA: 5:56 - loss: 0.6668 - accuracy: 0.73 - ETA: 5:45 - loss: 0.6667 - accuracy: 0.73 - ETA: 5:33 - loss: 0.6663 - accuracy: 0.73 - ETA: 5:22 - loss: 0.6662 - accuracy: 0.73 - ETA: 5:10 - loss: 0.6662 - accuracy: 0.73 - ETA: 4:59 - loss: 0.6658 - accuracy: 0.73 - ETA: 4:47 - loss: 0.6653 - accuracy: 0.73 - ETA: 4:36 - loss: 0.6651 - accuracy: 0.73 - ETA: 4:24 - loss: 0.6647 - accuracy: 0.73 - ETA: 4:13 - loss: 0.6647 - accuracy: 0.73 - ETA: 4:01 - loss: 0.6642 - accuracy: 0.73 - ETA: 3:50 - loss: 0.6641 - accuracy: 0.73 - ETA: 3:38 - loss: 0.6637 - accuracy: 0.73 - ETA: 3:27 - loss: 0.6634 - accuracy: 0.73 - ETA: 3:15 - loss: 0.6631 - accuracy: 0.73 - ETA: 3:04 - loss: 0.6627 - accuracy: 0.73 - ETA: 2:52 - loss: 0.6624 - accuracy: 0.73 - ETA: 2:41 - loss: 0.6620 - accuracy: 0.73 - ETA: 2:29 - loss: 0.6619 - accuracy: 0.73 - ETA: 2:18 - loss: 0.6613 - accuracy: 0.73 - ETA: 2:06 - loss: 0.6610 - accuracy: 0.73 - ETA: 1:55 - loss: 0.6610 - accuracy: 0.73 - ETA: 1:43 - loss: 0.6609 - accuracy: 0.73 - ETA: 1:32 - loss: 0.6604 - accuracy: 0.73 - ETA: 1:20 - loss: 0.6600 - accuracy: 0.73 - ETA: 1:09 - loss: 0.6596 - accuracy: 0.73 - ETA: 57s - loss: 0.6593 - accuracy: 0.7397 - ETA: 46s - loss: 0.6591 - accuracy: 0.739 - ETA: 34s - loss: 0.6586 - accuracy: 0.740 - ETA: 23s - loss: 0.6585 - accuracy: 0.740 - ETA: 11s - loss: 0.6582 - accuracy: 0.740 - ETA: 0s - loss: 0.6577 - accuracy: 0.740 - 9774s 12s/step - loss: 0.6577 - accuracy: 0.7403 - val_loss: 0.3573 - val_accuracy: 0.8125\n",
      "Epoch 2/5\n"
     ]
    },
    {
     "name": "stdout",
     "output_type": "stream",
     "text": [
      "170/846 [=====>........................] - ETA: 0s - loss: 0.4464 - accuracy: 0.81 - ETA: 1:50:41 - loss: 0.4225 - accuracy: 0.828 - ETA: 2:18:19 - loss: 0.4234 - accuracy: 0.843 - ETA: 2:30:07 - loss: 0.4374 - accuracy: 0.851 - ETA: 2:38:16 - loss: 0.4505 - accuracy: 0.850 - ETA: 2:44:35 - loss: 0.4389 - accuracy: 0.849 - ETA: 2:50:36 - loss: 0.4380 - accuracy: 0.848 - ETA: 2:52:22 - loss: 0.4392 - accuracy: 0.847 - ETA: 2:53:22 - loss: 0.4069 - accuracy: 0.861 - ETA: 2:53:36 - loss: 0.3928 - accuracy: 0.862 - ETA: 2:56:08 - loss: 0.3962 - accuracy: 0.858 - ETA: 2:58:46 - loss: 0.3775 - accuracy: 0.864 - ETA: 2:58:56 - loss: 0.3728 - accuracy: 0.863 - ETA: 3:00:19 - loss: 0.3622 - accuracy: 0.868 - ETA: 3:00:08 - loss: 0.3592 - accuracy: 0.868 - ETA: 2:59:36 - loss: 0.3639 - accuracy: 0.867 - ETA: 2:59:19 - loss: 0.3727 - accuracy: 0.860 - ETA: 2:59:03 - loss: 0.3716 - accuracy: 0.862 - ETA: 2:58:53 - loss: 0.3670 - accuracy: 0.863 - ETA: 2:58:31 - loss: 0.3680 - accuracy: 0.864 - ETA: 2:58:10 - loss: 0.3783 - accuracy: 0.860 - ETA: 2:57:46 - loss: 0.3774 - accuracy: 0.858 - ETA: 2:57:30 - loss: 0.3733 - accuracy: 0.862 - ETA: 2:57:14 - loss: 0.3663 - accuracy: 0.865 - ETA: 2:56:02 - loss: 0.3703 - accuracy: 0.862 - ETA: 2:54:47 - loss: 0.3687 - accuracy: 0.863 - ETA: 2:53:49 - loss: 0.3701 - accuracy: 0.862 - ETA: 2:52:42 - loss: 0.3681 - accuracy: 0.862 - ETA: 2:51:42 - loss: 0.3658 - accuracy: 0.866 - ETA: 2:51:02 - loss: 0.3642 - accuracy: 0.868 - ETA: 2:50:12 - loss: 0.3635 - accuracy: 0.870 - ETA: 2:49:24 - loss: 0.3689 - accuracy: 0.870 - ETA: 2:48:41 - loss: 0.3741 - accuracy: 0.868 - ETA: 2:47:59 - loss: 0.3701 - accuracy: 0.870 - ETA: 2:47:19 - loss: 0.3727 - accuracy: 0.869 - ETA: 2:46:33 - loss: 0.3689 - accuracy: 0.871 - ETA: 2:45:46 - loss: 0.3784 - accuracy: 0.869 - ETA: 2:45:06 - loss: 0.3836 - accuracy: 0.864 - ETA: 2:44:33 - loss: 0.3885 - accuracy: 0.862 - ETA: 2:44:01 - loss: 0.3848 - accuracy: 0.863 - ETA: 2:43:29 - loss: 0.3865 - accuracy: 0.862 - ETA: 2:42:53 - loss: 0.3854 - accuracy: 0.862 - ETA: 2:42:17 - loss: 0.3833 - accuracy: 0.863 - ETA: 2:41:39 - loss: 0.3818 - accuracy: 0.863 - ETA: 2:41:05 - loss: 0.3820 - accuracy: 0.863 - ETA: 2:40:37 - loss: 0.3828 - accuracy: 0.862 - ETA: 2:40:09 - loss: 0.3857 - accuracy: 0.860 - ETA: 2:39:40 - loss: 0.3819 - accuracy: 0.862 - ETA: 2:39:13 - loss: 0.3827 - accuracy: 0.861 - ETA: 2:38:45 - loss: 0.3827 - accuracy: 0.860 - ETA: 2:38:20 - loss: 0.3800 - accuracy: 0.862 - ETA: 2:37:53 - loss: 0.3787 - accuracy: 0.862 - ETA: 2:37:28 - loss: 0.3778 - accuracy: 0.861 - ETA: 2:37:05 - loss: 0.3743 - accuracy: 0.863 - ETA: 2:36:37 - loss: 0.3705 - accuracy: 0.865 - ETA: 2:36:13 - loss: 0.3740 - accuracy: 0.863 - ETA: 2:35:53 - loss: 0.3733 - accuracy: 0.862 - ETA: 2:35:29 - loss: 0.3735 - accuracy: 0.862 - ETA: 2:35:07 - loss: 0.3728 - accuracy: 0.862 - ETA: 2:34:47 - loss: 0.3768 - accuracy: 0.860 - ETA: 2:34:24 - loss: 0.3727 - accuracy: 0.862 - ETA: 2:34:10 - loss: 0.3717 - accuracy: 0.863 - ETA: 2:33:58 - loss: 0.3715 - accuracy: 0.863 - ETA: 2:33:45 - loss: 0.3685 - accuracy: 0.864 - ETA: 2:33:44 - loss: 0.3703 - accuracy: 0.864 - ETA: 2:33:35 - loss: 0.3728 - accuracy: 0.863 - ETA: 2:33:18 - loss: 0.3762 - accuracy: 0.862 - ETA: 2:33:01 - loss: 0.3761 - accuracy: 0.862 - ETA: 2:32:43 - loss: 0.3769 - accuracy: 0.862 - ETA: 2:32:27 - loss: 0.3842 - accuracy: 0.860 - ETA: 2:32:06 - loss: 0.3846 - accuracy: 0.861 - ETA: 2:31:47 - loss: 0.3857 - accuracy: 0.860 - ETA: 2:31:27 - loss: 0.3869 - accuracy: 0.860 - ETA: 2:31:06 - loss: 0.3870 - accuracy: 0.860 - ETA: 2:30:52 - loss: 0.3874 - accuracy: 0.859 - ETA: 2:30:36 - loss: 0.3931 - accuracy: 0.857 - ETA: 2:30:17 - loss: 0.3934 - accuracy: 0.856 - ETA: 2:30:00 - loss: 0.3982 - accuracy: 0.855 - ETA: 2:29:42 - loss: 0.3998 - accuracy: 0.855 - ETA: 2:29:24 - loss: 0.4014 - accuracy: 0.855 - ETA: 2:29:10 - loss: 0.4018 - accuracy: 0.854 - ETA: 2:28:53 - loss: 0.3997 - accuracy: 0.856 - ETA: 2:28:35 - loss: 0.3989 - accuracy: 0.856 - ETA: 2:28:17 - loss: 0.3988 - accuracy: 0.856 - ETA: 2:27:59 - loss: 0.3973 - accuracy: 0.857 - ETA: 2:27:42 - loss: 0.3983 - accuracy: 0.856 - ETA: 2:27:28 - loss: 0.3984 - accuracy: 0.855 - ETA: 2:27:11 - loss: 0.3989 - accuracy: 0.855 - ETA: 2:26:54 - loss: 0.3973 - accuracy: 0.856 - ETA: 2:26:38 - loss: 0.3993 - accuracy: 0.854 - ETA: 2:26:22 - loss: 0.3977 - accuracy: 0.855 - ETA: 2:26:05 - loss: 0.3974 - accuracy: 0.855 - ETA: 2:25:51 - loss: 0.3979 - accuracy: 0.855 - ETA: 2:25:36 - loss: 0.3968 - accuracy: 0.855 - ETA: 2:25:19 - loss: 0.3960 - accuracy: 0.856 - ETA: 2:25:04 - loss: 0.3981 - accuracy: 0.855 - ETA: 2:24:48 - loss: 0.3982 - accuracy: 0.856 - ETA: 2:24:32 - loss: 0.3971 - accuracy: 0.856 - ETA: 2:24:20 - loss: 0.3971 - accuracy: 0.856 - ETA: 2:24:05 - loss: 0.3961 - accuracy: 0.857 - ETA: 2:23:49 - loss: 0.3980 - accuracy: 0.856 - ETA: 2:23:36 - loss: 0.3962 - accuracy: 0.857 - ETA: 2:23:24 - loss: 0.3960 - accuracy: 0.857 - ETA: 2:23:10 - loss: 0.3969 - accuracy: 0.857 - ETA: 2:22:57 - loss: 0.3955 - accuracy: 0.857 - ETA: 2:22:43 - loss: 0.3970 - accuracy: 0.856 - ETA: 2:22:28 - loss: 0.3967 - accuracy: 0.856 - ETA: 2:22:14 - loss: 0.3989 - accuracy: 0.856 - ETA: 2:21:58 - loss: 0.3974 - accuracy: 0.856 - ETA: 2:21:44 - loss: 0.3970 - accuracy: 0.856 - ETA: 2:21:31 - loss: 0.3959 - accuracy: 0.856 - ETA: 2:21:16 - loss: 0.3953 - accuracy: 0.857 - ETA: 2:21:03 - loss: 0.3957 - accuracy: 0.856 - ETA: 2:20:48 - loss: 0.3942 - accuracy: 0.857 - ETA: 2:20:33 - loss: 0.3936 - accuracy: 0.857 - ETA: 2:20:19 - loss: 0.3955 - accuracy: 0.857 - ETA: 2:20:07 - loss: 0.3971 - accuracy: 0.857 - ETA: 2:19:53 - loss: 0.3965 - accuracy: 0.858 - ETA: 2:19:38 - loss: 0.3950 - accuracy: 0.859 - ETA: 2:19:24 - loss: 0.3961 - accuracy: 0.858 - ETA: 2:19:08 - loss: 0.3963 - accuracy: 0.858 - ETA: 2:18:55 - loss: 0.3968 - accuracy: 0.857 - ETA: 2:18:46 - loss: 0.3965 - accuracy: 0.858 - ETA: 2:18:33 - loss: 0.3967 - accuracy: 0.857 - ETA: 2:18:18 - loss: 0.3975 - accuracy: 0.857 - ETA: 2:18:04 - loss: 0.3983 - accuracy: 0.856 - ETA: 2:17:50 - loss: 0.3997 - accuracy: 0.855 - ETA: 2:17:36 - loss: 0.3987 - accuracy: 0.856 - ETA: 2:17:24 - loss: 0.3998 - accuracy: 0.855 - ETA: 2:17:09 - loss: 0.3984 - accuracy: 0.856 - ETA: 2:16:55 - loss: 0.3998 - accuracy: 0.855 - ETA: 2:16:41 - loss: 0.3996 - accuracy: 0.855 - ETA: 2:16:27 - loss: 0.3997 - accuracy: 0.855 - ETA: 2:16:15 - loss: 0.4011 - accuracy: 0.854 - ETA: 2:16:03 - loss: 0.4023 - accuracy: 0.853 - ETA: 2:15:50 - loss: 0.4028 - accuracy: 0.853 - ETA: 2:15:37 - loss: 0.4025 - accuracy: 0.853 - ETA: 2:15:24 - loss: 0.4035 - accuracy: 0.853 - ETA: 2:15:09 - loss: 0.4030 - accuracy: 0.853 - ETA: 2:14:56 - loss: 0.4024 - accuracy: 0.853 - ETA: 2:14:44 - loss: 0.4020 - accuracy: 0.853 - ETA: 2:14:30 - loss: 0.4018 - accuracy: 0.854 - ETA: 2:14:16 - loss: 0.4012 - accuracy: 0.854 - ETA: 2:14:03 - loss: 0.4018 - accuracy: 0.854 - ETA: 2:13:50 - loss: 0.4023 - accuracy: 0.854 - ETA: 2:13:37 - loss: 0.4033 - accuracy: 0.854 - ETA: 2:13:25 - loss: 0.4034 - accuracy: 0.853 - ETA: 2:13:11 - loss: 0.4034 - accuracy: 0.853 - ETA: 2:12:57 - loss: 0.4025 - accuracy: 0.853 - ETA: 2:12:44 - loss: 0.4014 - accuracy: 0.854 - ETA: 2:12:30 - loss: 0.4015 - accuracy: 0.854 - ETA: 2:12:17 - loss: 0.4015 - accuracy: 0.854 - ETA: 2:12:05 - loss: 0.4011 - accuracy: 0.854 - ETA: 2:11:51 - loss: 0.4004 - accuracy: 0.854 - ETA: 2:11:38 - loss: 0.4016 - accuracy: 0.854 - ETA: 2:11:26 - loss: 0.4012 - accuracy: 0.854 - ETA: 2:11:14 - loss: 0.4007 - accuracy: 0.854 - ETA: 2:11:01 - loss: 0.4022 - accuracy: 0.853 - ETA: 2:10:49 - loss: 0.4036 - accuracy: 0.853 - ETA: 2:10:35 - loss: 0.4043 - accuracy: 0.852 - ETA: 2:10:22 - loss: 0.4042 - accuracy: 0.853 - ETA: 2:10:10 - loss: 0.4037 - accuracy: 0.853 - ETA: 2:09:56 - loss: 0.4033 - accuracy: 0.853 - ETA: 2:09:44 - loss: 0.4015 - accuracy: 0.854 - ETA: 2:09:32 - loss: 0.4016 - accuracy: 0.854 - ETA: 2:09:19 - loss: 0.4016 - accuracy: 0.854 - ETA: 2:09:07 - loss: 0.4023 - accuracy: 0.854 - ETA: 2:08:54 - loss: 0.4030 - accuracy: 0.854 - ETA: 2:08:41 - loss: 0.4034 - accuracy: 0.854 - ETA: 2:08:28 - loss: 0.4036 - accuracy: 0.8540340/846 [===========>..................] - ETA: 2:08:16 - loss: 0.4037 - accuracy: 0.854 - ETA: 2:08:03 - loss: 0.4043 - accuracy: 0.853 - ETA: 2:07:50 - loss: 0.4042 - accuracy: 0.853 - ETA: 2:07:39 - loss: 0.4045 - accuracy: 0.853 - ETA: 2:07:26 - loss: 0.4034 - accuracy: 0.853 - ETA: 2:07:14 - loss: 0.4038 - accuracy: 0.853 - ETA: 2:07:02 - loss: 0.4029 - accuracy: 0.854 - ETA: 2:06:49 - loss: 0.4018 - accuracy: 0.854 - ETA: 2:06:36 - loss: 0.4018 - accuracy: 0.854 - ETA: 2:06:25 - loss: 0.4010 - accuracy: 0.854 - ETA: 2:06:12 - loss: 0.4004 - accuracy: 0.855 - ETA: 2:06:05 - loss: 0.3998 - accuracy: 0.855 - ETA: 2:05:54 - loss: 0.4008 - accuracy: 0.855 - ETA: 2:05:42 - loss: 0.3996 - accuracy: 0.856 - ETA: 2:05:29 - loss: 0.3990 - accuracy: 0.856 - ETA: 2:05:17 - loss: 0.3981 - accuracy: 0.856 - ETA: 2:05:05 - loss: 0.3973 - accuracy: 0.857 - ETA: 2:04:54 - loss: 0.3974 - accuracy: 0.857 - ETA: 2:04:42 - loss: 0.3991 - accuracy: 0.857 - ETA: 2:04:29 - loss: 0.3986 - accuracy: 0.857 - ETA: 2:04:16 - loss: 0.3987 - accuracy: 0.857 - ETA: 2:04:04 - loss: 0.3984 - accuracy: 0.857 - ETA: 2:03:53 - loss: 0.3989 - accuracy: 0.856 - ETA: 2:03:43 - loss: 0.3985 - accuracy: 0.857 - ETA: 2:03:31 - loss: 0.3989 - accuracy: 0.856 - ETA: 2:03:18 - loss: 0.3975 - accuracy: 0.857 - ETA: 2:03:06 - loss: 0.3969 - accuracy: 0.857 - ETA: 2:02:53 - loss: 0.3976 - accuracy: 0.856 - ETA: 2:02:42 - loss: 0.3976 - accuracy: 0.856 - ETA: 2:02:33 - loss: 0.3973 - accuracy: 0.856 - ETA: 2:02:26 - loss: 0.3977 - accuracy: 0.856 - ETA: 2:02:15 - loss: 0.3975 - accuracy: 0.856 - ETA: 2:02:04 - loss: 0.3975 - accuracy: 0.856 - ETA: 2:01:52 - loss: 0.3966 - accuracy: 0.856 - ETA: 2:01:39 - loss: 0.3962 - accuracy: 0.856 - ETA: 2:01:30 - loss: 0.3973 - accuracy: 0.856 - ETA: 2:01:18 - loss: 0.3969 - accuracy: 0.856 - ETA: 2:01:05 - loss: 0.3963 - accuracy: 0.856 - ETA: 2:00:53 - loss: 0.3960 - accuracy: 0.856 - ETA: 2:00:42 - loss: 0.3967 - accuracy: 0.856 - ETA: 2:00:32 - loss: 0.3961 - accuracy: 0.856 - ETA: 2:00:19 - loss: 0.3950 - accuracy: 0.857 - ETA: 2:00:07 - loss: 0.3957 - accuracy: 0.857 - ETA: 1:59:54 - loss: 0.3957 - accuracy: 0.856 - ETA: 1:59:41 - loss: 0.3967 - accuracy: 0.856 - ETA: 1:59:30 - loss: 0.3970 - accuracy: 0.856 - ETA: 1:59:18 - loss: 0.3968 - accuracy: 0.856 - ETA: 1:59:06 - loss: 0.3958 - accuracy: 0.856 - ETA: 1:58:55 - loss: 0.3959 - accuracy: 0.856 - ETA: 1:58:43 - loss: 0.3970 - accuracy: 0.856 - ETA: 1:58:30 - loss: 0.3976 - accuracy: 0.856 - ETA: 1:58:18 - loss: 0.3972 - accuracy: 0.856 - ETA: 1:58:06 - loss: 0.3962 - accuracy: 0.857 - ETA: 1:57:54 - loss: 0.3954 - accuracy: 0.857 - ETA: 1:57:41 - loss: 0.3952 - accuracy: 0.857 - ETA: 1:57:29 - loss: 0.3940 - accuracy: 0.858 - ETA: 1:57:17 - loss: 0.3933 - accuracy: 0.858 - ETA: 1:57:06 - loss: 0.3934 - accuracy: 0.858 - ETA: 1:56:53 - loss: 0.3934 - accuracy: 0.858 - ETA: 1:56:41 - loss: 0.3933 - accuracy: 0.858 - ETA: 1:56:29 - loss: 0.3927 - accuracy: 0.858 - ETA: 1:56:16 - loss: 0.3925 - accuracy: 0.858 - ETA: 1:56:04 - loss: 0.3921 - accuracy: 0.858 - ETA: 1:55:53 - loss: 0.3913 - accuracy: 0.859 - ETA: 1:55:41 - loss: 0.3911 - accuracy: 0.859 - ETA: 1:55:28 - loss: 0.3905 - accuracy: 0.859 - ETA: 1:55:17 - loss: 0.3899 - accuracy: 0.860 - ETA: 1:55:06 - loss: 0.3898 - accuracy: 0.860 - ETA: 1:54:54 - loss: 0.3900 - accuracy: 0.860 - ETA: 1:54:42 - loss: 0.3902 - accuracy: 0.860 - ETA: 1:54:30 - loss: 0.3896 - accuracy: 0.860 - ETA: 1:54:18 - loss: 0.3891 - accuracy: 0.860 - ETA: 1:54:06 - loss: 0.3899 - accuracy: 0.860 - ETA: 1:53:55 - loss: 0.3893 - accuracy: 0.860 - ETA: 1:53:43 - loss: 0.3901 - accuracy: 0.859 - ETA: 1:53:31 - loss: 0.3897 - accuracy: 0.859 - ETA: 1:53:20 - loss: 0.3896 - accuracy: 0.859 - ETA: 1:53:07 - loss: 0.3892 - accuracy: 0.859 - ETA: 1:52:55 - loss: 0.3894 - accuracy: 0.859 - ETA: 1:52:43 - loss: 0.3895 - accuracy: 0.859 - ETA: 1:52:31 - loss: 0.3893 - accuracy: 0.859 - ETA: 1:52:20 - loss: 0.3884 - accuracy: 0.860 - ETA: 1:52:08 - loss: 0.3887 - accuracy: 0.860 - ETA: 1:51:56 - loss: 0.3881 - accuracy: 0.860 - ETA: 1:51:44 - loss: 0.3889 - accuracy: 0.859 - ETA: 1:51:32 - loss: 0.3880 - accuracy: 0.860 - ETA: 1:51:19 - loss: 0.3876 - accuracy: 0.860 - ETA: 1:51:08 - loss: 0.3876 - accuracy: 0.860 - ETA: 1:50:56 - loss: 0.3875 - accuracy: 0.860 - ETA: 1:50:44 - loss: 0.3886 - accuracy: 0.859 - ETA: 1:50:32 - loss: 0.3890 - accuracy: 0.859 - ETA: 1:50:20 - loss: 0.3887 - accuracy: 0.859 - ETA: 1:50:08 - loss: 0.3892 - accuracy: 0.859 - ETA: 1:49:58 - loss: 0.3889 - accuracy: 0.859 - ETA: 1:49:46 - loss: 0.3896 - accuracy: 0.859 - ETA: 1:49:34 - loss: 0.3898 - accuracy: 0.859 - ETA: 1:49:21 - loss: 0.3902 - accuracy: 0.859 - ETA: 1:49:09 - loss: 0.3902 - accuracy: 0.859 - ETA: 1:48:58 - loss: 0.3907 - accuracy: 0.858 - ETA: 1:48:47 - loss: 0.3906 - accuracy: 0.858 - ETA: 1:48:35 - loss: 0.3905 - accuracy: 0.858 - ETA: 1:48:23 - loss: 0.3900 - accuracy: 0.858 - ETA: 1:48:11 - loss: 0.3892 - accuracy: 0.859 - ETA: 1:48:00 - loss: 0.3892 - accuracy: 0.858 - ETA: 1:47:48 - loss: 0.3885 - accuracy: 0.859 - ETA: 1:47:37 - loss: 0.3893 - accuracy: 0.858 - ETA: 1:47:25 - loss: 0.3892 - accuracy: 0.858 - ETA: 1:47:13 - loss: 0.3908 - accuracy: 0.858 - ETA: 1:47:01 - loss: 0.3908 - accuracy: 0.858 - ETA: 1:46:49 - loss: 0.3905 - accuracy: 0.858 - ETA: 1:46:37 - loss: 0.3922 - accuracy: 0.857 - ETA: 1:46:26 - loss: 0.3930 - accuracy: 0.857 - ETA: 1:46:14 - loss: 0.3931 - accuracy: 0.857 - ETA: 1:46:02 - loss: 0.3930 - accuracy: 0.857 - ETA: 1:45:52 - loss: 0.3932 - accuracy: 0.857 - ETA: 1:45:40 - loss: 0.3935 - accuracy: 0.857 - ETA: 1:45:28 - loss: 0.3937 - accuracy: 0.856 - ETA: 1:45:16 - loss: 0.3948 - accuracy: 0.856 - ETA: 1:45:04 - loss: 0.3948 - accuracy: 0.856 - ETA: 1:44:53 - loss: 0.3950 - accuracy: 0.856 - ETA: 1:44:42 - loss: 0.3943 - accuracy: 0.856 - ETA: 1:44:30 - loss: 0.3943 - accuracy: 0.856 - ETA: 1:44:18 - loss: 0.3946 - accuracy: 0.856 - ETA: 1:44:07 - loss: 0.3943 - accuracy: 0.856 - ETA: 1:43:55 - loss: 0.3941 - accuracy: 0.856 - ETA: 1:43:43 - loss: 0.3933 - accuracy: 0.857 - ETA: 1:43:32 - loss: 0.3930 - accuracy: 0.857 - ETA: 1:43:20 - loss: 0.3930 - accuracy: 0.857 - ETA: 1:43:08 - loss: 0.3940 - accuracy: 0.856 - ETA: 1:42:57 - loss: 0.3938 - accuracy: 0.857 - ETA: 1:42:45 - loss: 0.3934 - accuracy: 0.857 - ETA: 1:42:33 - loss: 0.3943 - accuracy: 0.856 - ETA: 1:42:22 - loss: 0.3947 - accuracy: 0.856 - ETA: 1:42:10 - loss: 0.3950 - accuracy: 0.856 - ETA: 1:41:58 - loss: 0.3950 - accuracy: 0.856 - ETA: 1:41:47 - loss: 0.3948 - accuracy: 0.857 - ETA: 1:41:35 - loss: 0.3961 - accuracy: 0.856 - ETA: 1:41:24 - loss: 0.3962 - accuracy: 0.856 - ETA: 1:41:12 - loss: 0.3957 - accuracy: 0.856 - ETA: 1:41:00 - loss: 0.3955 - accuracy: 0.856 - ETA: 1:40:49 - loss: 0.3951 - accuracy: 0.856 - ETA: 1:40:38 - loss: 0.3948 - accuracy: 0.856 - ETA: 1:40:26 - loss: 0.3946 - accuracy: 0.856 - ETA: 1:40:14 - loss: 0.3943 - accuracy: 0.856 - ETA: 1:40:03 - loss: 0.3945 - accuracy: 0.856 - ETA: 1:39:52 - loss: 0.3942 - accuracy: 0.856 - ETA: 1:39:41 - loss: 0.3952 - accuracy: 0.856 - ETA: 1:39:30 - loss: 0.3952 - accuracy: 0.856 - ETA: 1:39:19 - loss: 0.3949 - accuracy: 0.856 - ETA: 1:39:08 - loss: 0.3956 - accuracy: 0.855 - ETA: 1:38:56 - loss: 0.3963 - accuracy: 0.855 - ETA: 1:38:45 - loss: 0.3959 - accuracy: 0.855 - ETA: 1:38:33 - loss: 0.3960 - accuracy: 0.855 - ETA: 1:38:22 - loss: 0.3959 - accuracy: 0.855 - ETA: 1:38:10 - loss: 0.3954 - accuracy: 0.856 - ETA: 1:37:58 - loss: 0.3952 - accuracy: 0.856 - ETA: 1:37:47 - loss: 0.3946 - accuracy: 0.856 - ETA: 1:37:35 - loss: 0.3943 - accuracy: 0.856 - ETA: 1:37:24 - loss: 0.3938 - accuracy: 0.856 - ETA: 1:37:12 - loss: 0.3942 - accuracy: 0.856 - ETA: 1:37:01 - loss: 0.3935 - accuracy: 0.857 - ETA: 1:36:49 - loss: 0.3940 - accuracy: 0.856 - ETA: 1:36:38 - loss: 0.3940 - accuracy: 0.857 - ETA: 1:36:26 - loss: 0.3936 - accuracy: 0.857 - ETA: 1:36:15 - loss: 0.3938 - accuracy: 0.856 - ETA: 1:36:03 - loss: 0.3933 - accuracy: 0.857 - ETA: 1:35:51 - loss: 0.3933 - accuracy: 0.857 - ETA: 1:35:40 - loss: 0.3940 - accuracy: 0.856 - ETA: 1:35:28 - loss: 0.3939 - accuracy: 0.856 - ETA: 1:35:17 - loss: 0.3934 - accuracy: 0.8567510/846 [=================>............] - ETA: 1:35:05 - loss: 0.3940 - accuracy: 0.856 - ETA: 1:34:54 - loss: 0.3938 - accuracy: 0.856 - ETA: 1:34:42 - loss: 0.3931 - accuracy: 0.856 - ETA: 1:34:30 - loss: 0.3934 - accuracy: 0.856 - ETA: 1:34:20 - loss: 0.3928 - accuracy: 0.857 - ETA: 1:34:08 - loss: 0.3928 - accuracy: 0.857 - ETA: 1:33:57 - loss: 0.3927 - accuracy: 0.857 - ETA: 1:33:46 - loss: 0.3930 - accuracy: 0.857 - ETA: 1:33:34 - loss: 0.3929 - accuracy: 0.857 - ETA: 1:33:23 - loss: 0.3925 - accuracy: 0.857 - ETA: 1:33:17 - loss: 0.3926 - accuracy: 0.857 - ETA: 1:33:07 - loss: 0.3927 - accuracy: 0.857 - ETA: 1:32:55 - loss: 0.3922 - accuracy: 0.857 - ETA: 1:32:43 - loss: 0.3916 - accuracy: 0.857 - ETA: 1:32:32 - loss: 0.3914 - accuracy: 0.857 - ETA: 1:32:21 - loss: 0.3912 - accuracy: 0.857 - ETA: 1:32:09 - loss: 0.3915 - accuracy: 0.857 - ETA: 1:31:58 - loss: 0.3911 - accuracy: 0.857 - ETA: 1:31:46 - loss: 0.3919 - accuracy: 0.857 - ETA: 1:31:35 - loss: 0.3917 - accuracy: 0.857 - ETA: 1:31:24 - loss: 0.3913 - accuracy: 0.857 - ETA: 1:31:12 - loss: 0.3913 - accuracy: 0.857 - ETA: 1:31:01 - loss: 0.3916 - accuracy: 0.857 - ETA: 1:30:50 - loss: 0.3914 - accuracy: 0.857 - ETA: 1:30:38 - loss: 0.3911 - accuracy: 0.857 - ETA: 1:30:27 - loss: 0.3909 - accuracy: 0.858 - ETA: 1:30:15 - loss: 0.3913 - accuracy: 0.857 - ETA: 1:30:04 - loss: 0.3920 - accuracy: 0.857 - ETA: 1:29:53 - loss: 0.3917 - accuracy: 0.857 - ETA: 1:29:41 - loss: 0.3916 - accuracy: 0.857 - ETA: 1:29:30 - loss: 0.3920 - accuracy: 0.857 - ETA: 1:29:19 - loss: 0.3916 - accuracy: 0.857 - ETA: 1:29:07 - loss: 0.3914 - accuracy: 0.858 - ETA: 1:28:55 - loss: 0.3914 - accuracy: 0.858 - ETA: 1:28:44 - loss: 0.3921 - accuracy: 0.857 - ETA: 1:28:33 - loss: 0.3920 - accuracy: 0.858 - ETA: 1:28:22 - loss: 0.3922 - accuracy: 0.858 - ETA: 1:28:10 - loss: 0.3922 - accuracy: 0.858 - ETA: 1:27:59 - loss: 0.3922 - accuracy: 0.857 - ETA: 1:27:47 - loss: 0.3924 - accuracy: 0.857 - ETA: 1:27:36 - loss: 0.3923 - accuracy: 0.857 - ETA: 1:27:25 - loss: 0.3917 - accuracy: 0.858 - ETA: 1:27:13 - loss: 0.3911 - accuracy: 0.858 - ETA: 1:27:02 - loss: 0.3913 - accuracy: 0.858 - ETA: 1:26:50 - loss: 0.3912 - accuracy: 0.858 - ETA: 1:26:39 - loss: 0.3913 - accuracy: 0.858 - ETA: 1:26:28 - loss: 0.3911 - accuracy: 0.858 - ETA: 1:26:16 - loss: 0.3909 - accuracy: 0.858 - ETA: 1:26:05 - loss: 0.3910 - accuracy: 0.858 - ETA: 1:25:53 - loss: 0.3910 - accuracy: 0.858 - ETA: 1:25:42 - loss: 0.3910 - accuracy: 0.858 - ETA: 1:25:30 - loss: 0.3909 - accuracy: 0.858 - ETA: 1:25:19 - loss: 0.3911 - accuracy: 0.858 - ETA: 1:25:08 - loss: 0.3918 - accuracy: 0.858 - ETA: 1:24:56 - loss: 0.3914 - accuracy: 0.858 - ETA: 1:24:45 - loss: 0.3914 - accuracy: 0.858 - ETA: 1:24:33 - loss: 0.3914 - accuracy: 0.858 - ETA: 1:24:22 - loss: 0.3916 - accuracy: 0.858 - ETA: 1:24:11 - loss: 0.3914 - accuracy: 0.858 - ETA: 1:23:59 - loss: 0.3911 - accuracy: 0.858 - ETA: 1:23:48 - loss: 0.3909 - accuracy: 0.858 - ETA: 1:23:36 - loss: 0.3907 - accuracy: 0.858 - ETA: 1:23:25 - loss: 0.3905 - accuracy: 0.858 - ETA: 1:23:14 - loss: 0.3902 - accuracy: 0.858 - ETA: 1:23:03 - loss: 0.3897 - accuracy: 0.858 - ETA: 1:22:51 - loss: 0.3898 - accuracy: 0.858 - ETA: 1:22:40 - loss: 0.3895 - accuracy: 0.858 - ETA: 1:22:28 - loss: 0.3899 - accuracy: 0.858 - ETA: 1:22:17 - loss: 0.3896 - accuracy: 0.858 - ETA: 1:22:05 - loss: 0.3906 - accuracy: 0.858 - ETA: 1:21:55 - loss: 0.3905 - accuracy: 0.858 - ETA: 1:21:46 - loss: 0.3900 - accuracy: 0.859 - ETA: 1:21:36 - loss: 0.3895 - accuracy: 0.859 - ETA: 1:21:26 - loss: 0.3895 - accuracy: 0.859 - ETA: 1:21:16 - loss: 0.3889 - accuracy: 0.859 - ETA: 1:21:06 - loss: 0.3887 - accuracy: 0.859 - ETA: 1:20:54 - loss: 0.3886 - accuracy: 0.859 - ETA: 1:20:43 - loss: 0.3887 - accuracy: 0.859 - ETA: 1:20:31 - loss: 0.3888 - accuracy: 0.859 - ETA: 1:20:20 - loss: 0.3887 - accuracy: 0.859 - ETA: 1:20:08 - loss: 0.3891 - accuracy: 0.859 - ETA: 1:19:57 - loss: 0.3890 - accuracy: 0.859 - ETA: 1:19:46 - loss: 0.3892 - accuracy: 0.859 - ETA: 1:19:34 - loss: 0.3894 - accuracy: 0.859 - ETA: 1:19:23 - loss: 0.3899 - accuracy: 0.859 - ETA: 1:19:11 - loss: 0.3895 - accuracy: 0.859 - ETA: 1:18:59 - loss: 0.3906 - accuracy: 0.859 - ETA: 1:18:48 - loss: 0.3902 - accuracy: 0.859 - ETA: 1:18:37 - loss: 0.3901 - accuracy: 0.859 - ETA: 1:18:25 - loss: 0.3898 - accuracy: 0.859 - ETA: 1:18:14 - loss: 0.3893 - accuracy: 0.859 - ETA: 1:18:02 - loss: 0.3892 - accuracy: 0.859 - ETA: 1:17:51 - loss: 0.3889 - accuracy: 0.859 - ETA: 1:17:39 - loss: 0.3886 - accuracy: 0.859 - ETA: 1:17:28 - loss: 0.3882 - accuracy: 0.860 - ETA: 1:17:16 - loss: 0.3878 - accuracy: 0.860 - ETA: 1:17:04 - loss: 0.3876 - accuracy: 0.860 - ETA: 1:16:52 - loss: 0.3873 - accuracy: 0.860 - ETA: 1:16:41 - loss: 0.3871 - accuracy: 0.860 - ETA: 1:16:29 - loss: 0.3866 - accuracy: 0.860 - ETA: 1:16:18 - loss: 0.3870 - accuracy: 0.860 - ETA: 1:16:06 - loss: 0.3867 - accuracy: 0.860 - ETA: 1:15:54 - loss: 0.3862 - accuracy: 0.861 - ETA: 1:15:43 - loss: 0.3862 - accuracy: 0.861 - ETA: 1:15:31 - loss: 0.3858 - accuracy: 0.861 - ETA: 1:15:20 - loss: 0.3855 - accuracy: 0.861 - ETA: 1:15:08 - loss: 0.3852 - accuracy: 0.861 - ETA: 1:14:57 - loss: 0.3850 - accuracy: 0.861 - ETA: 1:14:46 - loss: 0.3847 - accuracy: 0.861 - ETA: 1:14:34 - loss: 0.3846 - accuracy: 0.861 - ETA: 1:14:23 - loss: 0.3852 - accuracy: 0.861 - ETA: 1:14:11 - loss: 0.3858 - accuracy: 0.861 - ETA: 1:13:59 - loss: 0.3856 - accuracy: 0.861 - ETA: 1:13:48 - loss: 0.3857 - accuracy: 0.861 - ETA: 1:13:36 - loss: 0.3857 - accuracy: 0.861 - ETA: 1:13:25 - loss: 0.3859 - accuracy: 0.861 - ETA: 1:13:13 - loss: 0.3865 - accuracy: 0.861 - ETA: 1:13:02 - loss: 0.3860 - accuracy: 0.861 - ETA: 1:12:50 - loss: 0.3858 - accuracy: 0.861 - ETA: 1:12:39 - loss: 0.3857 - accuracy: 0.861 - ETA: 1:12:27 - loss: 0.3856 - accuracy: 0.861 - ETA: 1:12:16 - loss: 0.3857 - accuracy: 0.861 - ETA: 1:12:04 - loss: 0.3854 - accuracy: 0.861 - ETA: 1:11:53 - loss: 0.3852 - accuracy: 0.861 - ETA: 1:11:41 - loss: 0.3851 - accuracy: 0.861 - ETA: 1:11:29 - loss: 0.3850 - accuracy: 0.861 - ETA: 1:11:18 - loss: 0.3851 - accuracy: 0.861 - ETA: 1:11:06 - loss: 0.3850 - accuracy: 0.861 - ETA: 1:10:55 - loss: 0.3852 - accuracy: 0.861 - ETA: 1:10:44 - loss: 0.3851 - accuracy: 0.861 - ETA: 1:10:32 - loss: 0.3855 - accuracy: 0.861 - ETA: 1:10:21 - loss: 0.3852 - accuracy: 0.861 - ETA: 1:10:09 - loss: 0.3852 - accuracy: 0.861 - ETA: 1:09:58 - loss: 0.3850 - accuracy: 0.861 - ETA: 1:09:46 - loss: 0.3847 - accuracy: 0.861 - ETA: 1:09:35 - loss: 0.3845 - accuracy: 0.861 - ETA: 1:09:23 - loss: 0.3844 - accuracy: 0.861 - ETA: 1:09:12 - loss: 0.3844 - accuracy: 0.861 - ETA: 1:09:00 - loss: 0.3843 - accuracy: 0.861 - ETA: 1:08:49 - loss: 0.3847 - accuracy: 0.861 - ETA: 1:08:37 - loss: 0.3846 - accuracy: 0.861 - ETA: 1:08:26 - loss: 0.3854 - accuracy: 0.861 - ETA: 1:08:14 - loss: 0.3851 - accuracy: 0.861 - ETA: 1:08:03 - loss: 0.3848 - accuracy: 0.861 - ETA: 1:07:51 - loss: 0.3852 - accuracy: 0.861 - ETA: 1:07:40 - loss: 0.3853 - accuracy: 0.861 - ETA: 1:07:28 - loss: 0.3854 - accuracy: 0.861 - ETA: 1:07:17 - loss: 0.3854 - accuracy: 0.861 - ETA: 1:07:05 - loss: 0.3852 - accuracy: 0.861 - ETA: 1:06:53 - loss: 0.3850 - accuracy: 0.861 - ETA: 1:06:42 - loss: 0.3849 - accuracy: 0.861 - ETA: 1:06:30 - loss: 0.3851 - accuracy: 0.861 - ETA: 1:06:19 - loss: 0.3849 - accuracy: 0.861 - ETA: 1:06:08 - loss: 0.3847 - accuracy: 0.861 - ETA: 1:05:56 - loss: 0.3846 - accuracy: 0.862 - ETA: 1:05:45 - loss: 0.3849 - accuracy: 0.862 - ETA: 1:05:33 - loss: 0.3845 - accuracy: 0.862 - ETA: 1:05:21 - loss: 0.3845 - accuracy: 0.862 - ETA: 1:05:10 - loss: 0.3844 - accuracy: 0.862 - ETA: 1:04:59 - loss: 0.3841 - accuracy: 0.862 - ETA: 1:04:47 - loss: 0.3841 - accuracy: 0.862 - ETA: 1:04:36 - loss: 0.3840 - accuracy: 0.862 - ETA: 1:04:24 - loss: 0.3837 - accuracy: 0.862 - ETA: 1:04:13 - loss: 0.3837 - accuracy: 0.862 - ETA: 1:04:01 - loss: 0.3840 - accuracy: 0.862 - ETA: 1:03:50 - loss: 0.3836 - accuracy: 0.862 - ETA: 1:03:39 - loss: 0.3835 - accuracy: 0.862 - ETA: 1:03:27 - loss: 0.3830 - accuracy: 0.862 - ETA: 1:03:15 - loss: 0.3828 - accuracy: 0.862 - ETA: 1:03:04 - loss: 0.3826 - accuracy: 0.8625687/846 [=======================>......] - ETA: 1:02:53 - loss: 0.3826 - accuracy: 0.862 - ETA: 1:02:41 - loss: 0.3829 - accuracy: 0.862 - ETA: 1:02:30 - loss: 0.3835 - accuracy: 0.862 - ETA: 1:02:18 - loss: 0.3834 - accuracy: 0.862 - ETA: 1:02:07 - loss: 0.3836 - accuracy: 0.862 - ETA: 1:01:56 - loss: 0.3837 - accuracy: 0.862 - ETA: 1:01:44 - loss: 0.3838 - accuracy: 0.861 - ETA: 1:01:33 - loss: 0.3839 - accuracy: 0.861 - ETA: 1:01:21 - loss: 0.3835 - accuracy: 0.862 - ETA: 1:01:10 - loss: 0.3832 - accuracy: 0.862 - ETA: 1:00:58 - loss: 0.3833 - accuracy: 0.862 - ETA: 1:00:47 - loss: 0.3835 - accuracy: 0.862 - ETA: 1:00:36 - loss: 0.3838 - accuracy: 0.862 - ETA: 1:00:25 - loss: 0.3838 - accuracy: 0.861 - ETA: 1:00:13 - loss: 0.3835 - accuracy: 0.862 - ETA: 1:00:02 - loss: 0.3833 - accuracy: 0.862 - ETA: 59:51 - loss: 0.3833 - accuracy: 0.8620  - ETA: 59:39 - loss: 0.3831 - accuracy: 0.862 - ETA: 59:28 - loss: 0.3830 - accuracy: 0.862 - ETA: 59:16 - loss: 0.3829 - accuracy: 0.862 - ETA: 59:05 - loss: 0.3830 - accuracy: 0.862 - ETA: 58:54 - loss: 0.3828 - accuracy: 0.862 - ETA: 58:42 - loss: 0.3825 - accuracy: 0.862 - ETA: 58:31 - loss: 0.3828 - accuracy: 0.862 - ETA: 58:20 - loss: 0.3831 - accuracy: 0.862 - ETA: 58:08 - loss: 0.3834 - accuracy: 0.862 - ETA: 57:57 - loss: 0.3834 - accuracy: 0.862 - ETA: 57:46 - loss: 0.3832 - accuracy: 0.861 - ETA: 57:34 - loss: 0.3831 - accuracy: 0.862 - ETA: 57:23 - loss: 0.3833 - accuracy: 0.861 - ETA: 57:12 - loss: 0.3831 - accuracy: 0.862 - ETA: 57:00 - loss: 0.3834 - accuracy: 0.861 - ETA: 56:49 - loss: 0.3844 - accuracy: 0.861 - ETA: 56:37 - loss: 0.3845 - accuracy: 0.861 - ETA: 56:26 - loss: 0.3843 - accuracy: 0.861 - ETA: 56:15 - loss: 0.3846 - accuracy: 0.861 - ETA: 56:03 - loss: 0.3848 - accuracy: 0.861 - ETA: 55:52 - loss: 0.3847 - accuracy: 0.861 - ETA: 55:41 - loss: 0.3849 - accuracy: 0.861 - ETA: 55:29 - loss: 0.3846 - accuracy: 0.861 - ETA: 55:18 - loss: 0.3848 - accuracy: 0.861 - ETA: 55:07 - loss: 0.3844 - accuracy: 0.861 - ETA: 54:55 - loss: 0.3845 - accuracy: 0.861 - ETA: 54:44 - loss: 0.3848 - accuracy: 0.861 - ETA: 54:32 - loss: 0.3849 - accuracy: 0.861 - ETA: 54:21 - loss: 0.3848 - accuracy: 0.861 - ETA: 54:10 - loss: 0.3847 - accuracy: 0.861 - ETA: 53:58 - loss: 0.3846 - accuracy: 0.861 - ETA: 53:47 - loss: 0.3847 - accuracy: 0.861 - ETA: 53:36 - loss: 0.3846 - accuracy: 0.861 - ETA: 53:25 - loss: 0.3845 - accuracy: 0.861 - ETA: 53:14 - loss: 0.3846 - accuracy: 0.861 - ETA: 53:02 - loss: 0.3846 - accuracy: 0.861 - ETA: 52:51 - loss: 0.3848 - accuracy: 0.861 - ETA: 52:40 - loss: 0.3847 - accuracy: 0.861 - ETA: 52:29 - loss: 0.3845 - accuracy: 0.861 - ETA: 52:18 - loss: 0.3846 - accuracy: 0.861 - ETA: 52:06 - loss: 0.3843 - accuracy: 0.861 - ETA: 51:55 - loss: 0.3846 - accuracy: 0.861 - ETA: 51:44 - loss: 0.3845 - accuracy: 0.861 - ETA: 51:33 - loss: 0.3845 - accuracy: 0.861 - ETA: 51:21 - loss: 0.3850 - accuracy: 0.861 - ETA: 51:10 - loss: 0.3849 - accuracy: 0.861 - ETA: 50:59 - loss: 0.3847 - accuracy: 0.861 - ETA: 50:48 - loss: 0.3849 - accuracy: 0.861 - ETA: 50:37 - loss: 0.3851 - accuracy: 0.860 - ETA: 50:26 - loss: 0.3849 - accuracy: 0.860 - ETA: 50:15 - loss: 0.3852 - accuracy: 0.860 - ETA: 50:04 - loss: 0.3850 - accuracy: 0.860 - ETA: 49:53 - loss: 0.3851 - accuracy: 0.860 - ETA: 49:43 - loss: 0.3850 - accuracy: 0.860 - ETA: 49:32 - loss: 0.3848 - accuracy: 0.860 - ETA: 49:22 - loss: 0.3848 - accuracy: 0.860 - ETA: 49:10 - loss: 0.3848 - accuracy: 0.860 - ETA: 48:59 - loss: 0.3848 - accuracy: 0.860 - ETA: 48:48 - loss: 0.3849 - accuracy: 0.860 - ETA: 48:37 - loss: 0.3845 - accuracy: 0.860 - ETA: 48:26 - loss: 0.3844 - accuracy: 0.860 - ETA: 48:15 - loss: 0.3843 - accuracy: 0.860 - ETA: 48:04 - loss: 0.3840 - accuracy: 0.861 - ETA: 47:53 - loss: 0.3839 - accuracy: 0.861 - ETA: 47:42 - loss: 0.3841 - accuracy: 0.861 - ETA: 47:30 - loss: 0.3838 - accuracy: 0.861 - ETA: 47:19 - loss: 0.3838 - accuracy: 0.861 - ETA: 47:08 - loss: 0.3839 - accuracy: 0.861 - ETA: 46:56 - loss: 0.3840 - accuracy: 0.861 - ETA: 46:45 - loss: 0.3839 - accuracy: 0.861 - ETA: 46:34 - loss: 0.3840 - accuracy: 0.861 - ETA: 46:23 - loss: 0.3840 - accuracy: 0.861 - ETA: 46:12 - loss: 0.3843 - accuracy: 0.861 - ETA: 46:01 - loss: 0.3842 - accuracy: 0.861 - ETA: 45:50 - loss: 0.3840 - accuracy: 0.861 - ETA: 45:39 - loss: 0.3838 - accuracy: 0.861 - ETA: 45:28 - loss: 0.3838 - accuracy: 0.861 - ETA: 45:17 - loss: 0.3837 - accuracy: 0.861 - ETA: 45:06 - loss: 0.3844 - accuracy: 0.861 - ETA: 44:56 - loss: 0.3842 - accuracy: 0.861 - ETA: 44:45 - loss: 0.3842 - accuracy: 0.861 - ETA: 44:33 - loss: 0.3841 - accuracy: 0.861 - ETA: 44:22 - loss: 0.3843 - accuracy: 0.861 - ETA: 44:11 - loss: 0.3840 - accuracy: 0.861 - ETA: 44:01 - loss: 0.3844 - accuracy: 0.861 - ETA: 43:50 - loss: 0.3843 - accuracy: 0.861 - ETA: 43:39 - loss: 0.3841 - accuracy: 0.861 - ETA: 43:27 - loss: 0.3847 - accuracy: 0.860 - ETA: 43:16 - loss: 0.3849 - accuracy: 0.860 - ETA: 43:06 - loss: 0.3846 - accuracy: 0.860 - ETA: 42:56 - loss: 0.3842 - accuracy: 0.861 - ETA: 42:44 - loss: 0.3843 - accuracy: 0.861 - ETA: 42:33 - loss: 0.3841 - accuracy: 0.861 - ETA: 42:22 - loss: 0.3838 - accuracy: 0.861 - ETA: 42:11 - loss: 0.3836 - accuracy: 0.861 - ETA: 41:59 - loss: 0.3836 - accuracy: 0.861 - ETA: 41:48 - loss: 0.3834 - accuracy: 0.861 - ETA: 41:37 - loss: 0.3834 - accuracy: 0.861 - ETA: 41:25 - loss: 0.3835 - accuracy: 0.861 - ETA: 41:14 - loss: 0.3834 - accuracy: 0.861 - ETA: 41:02 - loss: 0.3831 - accuracy: 0.861 - ETA: 40:51 - loss: 0.3832 - accuracy: 0.861 - ETA: 40:40 - loss: 0.3830 - accuracy: 0.861 - ETA: 40:28 - loss: 0.3832 - accuracy: 0.861 - ETA: 40:17 - loss: 0.3830 - accuracy: 0.861 - ETA: 40:05 - loss: 0.3831 - accuracy: 0.861 - ETA: 39:54 - loss: 0.3831 - accuracy: 0.861 - ETA: 39:42 - loss: 0.3832 - accuracy: 0.861 - ETA: 39:31 - loss: 0.3832 - accuracy: 0.861 - ETA: 39:20 - loss: 0.3830 - accuracy: 0.861 - ETA: 39:08 - loss: 0.3829 - accuracy: 0.861 - ETA: 38:57 - loss: 0.3830 - accuracy: 0.861 - ETA: 38:46 - loss: 0.3830 - accuracy: 0.861 - ETA: 38:34 - loss: 0.3830 - accuracy: 0.861 - ETA: 38:23 - loss: 0.3831 - accuracy: 0.861 - ETA: 38:11 - loss: 0.3829 - accuracy: 0.861 - ETA: 38:00 - loss: 0.3827 - accuracy: 0.861 - ETA: 37:49 - loss: 0.3824 - accuracy: 0.861 - ETA: 37:37 - loss: 0.3821 - accuracy: 0.861 - ETA: 37:26 - loss: 0.3823 - accuracy: 0.861 - ETA: 37:14 - loss: 0.3826 - accuracy: 0.861 - ETA: 37:03 - loss: 0.3827 - accuracy: 0.861 - ETA: 36:52 - loss: 0.3830 - accuracy: 0.861 - ETA: 36:40 - loss: 0.3828 - accuracy: 0.861 - ETA: 36:29 - loss: 0.3828 - accuracy: 0.861 - ETA: 36:18 - loss: 0.3828 - accuracy: 0.861 - ETA: 36:06 - loss: 0.3825 - accuracy: 0.861 - ETA: 35:55 - loss: 0.3823 - accuracy: 0.861 - ETA: 35:43 - loss: 0.3821 - accuracy: 0.861 - ETA: 35:32 - loss: 0.3823 - accuracy: 0.861 - ETA: 35:21 - loss: 0.3822 - accuracy: 0.861 - ETA: 35:09 - loss: 0.3822 - accuracy: 0.861 - ETA: 34:58 - loss: 0.3820 - accuracy: 0.861 - ETA: 34:46 - loss: 0.3821 - accuracy: 0.861 - ETA: 34:35 - loss: 0.3819 - accuracy: 0.861 - ETA: 34:24 - loss: 0.3817 - accuracy: 0.861 - ETA: 34:12 - loss: 0.3818 - accuracy: 0.861 - ETA: 34:01 - loss: 0.3819 - accuracy: 0.861 - ETA: 33:49 - loss: 0.3816 - accuracy: 0.861 - ETA: 33:38 - loss: 0.3814 - accuracy: 0.861 - ETA: 33:27 - loss: 0.3812 - accuracy: 0.861 - ETA: 33:15 - loss: 0.3813 - accuracy: 0.861 - ETA: 33:04 - loss: 0.3811 - accuracy: 0.861 - ETA: 32:53 - loss: 0.3808 - accuracy: 0.862 - ETA: 32:41 - loss: 0.3813 - accuracy: 0.861 - ETA: 32:30 - loss: 0.3809 - accuracy: 0.862 - ETA: 32:18 - loss: 0.3809 - accuracy: 0.862 - ETA: 32:07 - loss: 0.3809 - accuracy: 0.861 - ETA: 31:56 - loss: 0.3808 - accuracy: 0.862 - ETA: 31:44 - loss: 0.3804 - accuracy: 0.862 - ETA: 31:33 - loss: 0.3803 - accuracy: 0.862 - ETA: 31:21 - loss: 0.3805 - accuracy: 0.862 - ETA: 31:10 - loss: 0.3806 - accuracy: 0.862 - ETA: 30:59 - loss: 0.3806 - accuracy: 0.862 - ETA: 30:47 - loss: 0.3807 - accuracy: 0.862 - ETA: 30:36 - loss: 0.3805 - accuracy: 0.862 - ETA: 30:25 - loss: 0.3803 - accuracy: 0.862 - ETA: 30:13 - loss: 0.3801 - accuracy: 0.862 - ETA: 30:02 - loss: 0.3803 - accuracy: 0.862 - ETA: 29:51 - loss: 0.3804 - accuracy: 0.8621"
     ]
    },
    {
     "name": "stdout",
     "output_type": "stream",
     "text": [
      "846/846 [==============================] - ETA: 29:39 - loss: 0.3806 - accuracy: 0.862 - ETA: 29:28 - loss: 0.3810 - accuracy: 0.861 - ETA: 29:17 - loss: 0.3809 - accuracy: 0.861 - ETA: 29:05 - loss: 0.3808 - accuracy: 0.861 - ETA: 28:54 - loss: 0.3806 - accuracy: 0.861 - ETA: 28:43 - loss: 0.3808 - accuracy: 0.861 - ETA: 28:31 - loss: 0.3805 - accuracy: 0.862 - ETA: 28:20 - loss: 0.3807 - accuracy: 0.862 - ETA: 28:08 - loss: 0.3804 - accuracy: 0.862 - ETA: 27:57 - loss: 0.3807 - accuracy: 0.862 - ETA: 27:46 - loss: 0.3807 - accuracy: 0.862 - ETA: 27:34 - loss: 0.3806 - accuracy: 0.862 - ETA: 27:23 - loss: 0.3806 - accuracy: 0.862 - ETA: 27:12 - loss: 0.3806 - accuracy: 0.862 - ETA: 27:00 - loss: 0.3806 - accuracy: 0.862 - ETA: 26:49 - loss: 0.3809 - accuracy: 0.861 - ETA: 26:38 - loss: 0.3809 - accuracy: 0.861 - ETA: 26:26 - loss: 0.3809 - accuracy: 0.862 - ETA: 26:15 - loss: 0.3812 - accuracy: 0.861 - ETA: 26:03 - loss: 0.3809 - accuracy: 0.862 - ETA: 25:52 - loss: 0.3806 - accuracy: 0.862 - ETA: 25:41 - loss: 0.3805 - accuracy: 0.862 - ETA: 25:29 - loss: 0.3802 - accuracy: 0.862 - ETA: 25:18 - loss: 0.3801 - accuracy: 0.862 - ETA: 25:07 - loss: 0.3799 - accuracy: 0.862 - ETA: 24:55 - loss: 0.3798 - accuracy: 0.862 - ETA: 24:44 - loss: 0.3797 - accuracy: 0.862 - ETA: 24:33 - loss: 0.3798 - accuracy: 0.862 - ETA: 24:21 - loss: 0.3797 - accuracy: 0.862 - ETA: 24:10 - loss: 0.3794 - accuracy: 0.862 - ETA: 23:59 - loss: 0.3796 - accuracy: 0.862 - ETA: 23:47 - loss: 0.3797 - accuracy: 0.862 - ETA: 23:36 - loss: 0.3796 - accuracy: 0.862 - ETA: 23:25 - loss: 0.3794 - accuracy: 0.862 - ETA: 23:13 - loss: 0.3791 - accuracy: 0.862 - ETA: 23:02 - loss: 0.3795 - accuracy: 0.862 - ETA: 22:51 - loss: 0.3793 - accuracy: 0.862 - ETA: 22:40 - loss: 0.3793 - accuracy: 0.862 - ETA: 22:28 - loss: 0.3791 - accuracy: 0.862 - ETA: 22:17 - loss: 0.3790 - accuracy: 0.862 - ETA: 22:06 - loss: 0.3791 - accuracy: 0.862 - ETA: 21:55 - loss: 0.3790 - accuracy: 0.862 - ETA: 21:43 - loss: 0.3788 - accuracy: 0.862 - ETA: 21:32 - loss: 0.3786 - accuracy: 0.862 - ETA: 21:21 - loss: 0.3787 - accuracy: 0.862 - ETA: 21:10 - loss: 0.3789 - accuracy: 0.862 - ETA: 20:59 - loss: 0.3786 - accuracy: 0.862 - ETA: 20:49 - loss: 0.3786 - accuracy: 0.862 - ETA: 20:39 - loss: 0.3789 - accuracy: 0.862 - ETA: 20:29 - loss: 0.3793 - accuracy: 0.862 - ETA: 20:18 - loss: 0.3794 - accuracy: 0.862 - ETA: 20:08 - loss: 0.3794 - accuracy: 0.862 - ETA: 19:57 - loss: 0.3793 - accuracy: 0.862 - ETA: 19:46 - loss: 0.3793 - accuracy: 0.862 - ETA: 19:36 - loss: 0.3791 - accuracy: 0.862 - ETA: 19:25 - loss: 0.3791 - accuracy: 0.863 - ETA: 19:14 - loss: 0.3793 - accuracy: 0.862 - ETA: 19:03 - loss: 0.3795 - accuracy: 0.862 - ETA: 18:52 - loss: 0.3793 - accuracy: 0.863 - ETA: 18:41 - loss: 0.3791 - accuracy: 0.863 - ETA: 18:30 - loss: 0.3791 - accuracy: 0.863 - ETA: 18:19 - loss: 0.3790 - accuracy: 0.863 - ETA: 18:07 - loss: 0.3791 - accuracy: 0.863 - ETA: 17:56 - loss: 0.3788 - accuracy: 0.863 - ETA: 17:45 - loss: 0.3788 - accuracy: 0.863 - ETA: 17:33 - loss: 0.3791 - accuracy: 0.863 - ETA: 17:22 - loss: 0.3791 - accuracy: 0.863 - ETA: 17:11 - loss: 0.3789 - accuracy: 0.863 - ETA: 16:59 - loss: 0.3789 - accuracy: 0.863 - ETA: 16:48 - loss: 0.3788 - accuracy: 0.863 - ETA: 16:37 - loss: 0.3786 - accuracy: 0.863 - ETA: 16:25 - loss: 0.3785 - accuracy: 0.863 - ETA: 16:14 - loss: 0.3783 - accuracy: 0.863 - ETA: 16:03 - loss: 0.3780 - accuracy: 0.863 - ETA: 15:51 - loss: 0.3781 - accuracy: 0.863 - ETA: 15:40 - loss: 0.3780 - accuracy: 0.863 - ETA: 15:29 - loss: 0.3781 - accuracy: 0.863 - ETA: 15:18 - loss: 0.3781 - accuracy: 0.863 - ETA: 15:07 - loss: 0.3782 - accuracy: 0.863 - ETA: 14:56 - loss: 0.3781 - accuracy: 0.863 - ETA: 14:44 - loss: 0.3781 - accuracy: 0.863 - ETA: 14:33 - loss: 0.3778 - accuracy: 0.863 - ETA: 14:22 - loss: 0.3778 - accuracy: 0.863 - ETA: 14:11 - loss: 0.3780 - accuracy: 0.863 - ETA: 14:00 - loss: 0.3778 - accuracy: 0.863 - ETA: 13:48 - loss: 0.3776 - accuracy: 0.863 - ETA: 13:37 - loss: 0.3777 - accuracy: 0.863 - ETA: 13:26 - loss: 0.3776 - accuracy: 0.863 - ETA: 13:15 - loss: 0.3776 - accuracy: 0.863 - ETA: 13:03 - loss: 0.3773 - accuracy: 0.863 - ETA: 12:52 - loss: 0.3774 - accuracy: 0.863 - ETA: 12:41 - loss: 0.3772 - accuracy: 0.864 - ETA: 12:30 - loss: 0.3770 - accuracy: 0.864 - ETA: 12:18 - loss: 0.3768 - accuracy: 0.864 - ETA: 12:07 - loss: 0.3770 - accuracy: 0.864 - ETA: 11:56 - loss: 0.3770 - accuracy: 0.864 - ETA: 11:44 - loss: 0.3770 - accuracy: 0.864 - ETA: 11:33 - loss: 0.3769 - accuracy: 0.864 - ETA: 11:22 - loss: 0.3772 - accuracy: 0.863 - ETA: 11:10 - loss: 0.3769 - accuracy: 0.864 - ETA: 10:59 - loss: 0.3769 - accuracy: 0.864 - ETA: 10:48 - loss: 0.3769 - accuracy: 0.863 - ETA: 10:36 - loss: 0.3768 - accuracy: 0.863 - ETA: 10:25 - loss: 0.3770 - accuracy: 0.863 - ETA: 10:13 - loss: 0.3770 - accuracy: 0.863 - ETA: 10:02 - loss: 0.3769 - accuracy: 0.863 - ETA: 9:51 - loss: 0.3766 - accuracy: 0.864 - ETA: 9:39 - loss: 0.3765 - accuracy: 0.86 - ETA: 9:28 - loss: 0.3763 - accuracy: 0.86 - ETA: 9:17 - loss: 0.3766 - accuracy: 0.86 - ETA: 9:05 - loss: 0.3765 - accuracy: 0.86 - ETA: 8:54 - loss: 0.3764 - accuracy: 0.86 - ETA: 8:43 - loss: 0.3763 - accuracy: 0.86 - ETA: 8:31 - loss: 0.3762 - accuracy: 0.86 - ETA: 8:20 - loss: 0.3760 - accuracy: 0.86 - ETA: 8:09 - loss: 0.3761 - accuracy: 0.86 - ETA: 7:57 - loss: 0.3766 - accuracy: 0.86 - ETA: 7:46 - loss: 0.3765 - accuracy: 0.86 - ETA: 7:35 - loss: 0.3762 - accuracy: 0.86 - ETA: 7:23 - loss: 0.3760 - accuracy: 0.86 - ETA: 7:12 - loss: 0.3760 - accuracy: 0.86 - ETA: 7:01 - loss: 0.3762 - accuracy: 0.86 - ETA: 6:49 - loss: 0.3762 - accuracy: 0.86 - ETA: 6:38 - loss: 0.3767 - accuracy: 0.86 - ETA: 6:27 - loss: 0.3770 - accuracy: 0.86 - ETA: 6:15 - loss: 0.3770 - accuracy: 0.86 - ETA: 6:04 - loss: 0.3770 - accuracy: 0.86 - ETA: 5:52 - loss: 0.3770 - accuracy: 0.86 - ETA: 5:41 - loss: 0.3775 - accuracy: 0.86 - ETA: 5:30 - loss: 0.3773 - accuracy: 0.86 - ETA: 5:18 - loss: 0.3771 - accuracy: 0.86 - ETA: 5:07 - loss: 0.3769 - accuracy: 0.86 - ETA: 4:56 - loss: 0.3770 - accuracy: 0.86 - ETA: 4:44 - loss: 0.3775 - accuracy: 0.86 - ETA: 4:33 - loss: 0.3775 - accuracy: 0.86 - ETA: 4:22 - loss: 0.3774 - accuracy: 0.86 - ETA: 4:10 - loss: 0.3774 - accuracy: 0.86 - ETA: 3:59 - loss: 0.3772 - accuracy: 0.86 - ETA: 3:47 - loss: 0.3771 - accuracy: 0.86 - ETA: 3:36 - loss: 0.3771 - accuracy: 0.86 - ETA: 3:25 - loss: 0.3770 - accuracy: 0.86 - ETA: 3:13 - loss: 0.3770 - accuracy: 0.86 - ETA: 3:02 - loss: 0.3771 - accuracy: 0.86 - ETA: 2:51 - loss: 0.3771 - accuracy: 0.86 - ETA: 2:39 - loss: 0.3772 - accuracy: 0.86 - ETA: 2:28 - loss: 0.3770 - accuracy: 0.86 - ETA: 2:16 - loss: 0.3770 - accuracy: 0.86 - ETA: 2:05 - loss: 0.3770 - accuracy: 0.86 - ETA: 1:54 - loss: 0.3768 - accuracy: 0.86 - ETA: 1:42 - loss: 0.3766 - accuracy: 0.86 - ETA: 1:31 - loss: 0.3764 - accuracy: 0.86 - ETA: 1:19 - loss: 0.3762 - accuracy: 0.86 - ETA: 1:08 - loss: 0.3760 - accuracy: 0.86 - ETA: 57s - loss: 0.3757 - accuracy: 0.8642 - ETA: 45s - loss: 0.3757 - accuracy: 0.864 - ETA: 34s - loss: 0.3756 - accuracy: 0.864 - ETA: 22s - loss: 0.3755 - accuracy: 0.864 - ETA: 11s - loss: 0.3754 - accuracy: 0.864 - ETA: 0s - loss: 0.3754 - accuracy: 0.864 - 9661s 11s/step - loss: 0.3754 - accuracy: 0.8644 - val_loss: 0.1041 - val_accuracy: 0.9688\n",
      "Epoch 3/5\n",
      "170/846 [=====>........................] - ETA: 0s - loss: 0.3938 - accuracy: 0.78 - ETA: 1:18:50 - loss: 0.3495 - accuracy: 0.859 - ETA: 1:49:00 - loss: 0.2854 - accuracy: 0.895 - ETA: 2:05:10 - loss: 0.2652 - accuracy: 0.914 - ETA: 2:13:41 - loss: 0.3110 - accuracy: 0.887 - ETA: 2:20:13 - loss: 0.3238 - accuracy: 0.885 - ETA: 2:24:07 - loss: 0.3409 - accuracy: 0.875 - ETA: 2:28:05 - loss: 0.3283 - accuracy: 0.878 - ETA: 2:30:34 - loss: 0.3397 - accuracy: 0.878 - ETA: 2:31:48 - loss: 0.3453 - accuracy: 0.878 - ETA: 2:32:56 - loss: 0.3451 - accuracy: 0.875 - ETA: 2:32:57 - loss: 0.3431 - accuracy: 0.875 - ETA: 2:33:01 - loss: 0.3453 - accuracy: 0.875 - ETA: 2:33:31 - loss: 0.3450 - accuracy: 0.870 - ETA: 2:34:39 - loss: 0.3380 - accuracy: 0.875 - ETA: 2:35:09 - loss: 0.3285 - accuracy: 0.878 - ETA: 2:35:22 - loss: 0.3307 - accuracy: 0.875 - ETA: 2:36:05 - loss: 0.3223 - accuracy: 0.878 - ETA: 2:36:44 - loss: 0.3231 - accuracy: 0.879 - ETA: 2:36:44 - loss: 0.3243 - accuracy: 0.881 - ETA: 2:36:43 - loss: 0.3190 - accuracy: 0.882 - ETA: 2:36:37 - loss: 0.3226 - accuracy: 0.882 - ETA: 2:37:10 - loss: 0.3255 - accuracy: 0.883 - ETA: 2:38:17 - loss: 0.3273 - accuracy: 0.881 - ETA: 2:40:13 - loss: 0.3292 - accuracy: 0.877 - ETA: 2:42:08 - loss: 0.3235 - accuracy: 0.881 - ETA: 2:43:26 - loss: 0.3411 - accuracy: 0.875 - ETA: 2:43:51 - loss: 0.3433 - accuracy: 0.875 - ETA: 2:44:25 - loss: 0.3372 - accuracy: 0.877 - ETA: 2:45:31 - loss: 0.3396 - accuracy: 0.875 - ETA: 2:45:59 - loss: 0.3376 - accuracy: 0.876 - ETA: 2:46:32 - loss: 0.3360 - accuracy: 0.877 - ETA: 2:46:47 - loss: 0.3350 - accuracy: 0.878 - ETA: 2:46:46 - loss: 0.3352 - accuracy: 0.880 - ETA: 2:47:12 - loss: 0.3304 - accuracy: 0.882 - ETA: 2:47:35 - loss: 0.3336 - accuracy: 0.881 - ETA: 2:47:30 - loss: 0.3330 - accuracy: 0.881 - ETA: 2:47:27 - loss: 0.3314 - accuracy: 0.882 - ETA: 2:47:59 - loss: 0.3304 - accuracy: 0.882 - ETA: 2:48:55 - loss: 0.3260 - accuracy: 0.883 - ETA: 2:49:17 - loss: 0.3293 - accuracy: 0.883 - ETA: 2:49:16 - loss: 0.3291 - accuracy: 0.882 - ETA: 2:49:44 - loss: 0.3300 - accuracy: 0.882 - ETA: 2:50:20 - loss: 0.3291 - accuracy: 0.882 - ETA: 2:50:32 - loss: 0.3298 - accuracy: 0.882 - ETA: 2:50:29 - loss: 0.3277 - accuracy: 0.883 - ETA: 2:50:24 - loss: 0.3298 - accuracy: 0.883 - ETA: 2:50:42 - loss: 0.3340 - accuracy: 0.882 - ETA: 2:51:14 - loss: 0.3345 - accuracy: 0.882 - ETA: 2:51:10 - loss: 0.3314 - accuracy: 0.884 - ETA: 2:51:00 - loss: 0.3333 - accuracy: 0.883 - ETA: 2:51:08 - loss: 0.3353 - accuracy: 0.882 - ETA: 2:51:02 - loss: 0.3348 - accuracy: 0.882 - ETA: 2:51:01 - loss: 0.3311 - accuracy: 0.884 - ETA: 2:50:56 - loss: 0.3335 - accuracy: 0.883 - ETA: 2:50:41 - loss: 0.3337 - accuracy: 0.882 - ETA: 2:50:42 - loss: 0.3319 - accuracy: 0.883 - ETA: 2:50:50 - loss: 0.3336 - accuracy: 0.882 - ETA: 2:51:10 - loss: 0.3325 - accuracy: 0.882 - ETA: 2:51:28 - loss: 0.3313 - accuracy: 0.883 - ETA: 2:51:48 - loss: 0.3312 - accuracy: 0.883 - ETA: 2:51:51 - loss: 0.3286 - accuracy: 0.885 - ETA: 2:51:22 - loss: 0.3311 - accuracy: 0.883 - ETA: 2:50:49 - loss: 0.3339 - accuracy: 0.882 - ETA: 2:50:21 - loss: 0.3343 - accuracy: 0.882 - ETA: 2:49:53 - loss: 0.3327 - accuracy: 0.883 - ETA: 2:49:22 - loss: 0.3299 - accuracy: 0.883 - ETA: 2:49:11 - loss: 0.3291 - accuracy: 0.884 - ETA: 2:48:55 - loss: 0.3283 - accuracy: 0.885 - ETA: 2:48:40 - loss: 0.3268 - accuracy: 0.885 - ETA: 2:48:11 - loss: 0.3282 - accuracy: 0.884 - ETA: 2:47:49 - loss: 0.3298 - accuracy: 0.884 - ETA: 2:47:25 - loss: 0.3298 - accuracy: 0.884 - ETA: 2:47:12 - loss: 0.3305 - accuracy: 0.883 - ETA: 2:47:04 - loss: 0.3424 - accuracy: 0.880 - ETA: 2:47:08 - loss: 0.3476 - accuracy: 0.879 - ETA: 2:47:01 - loss: 0.3500 - accuracy: 0.878 - ETA: 2:46:49 - loss: 0.3486 - accuracy: 0.879 - ETA: 2:46:29 - loss: 0.3532 - accuracy: 0.877 - ETA: 2:46:12 - loss: 0.3539 - accuracy: 0.876 - ETA: 2:45:48 - loss: 0.3544 - accuracy: 0.876 - ETA: 2:45:21 - loss: 0.3551 - accuracy: 0.876 - ETA: 2:45:02 - loss: 0.3539 - accuracy: 0.876 - ETA: 2:44:54 - loss: 0.3541 - accuracy: 0.876 - ETA: 2:44:37 - loss: 0.3525 - accuracy: 0.876 - ETA: 2:44:16 - loss: 0.3503 - accuracy: 0.877 - ETA: 2:43:48 - loss: 0.3509 - accuracy: 0.877 - ETA: 2:43:19 - loss: 0.3521 - accuracy: 0.877 - ETA: 2:42:54 - loss: 0.3500 - accuracy: 0.878 - ETA: 2:42:28 - loss: 0.3497 - accuracy: 0.877 - ETA: 2:42:00 - loss: 0.3490 - accuracy: 0.878 - ETA: 2:41:35 - loss: 0.3477 - accuracy: 0.879 - ETA: 2:41:10 - loss: 0.3494 - accuracy: 0.878 - ETA: 2:40:43 - loss: 0.3496 - accuracy: 0.877 - ETA: 2:40:17 - loss: 0.3515 - accuracy: 0.876 - ETA: 2:39:55 - loss: 0.3523 - accuracy: 0.875 - ETA: 2:39:28 - loss: 0.3520 - accuracy: 0.875 - ETA: 2:39:02 - loss: 0.3506 - accuracy: 0.875 - ETA: 2:38:41 - loss: 0.3491 - accuracy: 0.875 - ETA: 2:38:15 - loss: 0.3494 - accuracy: 0.875 - ETA: 2:37:51 - loss: 0.3484 - accuracy: 0.876 - ETA: 2:37:28 - loss: 0.3479 - accuracy: 0.876 - ETA: 2:37:03 - loss: 0.3470 - accuracy: 0.877 - ETA: 2:36:39 - loss: 0.3474 - accuracy: 0.877 - ETA: 2:36:15 - loss: 0.3464 - accuracy: 0.878 - ETA: 2:35:51 - loss: 0.3467 - accuracy: 0.877 - ETA: 2:35:30 - loss: 0.3487 - accuracy: 0.877 - ETA: 2:35:09 - loss: 0.3476 - accuracy: 0.877 - ETA: 2:34:46 - loss: 0.3496 - accuracy: 0.876 - ETA: 2:34:25 - loss: 0.3504 - accuracy: 0.876 - ETA: 2:34:05 - loss: 0.3484 - accuracy: 0.877 - ETA: 2:33:43 - loss: 0.3466 - accuracy: 0.878 - ETA: 2:33:23 - loss: 0.3457 - accuracy: 0.878 - ETA: 2:33:02 - loss: 0.3452 - accuracy: 0.878 - ETA: 2:32:39 - loss: 0.3455 - accuracy: 0.878 - ETA: 2:32:17 - loss: 0.3444 - accuracy: 0.878 - ETA: 2:31:56 - loss: 0.3448 - accuracy: 0.877 - ETA: 2:31:35 - loss: 0.3441 - accuracy: 0.878 - ETA: 2:31:15 - loss: 0.3441 - accuracy: 0.878 - ETA: 2:30:55 - loss: 0.3427 - accuracy: 0.879 - ETA: 2:30:34 - loss: 0.3425 - accuracy: 0.879 - ETA: 2:30:13 - loss: 0.3426 - accuracy: 0.879 - ETA: 2:29:53 - loss: 0.3408 - accuracy: 0.880 - ETA: 2:29:33 - loss: 0.3419 - accuracy: 0.881 - ETA: 2:29:14 - loss: 0.3416 - accuracy: 0.881 - ETA: 2:28:56 - loss: 0.3401 - accuracy: 0.881 - ETA: 2:28:36 - loss: 0.3394 - accuracy: 0.881 - ETA: 2:28:16 - loss: 0.3386 - accuracy: 0.882 - ETA: 2:27:57 - loss: 0.3379 - accuracy: 0.882 - ETA: 2:27:38 - loss: 0.3393 - accuracy: 0.881 - ETA: 2:27:19 - loss: 0.3390 - accuracy: 0.881 - ETA: 2:27:00 - loss: 0.3399 - accuracy: 0.881 - ETA: 2:26:40 - loss: 0.3400 - accuracy: 0.881 - ETA: 2:26:21 - loss: 0.3389 - accuracy: 0.881 - ETA: 2:26:02 - loss: 0.3384 - accuracy: 0.881 - ETA: 2:25:44 - loss: 0.3395 - accuracy: 0.881 - ETA: 2:25:26 - loss: 0.3400 - accuracy: 0.881 - ETA: 2:25:10 - loss: 0.3401 - accuracy: 0.881 - ETA: 2:24:55 - loss: 0.3393 - accuracy: 0.881 - ETA: 2:24:39 - loss: 0.3398 - accuracy: 0.880 - ETA: 2:24:22 - loss: 0.3388 - accuracy: 0.880 - ETA: 2:24:04 - loss: 0.3397 - accuracy: 0.880 - ETA: 2:23:46 - loss: 0.3395 - accuracy: 0.880 - ETA: 2:23:28 - loss: 0.3390 - accuracy: 0.880 - ETA: 2:23:09 - loss: 0.3376 - accuracy: 0.881 - ETA: 2:22:50 - loss: 0.3376 - accuracy: 0.881 - ETA: 2:22:33 - loss: 0.3381 - accuracy: 0.881 - ETA: 2:22:15 - loss: 0.3377 - accuracy: 0.881 - ETA: 2:21:57 - loss: 0.3382 - accuracy: 0.881 - ETA: 2:21:40 - loss: 0.3370 - accuracy: 0.881 - ETA: 2:21:22 - loss: 0.3368 - accuracy: 0.881 - ETA: 2:21:04 - loss: 0.3374 - accuracy: 0.881 - ETA: 2:20:47 - loss: 0.3368 - accuracy: 0.881 - ETA: 2:20:30 - loss: 0.3356 - accuracy: 0.881 - ETA: 2:20:12 - loss: 0.3350 - accuracy: 0.882 - ETA: 2:19:56 - loss: 0.3342 - accuracy: 0.882 - ETA: 2:19:38 - loss: 0.3350 - accuracy: 0.881 - ETA: 2:19:20 - loss: 0.3351 - accuracy: 0.881 - ETA: 2:19:04 - loss: 0.3339 - accuracy: 0.882 - ETA: 2:18:47 - loss: 0.3323 - accuracy: 0.882 - ETA: 2:18:30 - loss: 0.3318 - accuracy: 0.883 - ETA: 2:18:14 - loss: 0.3309 - accuracy: 0.883 - ETA: 2:17:57 - loss: 0.3314 - accuracy: 0.883 - ETA: 2:17:39 - loss: 0.3322 - accuracy: 0.883 - ETA: 2:17:23 - loss: 0.3313 - accuracy: 0.883 - ETA: 2:17:07 - loss: 0.3309 - accuracy: 0.883 - ETA: 2:16:51 - loss: 0.3305 - accuracy: 0.883 - ETA: 2:16:35 - loss: 0.3310 - accuracy: 0.883 - ETA: 2:16:19 - loss: 0.3311 - accuracy: 0.883 - ETA: 2:16:02 - loss: 0.3310 - accuracy: 0.8833340/846 [===========>..................] - ETA: 2:15:46 - loss: 0.3313 - accuracy: 0.883 - ETA: 2:15:31 - loss: 0.3318 - accuracy: 0.883 - ETA: 2:15:15 - loss: 0.3318 - accuracy: 0.882 - ETA: 2:14:59 - loss: 0.3319 - accuracy: 0.882 - ETA: 2:14:43 - loss: 0.3311 - accuracy: 0.883 - ETA: 2:14:26 - loss: 0.3331 - accuracy: 0.882 - ETA: 2:14:11 - loss: 0.3324 - accuracy: 0.883 - ETA: 2:13:55 - loss: 0.3355 - accuracy: 0.882 - ETA: 2:13:39 - loss: 0.3350 - accuracy: 0.882 - ETA: 2:13:24 - loss: 0.3353 - accuracy: 0.882 - ETA: 2:13:08 - loss: 0.3354 - accuracy: 0.882 - ETA: 2:12:51 - loss: 0.3352 - accuracy: 0.882 - ETA: 2:12:36 - loss: 0.3342 - accuracy: 0.882 - ETA: 2:12:21 - loss: 0.3340 - accuracy: 0.882 - ETA: 2:12:05 - loss: 0.3337 - accuracy: 0.882 - ETA: 2:11:49 - loss: 0.3332 - accuracy: 0.882 - ETA: 2:11:34 - loss: 0.3326 - accuracy: 0.883 - ETA: 2:11:19 - loss: 0.3324 - accuracy: 0.883 - ETA: 2:11:04 - loss: 0.3335 - accuracy: 0.882 - ETA: 2:10:49 - loss: 0.3343 - accuracy: 0.882 - ETA: 2:10:33 - loss: 0.3330 - accuracy: 0.882 - ETA: 2:10:19 - loss: 0.3337 - accuracy: 0.882 - ETA: 2:10:05 - loss: 0.3332 - accuracy: 0.882 - ETA: 2:09:52 - loss: 0.3325 - accuracy: 0.882 - ETA: 2:09:37 - loss: 0.3325 - accuracy: 0.883 - ETA: 2:09:23 - loss: 0.3336 - accuracy: 0.882 - ETA: 2:09:07 - loss: 0.3341 - accuracy: 0.882 - ETA: 2:08:52 - loss: 0.3335 - accuracy: 0.882 - ETA: 2:08:37 - loss: 0.3328 - accuracy: 0.883 - ETA: 2:08:22 - loss: 0.3333 - accuracy: 0.882 - ETA: 2:08:08 - loss: 0.3327 - accuracy: 0.883 - ETA: 2:07:53 - loss: 0.3331 - accuracy: 0.882 - ETA: 2:07:38 - loss: 0.3334 - accuracy: 0.882 - ETA: 2:07:23 - loss: 0.3334 - accuracy: 0.882 - ETA: 2:07:08 - loss: 0.3336 - accuracy: 0.882 - ETA: 2:06:53 - loss: 0.3331 - accuracy: 0.882 - ETA: 2:06:39 - loss: 0.3327 - accuracy: 0.882 - ETA: 2:06:24 - loss: 0.3328 - accuracy: 0.882 - ETA: 2:06:09 - loss: 0.3328 - accuracy: 0.882 - ETA: 2:05:55 - loss: 0.3319 - accuracy: 0.882 - ETA: 2:05:40 - loss: 0.3324 - accuracy: 0.882 - ETA: 2:05:25 - loss: 0.3333 - accuracy: 0.882 - ETA: 2:05:11 - loss: 0.3338 - accuracy: 0.882 - ETA: 2:04:57 - loss: 0.3337 - accuracy: 0.882 - ETA: 2:04:43 - loss: 0.3331 - accuracy: 0.882 - ETA: 2:04:29 - loss: 0.3332 - accuracy: 0.882 - ETA: 2:04:14 - loss: 0.3330 - accuracy: 0.882 - ETA: 2:04:00 - loss: 0.3333 - accuracy: 0.882 - ETA: 2:03:49 - loss: 0.3335 - accuracy: 0.882 - ETA: 2:03:35 - loss: 0.3340 - accuracy: 0.882 - ETA: 2:03:20 - loss: 0.3339 - accuracy: 0.882 - ETA: 2:03:15 - loss: 0.3342 - accuracy: 0.882 - ETA: 2:02:59 - loss: 0.3338 - accuracy: 0.882 - ETA: 2:02:44 - loss: 0.3344 - accuracy: 0.882 - ETA: 2:02:30 - loss: 0.3338 - accuracy: 0.882 - ETA: 2:02:16 - loss: 0.3328 - accuracy: 0.882 - ETA: 2:02:02 - loss: 0.3322 - accuracy: 0.883 - ETA: 2:01:48 - loss: 0.3327 - accuracy: 0.882 - ETA: 2:01:34 - loss: 0.3322 - accuracy: 0.882 - ETA: 2:01:19 - loss: 0.3318 - accuracy: 0.883 - ETA: 2:01:06 - loss: 0.3312 - accuracy: 0.883 - ETA: 2:00:52 - loss: 0.3307 - accuracy: 0.883 - ETA: 2:00:38 - loss: 0.3309 - accuracy: 0.883 - ETA: 2:00:24 - loss: 0.3307 - accuracy: 0.883 - ETA: 2:00:10 - loss: 0.3306 - accuracy: 0.884 - ETA: 1:59:57 - loss: 0.3303 - accuracy: 0.884 - ETA: 1:59:44 - loss: 0.3305 - accuracy: 0.883 - ETA: 1:59:30 - loss: 0.3302 - accuracy: 0.883 - ETA: 1:59:16 - loss: 0.3305 - accuracy: 0.883 - ETA: 1:59:03 - loss: 0.3305 - accuracy: 0.883 - ETA: 1:58:49 - loss: 0.3300 - accuracy: 0.883 - ETA: 1:58:35 - loss: 0.3293 - accuracy: 0.884 - ETA: 1:58:21 - loss: 0.3294 - accuracy: 0.884 - ETA: 1:58:08 - loss: 0.3286 - accuracy: 0.884 - ETA: 1:57:54 - loss: 0.3285 - accuracy: 0.884 - ETA: 1:57:41 - loss: 0.3282 - accuracy: 0.884 - ETA: 1:57:28 - loss: 0.3277 - accuracy: 0.884 - ETA: 1:57:14 - loss: 0.3276 - accuracy: 0.884 - ETA: 1:57:02 - loss: 0.3272 - accuracy: 0.884 - ETA: 1:56:49 - loss: 0.3278 - accuracy: 0.884 - ETA: 1:56:35 - loss: 0.3290 - accuracy: 0.884 - ETA: 1:56:22 - loss: 0.3286 - accuracy: 0.884 - ETA: 1:56:08 - loss: 0.3287 - accuracy: 0.884 - ETA: 1:55:54 - loss: 0.3282 - accuracy: 0.884 - ETA: 1:55:41 - loss: 0.3287 - accuracy: 0.884 - ETA: 1:55:28 - loss: 0.3280 - accuracy: 0.884 - ETA: 1:55:15 - loss: 0.3284 - accuracy: 0.884 - ETA: 1:55:02 - loss: 0.3282 - accuracy: 0.884 - ETA: 1:54:48 - loss: 0.3278 - accuracy: 0.884 - ETA: 1:54:35 - loss: 0.3281 - accuracy: 0.885 - ETA: 1:54:22 - loss: 0.3274 - accuracy: 0.885 - ETA: 1:54:08 - loss: 0.3277 - accuracy: 0.885 - ETA: 1:53:55 - loss: 0.3275 - accuracy: 0.885 - ETA: 1:53:42 - loss: 0.3285 - accuracy: 0.884 - ETA: 1:53:28 - loss: 0.3279 - accuracy: 0.885 - ETA: 1:53:15 - loss: 0.3280 - accuracy: 0.885 - ETA: 1:53:03 - loss: 0.3273 - accuracy: 0.885 - ETA: 1:52:49 - loss: 0.3273 - accuracy: 0.885 - ETA: 1:52:36 - loss: 0.3270 - accuracy: 0.885 - ETA: 1:52:24 - loss: 0.3269 - accuracy: 0.885 - ETA: 1:52:10 - loss: 0.3262 - accuracy: 0.885 - ETA: 1:51:57 - loss: 0.3256 - accuracy: 0.886 - ETA: 1:51:44 - loss: 0.3255 - accuracy: 0.886 - ETA: 1:51:31 - loss: 0.3250 - accuracy: 0.886 - ETA: 1:51:19 - loss: 0.3249 - accuracy: 0.886 - ETA: 1:51:07 - loss: 0.3245 - accuracy: 0.886 - ETA: 1:50:54 - loss: 0.3248 - accuracy: 0.886 - ETA: 1:50:41 - loss: 0.3248 - accuracy: 0.885 - ETA: 1:50:29 - loss: 0.3246 - accuracy: 0.885 - ETA: 1:50:16 - loss: 0.3247 - accuracy: 0.885 - ETA: 1:50:03 - loss: 0.3249 - accuracy: 0.885 - ETA: 1:49:50 - loss: 0.3246 - accuracy: 0.885 - ETA: 1:49:37 - loss: 0.3245 - accuracy: 0.885 - ETA: 1:49:24 - loss: 0.3248 - accuracy: 0.885 - ETA: 1:49:11 - loss: 0.3245 - accuracy: 0.885 - ETA: 1:48:58 - loss: 0.3243 - accuracy: 0.885 - ETA: 1:48:45 - loss: 0.3241 - accuracy: 0.885 - ETA: 1:48:32 - loss: 0.3241 - accuracy: 0.885 - ETA: 1:48:19 - loss: 0.3240 - accuracy: 0.885 - ETA: 1:48:06 - loss: 0.3234 - accuracy: 0.885 - ETA: 1:47:54 - loss: 0.3237 - accuracy: 0.885 - ETA: 1:47:41 - loss: 0.3241 - accuracy: 0.885 - ETA: 1:47:28 - loss: 0.3236 - accuracy: 0.885 - ETA: 1:47:15 - loss: 0.3236 - accuracy: 0.885 - ETA: 1:47:02 - loss: 0.3234 - accuracy: 0.885 - ETA: 1:46:49 - loss: 0.3239 - accuracy: 0.885 - ETA: 1:46:37 - loss: 0.3238 - accuracy: 0.885 - ETA: 1:46:24 - loss: 0.3237 - accuracy: 0.885 - ETA: 1:46:11 - loss: 0.3234 - accuracy: 0.885 - ETA: 1:45:58 - loss: 0.3231 - accuracy: 0.885 - ETA: 1:45:45 - loss: 0.3230 - accuracy: 0.885 - ETA: 1:45:33 - loss: 0.3229 - accuracy: 0.885 - ETA: 1:45:21 - loss: 0.3237 - accuracy: 0.885 - ETA: 1:45:08 - loss: 0.3235 - accuracy: 0.885 - ETA: 1:44:55 - loss: 0.3236 - accuracy: 0.885 - ETA: 1:44:43 - loss: 0.3231 - accuracy: 0.885 - ETA: 1:44:30 - loss: 0.3227 - accuracy: 0.885 - ETA: 1:44:17 - loss: 0.3228 - accuracy: 0.885 - ETA: 1:44:05 - loss: 0.3230 - accuracy: 0.885 - ETA: 1:43:53 - loss: 0.3232 - accuracy: 0.885 - ETA: 1:43:41 - loss: 0.3240 - accuracy: 0.885 - ETA: 1:43:29 - loss: 0.3234 - accuracy: 0.885 - ETA: 1:43:16 - loss: 0.3228 - accuracy: 0.885 - ETA: 1:43:04 - loss: 0.3230 - accuracy: 0.885 - ETA: 1:42:51 - loss: 0.3237 - accuracy: 0.885 - ETA: 1:42:39 - loss: 0.3233 - accuracy: 0.885 - ETA: 1:42:26 - loss: 0.3234 - accuracy: 0.885 - ETA: 1:42:13 - loss: 0.3232 - accuracy: 0.885 - ETA: 1:42:00 - loss: 0.3232 - accuracy: 0.885 - ETA: 1:41:48 - loss: 0.3229 - accuracy: 0.885 - ETA: 1:41:36 - loss: 0.3228 - accuracy: 0.885 - ETA: 1:41:23 - loss: 0.3223 - accuracy: 0.886 - ETA: 1:41:11 - loss: 0.3223 - accuracy: 0.885 - ETA: 1:40:58 - loss: 0.3225 - accuracy: 0.885 - ETA: 1:40:45 - loss: 0.3221 - accuracy: 0.885 - ETA: 1:40:33 - loss: 0.3221 - accuracy: 0.885 - ETA: 1:40:21 - loss: 0.3221 - accuracy: 0.886 - ETA: 1:40:08 - loss: 0.3220 - accuracy: 0.885 - ETA: 1:39:56 - loss: 0.3219 - accuracy: 0.886 - ETA: 1:39:43 - loss: 0.3218 - accuracy: 0.886 - ETA: 1:39:31 - loss: 0.3216 - accuracy: 0.886 - ETA: 1:39:19 - loss: 0.3219 - accuracy: 0.885 - ETA: 1:39:06 - loss: 0.3215 - accuracy: 0.886 - ETA: 1:38:54 - loss: 0.3210 - accuracy: 0.886 - ETA: 1:38:41 - loss: 0.3211 - accuracy: 0.886 - ETA: 1:38:29 - loss: 0.3211 - accuracy: 0.886 - ETA: 1:38:17 - loss: 0.3211 - accuracy: 0.886 - ETA: 1:38:04 - loss: 0.3208 - accuracy: 0.886 - ETA: 1:37:52 - loss: 0.3207 - accuracy: 0.886 - ETA: 1:37:40 - loss: 0.3202 - accuracy: 0.8867510/846 [=================>............] - ETA: 1:37:27 - loss: 0.3211 - accuracy: 0.886 - ETA: 1:37:15 - loss: 0.3209 - accuracy: 0.886 - ETA: 1:37:02 - loss: 0.3202 - accuracy: 0.886 - ETA: 1:36:50 - loss: 0.3200 - accuracy: 0.886 - ETA: 1:36:38 - loss: 0.3201 - accuracy: 0.886 - ETA: 1:36:26 - loss: 0.3197 - accuracy: 0.887 - ETA: 1:36:13 - loss: 0.3190 - accuracy: 0.887 - ETA: 1:36:01 - loss: 0.3192 - accuracy: 0.887 - ETA: 1:35:49 - loss: 0.3190 - accuracy: 0.887 - ETA: 1:35:36 - loss: 0.3185 - accuracy: 0.887 - ETA: 1:35:24 - loss: 0.3185 - accuracy: 0.887 - ETA: 1:35:12 - loss: 0.3182 - accuracy: 0.887 - ETA: 1:34:59 - loss: 0.3183 - accuracy: 0.887 - ETA: 1:34:47 - loss: 0.3185 - accuracy: 0.887 - ETA: 1:34:35 - loss: 0.3181 - accuracy: 0.887 - ETA: 1:34:23 - loss: 0.3179 - accuracy: 0.887 - ETA: 1:34:11 - loss: 0.3175 - accuracy: 0.887 - ETA: 1:33:58 - loss: 0.3180 - accuracy: 0.887 - ETA: 1:33:46 - loss: 0.3174 - accuracy: 0.888 - ETA: 1:33:34 - loss: 0.3173 - accuracy: 0.887 - ETA: 1:33:22 - loss: 0.3167 - accuracy: 0.888 - ETA: 1:33:10 - loss: 0.3167 - accuracy: 0.888 - ETA: 1:32:58 - loss: 0.3171 - accuracy: 0.888 - ETA: 1:32:45 - loss: 0.3167 - accuracy: 0.888 - ETA: 1:32:33 - loss: 0.3162 - accuracy: 0.888 - ETA: 1:32:21 - loss: 0.3168 - accuracy: 0.888 - ETA: 1:32:09 - loss: 0.3164 - accuracy: 0.888 - ETA: 1:31:56 - loss: 0.3158 - accuracy: 0.888 - ETA: 1:31:44 - loss: 0.3163 - accuracy: 0.888 - ETA: 1:31:32 - loss: 0.3162 - accuracy: 0.888 - ETA: 1:31:20 - loss: 0.3158 - accuracy: 0.888 - ETA: 1:31:08 - loss: 0.3153 - accuracy: 0.889 - ETA: 1:30:55 - loss: 0.3155 - accuracy: 0.889 - ETA: 1:30:43 - loss: 0.3154 - accuracy: 0.889 - ETA: 1:30:31 - loss: 0.3156 - accuracy: 0.889 - ETA: 1:30:19 - loss: 0.3151 - accuracy: 0.889 - ETA: 1:30:07 - loss: 0.3146 - accuracy: 0.889 - ETA: 1:29:55 - loss: 0.3144 - accuracy: 0.889 - ETA: 1:29:43 - loss: 0.3143 - accuracy: 0.889 - ETA: 1:29:31 - loss: 0.3143 - accuracy: 0.889 - ETA: 1:29:19 - loss: 0.3137 - accuracy: 0.890 - ETA: 1:29:07 - loss: 0.3134 - accuracy: 0.890 - ETA: 1:28:55 - loss: 0.3130 - accuracy: 0.890 - ETA: 1:28:43 - loss: 0.3134 - accuracy: 0.890 - ETA: 1:28:31 - loss: 0.3132 - accuracy: 0.890 - ETA: 1:28:18 - loss: 0.3131 - accuracy: 0.890 - ETA: 1:28:06 - loss: 0.3130 - accuracy: 0.890 - ETA: 1:27:54 - loss: 0.3125 - accuracy: 0.890 - ETA: 1:27:42 - loss: 0.3125 - accuracy: 0.890 - ETA: 1:27:30 - loss: 0.3125 - accuracy: 0.890 - ETA: 1:27:18 - loss: 0.3122 - accuracy: 0.890 - ETA: 1:27:06 - loss: 0.3123 - accuracy: 0.890 - ETA: 1:26:54 - loss: 0.3128 - accuracy: 0.890 - ETA: 1:26:42 - loss: 0.3127 - accuracy: 0.890 - ETA: 1:26:29 - loss: 0.3130 - accuracy: 0.890 - ETA: 1:26:17 - loss: 0.3133 - accuracy: 0.890 - ETA: 1:26:05 - loss: 0.3134 - accuracy: 0.890 - ETA: 1:25:53 - loss: 0.3135 - accuracy: 0.890 - ETA: 1:25:42 - loss: 0.3131 - accuracy: 0.890 - ETA: 1:25:30 - loss: 0.3124 - accuracy: 0.890 - ETA: 1:25:18 - loss: 0.3122 - accuracy: 0.890 - ETA: 1:25:06 - loss: 0.3128 - accuracy: 0.890 - ETA: 1:24:54 - loss: 0.3134 - accuracy: 0.890 - ETA: 1:24:42 - loss: 0.3137 - accuracy: 0.890 - ETA: 1:24:30 - loss: 0.3132 - accuracy: 0.890 - ETA: 1:24:18 - loss: 0.3128 - accuracy: 0.890 - ETA: 1:24:06 - loss: 0.3128 - accuracy: 0.890 - ETA: 1:23:54 - loss: 0.3131 - accuracy: 0.890 - ETA: 1:23:42 - loss: 0.3132 - accuracy: 0.890 - ETA: 1:23:30 - loss: 0.3134 - accuracy: 0.890 - ETA: 1:23:19 - loss: 0.3136 - accuracy: 0.890 - ETA: 1:23:07 - loss: 0.3133 - accuracy: 0.890 - ETA: 1:22:55 - loss: 0.3138 - accuracy: 0.890 - ETA: 1:22:43 - loss: 0.3137 - accuracy: 0.890 - ETA: 1:22:31 - loss: 0.3139 - accuracy: 0.890 - ETA: 1:22:20 - loss: 0.3144 - accuracy: 0.890 - ETA: 1:22:08 - loss: 0.3143 - accuracy: 0.890 - ETA: 1:21:56 - loss: 0.3142 - accuracy: 0.890 - ETA: 1:21:44 - loss: 0.3146 - accuracy: 0.890 - ETA: 1:21:32 - loss: 0.3148 - accuracy: 0.890 - ETA: 1:21:20 - loss: 0.3151 - accuracy: 0.890 - ETA: 1:21:08 - loss: 0.3149 - accuracy: 0.890 - ETA: 1:20:56 - loss: 0.3151 - accuracy: 0.890 - ETA: 1:20:44 - loss: 0.3149 - accuracy: 0.890 - ETA: 1:20:32 - loss: 0.3149 - accuracy: 0.890 - ETA: 1:20:20 - loss: 0.3151 - accuracy: 0.890 - ETA: 1:20:09 - loss: 0.3153 - accuracy: 0.889 - ETA: 1:19:57 - loss: 0.3155 - accuracy: 0.889 - ETA: 1:19:45 - loss: 0.3154 - accuracy: 0.889 - ETA: 1:19:33 - loss: 0.3153 - accuracy: 0.889 - ETA: 1:19:21 - loss: 0.3154 - accuracy: 0.889 - ETA: 1:19:09 - loss: 0.3153 - accuracy: 0.889 - ETA: 1:18:57 - loss: 0.3151 - accuracy: 0.889 - ETA: 1:18:46 - loss: 0.3149 - accuracy: 0.889 - ETA: 1:18:34 - loss: 0.3150 - accuracy: 0.889 - ETA: 1:18:22 - loss: 0.3154 - accuracy: 0.889 - ETA: 1:18:10 - loss: 0.3150 - accuracy: 0.889 - ETA: 1:17:58 - loss: 0.3145 - accuracy: 0.889 - ETA: 1:17:47 - loss: 0.3145 - accuracy: 0.889 - ETA: 1:17:35 - loss: 0.3151 - accuracy: 0.889 - ETA: 1:17:23 - loss: 0.3148 - accuracy: 0.889 - ETA: 1:17:11 - loss: 0.3150 - accuracy: 0.889 - ETA: 1:17:00 - loss: 0.3148 - accuracy: 0.889 - ETA: 1:16:48 - loss: 0.3149 - accuracy: 0.889 - ETA: 1:16:36 - loss: 0.3147 - accuracy: 0.890 - ETA: 1:16:24 - loss: 0.3147 - accuracy: 0.890 - ETA: 1:16:13 - loss: 0.3144 - accuracy: 0.890 - ETA: 1:16:01 - loss: 0.3144 - accuracy: 0.890 - ETA: 1:15:49 - loss: 0.3144 - accuracy: 0.890 - ETA: 1:15:37 - loss: 0.3144 - accuracy: 0.890 - ETA: 1:15:25 - loss: 0.3146 - accuracy: 0.890 - ETA: 1:15:13 - loss: 0.3144 - accuracy: 0.890 - ETA: 1:15:02 - loss: 0.3147 - accuracy: 0.889 - ETA: 1:14:50 - loss: 0.3146 - accuracy: 0.889 - ETA: 1:14:38 - loss: 0.3152 - accuracy: 0.889 - ETA: 1:14:26 - loss: 0.3150 - accuracy: 0.889 - ETA: 1:14:15 - loss: 0.3150 - accuracy: 0.889 - ETA: 1:14:03 - loss: 0.3148 - accuracy: 0.889 - ETA: 1:13:51 - loss: 0.3148 - accuracy: 0.889 - ETA: 1:13:39 - loss: 0.3152 - accuracy: 0.889 - ETA: 1:13:27 - loss: 0.3158 - accuracy: 0.889 - ETA: 1:13:16 - loss: 0.3158 - accuracy: 0.889 - ETA: 1:13:04 - loss: 0.3163 - accuracy: 0.889 - ETA: 1:12:52 - loss: 0.3160 - accuracy: 0.889 - ETA: 1:12:41 - loss: 0.3161 - accuracy: 0.889 - ETA: 1:12:29 - loss: 0.3158 - accuracy: 0.889 - ETA: 1:12:17 - loss: 0.3155 - accuracy: 0.889 - ETA: 1:12:05 - loss: 0.3156 - accuracy: 0.889 - ETA: 1:11:54 - loss: 0.3155 - accuracy: 0.889 - ETA: 1:11:42 - loss: 0.3157 - accuracy: 0.889 - ETA: 1:11:30 - loss: 0.3156 - accuracy: 0.889 - ETA: 1:11:18 - loss: 0.3161 - accuracy: 0.889 - ETA: 1:11:06 - loss: 0.3160 - accuracy: 0.889 - ETA: 1:10:55 - loss: 0.3160 - accuracy: 0.889 - ETA: 1:10:43 - loss: 0.3158 - accuracy: 0.889 - ETA: 1:10:31 - loss: 0.3160 - accuracy: 0.889 - ETA: 1:10:20 - loss: 0.3156 - accuracy: 0.889 - ETA: 1:10:08 - loss: 0.3156 - accuracy: 0.889 - ETA: 1:09:56 - loss: 0.3155 - accuracy: 0.889 - ETA: 1:09:44 - loss: 0.3152 - accuracy: 0.889 - ETA: 1:09:33 - loss: 0.3150 - accuracy: 0.889 - ETA: 1:09:21 - loss: 0.3149 - accuracy: 0.889 - ETA: 1:09:09 - loss: 0.3146 - accuracy: 0.890 - ETA: 1:08:57 - loss: 0.3146 - accuracy: 0.890 - ETA: 1:08:45 - loss: 0.3143 - accuracy: 0.890 - ETA: 1:08:34 - loss: 0.3143 - accuracy: 0.890 - ETA: 1:08:22 - loss: 0.3141 - accuracy: 0.890 - ETA: 1:08:10 - loss: 0.3138 - accuracy: 0.890 - ETA: 1:07:59 - loss: 0.3136 - accuracy: 0.890 - ETA: 1:07:47 - loss: 0.3135 - accuracy: 0.890 - ETA: 1:07:36 - loss: 0.3134 - accuracy: 0.890 - ETA: 1:07:24 - loss: 0.3134 - accuracy: 0.890 - ETA: 1:07:13 - loss: 0.3130 - accuracy: 0.890 - ETA: 1:07:01 - loss: 0.3128 - accuracy: 0.890 - ETA: 1:06:49 - loss: 0.3126 - accuracy: 0.890 - ETA: 1:06:38 - loss: 0.3124 - accuracy: 0.890 - ETA: 1:06:26 - loss: 0.3122 - accuracy: 0.891 - ETA: 1:06:14 - loss: 0.3120 - accuracy: 0.891 - ETA: 1:06:03 - loss: 0.3119 - accuracy: 0.891 - ETA: 1:05:51 - loss: 0.3118 - accuracy: 0.891 - ETA: 1:05:39 - loss: 0.3118 - accuracy: 0.891 - ETA: 1:05:27 - loss: 0.3114 - accuracy: 0.891 - ETA: 1:05:16 - loss: 0.3117 - accuracy: 0.891 - ETA: 1:05:04 - loss: 0.3118 - accuracy: 0.891 - ETA: 1:04:52 - loss: 0.3115 - accuracy: 0.891 - ETA: 1:04:41 - loss: 0.3117 - accuracy: 0.890 - ETA: 1:04:29 - loss: 0.3116 - accuracy: 0.891 - ETA: 1:04:17 - loss: 0.3117 - accuracy: 0.890 - ETA: 1:04:06 - loss: 0.3119 - accuracy: 0.890 - ETA: 1:03:54 - loss: 0.3116 - accuracy: 0.8907687/846 [=======================>......] - ETA: 1:03:42 - loss: 0.3116 - accuracy: 0.890 - ETA: 1:03:31 - loss: 0.3113 - accuracy: 0.890 - ETA: 1:03:19 - loss: 0.3114 - accuracy: 0.890 - ETA: 1:03:07 - loss: 0.3112 - accuracy: 0.890 - ETA: 1:02:56 - loss: 0.3110 - accuracy: 0.890 - ETA: 1:02:44 - loss: 0.3108 - accuracy: 0.890 - ETA: 1:02:32 - loss: 0.3110 - accuracy: 0.890 - ETA: 1:02:21 - loss: 0.3109 - accuracy: 0.890 - ETA: 1:02:09 - loss: 0.3115 - accuracy: 0.890 - ETA: 1:01:57 - loss: 0.3123 - accuracy: 0.890 - ETA: 1:01:46 - loss: 0.3125 - accuracy: 0.890 - ETA: 1:01:34 - loss: 0.3123 - accuracy: 0.890 - ETA: 1:01:22 - loss: 0.3124 - accuracy: 0.890 - ETA: 1:01:11 - loss: 0.3126 - accuracy: 0.890 - ETA: 1:00:59 - loss: 0.3124 - accuracy: 0.890 - ETA: 1:00:48 - loss: 0.3124 - accuracy: 0.890 - ETA: 1:00:37 - loss: 0.3122 - accuracy: 0.890 - ETA: 1:00:25 - loss: 0.3125 - accuracy: 0.890 - ETA: 1:00:14 - loss: 0.3128 - accuracy: 0.890 - ETA: 1:00:02 - loss: 0.3130 - accuracy: 0.890 - ETA: 59:50 - loss: 0.3126 - accuracy: 0.8904  - ETA: 59:38 - loss: 0.3126 - accuracy: 0.890 - ETA: 59:27 - loss: 0.3128 - accuracy: 0.890 - ETA: 59:15 - loss: 0.3127 - accuracy: 0.890 - ETA: 59:04 - loss: 0.3129 - accuracy: 0.890 - ETA: 58:52 - loss: 0.3127 - accuracy: 0.890 - ETA: 58:41 - loss: 0.3125 - accuracy: 0.890 - ETA: 58:29 - loss: 0.3122 - accuracy: 0.890 - ETA: 58:17 - loss: 0.3122 - accuracy: 0.890 - ETA: 58:06 - loss: 0.3121 - accuracy: 0.890 - ETA: 57:54 - loss: 0.3124 - accuracy: 0.890 - ETA: 57:43 - loss: 0.3122 - accuracy: 0.890 - ETA: 57:31 - loss: 0.3120 - accuracy: 0.890 - ETA: 57:19 - loss: 0.3118 - accuracy: 0.890 - ETA: 57:08 - loss: 0.3115 - accuracy: 0.890 - ETA: 56:56 - loss: 0.3115 - accuracy: 0.890 - ETA: 56:45 - loss: 0.3113 - accuracy: 0.890 - ETA: 56:33 - loss: 0.3113 - accuracy: 0.890 - ETA: 56:22 - loss: 0.3109 - accuracy: 0.890 - ETA: 56:10 - loss: 0.3106 - accuracy: 0.891 - ETA: 55:58 - loss: 0.3112 - accuracy: 0.890 - ETA: 55:47 - loss: 0.3114 - accuracy: 0.890 - ETA: 55:36 - loss: 0.3115 - accuracy: 0.890 - ETA: 55:24 - loss: 0.3112 - accuracy: 0.890 - ETA: 55:12 - loss: 0.3114 - accuracy: 0.890 - ETA: 55:01 - loss: 0.3115 - accuracy: 0.890 - ETA: 54:49 - loss: 0.3114 - accuracy: 0.890 - ETA: 54:38 - loss: 0.3112 - accuracy: 0.890 - ETA: 54:26 - loss: 0.3117 - accuracy: 0.890 - ETA: 54:15 - loss: 0.3118 - accuracy: 0.890 - ETA: 54:03 - loss: 0.3120 - accuracy: 0.890 - ETA: 53:52 - loss: 0.3118 - accuracy: 0.890 - ETA: 53:40 - loss: 0.3119 - accuracy: 0.890 - ETA: 53:28 - loss: 0.3118 - accuracy: 0.890 - ETA: 53:17 - loss: 0.3119 - accuracy: 0.890 - ETA: 53:05 - loss: 0.3118 - accuracy: 0.890 - ETA: 52:54 - loss: 0.3117 - accuracy: 0.890 - ETA: 52:42 - loss: 0.3118 - accuracy: 0.890 - ETA: 52:31 - loss: 0.3118 - accuracy: 0.890 - ETA: 52:19 - loss: 0.3115 - accuracy: 0.890 - ETA: 52:08 - loss: 0.3117 - accuracy: 0.890 - ETA: 51:56 - loss: 0.3113 - accuracy: 0.890 - ETA: 51:45 - loss: 0.3110 - accuracy: 0.891 - ETA: 51:33 - loss: 0.3109 - accuracy: 0.891 - ETA: 51:22 - loss: 0.3109 - accuracy: 0.891 - ETA: 51:10 - loss: 0.3111 - accuracy: 0.891 - ETA: 50:59 - loss: 0.3112 - accuracy: 0.891 - ETA: 50:47 - loss: 0.3110 - accuracy: 0.891 - ETA: 50:36 - loss: 0.3108 - accuracy: 0.891 - ETA: 50:24 - loss: 0.3105 - accuracy: 0.891 - ETA: 50:13 - loss: 0.3103 - accuracy: 0.891 - ETA: 50:01 - loss: 0.3101 - accuracy: 0.891 - ETA: 49:50 - loss: 0.3100 - accuracy: 0.891 - ETA: 49:38 - loss: 0.3100 - accuracy: 0.891 - ETA: 49:27 - loss: 0.3097 - accuracy: 0.891 - ETA: 49:15 - loss: 0.3097 - accuracy: 0.891 - ETA: 49:04 - loss: 0.3094 - accuracy: 0.891 - ETA: 48:52 - loss: 0.3092 - accuracy: 0.891 - ETA: 48:41 - loss: 0.3092 - accuracy: 0.891 - ETA: 48:29 - loss: 0.3091 - accuracy: 0.891 - ETA: 48:18 - loss: 0.3090 - accuracy: 0.891 - ETA: 48:06 - loss: 0.3087 - accuracy: 0.892 - ETA: 47:55 - loss: 0.3089 - accuracy: 0.892 - ETA: 47:43 - loss: 0.3091 - accuracy: 0.891 - ETA: 47:32 - loss: 0.3090 - accuracy: 0.892 - ETA: 47:20 - loss: 0.3086 - accuracy: 0.892 - ETA: 47:09 - loss: 0.3088 - accuracy: 0.892 - ETA: 46:57 - loss: 0.3091 - accuracy: 0.891 - ETA: 46:46 - loss: 0.3098 - accuracy: 0.891 - ETA: 46:34 - loss: 0.3097 - accuracy: 0.891 - ETA: 46:23 - loss: 0.3094 - accuracy: 0.892 - ETA: 46:11 - loss: 0.3093 - accuracy: 0.892 - ETA: 46:00 - loss: 0.3093 - accuracy: 0.892 - ETA: 45:48 - loss: 0.3092 - accuracy: 0.892 - ETA: 45:37 - loss: 0.3090 - accuracy: 0.892 - ETA: 45:25 - loss: 0.3087 - accuracy: 0.892 - ETA: 45:14 - loss: 0.3083 - accuracy: 0.892 - ETA: 45:02 - loss: 0.3081 - accuracy: 0.892 - ETA: 44:51 - loss: 0.3079 - accuracy: 0.892 - ETA: 44:40 - loss: 0.3077 - accuracy: 0.892 - ETA: 44:28 - loss: 0.3074 - accuracy: 0.892 - ETA: 44:17 - loss: 0.3072 - accuracy: 0.892 - ETA: 44:05 - loss: 0.3073 - accuracy: 0.892 - ETA: 43:54 - loss: 0.3073 - accuracy: 0.892 - ETA: 43:42 - loss: 0.3070 - accuracy: 0.892 - ETA: 43:31 - loss: 0.3066 - accuracy: 0.893 - ETA: 43:19 - loss: 0.3068 - accuracy: 0.892 - ETA: 43:08 - loss: 0.3069 - accuracy: 0.892 - ETA: 42:56 - loss: 0.3067 - accuracy: 0.893 - ETA: 42:45 - loss: 0.3065 - accuracy: 0.893 - ETA: 42:34 - loss: 0.3069 - accuracy: 0.892 - ETA: 42:23 - loss: 0.3066 - accuracy: 0.893 - ETA: 42:11 - loss: 0.3067 - accuracy: 0.893 - ETA: 42:00 - loss: 0.3066 - accuracy: 0.892 - ETA: 41:48 - loss: 0.3063 - accuracy: 0.893 - ETA: 41:37 - loss: 0.3062 - accuracy: 0.893 - ETA: 41:25 - loss: 0.3061 - accuracy: 0.893 - ETA: 41:14 - loss: 0.3060 - accuracy: 0.893 - ETA: 41:02 - loss: 0.3058 - accuracy: 0.893 - ETA: 40:51 - loss: 0.3057 - accuracy: 0.893 - ETA: 40:40 - loss: 0.3055 - accuracy: 0.893 - ETA: 40:28 - loss: 0.3057 - accuracy: 0.893 - ETA: 40:17 - loss: 0.3058 - accuracy: 0.893 - ETA: 40:05 - loss: 0.3058 - accuracy: 0.893 - ETA: 39:54 - loss: 0.3057 - accuracy: 0.893 - ETA: 39:43 - loss: 0.3055 - accuracy: 0.893 - ETA: 39:31 - loss: 0.3059 - accuracy: 0.893 - ETA: 39:20 - loss: 0.3059 - accuracy: 0.893 - ETA: 39:08 - loss: 0.3058 - accuracy: 0.893 - ETA: 38:57 - loss: 0.3058 - accuracy: 0.893 - ETA: 38:46 - loss: 0.3062 - accuracy: 0.893 - ETA: 38:34 - loss: 0.3060 - accuracy: 0.893 - ETA: 38:23 - loss: 0.3060 - accuracy: 0.893 - ETA: 38:11 - loss: 0.3061 - accuracy: 0.893 - ETA: 38:00 - loss: 0.3064 - accuracy: 0.893 - ETA: 37:48 - loss: 0.3064 - accuracy: 0.893 - ETA: 37:37 - loss: 0.3065 - accuracy: 0.893 - ETA: 37:26 - loss: 0.3063 - accuracy: 0.893 - ETA: 37:14 - loss: 0.3063 - accuracy: 0.892 - ETA: 37:03 - loss: 0.3061 - accuracy: 0.893 - ETA: 36:51 - loss: 0.3063 - accuracy: 0.892 - ETA: 36:40 - loss: 0.3064 - accuracy: 0.892 - ETA: 36:28 - loss: 0.3065 - accuracy: 0.892 - ETA: 36:17 - loss: 0.3065 - accuracy: 0.892 - ETA: 36:06 - loss: 0.3067 - accuracy: 0.892 - ETA: 35:54 - loss: 0.3066 - accuracy: 0.892 - ETA: 35:43 - loss: 0.3064 - accuracy: 0.893 - ETA: 35:31 - loss: 0.3066 - accuracy: 0.893 - ETA: 35:20 - loss: 0.3067 - accuracy: 0.892 - ETA: 35:09 - loss: 0.3065 - accuracy: 0.893 - ETA: 34:57 - loss: 0.3069 - accuracy: 0.892 - ETA: 34:46 - loss: 0.3068 - accuracy: 0.892 - ETA: 34:34 - loss: 0.3070 - accuracy: 0.892 - ETA: 34:23 - loss: 0.3072 - accuracy: 0.892 - ETA: 34:12 - loss: 0.3073 - accuracy: 0.892 - ETA: 34:00 - loss: 0.3071 - accuracy: 0.892 - ETA: 33:49 - loss: 0.3069 - accuracy: 0.892 - ETA: 33:37 - loss: 0.3071 - accuracy: 0.892 - ETA: 33:26 - loss: 0.3079 - accuracy: 0.892 - ETA: 33:14 - loss: 0.3079 - accuracy: 0.892 - ETA: 33:03 - loss: 0.3080 - accuracy: 0.892 - ETA: 32:52 - loss: 0.3078 - accuracy: 0.892 - ETA: 32:40 - loss: 0.3080 - accuracy: 0.892 - ETA: 32:29 - loss: 0.3082 - accuracy: 0.892 - ETA: 32:18 - loss: 0.3080 - accuracy: 0.892 - ETA: 32:06 - loss: 0.3079 - accuracy: 0.892 - ETA: 31:55 - loss: 0.3077 - accuracy: 0.892 - ETA: 31:43 - loss: 0.3075 - accuracy: 0.892 - ETA: 31:32 - loss: 0.3074 - accuracy: 0.892 - ETA: 31:21 - loss: 0.3071 - accuracy: 0.892 - ETA: 31:09 - loss: 0.3069 - accuracy: 0.892 - ETA: 30:58 - loss: 0.3068 - accuracy: 0.892 - ETA: 30:47 - loss: 0.3069 - accuracy: 0.892 - ETA: 30:35 - loss: 0.3070 - accuracy: 0.892 - ETA: 30:24 - loss: 0.3069 - accuracy: 0.892 - ETA: 30:12 - loss: 0.3072 - accuracy: 0.892 - ETA: 30:01 - loss: 0.3071 - accuracy: 0.8928846/846 [==============================] - ETA: 29:50 - loss: 0.3071 - accuracy: 0.892 - ETA: 29:38 - loss: 0.3071 - accuracy: 0.892 - ETA: 29:27 - loss: 0.3072 - accuracy: 0.892 - ETA: 29:16 - loss: 0.3072 - accuracy: 0.892 - ETA: 29:04 - loss: 0.3072 - accuracy: 0.892 - ETA: 28:53 - loss: 0.3076 - accuracy: 0.892 - ETA: 28:42 - loss: 0.3076 - accuracy: 0.892 - ETA: 28:30 - loss: 0.3074 - accuracy: 0.892 - ETA: 28:19 - loss: 0.3072 - accuracy: 0.892 - ETA: 28:08 - loss: 0.3074 - accuracy: 0.892 - ETA: 27:56 - loss: 0.3072 - accuracy: 0.892 - ETA: 27:45 - loss: 0.3070 - accuracy: 0.892 - ETA: 27:34 - loss: 0.3069 - accuracy: 0.892 - ETA: 27:22 - loss: 0.3068 - accuracy: 0.892 - ETA: 27:11 - loss: 0.3070 - accuracy: 0.892 - ETA: 26:59 - loss: 0.3068 - accuracy: 0.892 - ETA: 26:49 - loss: 0.3067 - accuracy: 0.893 - ETA: 26:38 - loss: 0.3067 - accuracy: 0.893 - ETA: 26:27 - loss: 0.3065 - accuracy: 0.893 - ETA: 26:16 - loss: 0.3062 - accuracy: 0.893 - ETA: 26:05 - loss: 0.3061 - accuracy: 0.893 - ETA: 25:55 - loss: 0.3061 - accuracy: 0.893 - ETA: 25:44 - loss: 0.3059 - accuracy: 0.893 - ETA: 25:33 - loss: 0.3062 - accuracy: 0.893 - ETA: 25:22 - loss: 0.3062 - accuracy: 0.893 - ETA: 25:12 - loss: 0.3063 - accuracy: 0.893 - ETA: 25:01 - loss: 0.3061 - accuracy: 0.893 - ETA: 24:50 - loss: 0.3062 - accuracy: 0.893 - ETA: 24:39 - loss: 0.3065 - accuracy: 0.893 - ETA: 24:29 - loss: 0.3064 - accuracy: 0.893 - ETA: 24:18 - loss: 0.3062 - accuracy: 0.893 - ETA: 24:07 - loss: 0.3067 - accuracy: 0.893 - ETA: 23:56 - loss: 0.3065 - accuracy: 0.893 - ETA: 23:46 - loss: 0.3063 - accuracy: 0.893 - ETA: 23:35 - loss: 0.3062 - accuracy: 0.893 - ETA: 23:24 - loss: 0.3064 - accuracy: 0.893 - ETA: 23:13 - loss: 0.3064 - accuracy: 0.893 - ETA: 23:02 - loss: 0.3068 - accuracy: 0.892 - ETA: 22:51 - loss: 0.3067 - accuracy: 0.892 - ETA: 22:40 - loss: 0.3065 - accuracy: 0.893 - ETA: 22:30 - loss: 0.3066 - accuracy: 0.892 - ETA: 22:19 - loss: 0.3065 - accuracy: 0.893 - ETA: 22:08 - loss: 0.3066 - accuracy: 0.893 - ETA: 21:57 - loss: 0.3066 - accuracy: 0.893 - ETA: 21:46 - loss: 0.3064 - accuracy: 0.893 - ETA: 21:36 - loss: 0.3064 - accuracy: 0.893 - ETA: 21:25 - loss: 0.3063 - accuracy: 0.893 - ETA: 21:14 - loss: 0.3064 - accuracy: 0.893 - ETA: 21:03 - loss: 0.3062 - accuracy: 0.893 - ETA: 20:52 - loss: 0.3063 - accuracy: 0.893 - ETA: 20:41 - loss: 0.3062 - accuracy: 0.893 - ETA: 20:30 - loss: 0.3064 - accuracy: 0.893 - ETA: 20:18 - loss: 0.3061 - accuracy: 0.893 - ETA: 20:07 - loss: 0.3063 - accuracy: 0.893 - ETA: 19:56 - loss: 0.3061 - accuracy: 0.893 - ETA: 19:45 - loss: 0.3059 - accuracy: 0.893 - ETA: 19:34 - loss: 0.3057 - accuracy: 0.893 - ETA: 19:23 - loss: 0.3056 - accuracy: 0.893 - ETA: 19:12 - loss: 0.3054 - accuracy: 0.893 - ETA: 19:01 - loss: 0.3053 - accuracy: 0.893 - ETA: 18:50 - loss: 0.3050 - accuracy: 0.893 - ETA: 18:39 - loss: 0.3052 - accuracy: 0.893 - ETA: 18:28 - loss: 0.3051 - accuracy: 0.893 - ETA: 18:17 - loss: 0.3050 - accuracy: 0.893 - ETA: 18:06 - loss: 0.3049 - accuracy: 0.893 - ETA: 17:55 - loss: 0.3047 - accuracy: 0.893 - ETA: 17:44 - loss: 0.3046 - accuracy: 0.894 - ETA: 17:32 - loss: 0.3044 - accuracy: 0.894 - ETA: 17:21 - loss: 0.3041 - accuracy: 0.894 - ETA: 17:10 - loss: 0.3042 - accuracy: 0.894 - ETA: 16:59 - loss: 0.3044 - accuracy: 0.894 - ETA: 16:48 - loss: 0.3043 - accuracy: 0.894 - ETA: 16:37 - loss: 0.3043 - accuracy: 0.894 - ETA: 16:26 - loss: 0.3046 - accuracy: 0.894 - ETA: 16:15 - loss: 0.3048 - accuracy: 0.893 - ETA: 16:03 - loss: 0.3048 - accuracy: 0.894 - ETA: 15:52 - loss: 0.3047 - accuracy: 0.894 - ETA: 15:41 - loss: 0.3050 - accuracy: 0.894 - ETA: 15:30 - loss: 0.3049 - accuracy: 0.894 - ETA: 15:19 - loss: 0.3049 - accuracy: 0.894 - ETA: 15:07 - loss: 0.3049 - accuracy: 0.894 - ETA: 14:56 - loss: 0.3048 - accuracy: 0.894 - ETA: 14:45 - loss: 0.3045 - accuracy: 0.894 - ETA: 14:33 - loss: 0.3045 - accuracy: 0.894 - ETA: 14:22 - loss: 0.3044 - accuracy: 0.894 - ETA: 14:11 - loss: 0.3044 - accuracy: 0.894 - ETA: 13:59 - loss: 0.3041 - accuracy: 0.894 - ETA: 13:48 - loss: 0.3040 - accuracy: 0.894 - ETA: 13:36 - loss: 0.3039 - accuracy: 0.894 - ETA: 13:25 - loss: 0.3036 - accuracy: 0.894 - ETA: 13:14 - loss: 0.3037 - accuracy: 0.894 - ETA: 13:02 - loss: 0.3036 - accuracy: 0.894 - ETA: 12:51 - loss: 0.3038 - accuracy: 0.894 - ETA: 12:39 - loss: 0.3037 - accuracy: 0.894 - ETA: 12:28 - loss: 0.3036 - accuracy: 0.894 - ETA: 12:17 - loss: 0.3035 - accuracy: 0.894 - ETA: 12:05 - loss: 0.3034 - accuracy: 0.894 - ETA: 11:54 - loss: 0.3034 - accuracy: 0.894 - ETA: 11:42 - loss: 0.3033 - accuracy: 0.894 - ETA: 11:31 - loss: 0.3035 - accuracy: 0.894 - ETA: 11:19 - loss: 0.3034 - accuracy: 0.894 - ETA: 11:08 - loss: 0.3035 - accuracy: 0.894 - ETA: 10:56 - loss: 0.3034 - accuracy: 0.894 - ETA: 10:44 - loss: 0.3033 - accuracy: 0.894 - ETA: 10:33 - loss: 0.3033 - accuracy: 0.894 - ETA: 10:21 - loss: 0.3033 - accuracy: 0.894 - ETA: 10:10 - loss: 0.3033 - accuracy: 0.894 - ETA: 9:58 - loss: 0.3032 - accuracy: 0.894 - ETA: 9:46 - loss: 0.3030 - accuracy: 0.89 - ETA: 9:35 - loss: 0.3027 - accuracy: 0.89 - ETA: 9:23 - loss: 0.3026 - accuracy: 0.89 - ETA: 9:11 - loss: 0.3024 - accuracy: 0.89 - ETA: 9:00 - loss: 0.3023 - accuracy: 0.89 - ETA: 8:48 - loss: 0.3021 - accuracy: 0.89 - ETA: 8:37 - loss: 0.3020 - accuracy: 0.89 - ETA: 8:25 - loss: 0.3020 - accuracy: 0.89 - ETA: 8:14 - loss: 0.3022 - accuracy: 0.89 - ETA: 8:02 - loss: 0.3023 - accuracy: 0.89 - ETA: 7:50 - loss: 0.3025 - accuracy: 0.89 - ETA: 7:39 - loss: 0.3026 - accuracy: 0.89 - ETA: 7:27 - loss: 0.3025 - accuracy: 0.89 - ETA: 7:15 - loss: 0.3023 - accuracy: 0.89 - ETA: 7:03 - loss: 0.3021 - accuracy: 0.89 - ETA: 6:52 - loss: 0.3022 - accuracy: 0.89 - ETA: 6:40 - loss: 0.3023 - accuracy: 0.89 - ETA: 6:28 - loss: 0.3024 - accuracy: 0.89 - ETA: 6:16 - loss: 0.3022 - accuracy: 0.89 - ETA: 6:05 - loss: 0.3022 - accuracy: 0.89 - ETA: 5:53 - loss: 0.3022 - accuracy: 0.89 - ETA: 5:41 - loss: 0.3021 - accuracy: 0.89 - ETA: 5:29 - loss: 0.3021 - accuracy: 0.89 - ETA: 5:18 - loss: 0.3021 - accuracy: 0.89 - ETA: 5:06 - loss: 0.3023 - accuracy: 0.89 - ETA: 4:54 - loss: 0.3021 - accuracy: 0.89 - ETA: 4:43 - loss: 0.3020 - accuracy: 0.89 - ETA: 4:31 - loss: 0.3022 - accuracy: 0.89 - ETA: 4:19 - loss: 0.3025 - accuracy: 0.89 - ETA: 4:07 - loss: 0.3024 - accuracy: 0.89 - ETA: 3:55 - loss: 0.3023 - accuracy: 0.89 - ETA: 3:44 - loss: 0.3023 - accuracy: 0.89 - ETA: 3:32 - loss: 0.3021 - accuracy: 0.89 - ETA: 3:20 - loss: 0.3020 - accuracy: 0.89 - ETA: 3:08 - loss: 0.3018 - accuracy: 0.89 - ETA: 2:57 - loss: 0.3018 - accuracy: 0.89 - ETA: 2:45 - loss: 0.3018 - accuracy: 0.89 - ETA: 2:33 - loss: 0.3017 - accuracy: 0.89 - ETA: 2:21 - loss: 0.3015 - accuracy: 0.89 - ETA: 2:10 - loss: 0.3016 - accuracy: 0.89 - ETA: 1:58 - loss: 0.3018 - accuracy: 0.89 - ETA: 1:46 - loss: 0.3020 - accuracy: 0.89 - ETA: 1:34 - loss: 0.3021 - accuracy: 0.89 - ETA: 1:22 - loss: 0.3020 - accuracy: 0.89 - ETA: 1:11 - loss: 0.3020 - accuracy: 0.89 - ETA: 59s - loss: 0.3022 - accuracy: 0.8953 - ETA: 47s - loss: 0.3021 - accuracy: 0.895 - ETA: 35s - loss: 0.3019 - accuracy: 0.895 - ETA: 23s - loss: 0.3016 - accuracy: 0.895 - ETA: 11s - loss: 0.3014 - accuracy: 0.895 - ETA: 0s - loss: 0.3014 - accuracy: 0.895 - 10034s 12s/step - loss: 0.3014 - accuracy: 0.8956 - val_loss: 0.2194 - val_accuracy: 0.9062\n",
      "Epoch 4/5\n"
     ]
    },
    {
     "name": "stdout",
     "output_type": "stream",
     "text": [
      "170/846 [=====>........................] - ETA: 0s - loss: 0.3148 - accuracy: 0.87 - ETA: 1:43:08 - loss: 0.1846 - accuracy: 0.937 - ETA: 2:14:20 - loss: 0.3007 - accuracy: 0.895 - ETA: 2:28:28 - loss: 0.3040 - accuracy: 0.898 - ETA: 2:36:50 - loss: 0.2932 - accuracy: 0.887 - ETA: 2:42:50 - loss: 0.3239 - accuracy: 0.875 - ETA: 2:46:39 - loss: 0.3156 - accuracy: 0.875 - ETA: 2:49:01 - loss: 0.3203 - accuracy: 0.867 - ETA: 2:51:55 - loss: 0.3352 - accuracy: 0.861 - ETA: 2:55:32 - loss: 0.3181 - accuracy: 0.871 - ETA: 2:56:39 - loss: 0.3111 - accuracy: 0.875 - ETA: 2:57:51 - loss: 0.3027 - accuracy: 0.880 - ETA: 2:58:27 - loss: 0.2978 - accuracy: 0.882 - ETA: 2:58:52 - loss: 0.2945 - accuracy: 0.886 - ETA: 2:59:32 - loss: 0.2885 - accuracy: 0.889 - ETA: 2:59:44 - loss: 0.2791 - accuracy: 0.894 - ETA: 2:59:47 - loss: 0.2871 - accuracy: 0.889 - ETA: 3:00:04 - loss: 0.2957 - accuracy: 0.885 - ETA: 3:00:33 - loss: 0.2870 - accuracy: 0.889 - ETA: 3:00:30 - loss: 0.2850 - accuracy: 0.890 - ETA: 3:00:52 - loss: 0.2786 - accuracy: 0.895 - ETA: 3:00:58 - loss: 0.2811 - accuracy: 0.896 - ETA: 3:00:48 - loss: 0.2839 - accuracy: 0.894 - ETA: 3:00:54 - loss: 0.2803 - accuracy: 0.895 - ETA: 3:01:07 - loss: 0.2781 - accuracy: 0.897 - ETA: 3:00:52 - loss: 0.2745 - accuracy: 0.899 - ETA: 3:00:45 - loss: 0.2767 - accuracy: 0.899 - ETA: 3:00:52 - loss: 0.2740 - accuracy: 0.900 - ETA: 3:00:42 - loss: 0.2751 - accuracy: 0.898 - ETA: 3:00:48 - loss: 0.2703 - accuracy: 0.899 - ETA: 3:00:55 - loss: 0.2690 - accuracy: 0.898 - ETA: 3:00:48 - loss: 0.2695 - accuracy: 0.899 - ETA: 3:00:41 - loss: 0.2707 - accuracy: 0.898 - ETA: 3:00:37 - loss: 0.2701 - accuracy: 0.898 - ETA: 3:00:42 - loss: 0.2692 - accuracy: 0.896 - ETA: 3:00:35 - loss: 0.2670 - accuracy: 0.897 - ETA: 3:00:19 - loss: 0.2651 - accuracy: 0.898 - ETA: 3:00:08 - loss: 0.2621 - accuracy: 0.900 - ETA: 3:00:04 - loss: 0.2621 - accuracy: 0.900 - ETA: 2:59:50 - loss: 0.2627 - accuracy: 0.901 - ETA: 2:59:40 - loss: 0.2602 - accuracy: 0.901 - ETA: 2:59:30 - loss: 0.2629 - accuracy: 0.901 - ETA: 2:59:18 - loss: 0.2672 - accuracy: 0.898 - ETA: 2:59:09 - loss: 0.2680 - accuracy: 0.897 - ETA: 2:58:57 - loss: 0.2652 - accuracy: 0.899 - ETA: 2:58:46 - loss: 0.2673 - accuracy: 0.898 - ETA: 2:58:31 - loss: 0.2666 - accuracy: 0.898 - ETA: 2:58:24 - loss: 0.2692 - accuracy: 0.898 - ETA: 2:58:12 - loss: 0.2684 - accuracy: 0.899 - ETA: 2:58:00 - loss: 0.2684 - accuracy: 0.898 - ETA: 2:57:53 - loss: 0.2674 - accuracy: 0.898 - ETA: 2:57:38 - loss: 0.2660 - accuracy: 0.899 - ETA: 2:57:28 - loss: 0.2697 - accuracy: 0.898 - ETA: 2:57:18 - loss: 0.2719 - accuracy: 0.897 - ETA: 2:56:57 - loss: 0.2715 - accuracy: 0.896 - ETA: 2:56:33 - loss: 0.2695 - accuracy: 0.897 - ETA: 2:56:07 - loss: 0.2740 - accuracy: 0.895 - ETA: 2:55:42 - loss: 0.2731 - accuracy: 0.897 - ETA: 2:55:17 - loss: 0.2728 - accuracy: 0.897 - ETA: 2:54:49 - loss: 0.2713 - accuracy: 0.896 - ETA: 2:54:23 - loss: 0.2698 - accuracy: 0.897 - ETA: 2:53:57 - loss: 0.2733 - accuracy: 0.897 - ETA: 2:53:34 - loss: 0.2770 - accuracy: 0.895 - ETA: 2:53:12 - loss: 0.2776 - accuracy: 0.896 - ETA: 2:52:47 - loss: 0.2773 - accuracy: 0.897 - ETA: 2:52:28 - loss: 0.2808 - accuracy: 0.896 - ETA: 2:52:07 - loss: 0.2795 - accuracy: 0.897 - ETA: 2:51:45 - loss: 0.2783 - accuracy: 0.897 - ETA: 2:51:24 - loss: 0.2778 - accuracy: 0.898 - ETA: 2:51:03 - loss: 0.2779 - accuracy: 0.898 - ETA: 2:50:39 - loss: 0.2787 - accuracy: 0.898 - ETA: 2:50:20 - loss: 0.2793 - accuracy: 0.898 - ETA: 2:49:58 - loss: 0.2805 - accuracy: 0.898 - ETA: 2:49:41 - loss: 0.2816 - accuracy: 0.898 - ETA: 2:49:22 - loss: 0.2829 - accuracy: 0.897 - ETA: 2:48:59 - loss: 0.2833 - accuracy: 0.897 - ETA: 2:48:36 - loss: 0.2838 - accuracy: 0.896 - ETA: 2:48:18 - loss: 0.2829 - accuracy: 0.897 - ETA: 2:47:57 - loss: 0.2849 - accuracy: 0.896 - ETA: 2:47:39 - loss: 0.2864 - accuracy: 0.895 - ETA: 2:47:18 - loss: 0.2847 - accuracy: 0.896 - ETA: 2:47:00 - loss: 0.2872 - accuracy: 0.895 - ETA: 2:46:39 - loss: 0.2867 - accuracy: 0.895 - ETA: 2:46:19 - loss: 0.2890 - accuracy: 0.894 - ETA: 2:46:00 - loss: 0.2891 - accuracy: 0.894 - ETA: 2:45:40 - loss: 0.2876 - accuracy: 0.895 - ETA: 2:45:20 - loss: 0.2862 - accuracy: 0.895 - ETA: 2:45:01 - loss: 0.2865 - accuracy: 0.896 - ETA: 2:44:39 - loss: 0.2866 - accuracy: 0.896 - ETA: 2:44:24 - loss: 0.2866 - accuracy: 0.895 - ETA: 2:44:05 - loss: 0.2848 - accuracy: 0.897 - ETA: 2:43:47 - loss: 0.2870 - accuracy: 0.896 - ETA: 2:43:29 - loss: 0.2856 - accuracy: 0.896 - ETA: 2:43:11 - loss: 0.2869 - accuracy: 0.895 - ETA: 2:42:53 - loss: 0.2880 - accuracy: 0.895 - ETA: 2:42:37 - loss: 0.2875 - accuracy: 0.895 - ETA: 2:42:20 - loss: 0.2883 - accuracy: 0.895 - ETA: 2:42:04 - loss: 0.2879 - accuracy: 0.896 - ETA: 2:41:48 - loss: 0.2901 - accuracy: 0.895 - ETA: 2:41:31 - loss: 0.2887 - accuracy: 0.895 - ETA: 2:41:14 - loss: 0.2866 - accuracy: 0.896 - ETA: 2:40:58 - loss: 0.2848 - accuracy: 0.897 - ETA: 2:40:39 - loss: 0.2856 - accuracy: 0.897 - ETA: 2:40:21 - loss: 0.2851 - accuracy: 0.897 - ETA: 2:40:05 - loss: 0.2842 - accuracy: 0.897 - ETA: 2:39:49 - loss: 0.2847 - accuracy: 0.897 - ETA: 2:39:33 - loss: 0.2834 - accuracy: 0.897 - ETA: 2:39:17 - loss: 0.2822 - accuracy: 0.898 - ETA: 2:38:59 - loss: 0.2831 - accuracy: 0.897 - ETA: 2:38:41 - loss: 0.2835 - accuracy: 0.897 - ETA: 2:38:26 - loss: 0.2847 - accuracy: 0.896 - ETA: 2:38:10 - loss: 0.2852 - accuracy: 0.895 - ETA: 2:37:53 - loss: 0.2856 - accuracy: 0.896 - ETA: 2:37:38 - loss: 0.2841 - accuracy: 0.897 - ETA: 2:37:22 - loss: 0.2841 - accuracy: 0.897 - ETA: 2:37:06 - loss: 0.2832 - accuracy: 0.898 - ETA: 2:36:52 - loss: 0.2831 - accuracy: 0.898 - ETA: 2:36:35 - loss: 0.2820 - accuracy: 0.898 - ETA: 2:36:18 - loss: 0.2822 - accuracy: 0.898 - ETA: 2:36:02 - loss: 0.2828 - accuracy: 0.897 - ETA: 2:35:45 - loss: 0.2809 - accuracy: 0.898 - ETA: 2:35:30 - loss: 0.2810 - accuracy: 0.898 - ETA: 2:35:17 - loss: 0.2799 - accuracy: 0.898 - ETA: 2:35:01 - loss: 0.2796 - accuracy: 0.898 - ETA: 2:34:44 - loss: 0.2800 - accuracy: 0.898 - ETA: 2:34:31 - loss: 0.2794 - accuracy: 0.898 - ETA: 2:34:18 - loss: 0.2782 - accuracy: 0.899 - ETA: 2:34:03 - loss: 0.2765 - accuracy: 0.900 - ETA: 2:33:48 - loss: 0.2771 - accuracy: 0.900 - ETA: 2:33:32 - loss: 0.2763 - accuracy: 0.900 - ETA: 2:33:16 - loss: 0.2764 - accuracy: 0.899 - ETA: 2:33:02 - loss: 0.2755 - accuracy: 0.899 - ETA: 2:32:47 - loss: 0.2752 - accuracy: 0.899 - ETA: 2:32:30 - loss: 0.2755 - accuracy: 0.900 - ETA: 2:32:15 - loss: 0.2752 - accuracy: 0.900 - ETA: 2:32:00 - loss: 0.2774 - accuracy: 0.899 - ETA: 2:31:45 - loss: 0.2781 - accuracy: 0.899 - ETA: 2:31:31 - loss: 0.2770 - accuracy: 0.899 - ETA: 2:31:15 - loss: 0.2758 - accuracy: 0.899 - ETA: 2:30:59 - loss: 0.2754 - accuracy: 0.899 - ETA: 2:30:44 - loss: 0.2746 - accuracy: 0.900 - ETA: 2:30:28 - loss: 0.2747 - accuracy: 0.899 - ETA: 2:30:14 - loss: 0.2748 - accuracy: 0.899 - ETA: 2:29:59 - loss: 0.2746 - accuracy: 0.899 - ETA: 2:29:45 - loss: 0.2741 - accuracy: 0.900 - ETA: 2:29:32 - loss: 0.2739 - accuracy: 0.899 - ETA: 2:29:19 - loss: 0.2736 - accuracy: 0.900 - ETA: 2:29:06 - loss: 0.2736 - accuracy: 0.900 - ETA: 2:28:53 - loss: 0.2729 - accuracy: 0.900 - ETA: 2:28:40 - loss: 0.2728 - accuracy: 0.900 - ETA: 2:28:28 - loss: 0.2720 - accuracy: 0.900 - ETA: 2:28:28 - loss: 0.2730 - accuracy: 0.900 - ETA: 2:28:16 - loss: 0.2734 - accuracy: 0.900 - ETA: 2:28:04 - loss: 0.2738 - accuracy: 0.900 - ETA: 2:27:49 - loss: 0.2745 - accuracy: 0.900 - ETA: 2:27:34 - loss: 0.2757 - accuracy: 0.899 - ETA: 2:27:20 - loss: 0.2772 - accuracy: 0.899 - ETA: 2:27:05 - loss: 0.2771 - accuracy: 0.899 - ETA: 2:26:51 - loss: 0.2761 - accuracy: 0.899 - ETA: 2:26:36 - loss: 0.2750 - accuracy: 0.899 - ETA: 2:26:21 - loss: 0.2739 - accuracy: 0.900 - ETA: 2:26:07 - loss: 0.2735 - accuracy: 0.900 - ETA: 2:25:52 - loss: 0.2741 - accuracy: 0.900 - ETA: 2:25:38 - loss: 0.2741 - accuracy: 0.900 - ETA: 2:25:23 - loss: 0.2752 - accuracy: 0.900 - ETA: 2:25:09 - loss: 0.2770 - accuracy: 0.899 - ETA: 2:24:54 - loss: 0.2770 - accuracy: 0.899 - ETA: 2:24:40 - loss: 0.2771 - accuracy: 0.899 - ETA: 2:24:27 - loss: 0.2778 - accuracy: 0.898 - ETA: 2:24:14 - loss: 0.2777 - accuracy: 0.8989340/846 [===========>..................] - ETA: 2:23:59 - loss: 0.2786 - accuracy: 0.898 - ETA: 2:23:45 - loss: 0.2784 - accuracy: 0.897 - ETA: 2:23:31 - loss: 0.2775 - accuracy: 0.898 - ETA: 2:23:18 - loss: 0.2773 - accuracy: 0.898 - ETA: 2:23:04 - loss: 0.2764 - accuracy: 0.898 - ETA: 2:22:50 - loss: 0.2754 - accuracy: 0.899 - ETA: 2:22:36 - loss: 0.2751 - accuracy: 0.899 - ETA: 2:22:21 - loss: 0.2755 - accuracy: 0.898 - ETA: 2:22:07 - loss: 0.2748 - accuracy: 0.899 - ETA: 2:21:53 - loss: 0.2741 - accuracy: 0.899 - ETA: 2:21:39 - loss: 0.2738 - accuracy: 0.899 - ETA: 2:21:24 - loss: 0.2744 - accuracy: 0.899 - ETA: 2:21:11 - loss: 0.2754 - accuracy: 0.898 - ETA: 2:20:57 - loss: 0.2751 - accuracy: 0.898 - ETA: 2:20:44 - loss: 0.2742 - accuracy: 0.899 - ETA: 2:20:31 - loss: 0.2753 - accuracy: 0.898 - ETA: 2:20:16 - loss: 0.2745 - accuracy: 0.899 - ETA: 2:20:02 - loss: 0.2740 - accuracy: 0.899 - ETA: 2:19:48 - loss: 0.2750 - accuracy: 0.899 - ETA: 2:19:34 - loss: 0.2740 - accuracy: 0.900 - ETA: 2:19:19 - loss: 0.2745 - accuracy: 0.899 - ETA: 2:19:05 - loss: 0.2746 - accuracy: 0.900 - ETA: 2:18:51 - loss: 0.2744 - accuracy: 0.900 - ETA: 2:18:38 - loss: 0.2737 - accuracy: 0.900 - ETA: 2:18:24 - loss: 0.2748 - accuracy: 0.900 - ETA: 2:18:10 - loss: 0.2746 - accuracy: 0.900 - ETA: 2:17:55 - loss: 0.2744 - accuracy: 0.900 - ETA: 2:17:41 - loss: 0.2742 - accuracy: 0.900 - ETA: 2:17:27 - loss: 0.2742 - accuracy: 0.900 - ETA: 2:17:14 - loss: 0.2750 - accuracy: 0.900 - ETA: 2:17:02 - loss: 0.2740 - accuracy: 0.901 - ETA: 2:16:49 - loss: 0.2731 - accuracy: 0.901 - ETA: 2:16:35 - loss: 0.2723 - accuracy: 0.901 - ETA: 2:16:21 - loss: 0.2726 - accuracy: 0.901 - ETA: 2:16:07 - loss: 0.2726 - accuracy: 0.901 - ETA: 2:15:53 - loss: 0.2726 - accuracy: 0.901 - ETA: 2:15:40 - loss: 0.2730 - accuracy: 0.901 - ETA: 2:15:26 - loss: 0.2736 - accuracy: 0.901 - ETA: 2:15:12 - loss: 0.2735 - accuracy: 0.901 - ETA: 2:14:58 - loss: 0.2740 - accuracy: 0.901 - ETA: 2:14:45 - loss: 0.2729 - accuracy: 0.901 - ETA: 2:14:31 - loss: 0.2729 - accuracy: 0.901 - ETA: 2:14:17 - loss: 0.2723 - accuracy: 0.902 - ETA: 2:14:03 - loss: 0.2713 - accuracy: 0.902 - ETA: 2:13:52 - loss: 0.2718 - accuracy: 0.902 - ETA: 2:13:42 - loss: 0.2713 - accuracy: 0.902 - ETA: 2:13:30 - loss: 0.2714 - accuracy: 0.902 - ETA: 2:13:19 - loss: 0.2715 - accuracy: 0.902 - ETA: 2:13:08 - loss: 0.2713 - accuracy: 0.902 - ETA: 2:12:56 - loss: 0.2705 - accuracy: 0.902 - ETA: 2:12:45 - loss: 0.2707 - accuracy: 0.902 - ETA: 2:12:34 - loss: 0.2706 - accuracy: 0.902 - ETA: 2:12:23 - loss: 0.2700 - accuracy: 0.902 - ETA: 2:12:11 - loss: 0.2697 - accuracy: 0.902 - ETA: 2:11:59 - loss: 0.2701 - accuracy: 0.902 - ETA: 2:11:48 - loss: 0.2707 - accuracy: 0.902 - ETA: 2:11:36 - loss: 0.2702 - accuracy: 0.902 - ETA: 2:11:25 - loss: 0.2702 - accuracy: 0.902 - ETA: 2:11:13 - loss: 0.2699 - accuracy: 0.902 - ETA: 2:11:01 - loss: 0.2704 - accuracy: 0.901 - ETA: 2:10:50 - loss: 0.2696 - accuracy: 0.902 - ETA: 2:10:39 - loss: 0.2700 - accuracy: 0.901 - ETA: 2:10:27 - loss: 0.2703 - accuracy: 0.901 - ETA: 2:10:15 - loss: 0.2702 - accuracy: 0.901 - ETA: 2:10:03 - loss: 0.2694 - accuracy: 0.902 - ETA: 2:09:52 - loss: 0.2688 - accuracy: 0.902 - ETA: 2:09:40 - loss: 0.2684 - accuracy: 0.902 - ETA: 2:09:28 - loss: 0.2700 - accuracy: 0.902 - ETA: 2:09:17 - loss: 0.2699 - accuracy: 0.902 - ETA: 2:09:06 - loss: 0.2698 - accuracy: 0.902 - ETA: 2:08:56 - loss: 0.2695 - accuracy: 0.902 - ETA: 2:08:44 - loss: 0.2699 - accuracy: 0.902 - ETA: 2:08:33 - loss: 0.2703 - accuracy: 0.901 - ETA: 2:08:21 - loss: 0.2698 - accuracy: 0.902 - ETA: 2:08:09 - loss: 0.2710 - accuracy: 0.901 - ETA: 2:08:00 - loss: 0.2704 - accuracy: 0.901 - ETA: 2:07:49 - loss: 0.2696 - accuracy: 0.902 - ETA: 2:07:37 - loss: 0.2702 - accuracy: 0.902 - ETA: 2:07:26 - loss: 0.2705 - accuracy: 0.902 - ETA: 2:07:13 - loss: 0.2699 - accuracy: 0.902 - ETA: 2:07:02 - loss: 0.2701 - accuracy: 0.902 - ETA: 2:06:50 - loss: 0.2710 - accuracy: 0.902 - ETA: 2:06:38 - loss: 0.2716 - accuracy: 0.901 - ETA: 2:06:26 - loss: 0.2717 - accuracy: 0.901 - ETA: 2:06:14 - loss: 0.2718 - accuracy: 0.901 - ETA: 2:06:03 - loss: 0.2722 - accuracy: 0.901 - ETA: 2:05:52 - loss: 0.2722 - accuracy: 0.901 - ETA: 2:05:40 - loss: 0.2717 - accuracy: 0.901 - ETA: 2:05:28 - loss: 0.2720 - accuracy: 0.901 - ETA: 2:05:16 - loss: 0.2719 - accuracy: 0.902 - ETA: 2:05:04 - loss: 0.2717 - accuracy: 0.902 - ETA: 2:04:53 - loss: 0.2719 - accuracy: 0.902 - ETA: 2:04:41 - loss: 0.2715 - accuracy: 0.902 - ETA: 2:04:30 - loss: 0.2713 - accuracy: 0.902 - ETA: 2:04:17 - loss: 0.2714 - accuracy: 0.902 - ETA: 2:04:06 - loss: 0.2713 - accuracy: 0.902 - ETA: 2:03:54 - loss: 0.2713 - accuracy: 0.902 - ETA: 2:03:42 - loss: 0.2708 - accuracy: 0.902 - ETA: 2:03:30 - loss: 0.2712 - accuracy: 0.902 - ETA: 2:03:18 - loss: 0.2714 - accuracy: 0.902 - ETA: 2:03:07 - loss: 0.2710 - accuracy: 0.902 - ETA: 2:02:56 - loss: 0.2708 - accuracy: 0.902 - ETA: 2:02:44 - loss: 0.2709 - accuracy: 0.902 - ETA: 2:02:33 - loss: 0.2701 - accuracy: 0.903 - ETA: 2:02:21 - loss: 0.2696 - accuracy: 0.903 - ETA: 2:02:10 - loss: 0.2695 - accuracy: 0.903 - ETA: 2:01:57 - loss: 0.2698 - accuracy: 0.903 - ETA: 2:01:45 - loss: 0.2698 - accuracy: 0.903 - ETA: 2:01:33 - loss: 0.2705 - accuracy: 0.902 - ETA: 2:01:21 - loss: 0.2702 - accuracy: 0.903 - ETA: 2:01:09 - loss: 0.2698 - accuracy: 0.903 - ETA: 2:00:57 - loss: 0.2701 - accuracy: 0.903 - ETA: 2:00:45 - loss: 0.2698 - accuracy: 0.903 - ETA: 2:00:32 - loss: 0.2698 - accuracy: 0.903 - ETA: 2:00:21 - loss: 0.2690 - accuracy: 0.903 - ETA: 2:00:09 - loss: 0.2689 - accuracy: 0.903 - ETA: 1:59:57 - loss: 0.2694 - accuracy: 0.903 - ETA: 1:59:45 - loss: 0.2700 - accuracy: 0.903 - ETA: 1:59:32 - loss: 0.2700 - accuracy: 0.903 - ETA: 1:59:20 - loss: 0.2714 - accuracy: 0.902 - ETA: 1:59:08 - loss: 0.2716 - accuracy: 0.902 - ETA: 1:58:57 - loss: 0.2716 - accuracy: 0.902 - ETA: 1:58:49 - loss: 0.2718 - accuracy: 0.902 - ETA: 1:58:38 - loss: 0.2716 - accuracy: 0.902 - ETA: 1:58:26 - loss: 0.2724 - accuracy: 0.902 - ETA: 1:58:14 - loss: 0.2721 - accuracy: 0.902 - ETA: 1:58:02 - loss: 0.2719 - accuracy: 0.902 - ETA: 1:57:50 - loss: 0.2720 - accuracy: 0.902 - ETA: 1:57:37 - loss: 0.2721 - accuracy: 0.902 - ETA: 1:57:26 - loss: 0.2719 - accuracy: 0.902 - ETA: 1:57:14 - loss: 0.2717 - accuracy: 0.902 - ETA: 1:57:02 - loss: 0.2719 - accuracy: 0.902 - ETA: 1:56:50 - loss: 0.2721 - accuracy: 0.902 - ETA: 1:56:37 - loss: 0.2725 - accuracy: 0.902 - ETA: 1:56:25 - loss: 0.2725 - accuracy: 0.902 - ETA: 1:56:14 - loss: 0.2721 - accuracy: 0.902 - ETA: 1:56:02 - loss: 0.2719 - accuracy: 0.902 - ETA: 1:55:50 - loss: 0.2719 - accuracy: 0.902 - ETA: 1:55:39 - loss: 0.2716 - accuracy: 0.902 - ETA: 1:55:27 - loss: 0.2712 - accuracy: 0.902 - ETA: 1:55:11 - loss: 0.2717 - accuracy: 0.902 - ETA: 1:54:50 - loss: 0.2723 - accuracy: 0.902 - ETA: 1:54:29 - loss: 0.2718 - accuracy: 0.902 - ETA: 1:54:09 - loss: 0.2712 - accuracy: 0.903 - ETA: 1:53:49 - loss: 0.2724 - accuracy: 0.902 - ETA: 1:53:29 - loss: 0.2718 - accuracy: 0.902 - ETA: 1:53:11 - loss: 0.2713 - accuracy: 0.902 - ETA: 1:52:54 - loss: 0.2710 - accuracy: 0.903 - ETA: 1:52:37 - loss: 0.2712 - accuracy: 0.903 - ETA: 1:52:21 - loss: 0.2715 - accuracy: 0.903 - ETA: 1:52:05 - loss: 0.2712 - accuracy: 0.903 - ETA: 1:51:48 - loss: 0.2711 - accuracy: 0.903 - ETA: 1:51:32 - loss: 0.2711 - accuracy: 0.903 - ETA: 1:51:17 - loss: 0.2712 - accuracy: 0.902 - ETA: 1:51:00 - loss: 0.2710 - accuracy: 0.903 - ETA: 1:50:44 - loss: 0.2712 - accuracy: 0.903 - ETA: 1:50:28 - loss: 0.2710 - accuracy: 0.903 - ETA: 1:50:12 - loss: 0.2709 - accuracy: 0.903 - ETA: 1:49:56 - loss: 0.2705 - accuracy: 0.903 - ETA: 1:49:40 - loss: 0.2706 - accuracy: 0.903 - ETA: 1:49:24 - loss: 0.2707 - accuracy: 0.903 - ETA: 1:49:08 - loss: 0.2717 - accuracy: 0.903 - ETA: 1:48:52 - loss: 0.2716 - accuracy: 0.903 - ETA: 1:48:37 - loss: 0.2717 - accuracy: 0.903 - ETA: 1:48:21 - loss: 0.2713 - accuracy: 0.903 - ETA: 1:48:06 - loss: 0.2708 - accuracy: 0.903 - ETA: 1:47:50 - loss: 0.2702 - accuracy: 0.903 - ETA: 1:47:34 - loss: 0.2705 - accuracy: 0.903 - ETA: 1:47:19 - loss: 0.2703 - accuracy: 0.903 - ETA: 1:47:03 - loss: 0.2702 - accuracy: 0.9038510/846 [=================>............] - ETA: 1:46:47 - loss: 0.2705 - accuracy: 0.903 - ETA: 1:46:32 - loss: 0.2698 - accuracy: 0.903 - ETA: 1:46:17 - loss: 0.2694 - accuracy: 0.904 - ETA: 1:46:01 - loss: 0.2694 - accuracy: 0.903 - ETA: 1:45:46 - loss: 0.2697 - accuracy: 0.903 - ETA: 1:45:30 - loss: 0.2693 - accuracy: 0.903 - ETA: 1:45:15 - loss: 0.2692 - accuracy: 0.903 - ETA: 1:45:00 - loss: 0.2691 - accuracy: 0.904 - ETA: 1:44:45 - loss: 0.2687 - accuracy: 0.904 - ETA: 1:44:29 - loss: 0.2683 - accuracy: 0.904 - ETA: 1:44:14 - loss: 0.2680 - accuracy: 0.904 - ETA: 1:43:59 - loss: 0.2678 - accuracy: 0.904 - ETA: 1:43:44 - loss: 0.2681 - accuracy: 0.904 - ETA: 1:43:29 - loss: 0.2677 - accuracy: 0.904 - ETA: 1:43:14 - loss: 0.2680 - accuracy: 0.904 - ETA: 1:42:59 - loss: 0.2678 - accuracy: 0.904 - ETA: 1:42:44 - loss: 0.2674 - accuracy: 0.904 - ETA: 1:42:29 - loss: 0.2672 - accuracy: 0.904 - ETA: 1:42:14 - loss: 0.2671 - accuracy: 0.904 - ETA: 1:41:59 - loss: 0.2673 - accuracy: 0.904 - ETA: 1:41:44 - loss: 0.2676 - accuracy: 0.904 - ETA: 1:41:29 - loss: 0.2675 - accuracy: 0.904 - ETA: 1:41:14 - loss: 0.2678 - accuracy: 0.904 - ETA: 1:40:59 - loss: 0.2675 - accuracy: 0.904 - ETA: 1:40:44 - loss: 0.2674 - accuracy: 0.904 - ETA: 1:40:29 - loss: 0.2675 - accuracy: 0.904 - ETA: 1:40:14 - loss: 0.2677 - accuracy: 0.904 - ETA: 1:39:59 - loss: 0.2676 - accuracy: 0.904 - ETA: 1:39:44 - loss: 0.2674 - accuracy: 0.904 - ETA: 1:39:29 - loss: 0.2672 - accuracy: 0.904 - ETA: 1:39:14 - loss: 0.2671 - accuracy: 0.904 - ETA: 1:39:00 - loss: 0.2671 - accuracy: 0.904 - ETA: 1:38:45 - loss: 0.2670 - accuracy: 0.904 - ETA: 1:38:30 - loss: 0.2669 - accuracy: 0.904 - ETA: 1:38:15 - loss: 0.2667 - accuracy: 0.904 - ETA: 1:38:00 - loss: 0.2662 - accuracy: 0.905 - ETA: 1:37:45 - loss: 0.2660 - accuracy: 0.905 - ETA: 1:37:31 - loss: 0.2668 - accuracy: 0.904 - ETA: 1:37:16 - loss: 0.2671 - accuracy: 0.904 - ETA: 1:37:02 - loss: 0.2673 - accuracy: 0.904 - ETA: 1:36:47 - loss: 0.2669 - accuracy: 0.904 - ETA: 1:36:32 - loss: 0.2667 - accuracy: 0.904 - ETA: 1:36:17 - loss: 0.2662 - accuracy: 0.905 - ETA: 1:36:03 - loss: 0.2662 - accuracy: 0.904 - ETA: 1:35:48 - loss: 0.2659 - accuracy: 0.905 - ETA: 1:35:34 - loss: 0.2659 - accuracy: 0.905 - ETA: 1:35:19 - loss: 0.2661 - accuracy: 0.904 - ETA: 1:35:05 - loss: 0.2658 - accuracy: 0.905 - ETA: 1:34:50 - loss: 0.2656 - accuracy: 0.905 - ETA: 1:34:36 - loss: 0.2660 - accuracy: 0.905 - ETA: 1:34:22 - loss: 0.2657 - accuracy: 0.905 - ETA: 1:34:07 - loss: 0.2657 - accuracy: 0.905 - ETA: 1:33:54 - loss: 0.2661 - accuracy: 0.904 - ETA: 1:33:39 - loss: 0.2658 - accuracy: 0.905 - ETA: 1:33:25 - loss: 0.2655 - accuracy: 0.905 - ETA: 1:33:11 - loss: 0.2655 - accuracy: 0.905 - ETA: 1:32:57 - loss: 0.2656 - accuracy: 0.905 - ETA: 1:32:42 - loss: 0.2654 - accuracy: 0.904 - ETA: 1:32:28 - loss: 0.2657 - accuracy: 0.904 - ETA: 1:32:14 - loss: 0.2666 - accuracy: 0.904 - ETA: 1:31:59 - loss: 0.2665 - accuracy: 0.904 - ETA: 1:31:45 - loss: 0.2665 - accuracy: 0.904 - ETA: 1:31:31 - loss: 0.2666 - accuracy: 0.904 - ETA: 1:31:17 - loss: 0.2666 - accuracy: 0.904 - ETA: 1:31:03 - loss: 0.2669 - accuracy: 0.904 - ETA: 1:30:49 - loss: 0.2665 - accuracy: 0.904 - ETA: 1:30:34 - loss: 0.2666 - accuracy: 0.904 - ETA: 1:30:20 - loss: 0.2663 - accuracy: 0.904 - ETA: 1:30:06 - loss: 0.2666 - accuracy: 0.904 - ETA: 1:29:52 - loss: 0.2667 - accuracy: 0.904 - ETA: 1:29:38 - loss: 0.2665 - accuracy: 0.904 - ETA: 1:29:24 - loss: 0.2665 - accuracy: 0.904 - ETA: 1:29:10 - loss: 0.2668 - accuracy: 0.904 - ETA: 1:28:56 - loss: 0.2668 - accuracy: 0.904 - ETA: 1:28:42 - loss: 0.2663 - accuracy: 0.904 - ETA: 1:28:28 - loss: 0.2665 - accuracy: 0.904 - ETA: 1:28:14 - loss: 0.2669 - accuracy: 0.904 - ETA: 1:28:00 - loss: 0.2672 - accuracy: 0.904 - ETA: 1:27:46 - loss: 0.2668 - accuracy: 0.904 - ETA: 1:27:32 - loss: 0.2667 - accuracy: 0.904 - ETA: 1:27:19 - loss: 0.2669 - accuracy: 0.904 - ETA: 1:27:05 - loss: 0.2671 - accuracy: 0.904 - ETA: 1:26:51 - loss: 0.2678 - accuracy: 0.904 - ETA: 1:26:37 - loss: 0.2686 - accuracy: 0.904 - ETA: 1:26:23 - loss: 0.2681 - accuracy: 0.904 - ETA: 1:26:10 - loss: 0.2685 - accuracy: 0.904 - ETA: 1:25:56 - loss: 0.2681 - accuracy: 0.904 - ETA: 1:25:42 - loss: 0.2677 - accuracy: 0.904 - ETA: 1:25:28 - loss: 0.2674 - accuracy: 0.904 - ETA: 1:25:14 - loss: 0.2676 - accuracy: 0.904 - ETA: 1:25:01 - loss: 0.2676 - accuracy: 0.904 - ETA: 1:24:47 - loss: 0.2674 - accuracy: 0.904 - ETA: 1:24:34 - loss: 0.2673 - accuracy: 0.904 - ETA: 1:24:20 - loss: 0.2676 - accuracy: 0.904 - ETA: 1:24:06 - loss: 0.2676 - accuracy: 0.904 - ETA: 1:23:53 - loss: 0.2673 - accuracy: 0.904 - ETA: 1:23:39 - loss: 0.2671 - accuracy: 0.904 - ETA: 1:23:26 - loss: 0.2669 - accuracy: 0.904 - ETA: 1:23:12 - loss: 0.2670 - accuracy: 0.904 - ETA: 1:22:59 - loss: 0.2671 - accuracy: 0.904 - ETA: 1:22:47 - loss: 0.2670 - accuracy: 0.904 - ETA: 1:22:34 - loss: 0.2674 - accuracy: 0.904 - ETA: 1:22:21 - loss: 0.2671 - accuracy: 0.904 - ETA: 1:22:08 - loss: 0.2667 - accuracy: 0.904 - ETA: 1:21:54 - loss: 0.2664 - accuracy: 0.904 - ETA: 1:21:41 - loss: 0.2663 - accuracy: 0.904 - ETA: 1:21:28 - loss: 0.2664 - accuracy: 0.904 - ETA: 1:21:14 - loss: 0.2665 - accuracy: 0.904 - ETA: 1:21:01 - loss: 0.2662 - accuracy: 0.904 - ETA: 1:20:47 - loss: 0.2662 - accuracy: 0.904 - ETA: 1:20:34 - loss: 0.2663 - accuracy: 0.904 - ETA: 1:20:20 - loss: 0.2660 - accuracy: 0.905 - ETA: 1:20:07 - loss: 0.2658 - accuracy: 0.905 - ETA: 1:19:53 - loss: 0.2664 - accuracy: 0.904 - ETA: 1:19:40 - loss: 0.2665 - accuracy: 0.904 - ETA: 1:19:27 - loss: 0.2663 - accuracy: 0.904 - ETA: 1:19:14 - loss: 0.2664 - accuracy: 0.904 - ETA: 1:19:01 - loss: 0.2663 - accuracy: 0.905 - ETA: 1:18:48 - loss: 0.2665 - accuracy: 0.904 - ETA: 1:18:34 - loss: 0.2664 - accuracy: 0.905 - ETA: 1:18:21 - loss: 0.2660 - accuracy: 0.905 - ETA: 1:18:08 - loss: 0.2656 - accuracy: 0.905 - ETA: 1:17:55 - loss: 0.2661 - accuracy: 0.905 - ETA: 1:17:42 - loss: 0.2660 - accuracy: 0.905 - ETA: 1:17:29 - loss: 0.2660 - accuracy: 0.905 - ETA: 1:17:15 - loss: 0.2657 - accuracy: 0.905 - ETA: 1:17:02 - loss: 0.2656 - accuracy: 0.905 - ETA: 1:16:49 - loss: 0.2654 - accuracy: 0.905 - ETA: 1:16:36 - loss: 0.2650 - accuracy: 0.905 - ETA: 1:16:22 - loss: 0.2651 - accuracy: 0.905 - ETA: 1:16:09 - loss: 0.2653 - accuracy: 0.905 - ETA: 1:15:56 - loss: 0.2653 - accuracy: 0.905 - ETA: 1:15:43 - loss: 0.2656 - accuracy: 0.905 - ETA: 1:15:30 - loss: 0.2653 - accuracy: 0.905 - ETA: 1:15:16 - loss: 0.2652 - accuracy: 0.905 - ETA: 1:15:04 - loss: 0.2651 - accuracy: 0.904 - ETA: 1:14:50 - loss: 0.2649 - accuracy: 0.904 - ETA: 1:14:37 - loss: 0.2652 - accuracy: 0.904 - ETA: 1:14:24 - loss: 0.2657 - accuracy: 0.904 - ETA: 1:14:11 - loss: 0.2660 - accuracy: 0.904 - ETA: 1:13:58 - loss: 0.2656 - accuracy: 0.904 - ETA: 1:13:45 - loss: 0.2655 - accuracy: 0.904 - ETA: 1:13:32 - loss: 0.2653 - accuracy: 0.905 - ETA: 1:13:19 - loss: 0.2651 - accuracy: 0.905 - ETA: 1:13:06 - loss: 0.2648 - accuracy: 0.905 - ETA: 1:12:53 - loss: 0.2647 - accuracy: 0.905 - ETA: 1:12:40 - loss: 0.2645 - accuracy: 0.905 - ETA: 1:12:27 - loss: 0.2645 - accuracy: 0.905 - ETA: 1:12:14 - loss: 0.2644 - accuracy: 0.905 - ETA: 1:12:01 - loss: 0.2642 - accuracy: 0.905 - ETA: 1:11:48 - loss: 0.2648 - accuracy: 0.905 - ETA: 1:11:35 - loss: 0.2647 - accuracy: 0.905 - ETA: 1:11:22 - loss: 0.2647 - accuracy: 0.905 - ETA: 1:11:09 - loss: 0.2644 - accuracy: 0.905 - ETA: 1:10:56 - loss: 0.2645 - accuracy: 0.905 - ETA: 1:10:43 - loss: 0.2644 - accuracy: 0.905 - ETA: 1:10:30 - loss: 0.2640 - accuracy: 0.905 - ETA: 1:10:18 - loss: 0.2639 - accuracy: 0.905 - ETA: 1:10:05 - loss: 0.2637 - accuracy: 0.905 - ETA: 1:09:52 - loss: 0.2635 - accuracy: 0.905 - ETA: 1:09:39 - loss: 0.2634 - accuracy: 0.905 - ETA: 1:09:26 - loss: 0.2636 - accuracy: 0.905 - ETA: 1:09:13 - loss: 0.2638 - accuracy: 0.905 - ETA: 1:09:00 - loss: 0.2640 - accuracy: 0.905 - ETA: 1:08:47 - loss: 0.2645 - accuracy: 0.905 - ETA: 1:08:34 - loss: 0.2645 - accuracy: 0.905 - ETA: 1:08:21 - loss: 0.2643 - accuracy: 0.905 - ETA: 1:08:08 - loss: 0.2643 - accuracy: 0.905 - ETA: 1:07:55 - loss: 0.2641 - accuracy: 0.905 - ETA: 1:07:42 - loss: 0.2642 - accuracy: 0.9053686/846 [=======================>......] - ETA: 1:07:30 - loss: 0.2643 - accuracy: 0.905 - ETA: 1:07:17 - loss: 0.2643 - accuracy: 0.905 - ETA: 1:07:05 - loss: 0.2641 - accuracy: 0.905 - ETA: 1:06:52 - loss: 0.2639 - accuracy: 0.905 - ETA: 1:06:40 - loss: 0.2640 - accuracy: 0.905 - ETA: 1:06:28 - loss: 0.2642 - accuracy: 0.905 - ETA: 1:06:15 - loss: 0.2642 - accuracy: 0.905 - ETA: 1:06:03 - loss: 0.2642 - accuracy: 0.905 - ETA: 1:05:52 - loss: 0.2638 - accuracy: 0.905 - ETA: 1:05:40 - loss: 0.2637 - accuracy: 0.905 - ETA: 1:05:28 - loss: 0.2637 - accuracy: 0.905 - ETA: 1:05:15 - loss: 0.2636 - accuracy: 0.905 - ETA: 1:05:02 - loss: 0.2635 - accuracy: 0.905 - ETA: 1:04:49 - loss: 0.2636 - accuracy: 0.905 - ETA: 1:04:36 - loss: 0.2641 - accuracy: 0.905 - ETA: 1:04:24 - loss: 0.2642 - accuracy: 0.905 - ETA: 1:04:11 - loss: 0.2644 - accuracy: 0.905 - ETA: 1:03:59 - loss: 0.2645 - accuracy: 0.905 - ETA: 1:03:46 - loss: 0.2648 - accuracy: 0.905 - ETA: 1:03:33 - loss: 0.2647 - accuracy: 0.904 - ETA: 1:03:20 - loss: 0.2648 - accuracy: 0.904 - ETA: 1:03:07 - loss: 0.2648 - accuracy: 0.905 - ETA: 1:02:54 - loss: 0.2647 - accuracy: 0.905 - ETA: 1:02:42 - loss: 0.2645 - accuracy: 0.905 - ETA: 1:02:29 - loss: 0.2643 - accuracy: 0.905 - ETA: 1:02:16 - loss: 0.2643 - accuracy: 0.905 - ETA: 1:02:04 - loss: 0.2649 - accuracy: 0.905 - ETA: 1:01:51 - loss: 0.2647 - accuracy: 0.905 - ETA: 1:01:38 - loss: 0.2645 - accuracy: 0.905 - ETA: 1:01:26 - loss: 0.2644 - accuracy: 0.905 - ETA: 1:01:14 - loss: 0.2644 - accuracy: 0.905 - ETA: 1:01:02 - loss: 0.2645 - accuracy: 0.905 - ETA: 1:00:49 - loss: 0.2645 - accuracy: 0.905 - ETA: 1:00:36 - loss: 0.2643 - accuracy: 0.905 - ETA: 1:00:24 - loss: 0.2641 - accuracy: 0.905 - ETA: 1:00:11 - loss: 0.2644 - accuracy: 0.905 - ETA: 59:58 - loss: 0.2644 - accuracy: 0.9049  - ETA: 59:45 - loss: 0.2642 - accuracy: 0.905 - ETA: 59:33 - loss: 0.2644 - accuracy: 0.905 - ETA: 59:20 - loss: 0.2642 - accuracy: 0.905 - ETA: 59:08 - loss: 0.2639 - accuracy: 0.905 - ETA: 58:55 - loss: 0.2640 - accuracy: 0.905 - ETA: 58:43 - loss: 0.2639 - accuracy: 0.905 - ETA: 58:30 - loss: 0.2637 - accuracy: 0.905 - ETA: 58:18 - loss: 0.2640 - accuracy: 0.905 - ETA: 58:05 - loss: 0.2639 - accuracy: 0.905 - ETA: 57:52 - loss: 0.2636 - accuracy: 0.905 - ETA: 57:40 - loss: 0.2638 - accuracy: 0.905 - ETA: 57:27 - loss: 0.2636 - accuracy: 0.905 - ETA: 57:15 - loss: 0.2637 - accuracy: 0.905 - ETA: 57:02 - loss: 0.2638 - accuracy: 0.905 - ETA: 56:49 - loss: 0.2637 - accuracy: 0.905 - ETA: 56:37 - loss: 0.2634 - accuracy: 0.905 - ETA: 56:24 - loss: 0.2632 - accuracy: 0.905 - ETA: 56:12 - loss: 0.2631 - accuracy: 0.905 - ETA: 56:00 - loss: 0.2631 - accuracy: 0.905 - ETA: 55:48 - loss: 0.2631 - accuracy: 0.905 - ETA: 55:35 - loss: 0.2630 - accuracy: 0.905 - ETA: 55:23 - loss: 0.2630 - accuracy: 0.905 - ETA: 55:11 - loss: 0.2628 - accuracy: 0.905 - ETA: 54:58 - loss: 0.2628 - accuracy: 0.905 - ETA: 54:46 - loss: 0.2625 - accuracy: 0.906 - ETA: 54:33 - loss: 0.2631 - accuracy: 0.905 - ETA: 54:21 - loss: 0.2631 - accuracy: 0.905 - ETA: 54:08 - loss: 0.2632 - accuracy: 0.905 - ETA: 53:56 - loss: 0.2631 - accuracy: 0.905 - ETA: 53:43 - loss: 0.2629 - accuracy: 0.905 - ETA: 53:31 - loss: 0.2629 - accuracy: 0.905 - ETA: 53:18 - loss: 0.2628 - accuracy: 0.905 - ETA: 53:06 - loss: 0.2629 - accuracy: 0.905 - ETA: 52:53 - loss: 0.2633 - accuracy: 0.905 - ETA: 52:41 - loss: 0.2633 - accuracy: 0.905 - ETA: 52:28 - loss: 0.2632 - accuracy: 0.905 - ETA: 52:16 - loss: 0.2629 - accuracy: 0.905 - ETA: 52:03 - loss: 0.2628 - accuracy: 0.905 - ETA: 51:51 - loss: 0.2626 - accuracy: 0.905 - ETA: 51:38 - loss: 0.2625 - accuracy: 0.905 - ETA: 51:26 - loss: 0.2622 - accuracy: 0.905 - ETA: 51:14 - loss: 0.2623 - accuracy: 0.905 - ETA: 51:01 - loss: 0.2622 - accuracy: 0.906 - ETA: 50:49 - loss: 0.2622 - accuracy: 0.906 - ETA: 50:36 - loss: 0.2625 - accuracy: 0.906 - ETA: 50:24 - loss: 0.2626 - accuracy: 0.905 - ETA: 50:12 - loss: 0.2625 - accuracy: 0.905 - ETA: 49:59 - loss: 0.2626 - accuracy: 0.905 - ETA: 49:47 - loss: 0.2623 - accuracy: 0.905 - ETA: 49:35 - loss: 0.2622 - accuracy: 0.905 - ETA: 49:22 - loss: 0.2625 - accuracy: 0.905 - ETA: 49:10 - loss: 0.2622 - accuracy: 0.905 - ETA: 48:57 - loss: 0.2621 - accuracy: 0.905 - ETA: 48:45 - loss: 0.2620 - accuracy: 0.906 - ETA: 48:33 - loss: 0.2617 - accuracy: 0.906 - ETA: 48:20 - loss: 0.2615 - accuracy: 0.906 - ETA: 48:08 - loss: 0.2617 - accuracy: 0.906 - ETA: 47:56 - loss: 0.2621 - accuracy: 0.906 - ETA: 47:44 - loss: 0.2620 - accuracy: 0.906 - ETA: 47:31 - loss: 0.2620 - accuracy: 0.905 - ETA: 47:19 - loss: 0.2618 - accuracy: 0.906 - ETA: 47:07 - loss: 0.2615 - accuracy: 0.906 - ETA: 46:54 - loss: 0.2614 - accuracy: 0.906 - ETA: 46:42 - loss: 0.2613 - accuracy: 0.906 - ETA: 46:30 - loss: 0.2614 - accuracy: 0.906 - ETA: 46:17 - loss: 0.2616 - accuracy: 0.906 - ETA: 46:05 - loss: 0.2616 - accuracy: 0.906 - ETA: 45:53 - loss: 0.2615 - accuracy: 0.906 - ETA: 45:40 - loss: 0.2614 - accuracy: 0.906 - ETA: 45:28 - loss: 0.2615 - accuracy: 0.906 - ETA: 45:16 - loss: 0.2616 - accuracy: 0.906 - ETA: 45:04 - loss: 0.2614 - accuracy: 0.906 - ETA: 44:51 - loss: 0.2612 - accuracy: 0.906 - ETA: 44:39 - loss: 0.2611 - accuracy: 0.906 - ETA: 44:27 - loss: 0.2609 - accuracy: 0.906 - ETA: 44:14 - loss: 0.2608 - accuracy: 0.906 - ETA: 44:02 - loss: 0.2606 - accuracy: 0.906 - ETA: 43:50 - loss: 0.2607 - accuracy: 0.906 - ETA: 43:38 - loss: 0.2607 - accuracy: 0.906 - ETA: 43:25 - loss: 0.2609 - accuracy: 0.906 - ETA: 43:13 - loss: 0.2607 - accuracy: 0.906 - ETA: 43:01 - loss: 0.2606 - accuracy: 0.906 - ETA: 42:49 - loss: 0.2605 - accuracy: 0.906 - ETA: 42:37 - loss: 0.2605 - accuracy: 0.906 - ETA: 42:24 - loss: 0.2604 - accuracy: 0.906 - ETA: 42:12 - loss: 0.2602 - accuracy: 0.906 - ETA: 42:00 - loss: 0.2600 - accuracy: 0.906 - ETA: 41:48 - loss: 0.2601 - accuracy: 0.906 - ETA: 41:35 - loss: 0.2603 - accuracy: 0.906 - ETA: 41:23 - loss: 0.2603 - accuracy: 0.906 - ETA: 41:11 - loss: 0.2604 - accuracy: 0.906 - ETA: 40:59 - loss: 0.2603 - accuracy: 0.906 - ETA: 40:47 - loss: 0.2603 - accuracy: 0.906 - ETA: 40:34 - loss: 0.2600 - accuracy: 0.906 - ETA: 40:22 - loss: 0.2600 - accuracy: 0.906 - ETA: 40:10 - loss: 0.2600 - accuracy: 0.906 - ETA: 39:58 - loss: 0.2600 - accuracy: 0.906 - ETA: 39:46 - loss: 0.2600 - accuracy: 0.906 - ETA: 39:34 - loss: 0.2600 - accuracy: 0.906 - ETA: 39:21 - loss: 0.2599 - accuracy: 0.906 - ETA: 39:09 - loss: 0.2600 - accuracy: 0.906 - ETA: 38:57 - loss: 0.2603 - accuracy: 0.906 - ETA: 38:45 - loss: 0.2601 - accuracy: 0.906 - ETA: 38:33 - loss: 0.2600 - accuracy: 0.906 - ETA: 38:21 - loss: 0.2607 - accuracy: 0.906 - ETA: 38:08 - loss: 0.2609 - accuracy: 0.906 - ETA: 37:56 - loss: 0.2609 - accuracy: 0.906 - ETA: 37:44 - loss: 0.2610 - accuracy: 0.906 - ETA: 37:32 - loss: 0.2609 - accuracy: 0.906 - ETA: 37:20 - loss: 0.2609 - accuracy: 0.906 - ETA: 37:08 - loss: 0.2610 - accuracy: 0.906 - ETA: 36:56 - loss: 0.2615 - accuracy: 0.906 - ETA: 36:44 - loss: 0.2612 - accuracy: 0.906 - ETA: 36:32 - loss: 0.2610 - accuracy: 0.906 - ETA: 36:20 - loss: 0.2609 - accuracy: 0.906 - ETA: 36:08 - loss: 0.2611 - accuracy: 0.906 - ETA: 35:56 - loss: 0.2611 - accuracy: 0.906 - ETA: 35:44 - loss: 0.2612 - accuracy: 0.906 - ETA: 35:32 - loss: 0.2613 - accuracy: 0.906 - ETA: 35:20 - loss: 0.2611 - accuracy: 0.906 - ETA: 35:08 - loss: 0.2612 - accuracy: 0.906 - ETA: 34:56 - loss: 0.2615 - accuracy: 0.906 - ETA: 34:44 - loss: 0.2614 - accuracy: 0.906 - ETA: 34:32 - loss: 0.2612 - accuracy: 0.906 - ETA: 34:20 - loss: 0.2611 - accuracy: 0.906 - ETA: 34:08 - loss: 0.2610 - accuracy: 0.906 - ETA: 33:55 - loss: 0.2612 - accuracy: 0.906 - ETA: 33:43 - loss: 0.2613 - accuracy: 0.906 - ETA: 33:31 - loss: 0.2614 - accuracy: 0.906 - ETA: 33:19 - loss: 0.2612 - accuracy: 0.906 - ETA: 33:07 - loss: 0.2613 - accuracy: 0.906 - ETA: 32:55 - loss: 0.2612 - accuracy: 0.906 - ETA: 32:43 - loss: 0.2613 - accuracy: 0.906 - ETA: 32:31 - loss: 0.2613 - accuracy: 0.906 - ETA: 32:19 - loss: 0.2612 - accuracy: 0.906 - ETA: 32:07 - loss: 0.2614 - accuracy: 0.906 - ETA: 31:54 - loss: 0.2615 - accuracy: 0.906 - ETA: 31:42 - loss: 0.2613 - accuracy: 0.906 - ETA: 31:30 - loss: 0.2613 - accuracy: 0.9064"
     ]
    },
    {
     "name": "stdout",
     "output_type": "stream",
     "text": [
      "846/846 [==============================] - ETA: 31:18 - loss: 0.2614 - accuracy: 0.906 - ETA: 31:06 - loss: 0.2614 - accuracy: 0.906 - ETA: 30:54 - loss: 0.2614 - accuracy: 0.906 - ETA: 30:42 - loss: 0.2613 - accuracy: 0.906 - ETA: 30:30 - loss: 0.2612 - accuracy: 0.906 - ETA: 30:18 - loss: 0.2611 - accuracy: 0.906 - ETA: 30:06 - loss: 0.2612 - accuracy: 0.906 - ETA: 29:54 - loss: 0.2615 - accuracy: 0.906 - ETA: 29:42 - loss: 0.2613 - accuracy: 0.906 - ETA: 29:30 - loss: 0.2612 - accuracy: 0.906 - ETA: 29:18 - loss: 0.2609 - accuracy: 0.906 - ETA: 29:06 - loss: 0.2610 - accuracy: 0.906 - ETA: 28:54 - loss: 0.2612 - accuracy: 0.906 - ETA: 28:42 - loss: 0.2612 - accuracy: 0.906 - ETA: 28:30 - loss: 0.2612 - accuracy: 0.906 - ETA: 28:18 - loss: 0.2615 - accuracy: 0.906 - ETA: 28:06 - loss: 0.2613 - accuracy: 0.906 - ETA: 27:54 - loss: 0.2614 - accuracy: 0.906 - ETA: 27:42 - loss: 0.2616 - accuracy: 0.906 - ETA: 27:30 - loss: 0.2616 - accuracy: 0.906 - ETA: 27:18 - loss: 0.2614 - accuracy: 0.906 - ETA: 27:06 - loss: 0.2614 - accuracy: 0.906 - ETA: 26:54 - loss: 0.2612 - accuracy: 0.906 - ETA: 26:42 - loss: 0.2611 - accuracy: 0.906 - ETA: 26:30 - loss: 0.2611 - accuracy: 0.906 - ETA: 26:18 - loss: 0.2611 - accuracy: 0.906 - ETA: 26:06 - loss: 0.2612 - accuracy: 0.906 - ETA: 25:54 - loss: 0.2613 - accuracy: 0.906 - ETA: 25:42 - loss: 0.2614 - accuracy: 0.906 - ETA: 25:30 - loss: 0.2615 - accuracy: 0.906 - ETA: 25:18 - loss: 0.2617 - accuracy: 0.906 - ETA: 25:06 - loss: 0.2616 - accuracy: 0.906 - ETA: 24:54 - loss: 0.2614 - accuracy: 0.906 - ETA: 24:42 - loss: 0.2613 - accuracy: 0.906 - ETA: 24:30 - loss: 0.2616 - accuracy: 0.906 - ETA: 24:18 - loss: 0.2614 - accuracy: 0.906 - ETA: 24:06 - loss: 0.2613 - accuracy: 0.906 - ETA: 23:54 - loss: 0.2613 - accuracy: 0.906 - ETA: 23:42 - loss: 0.2616 - accuracy: 0.906 - ETA: 23:30 - loss: 0.2617 - accuracy: 0.906 - ETA: 23:18 - loss: 0.2615 - accuracy: 0.906 - ETA: 23:06 - loss: 0.2613 - accuracy: 0.906 - ETA: 22:55 - loss: 0.2610 - accuracy: 0.907 - ETA: 22:43 - loss: 0.2612 - accuracy: 0.906 - ETA: 22:31 - loss: 0.2612 - accuracy: 0.906 - ETA: 22:19 - loss: 0.2612 - accuracy: 0.906 - ETA: 22:07 - loss: 0.2611 - accuracy: 0.906 - ETA: 21:55 - loss: 0.2609 - accuracy: 0.906 - ETA: 21:43 - loss: 0.2609 - accuracy: 0.906 - ETA: 21:31 - loss: 0.2607 - accuracy: 0.906 - ETA: 21:19 - loss: 0.2607 - accuracy: 0.907 - ETA: 21:07 - loss: 0.2606 - accuracy: 0.907 - ETA: 20:55 - loss: 0.2611 - accuracy: 0.906 - ETA: 20:43 - loss: 0.2611 - accuracy: 0.906 - ETA: 20:32 - loss: 0.2613 - accuracy: 0.906 - ETA: 20:20 - loss: 0.2613 - accuracy: 0.906 - ETA: 20:08 - loss: 0.2611 - accuracy: 0.906 - ETA: 19:56 - loss: 0.2610 - accuracy: 0.906 - ETA: 19:44 - loss: 0.2610 - accuracy: 0.906 - ETA: 19:32 - loss: 0.2612 - accuracy: 0.906 - ETA: 19:20 - loss: 0.2616 - accuracy: 0.906 - ETA: 19:08 - loss: 0.2617 - accuracy: 0.906 - ETA: 18:57 - loss: 0.2618 - accuracy: 0.906 - ETA: 18:45 - loss: 0.2617 - accuracy: 0.906 - ETA: 18:33 - loss: 0.2619 - accuracy: 0.906 - ETA: 18:21 - loss: 0.2618 - accuracy: 0.906 - ETA: 18:09 - loss: 0.2616 - accuracy: 0.906 - ETA: 17:57 - loss: 0.2614 - accuracy: 0.907 - ETA: 17:45 - loss: 0.2614 - accuracy: 0.907 - ETA: 17:34 - loss: 0.2615 - accuracy: 0.907 - ETA: 17:22 - loss: 0.2618 - accuracy: 0.906 - ETA: 17:10 - loss: 0.2617 - accuracy: 0.906 - ETA: 16:58 - loss: 0.2617 - accuracy: 0.906 - ETA: 16:47 - loss: 0.2617 - accuracy: 0.906 - ETA: 16:35 - loss: 0.2618 - accuracy: 0.906 - ETA: 16:23 - loss: 0.2617 - accuracy: 0.906 - ETA: 16:11 - loss: 0.2615 - accuracy: 0.906 - ETA: 16:00 - loss: 0.2615 - accuracy: 0.907 - ETA: 15:48 - loss: 0.2613 - accuracy: 0.907 - ETA: 15:36 - loss: 0.2612 - accuracy: 0.907 - ETA: 15:24 - loss: 0.2613 - accuracy: 0.907 - ETA: 15:12 - loss: 0.2614 - accuracy: 0.907 - ETA: 15:01 - loss: 0.2612 - accuracy: 0.907 - ETA: 14:49 - loss: 0.2614 - accuracy: 0.907 - ETA: 14:37 - loss: 0.2614 - accuracy: 0.907 - ETA: 14:25 - loss: 0.2612 - accuracy: 0.907 - ETA: 14:14 - loss: 0.2612 - accuracy: 0.907 - ETA: 14:02 - loss: 0.2611 - accuracy: 0.907 - ETA: 13:50 - loss: 0.2612 - accuracy: 0.907 - ETA: 13:38 - loss: 0.2610 - accuracy: 0.907 - ETA: 13:26 - loss: 0.2609 - accuracy: 0.907 - ETA: 13:15 - loss: 0.2609 - accuracy: 0.907 - ETA: 13:03 - loss: 0.2610 - accuracy: 0.907 - ETA: 12:51 - loss: 0.2610 - accuracy: 0.907 - ETA: 12:39 - loss: 0.2610 - accuracy: 0.907 - ETA: 12:28 - loss: 0.2610 - accuracy: 0.907 - ETA: 12:16 - loss: 0.2610 - accuracy: 0.907 - ETA: 12:04 - loss: 0.2611 - accuracy: 0.907 - ETA: 11:52 - loss: 0.2609 - accuracy: 0.907 - ETA: 11:41 - loss: 0.2607 - accuracy: 0.907 - ETA: 11:29 - loss: 0.2606 - accuracy: 0.907 - ETA: 11:17 - loss: 0.2605 - accuracy: 0.907 - ETA: 11:05 - loss: 0.2604 - accuracy: 0.907 - ETA: 10:54 - loss: 0.2604 - accuracy: 0.907 - ETA: 10:42 - loss: 0.2603 - accuracy: 0.907 - ETA: 10:30 - loss: 0.2602 - accuracy: 0.907 - ETA: 10:18 - loss: 0.2602 - accuracy: 0.907 - ETA: 10:07 - loss: 0.2601 - accuracy: 0.907 - ETA: 9:55 - loss: 0.2601 - accuracy: 0.907 - ETA: 9:43 - loss: 0.2600 - accuracy: 0.90 - ETA: 9:31 - loss: 0.2600 - accuracy: 0.90 - ETA: 9:20 - loss: 0.2600 - accuracy: 0.90 - ETA: 9:08 - loss: 0.2600 - accuracy: 0.90 - ETA: 8:56 - loss: 0.2597 - accuracy: 0.90 - ETA: 8:45 - loss: 0.2596 - accuracy: 0.90 - ETA: 8:33 - loss: 0.2595 - accuracy: 0.90 - ETA: 8:21 - loss: 0.2596 - accuracy: 0.90 - ETA: 8:09 - loss: 0.2596 - accuracy: 0.90 - ETA: 7:58 - loss: 0.2594 - accuracy: 0.90 - ETA: 7:46 - loss: 0.2595 - accuracy: 0.90 - ETA: 7:34 - loss: 0.2595 - accuracy: 0.90 - ETA: 7:23 - loss: 0.2596 - accuracy: 0.90 - ETA: 7:11 - loss: 0.2598 - accuracy: 0.90 - ETA: 6:59 - loss: 0.2599 - accuracy: 0.90 - ETA: 6:48 - loss: 0.2601 - accuracy: 0.90 - ETA: 6:36 - loss: 0.2600 - accuracy: 0.90 - ETA: 6:24 - loss: 0.2598 - accuracy: 0.90 - ETA: 6:12 - loss: 0.2595 - accuracy: 0.90 - ETA: 6:01 - loss: 0.2594 - accuracy: 0.90 - ETA: 5:49 - loss: 0.2594 - accuracy: 0.90 - ETA: 5:37 - loss: 0.2597 - accuracy: 0.90 - ETA: 5:26 - loss: 0.2596 - accuracy: 0.90 - ETA: 5:14 - loss: 0.2595 - accuracy: 0.90 - ETA: 5:02 - loss: 0.2594 - accuracy: 0.90 - ETA: 4:51 - loss: 0.2596 - accuracy: 0.90 - ETA: 4:39 - loss: 0.2595 - accuracy: 0.90 - ETA: 4:27 - loss: 0.2596 - accuracy: 0.90 - ETA: 4:16 - loss: 0.2596 - accuracy: 0.90 - ETA: 4:04 - loss: 0.2595 - accuracy: 0.90 - ETA: 3:52 - loss: 0.2592 - accuracy: 0.90 - ETA: 3:41 - loss: 0.2590 - accuracy: 0.90 - ETA: 3:29 - loss: 0.2589 - accuracy: 0.90 - ETA: 3:17 - loss: 0.2588 - accuracy: 0.90 - ETA: 3:06 - loss: 0.2588 - accuracy: 0.90 - ETA: 2:54 - loss: 0.2587 - accuracy: 0.90 - ETA: 2:42 - loss: 0.2585 - accuracy: 0.90 - ETA: 2:31 - loss: 0.2584 - accuracy: 0.90 - ETA: 2:19 - loss: 0.2584 - accuracy: 0.90 - ETA: 2:07 - loss: 0.2582 - accuracy: 0.90 - ETA: 1:56 - loss: 0.2581 - accuracy: 0.90 - ETA: 1:44 - loss: 0.2580 - accuracy: 0.90 - ETA: 1:33 - loss: 0.2581 - accuracy: 0.90 - ETA: 1:21 - loss: 0.2581 - accuracy: 0.90 - ETA: 1:09 - loss: 0.2580 - accuracy: 0.90 - ETA: 58s - loss: 0.2581 - accuracy: 0.9088 - ETA: 46s - loss: 0.2580 - accuracy: 0.908 - ETA: 34s - loss: 0.2578 - accuracy: 0.908 - ETA: 23s - loss: 0.2579 - accuracy: 0.908 - ETA: 11s - loss: 0.2578 - accuracy: 0.909 - ETA: 0s - loss: 0.2577 - accuracy: 0.909 - 9832s 12s/step - loss: 0.2577 - accuracy: 0.9090 - val_loss: 0.1228 - val_accuracy: 0.9688\n",
      "Epoch 5/5\n",
      "170/846 [=====>........................] - ETA: 0s - loss: 0.4215 - accuracy: 0.87 - ETA: 1:13:35 - loss: 0.3348 - accuracy: 0.875 - ETA: 1:39:48 - loss: 0.3530 - accuracy: 0.864 - ETA: 1:52:02 - loss: 0.3013 - accuracy: 0.882 - ETA: 1:58:40 - loss: 0.2481 - accuracy: 0.906 - ETA: 2:03:53 - loss: 0.2447 - accuracy: 0.906 - ETA: 2:07:05 - loss: 0.2233 - accuracy: 0.919 - ETA: 2:09:29 - loss: 0.2297 - accuracy: 0.921 - ETA: 2:11:34 - loss: 0.2420 - accuracy: 0.909 - ETA: 2:13:00 - loss: 0.2525 - accuracy: 0.906 - ETA: 2:13:59 - loss: 0.2542 - accuracy: 0.903 - ETA: 2:14:54 - loss: 0.2382 - accuracy: 0.911 - ETA: 2:15:44 - loss: 0.2365 - accuracy: 0.911 - ETA: 2:16:30 - loss: 0.2281 - accuracy: 0.915 - ETA: 2:17:20 - loss: 0.2338 - accuracy: 0.912 - ETA: 2:17:58 - loss: 0.2378 - accuracy: 0.910 - ETA: 2:18:24 - loss: 0.2454 - accuracy: 0.904 - ETA: 2:19:42 - loss: 0.2441 - accuracy: 0.904 - ETA: 2:19:36 - loss: 0.2459 - accuracy: 0.903 - ETA: 2:19:38 - loss: 0.2440 - accuracy: 0.903 - ETA: 2:20:07 - loss: 0.2364 - accuracy: 0.906 - ETA: 2:20:10 - loss: 0.2317 - accuracy: 0.907 - ETA: 2:20:17 - loss: 0.2277 - accuracy: 0.910 - ETA: 2:20:18 - loss: 0.2380 - accuracy: 0.907 - ETA: 2:20:18 - loss: 0.2349 - accuracy: 0.907 - ETA: 2:20:26 - loss: 0.2315 - accuracy: 0.908 - ETA: 2:20:35 - loss: 0.2259 - accuracy: 0.910 - ETA: 2:20:43 - loss: 0.2229 - accuracy: 0.911 - ETA: 2:20:52 - loss: 0.2215 - accuracy: 0.912 - ETA: 2:21:00 - loss: 0.2222 - accuracy: 0.914 - ETA: 2:21:02 - loss: 0.2224 - accuracy: 0.915 - ETA: 2:21:07 - loss: 0.2175 - accuracy: 0.918 - ETA: 2:21:16 - loss: 0.2270 - accuracy: 0.916 - ETA: 2:21:33 - loss: 0.2221 - accuracy: 0.919 - ETA: 2:21:47 - loss: 0.2259 - accuracy: 0.917 - ETA: 2:21:55 - loss: 0.2233 - accuracy: 0.918 - ETA: 2:21:56 - loss: 0.2244 - accuracy: 0.918 - ETA: 2:21:47 - loss: 0.2224 - accuracy: 0.919 - ETA: 2:21:39 - loss: 0.2198 - accuracy: 0.920 - ETA: 2:21:33 - loss: 0.2195 - accuracy: 0.921 - ETA: 2:21:24 - loss: 0.2161 - accuracy: 0.923 - ETA: 2:21:17 - loss: 0.2154 - accuracy: 0.922 - ETA: 2:21:05 - loss: 0.2121 - accuracy: 0.923 - ETA: 2:20:51 - loss: 0.2132 - accuracy: 0.924 - ETA: 2:20:42 - loss: 0.2145 - accuracy: 0.922 - ETA: 2:20:35 - loss: 0.2175 - accuracy: 0.921 - ETA: 2:20:28 - loss: 0.2172 - accuracy: 0.921 - ETA: 2:20:21 - loss: 0.2157 - accuracy: 0.921 - ETA: 2:20:08 - loss: 0.2134 - accuracy: 0.922 - ETA: 2:19:56 - loss: 0.2115 - accuracy: 0.923 - ETA: 2:19:48 - loss: 0.2131 - accuracy: 0.922 - ETA: 2:19:40 - loss: 0.2145 - accuracy: 0.920 - ETA: 2:19:29 - loss: 0.2143 - accuracy: 0.920 - ETA: 2:19:20 - loss: 0.2155 - accuracy: 0.919 - ETA: 2:19:08 - loss: 0.2137 - accuracy: 0.919 - ETA: 2:18:58 - loss: 0.2137 - accuracy: 0.919 - ETA: 2:18:47 - loss: 0.2123 - accuracy: 0.920 - ETA: 2:18:38 - loss: 0.2120 - accuracy: 0.919 - ETA: 2:18:28 - loss: 0.2113 - accuracy: 0.920 - ETA: 2:18:18 - loss: 0.2115 - accuracy: 0.919 - ETA: 2:18:08 - loss: 0.2129 - accuracy: 0.919 - ETA: 2:17:57 - loss: 0.2153 - accuracy: 0.918 - ETA: 2:17:47 - loss: 0.2155 - accuracy: 0.919 - ETA: 2:17:36 - loss: 0.2176 - accuracy: 0.918 - ETA: 2:17:26 - loss: 0.2155 - accuracy: 0.919 - ETA: 2:17:16 - loss: 0.2136 - accuracy: 0.920 - ETA: 2:17:06 - loss: 0.2117 - accuracy: 0.921 - ETA: 2:16:54 - loss: 0.2103 - accuracy: 0.922 - ETA: 2:16:44 - loss: 0.2104 - accuracy: 0.922 - ETA: 2:16:33 - loss: 0.2121 - accuracy: 0.921 - ETA: 2:16:23 - loss: 0.2118 - accuracy: 0.922 - ETA: 2:16:14 - loss: 0.2136 - accuracy: 0.922 - ETA: 2:16:03 - loss: 0.2123 - accuracy: 0.922 - ETA: 2:15:53 - loss: 0.2113 - accuracy: 0.922 - ETA: 2:15:47 - loss: 0.2135 - accuracy: 0.922 - ETA: 2:15:35 - loss: 0.2162 - accuracy: 0.921 - ETA: 2:15:24 - loss: 0.2145 - accuracy: 0.922 - ETA: 2:15:15 - loss: 0.2138 - accuracy: 0.922 - ETA: 2:15:03 - loss: 0.2129 - accuracy: 0.922 - ETA: 2:14:52 - loss: 0.2145 - accuracy: 0.922 - ETA: 2:14:42 - loss: 0.2134 - accuracy: 0.922 - ETA: 2:14:31 - loss: 0.2124 - accuracy: 0.922 - ETA: 2:14:20 - loss: 0.2130 - accuracy: 0.923 - ETA: 2:14:11 - loss: 0.2127 - accuracy: 0.923 - ETA: 2:14:00 - loss: 0.2127 - accuracy: 0.923 - ETA: 2:13:49 - loss: 0.2116 - accuracy: 0.924 - ETA: 2:13:39 - loss: 0.2113 - accuracy: 0.924 - ETA: 2:13:28 - loss: 0.2106 - accuracy: 0.924 - ETA: 2:13:16 - loss: 0.2103 - accuracy: 0.924 - ETA: 2:13:06 - loss: 0.2103 - accuracy: 0.924 - ETA: 2:12:54 - loss: 0.2096 - accuracy: 0.924 - ETA: 2:12:43 - loss: 0.2086 - accuracy: 0.924 - ETA: 2:12:34 - loss: 0.2079 - accuracy: 0.924 - ETA: 2:12:22 - loss: 0.2091 - accuracy: 0.923 - ETA: 2:12:11 - loss: 0.2080 - accuracy: 0.924 - ETA: 2:12:01 - loss: 0.2095 - accuracy: 0.923 - ETA: 2:11:55 - loss: 0.2087 - accuracy: 0.924 - ETA: 2:11:44 - loss: 0.2079 - accuracy: 0.924 - ETA: 2:11:34 - loss: 0.2078 - accuracy: 0.924 - ETA: 2:11:23 - loss: 0.2062 - accuracy: 0.925 - ETA: 2:11:13 - loss: 0.2062 - accuracy: 0.925 - ETA: 2:11:05 - loss: 0.2058 - accuracy: 0.925 - ETA: 2:10:56 - loss: 0.2046 - accuracy: 0.926 - ETA: 2:10:47 - loss: 0.2051 - accuracy: 0.926 - ETA: 2:10:38 - loss: 0.2071 - accuracy: 0.925 - ETA: 2:10:28 - loss: 0.2091 - accuracy: 0.925 - ETA: 2:10:18 - loss: 0.2101 - accuracy: 0.924 - ETA: 2:10:10 - loss: 0.2097 - accuracy: 0.925 - ETA: 2:10:02 - loss: 0.2088 - accuracy: 0.925 - ETA: 2:09:52 - loss: 0.2090 - accuracy: 0.925 - ETA: 2:09:45 - loss: 0.2098 - accuracy: 0.925 - ETA: 2:09:36 - loss: 0.2100 - accuracy: 0.925 - ETA: 2:09:28 - loss: 0.2113 - accuracy: 0.925 - ETA: 2:09:21 - loss: 0.2105 - accuracy: 0.925 - ETA: 2:09:13 - loss: 0.2129 - accuracy: 0.925 - ETA: 2:09:06 - loss: 0.2132 - accuracy: 0.924 - ETA: 2:08:58 - loss: 0.2135 - accuracy: 0.924 - ETA: 2:08:48 - loss: 0.2164 - accuracy: 0.924 - ETA: 2:08:39 - loss: 0.2166 - accuracy: 0.924 - ETA: 2:08:30 - loss: 0.2164 - accuracy: 0.924 - ETA: 2:08:22 - loss: 0.2164 - accuracy: 0.923 - ETA: 2:08:12 - loss: 0.2157 - accuracy: 0.924 - ETA: 2:08:03 - loss: 0.2160 - accuracy: 0.923 - ETA: 2:07:53 - loss: 0.2153 - accuracy: 0.923 - ETA: 2:07:45 - loss: 0.2143 - accuracy: 0.924 - ETA: 2:07:37 - loss: 0.2137 - accuracy: 0.924 - ETA: 2:07:28 - loss: 0.2136 - accuracy: 0.924 - ETA: 2:07:19 - loss: 0.2139 - accuracy: 0.924 - ETA: 2:07:12 - loss: 0.2136 - accuracy: 0.925 - ETA: 2:07:04 - loss: 0.2133 - accuracy: 0.925 - ETA: 2:06:54 - loss: 0.2124 - accuracy: 0.925 - ETA: 2:06:45 - loss: 0.2110 - accuracy: 0.926 - ETA: 2:06:38 - loss: 0.2104 - accuracy: 0.926 - ETA: 2:06:28 - loss: 0.2098 - accuracy: 0.926 - ETA: 2:06:19 - loss: 0.2100 - accuracy: 0.926 - ETA: 2:06:07 - loss: 0.2099 - accuracy: 0.926 - ETA: 2:05:56 - loss: 0.2092 - accuracy: 0.926 - ETA: 2:05:45 - loss: 0.2105 - accuracy: 0.926 - ETA: 2:05:34 - loss: 0.2103 - accuracy: 0.926 - ETA: 2:05:23 - loss: 0.2109 - accuracy: 0.926 - ETA: 2:05:13 - loss: 0.2110 - accuracy: 0.926 - ETA: 2:05:02 - loss: 0.2111 - accuracy: 0.926 - ETA: 2:04:51 - loss: 0.2112 - accuracy: 0.926 - ETA: 2:04:41 - loss: 0.2123 - accuracy: 0.925 - ETA: 2:04:30 - loss: 0.2128 - accuracy: 0.925 - ETA: 2:04:19 - loss: 0.2128 - accuracy: 0.925 - ETA: 2:04:08 - loss: 0.2127 - accuracy: 0.924 - ETA: 2:03:57 - loss: 0.2119 - accuracy: 0.925 - ETA: 2:03:46 - loss: 0.2122 - accuracy: 0.925 - ETA: 2:03:35 - loss: 0.2119 - accuracy: 0.925 - ETA: 2:03:24 - loss: 0.2113 - accuracy: 0.925 - ETA: 2:03:14 - loss: 0.2113 - accuracy: 0.925 - ETA: 2:03:04 - loss: 0.2108 - accuracy: 0.925 - ETA: 2:02:53 - loss: 0.2103 - accuracy: 0.925 - ETA: 2:02:42 - loss: 0.2098 - accuracy: 0.926 - ETA: 2:02:31 - loss: 0.2108 - accuracy: 0.925 - ETA: 2:02:20 - loss: 0.2098 - accuracy: 0.926 - ETA: 2:02:09 - loss: 0.2102 - accuracy: 0.925 - ETA: 2:01:58 - loss: 0.2095 - accuracy: 0.926 - ETA: 2:01:47 - loss: 0.2098 - accuracy: 0.926 - ETA: 2:01:38 - loss: 0.2095 - accuracy: 0.926 - ETA: 2:01:28 - loss: 0.2092 - accuracy: 0.926 - ETA: 2:01:17 - loss: 0.2102 - accuracy: 0.926 - ETA: 2:01:07 - loss: 0.2095 - accuracy: 0.926 - ETA: 2:00:56 - loss: 0.2087 - accuracy: 0.927 - ETA: 2:00:45 - loss: 0.2089 - accuracy: 0.927 - ETA: 2:00:34 - loss: 0.2090 - accuracy: 0.927 - ETA: 2:00:24 - loss: 0.2084 - accuracy: 0.927 - ETA: 2:00:12 - loss: 0.2091 - accuracy: 0.927 - ETA: 2:00:02 - loss: 0.2087 - accuracy: 0.9276340/846 [===========>..................] - ETA: 1:59:52 - loss: 0.2087 - accuracy: 0.927 - ETA: 1:59:41 - loss: 0.2086 - accuracy: 0.927 - ETA: 1:59:30 - loss: 0.2082 - accuracy: 0.927 - ETA: 1:59:19 - loss: 0.2087 - accuracy: 0.927 - ETA: 1:59:08 - loss: 0.2084 - accuracy: 0.927 - ETA: 1:58:57 - loss: 0.2082 - accuracy: 0.927 - ETA: 1:58:47 - loss: 0.2088 - accuracy: 0.927 - ETA: 1:58:35 - loss: 0.2089 - accuracy: 0.926 - ETA: 1:58:24 - loss: 0.2086 - accuracy: 0.926 - ETA: 1:58:13 - loss: 0.2096 - accuracy: 0.926 - ETA: 1:58:03 - loss: 0.2098 - accuracy: 0.926 - ETA: 1:57:52 - loss: 0.2091 - accuracy: 0.926 - ETA: 1:57:42 - loss: 0.2091 - accuracy: 0.926 - ETA: 1:57:30 - loss: 0.2083 - accuracy: 0.926 - ETA: 1:57:19 - loss: 0.2081 - accuracy: 0.926 - ETA: 1:57:09 - loss: 0.2078 - accuracy: 0.926 - ETA: 1:56:59 - loss: 0.2078 - accuracy: 0.927 - ETA: 1:56:49 - loss: 0.2078 - accuracy: 0.926 - ETA: 1:56:39 - loss: 0.2070 - accuracy: 0.927 - ETA: 1:56:28 - loss: 0.2081 - accuracy: 0.926 - ETA: 1:56:17 - loss: 0.2082 - accuracy: 0.926 - ETA: 1:56:06 - loss: 0.2095 - accuracy: 0.926 - ETA: 1:55:55 - loss: 0.2090 - accuracy: 0.926 - ETA: 1:55:44 - loss: 0.2082 - accuracy: 0.927 - ETA: 1:55:34 - loss: 0.2082 - accuracy: 0.927 - ETA: 1:55:23 - loss: 0.2082 - accuracy: 0.927 - ETA: 1:55:11 - loss: 0.2081 - accuracy: 0.927 - ETA: 1:55:01 - loss: 0.2086 - accuracy: 0.927 - ETA: 1:54:49 - loss: 0.2097 - accuracy: 0.926 - ETA: 1:54:38 - loss: 0.2094 - accuracy: 0.926 - ETA: 1:54:28 - loss: 0.2100 - accuracy: 0.926 - ETA: 1:54:17 - loss: 0.2105 - accuracy: 0.926 - ETA: 1:54:06 - loss: 0.2106 - accuracy: 0.926 - ETA: 1:53:55 - loss: 0.2105 - accuracy: 0.926 - ETA: 1:53:44 - loss: 0.2105 - accuracy: 0.926 - ETA: 1:53:33 - loss: 0.2103 - accuracy: 0.926 - ETA: 1:53:23 - loss: 0.2100 - accuracy: 0.926 - ETA: 1:53:15 - loss: 0.2099 - accuracy: 0.926 - ETA: 1:53:05 - loss: 0.2104 - accuracy: 0.926 - ETA: 1:52:55 - loss: 0.2119 - accuracy: 0.926 - ETA: 1:52:44 - loss: 0.2123 - accuracy: 0.926 - ETA: 1:52:32 - loss: 0.2117 - accuracy: 0.926 - ETA: 1:52:22 - loss: 0.2115 - accuracy: 0.926 - ETA: 1:52:11 - loss: 0.2110 - accuracy: 0.926 - ETA: 1:52:00 - loss: 0.2108 - accuracy: 0.926 - ETA: 1:51:50 - loss: 0.2115 - accuracy: 0.926 - ETA: 1:51:39 - loss: 0.2122 - accuracy: 0.926 - ETA: 1:51:27 - loss: 0.2116 - accuracy: 0.926 - ETA: 1:51:17 - loss: 0.2117 - accuracy: 0.926 - ETA: 1:51:06 - loss: 0.2109 - accuracy: 0.926 - ETA: 1:50:55 - loss: 0.2110 - accuracy: 0.926 - ETA: 1:50:45 - loss: 0.2110 - accuracy: 0.926 - ETA: 1:50:34 - loss: 0.2110 - accuracy: 0.926 - ETA: 1:50:23 - loss: 0.2121 - accuracy: 0.926 - ETA: 1:50:13 - loss: 0.2130 - accuracy: 0.926 - ETA: 1:50:02 - loss: 0.2134 - accuracy: 0.926 - ETA: 1:49:51 - loss: 0.2145 - accuracy: 0.925 - ETA: 1:49:40 - loss: 0.2142 - accuracy: 0.925 - ETA: 1:49:29 - loss: 0.2145 - accuracy: 0.925 - ETA: 1:49:18 - loss: 0.2152 - accuracy: 0.925 - ETA: 1:49:08 - loss: 0.2154 - accuracy: 0.925 - ETA: 1:48:58 - loss: 0.2149 - accuracy: 0.925 - ETA: 1:48:47 - loss: 0.2146 - accuracy: 0.925 - ETA: 1:48:37 - loss: 0.2148 - accuracy: 0.925 - ETA: 1:48:26 - loss: 0.2146 - accuracy: 0.925 - ETA: 1:48:15 - loss: 0.2142 - accuracy: 0.925 - ETA: 1:48:05 - loss: 0.2144 - accuracy: 0.925 - ETA: 1:47:56 - loss: 0.2143 - accuracy: 0.925 - ETA: 1:47:45 - loss: 0.2140 - accuracy: 0.925 - ETA: 1:47:35 - loss: 0.2144 - accuracy: 0.925 - ETA: 1:47:24 - loss: 0.2139 - accuracy: 0.925 - ETA: 1:47:14 - loss: 0.2138 - accuracy: 0.925 - ETA: 1:47:04 - loss: 0.2131 - accuracy: 0.925 - ETA: 1:46:53 - loss: 0.2129 - accuracy: 0.925 - ETA: 1:46:43 - loss: 0.2129 - accuracy: 0.925 - ETA: 1:46:32 - loss: 0.2127 - accuracy: 0.925 - ETA: 1:46:21 - loss: 0.2127 - accuracy: 0.925 - ETA: 1:46:11 - loss: 0.2129 - accuracy: 0.925 - ETA: 1:46:00 - loss: 0.2139 - accuracy: 0.925 - ETA: 1:45:49 - loss: 0.2148 - accuracy: 0.925 - ETA: 1:45:38 - loss: 0.2144 - accuracy: 0.925 - ETA: 1:45:28 - loss: 0.2147 - accuracy: 0.925 - ETA: 1:45:17 - loss: 0.2147 - accuracy: 0.925 - ETA: 1:45:06 - loss: 0.2141 - accuracy: 0.925 - ETA: 1:44:56 - loss: 0.2153 - accuracy: 0.925 - ETA: 1:44:46 - loss: 0.2157 - accuracy: 0.925 - ETA: 1:44:35 - loss: 0.2160 - accuracy: 0.925 - ETA: 1:44:24 - loss: 0.2165 - accuracy: 0.925 - ETA: 1:44:14 - loss: 0.2176 - accuracy: 0.925 - ETA: 1:44:03 - loss: 0.2174 - accuracy: 0.925 - ETA: 1:43:52 - loss: 0.2178 - accuracy: 0.925 - ETA: 1:43:41 - loss: 0.2175 - accuracy: 0.925 - ETA: 1:43:30 - loss: 0.2170 - accuracy: 0.925 - ETA: 1:43:19 - loss: 0.2168 - accuracy: 0.925 - ETA: 1:43:09 - loss: 0.2164 - accuracy: 0.925 - ETA: 1:42:58 - loss: 0.2168 - accuracy: 0.925 - ETA: 1:42:47 - loss: 0.2172 - accuracy: 0.925 - ETA: 1:42:36 - loss: 0.2173 - accuracy: 0.925 - ETA: 1:42:26 - loss: 0.2171 - accuracy: 0.925 - ETA: 1:42:15 - loss: 0.2169 - accuracy: 0.925 - ETA: 1:42:04 - loss: 0.2167 - accuracy: 0.925 - ETA: 1:41:53 - loss: 0.2165 - accuracy: 0.925 - ETA: 1:41:43 - loss: 0.2162 - accuracy: 0.926 - ETA: 1:41:32 - loss: 0.2164 - accuracy: 0.926 - ETA: 1:41:22 - loss: 0.2163 - accuracy: 0.926 - ETA: 1:41:11 - loss: 0.2161 - accuracy: 0.926 - ETA: 1:41:00 - loss: 0.2168 - accuracy: 0.925 - ETA: 1:40:49 - loss: 0.2165 - accuracy: 0.925 - ETA: 1:40:39 - loss: 0.2163 - accuracy: 0.926 - ETA: 1:40:28 - loss: 0.2163 - accuracy: 0.926 - ETA: 1:40:17 - loss: 0.2159 - accuracy: 0.926 - ETA: 1:40:06 - loss: 0.2161 - accuracy: 0.926 - ETA: 1:39:55 - loss: 0.2169 - accuracy: 0.925 - ETA: 1:39:44 - loss: 0.2170 - accuracy: 0.925 - ETA: 1:39:34 - loss: 0.2172 - accuracy: 0.925 - ETA: 1:39:23 - loss: 0.2167 - accuracy: 0.925 - ETA: 1:39:12 - loss: 0.2164 - accuracy: 0.925 - ETA: 1:39:02 - loss: 0.2163 - accuracy: 0.925 - ETA: 1:38:50 - loss: 0.2165 - accuracy: 0.925 - ETA: 1:38:40 - loss: 0.2161 - accuracy: 0.925 - ETA: 1:38:29 - loss: 0.2162 - accuracy: 0.925 - ETA: 1:38:18 - loss: 0.2158 - accuracy: 0.925 - ETA: 1:38:07 - loss: 0.2154 - accuracy: 0.925 - ETA: 1:37:57 - loss: 0.2159 - accuracy: 0.925 - ETA: 1:37:46 - loss: 0.2160 - accuracy: 0.925 - ETA: 1:37:35 - loss: 0.2159 - accuracy: 0.925 - ETA: 1:37:24 - loss: 0.2161 - accuracy: 0.925 - ETA: 1:37:13 - loss: 0.2168 - accuracy: 0.925 - ETA: 1:37:03 - loss: 0.2169 - accuracy: 0.925 - ETA: 1:36:52 - loss: 0.2167 - accuracy: 0.925 - ETA: 1:36:41 - loss: 0.2167 - accuracy: 0.925 - ETA: 1:36:30 - loss: 0.2170 - accuracy: 0.925 - ETA: 1:36:20 - loss: 0.2192 - accuracy: 0.924 - ETA: 1:36:09 - loss: 0.2189 - accuracy: 0.924 - ETA: 1:35:58 - loss: 0.2186 - accuracy: 0.925 - ETA: 1:35:47 - loss: 0.2182 - accuracy: 0.925 - ETA: 1:35:36 - loss: 0.2177 - accuracy: 0.925 - ETA: 1:35:26 - loss: 0.2182 - accuracy: 0.925 - ETA: 1:35:15 - loss: 0.2177 - accuracy: 0.925 - ETA: 1:35:04 - loss: 0.2174 - accuracy: 0.925 - ETA: 1:34:53 - loss: 0.2173 - accuracy: 0.925 - ETA: 1:34:43 - loss: 0.2176 - accuracy: 0.925 - ETA: 1:34:32 - loss: 0.2175 - accuracy: 0.925 - ETA: 1:34:21 - loss: 0.2171 - accuracy: 0.926 - ETA: 1:34:10 - loss: 0.2169 - accuracy: 0.926 - ETA: 1:33:59 - loss: 0.2169 - accuracy: 0.926 - ETA: 1:33:48 - loss: 0.2167 - accuracy: 0.926 - ETA: 1:33:38 - loss: 0.2166 - accuracy: 0.926 - ETA: 1:33:27 - loss: 0.2164 - accuracy: 0.926 - ETA: 1:33:16 - loss: 0.2162 - accuracy: 0.926 - ETA: 1:33:05 - loss: 0.2161 - accuracy: 0.926 - ETA: 1:32:55 - loss: 0.2162 - accuracy: 0.926 - ETA: 1:32:45 - loss: 0.2164 - accuracy: 0.926 - ETA: 1:32:35 - loss: 0.2159 - accuracy: 0.926 - ETA: 1:32:24 - loss: 0.2165 - accuracy: 0.926 - ETA: 1:32:13 - loss: 0.2163 - accuracy: 0.926 - ETA: 1:32:02 - loss: 0.2163 - accuracy: 0.926 - ETA: 1:31:51 - loss: 0.2166 - accuracy: 0.926 - ETA: 1:31:41 - loss: 0.2162 - accuracy: 0.926 - ETA: 1:31:30 - loss: 0.2161 - accuracy: 0.926 - ETA: 1:31:19 - loss: 0.2156 - accuracy: 0.926 - ETA: 1:31:09 - loss: 0.2155 - accuracy: 0.926 - ETA: 1:30:58 - loss: 0.2155 - accuracy: 0.926 - ETA: 1:30:47 - loss: 0.2153 - accuracy: 0.926 - ETA: 1:30:36 - loss: 0.2153 - accuracy: 0.926 - ETA: 1:30:26 - loss: 0.2152 - accuracy: 0.926 - ETA: 1:30:15 - loss: 0.2160 - accuracy: 0.926 - ETA: 1:30:04 - loss: 0.2159 - accuracy: 0.926 - ETA: 1:29:53 - loss: 0.2158 - accuracy: 0.926 - ETA: 1:29:43 - loss: 0.2161 - accuracy: 0.9262510/846 [=================>............] - ETA: 1:29:32 - loss: 0.2160 - accuracy: 0.926 - ETA: 1:29:21 - loss: 0.2165 - accuracy: 0.926 - ETA: 1:29:11 - loss: 0.2163 - accuracy: 0.926 - ETA: 1:29:00 - loss: 0.2164 - accuracy: 0.926 - ETA: 1:28:50 - loss: 0.2163 - accuracy: 0.926 - ETA: 1:28:39 - loss: 0.2165 - accuracy: 0.925 - ETA: 1:28:29 - loss: 0.2162 - accuracy: 0.925 - ETA: 1:28:18 - loss: 0.2160 - accuracy: 0.926 - ETA: 1:28:08 - loss: 0.2159 - accuracy: 0.926 - ETA: 1:27:57 - loss: 0.2161 - accuracy: 0.926 - ETA: 1:27:48 - loss: 0.2161 - accuracy: 0.926 - ETA: 1:27:37 - loss: 0.2157 - accuracy: 0.926 - ETA: 1:27:26 - loss: 0.2166 - accuracy: 0.925 - ETA: 1:27:16 - loss: 0.2174 - accuracy: 0.925 - ETA: 1:27:06 - loss: 0.2171 - accuracy: 0.925 - ETA: 1:26:55 - loss: 0.2170 - accuracy: 0.925 - ETA: 1:26:44 - loss: 0.2168 - accuracy: 0.925 - ETA: 1:26:34 - loss: 0.2167 - accuracy: 0.925 - ETA: 1:26:24 - loss: 0.2164 - accuracy: 0.926 - ETA: 1:26:13 - loss: 0.2165 - accuracy: 0.926 - ETA: 1:26:03 - loss: 0.2168 - accuracy: 0.925 - ETA: 1:25:52 - loss: 0.2164 - accuracy: 0.925 - ETA: 1:25:41 - loss: 0.2162 - accuracy: 0.926 - ETA: 1:25:30 - loss: 0.2159 - accuracy: 0.926 - ETA: 1:25:20 - loss: 0.2157 - accuracy: 0.926 - ETA: 1:25:09 - loss: 0.2158 - accuracy: 0.926 - ETA: 1:24:58 - loss: 0.2155 - accuracy: 0.926 - ETA: 1:24:47 - loss: 0.2152 - accuracy: 0.926 - ETA: 1:24:37 - loss: 0.2151 - accuracy: 0.926 - ETA: 1:24:26 - loss: 0.2150 - accuracy: 0.926 - ETA: 1:24:15 - loss: 0.2154 - accuracy: 0.926 - ETA: 1:24:04 - loss: 0.2149 - accuracy: 0.926 - ETA: 1:23:53 - loss: 0.2147 - accuracy: 0.926 - ETA: 1:23:43 - loss: 0.2152 - accuracy: 0.926 - ETA: 1:23:32 - loss: 0.2153 - accuracy: 0.926 - ETA: 1:23:22 - loss: 0.2156 - accuracy: 0.926 - ETA: 1:23:12 - loss: 0.2157 - accuracy: 0.926 - ETA: 1:23:02 - loss: 0.2153 - accuracy: 0.926 - ETA: 1:22:51 - loss: 0.2153 - accuracy: 0.926 - ETA: 1:22:41 - loss: 0.2155 - accuracy: 0.926 - ETA: 1:22:30 - loss: 0.2152 - accuracy: 0.926 - ETA: 1:22:19 - loss: 0.2150 - accuracy: 0.926 - ETA: 1:22:08 - loss: 0.2148 - accuracy: 0.926 - ETA: 1:21:57 - loss: 0.2145 - accuracy: 0.926 - ETA: 1:21:47 - loss: 0.2142 - accuracy: 0.926 - ETA: 1:21:36 - loss: 0.2144 - accuracy: 0.926 - ETA: 1:21:25 - loss: 0.2142 - accuracy: 0.926 - ETA: 1:21:14 - loss: 0.2142 - accuracy: 0.926 - ETA: 1:21:04 - loss: 0.2145 - accuracy: 0.926 - ETA: 1:20:53 - loss: 0.2144 - accuracy: 0.926 - ETA: 1:20:42 - loss: 0.2142 - accuracy: 0.926 - ETA: 1:20:32 - loss: 0.2140 - accuracy: 0.926 - ETA: 1:20:21 - loss: 0.2137 - accuracy: 0.927 - ETA: 1:20:10 - loss: 0.2134 - accuracy: 0.927 - ETA: 1:19:59 - loss: 0.2131 - accuracy: 0.927 - ETA: 1:19:49 - loss: 0.2135 - accuracy: 0.927 - ETA: 1:19:38 - loss: 0.2134 - accuracy: 0.927 - ETA: 1:19:27 - loss: 0.2133 - accuracy: 0.927 - ETA: 1:19:16 - loss: 0.2130 - accuracy: 0.927 - ETA: 1:19:05 - loss: 0.2127 - accuracy: 0.927 - ETA: 1:18:54 - loss: 0.2126 - accuracy: 0.927 - ETA: 1:18:44 - loss: 0.2129 - accuracy: 0.927 - ETA: 1:18:33 - loss: 0.2127 - accuracy: 0.927 - ETA: 1:18:22 - loss: 0.2131 - accuracy: 0.927 - ETA: 1:18:12 - loss: 0.2133 - accuracy: 0.927 - ETA: 1:18:01 - loss: 0.2128 - accuracy: 0.927 - ETA: 1:17:50 - loss: 0.2126 - accuracy: 0.927 - ETA: 1:17:40 - loss: 0.2128 - accuracy: 0.927 - ETA: 1:17:29 - loss: 0.2128 - accuracy: 0.927 - ETA: 1:17:18 - loss: 0.2127 - accuracy: 0.927 - ETA: 1:17:07 - loss: 0.2129 - accuracy: 0.927 - ETA: 1:16:57 - loss: 0.2127 - accuracy: 0.927 - ETA: 1:16:46 - loss: 0.2125 - accuracy: 0.927 - ETA: 1:16:35 - loss: 0.2126 - accuracy: 0.927 - ETA: 1:16:25 - loss: 0.2128 - accuracy: 0.927 - ETA: 1:16:14 - loss: 0.2124 - accuracy: 0.927 - ETA: 1:16:03 - loss: 0.2124 - accuracy: 0.927 - ETA: 1:15:52 - loss: 0.2135 - accuracy: 0.927 - ETA: 1:15:42 - loss: 0.2137 - accuracy: 0.926 - ETA: 1:15:31 - loss: 0.2134 - accuracy: 0.926 - ETA: 1:15:20 - loss: 0.2140 - accuracy: 0.926 - ETA: 1:15:10 - loss: 0.2138 - accuracy: 0.926 - ETA: 1:14:59 - loss: 0.2139 - accuracy: 0.926 - ETA: 1:14:48 - loss: 0.2139 - accuracy: 0.926 - ETA: 1:14:38 - loss: 0.2137 - accuracy: 0.926 - ETA: 1:14:27 - loss: 0.2135 - accuracy: 0.926 - ETA: 1:14:16 - loss: 0.2137 - accuracy: 0.926 - ETA: 1:14:05 - loss: 0.2135 - accuracy: 0.926 - ETA: 1:13:55 - loss: 0.2134 - accuracy: 0.926 - ETA: 1:13:44 - loss: 0.2132 - accuracy: 0.926 - ETA: 1:13:33 - loss: 0.2131 - accuracy: 0.926 - ETA: 1:13:23 - loss: 0.2133 - accuracy: 0.926 - ETA: 1:13:12 - loss: 0.2132 - accuracy: 0.926 - ETA: 1:13:01 - loss: 0.2129 - accuracy: 0.926 - ETA: 1:12:51 - loss: 0.2132 - accuracy: 0.926 - ETA: 1:12:40 - loss: 0.2132 - accuracy: 0.926 - ETA: 1:12:30 - loss: 0.2138 - accuracy: 0.926 - ETA: 1:12:19 - loss: 0.2140 - accuracy: 0.926 - ETA: 1:12:08 - loss: 0.2140 - accuracy: 0.926 - ETA: 1:11:57 - loss: 0.2138 - accuracy: 0.926 - ETA: 1:11:47 - loss: 0.2136 - accuracy: 0.926 - ETA: 1:11:36 - loss: 0.2136 - accuracy: 0.926 - ETA: 1:11:25 - loss: 0.2140 - accuracy: 0.926 - ETA: 1:11:15 - loss: 0.2137 - accuracy: 0.926 - ETA: 1:11:04 - loss: 0.2134 - accuracy: 0.926 - ETA: 1:10:54 - loss: 0.2136 - accuracy: 0.926 - ETA: 1:10:43 - loss: 0.2135 - accuracy: 0.926 - ETA: 1:10:33 - loss: 0.2136 - accuracy: 0.926 - ETA: 1:10:22 - loss: 0.2137 - accuracy: 0.926 - ETA: 1:10:11 - loss: 0.2136 - accuracy: 0.926 - ETA: 1:10:01 - loss: 0.2133 - accuracy: 0.927 - ETA: 1:09:50 - loss: 0.2134 - accuracy: 0.926 - ETA: 1:09:39 - loss: 0.2139 - accuracy: 0.926 - ETA: 1:09:28 - loss: 0.2142 - accuracy: 0.926 - ETA: 1:09:18 - loss: 0.2143 - accuracy: 0.926 - ETA: 1:09:07 - loss: 0.2143 - accuracy: 0.926 - ETA: 1:08:56 - loss: 0.2141 - accuracy: 0.926 - ETA: 1:08:46 - loss: 0.2140 - accuracy: 0.926 - ETA: 1:08:35 - loss: 0.2140 - accuracy: 0.926 - ETA: 1:08:24 - loss: 0.2140 - accuracy: 0.926 - ETA: 1:08:14 - loss: 0.2141 - accuracy: 0.926 - ETA: 1:08:03 - loss: 0.2139 - accuracy: 0.926 - ETA: 1:07:52 - loss: 0.2142 - accuracy: 0.926 - ETA: 1:07:42 - loss: 0.2141 - accuracy: 0.926 - ETA: 1:07:31 - loss: 0.2141 - accuracy: 0.926 - ETA: 1:07:20 - loss: 0.2143 - accuracy: 0.926 - ETA: 1:07:10 - loss: 0.2146 - accuracy: 0.926 - ETA: 1:06:59 - loss: 0.2147 - accuracy: 0.926 - ETA: 1:06:49 - loss: 0.2146 - accuracy: 0.926 - ETA: 1:06:38 - loss: 0.2143 - accuracy: 0.926 - ETA: 1:06:27 - loss: 0.2140 - accuracy: 0.926 - ETA: 1:06:17 - loss: 0.2140 - accuracy: 0.926 - ETA: 1:06:06 - loss: 0.2145 - accuracy: 0.926 - ETA: 1:05:55 - loss: 0.2146 - accuracy: 0.926 - ETA: 1:05:45 - loss: 0.2142 - accuracy: 0.926 - ETA: 1:05:34 - loss: 0.2146 - accuracy: 0.926 - ETA: 1:05:23 - loss: 0.2144 - accuracy: 0.926 - ETA: 1:05:12 - loss: 0.2143 - accuracy: 0.926 - ETA: 1:05:02 - loss: 0.2145 - accuracy: 0.926 - ETA: 1:04:51 - loss: 0.2148 - accuracy: 0.926 - ETA: 1:04:41 - loss: 0.2146 - accuracy: 0.926 - ETA: 1:04:30 - loss: 0.2146 - accuracy: 0.926 - ETA: 1:04:19 - loss: 0.2149 - accuracy: 0.926 - ETA: 1:04:09 - loss: 0.2149 - accuracy: 0.926 - ETA: 1:03:58 - loss: 0.2150 - accuracy: 0.926 - ETA: 1:03:47 - loss: 0.2147 - accuracy: 0.926 - ETA: 1:03:37 - loss: 0.2145 - accuracy: 0.926 - ETA: 1:03:26 - loss: 0.2147 - accuracy: 0.926 - ETA: 1:03:15 - loss: 0.2150 - accuracy: 0.926 - ETA: 1:03:05 - loss: 0.2147 - accuracy: 0.926 - ETA: 1:02:54 - loss: 0.2145 - accuracy: 0.926 - ETA: 1:02:44 - loss: 0.2142 - accuracy: 0.926 - ETA: 1:02:33 - loss: 0.2145 - accuracy: 0.926 - ETA: 1:02:22 - loss: 0.2146 - accuracy: 0.926 - ETA: 1:02:12 - loss: 0.2146 - accuracy: 0.926 - ETA: 1:02:01 - loss: 0.2144 - accuracy: 0.926 - ETA: 1:01:50 - loss: 0.2143 - accuracy: 0.926 - ETA: 1:01:40 - loss: 0.2142 - accuracy: 0.926 - ETA: 1:01:29 - loss: 0.2139 - accuracy: 0.926 - ETA: 1:01:18 - loss: 0.2141 - accuracy: 0.926 - ETA: 1:01:08 - loss: 0.2142 - accuracy: 0.926 - ETA: 1:00:57 - loss: 0.2139 - accuracy: 0.926 - ETA: 1:00:47 - loss: 0.2139 - accuracy: 0.926 - ETA: 1:00:36 - loss: 0.2143 - accuracy: 0.926 - ETA: 1:00:25 - loss: 0.2144 - accuracy: 0.926 - ETA: 1:00:15 - loss: 0.2144 - accuracy: 0.926 - ETA: 1:00:04 - loss: 0.2143 - accuracy: 0.926 - ETA: 59:53 - loss: 0.2149 - accuracy: 0.9267  - ETA: 59:43 - loss: 0.2157 - accuracy: 0.926 - ETA: 59:32 - loss: 0.2157 - accuracy: 0.9265688/846 [=======================>......] - ETA: 59:21 - loss: 0.2157 - accuracy: 0.926 - ETA: 59:11 - loss: 0.2154 - accuracy: 0.926 - ETA: 59:00 - loss: 0.2153 - accuracy: 0.926 - ETA: 58:49 - loss: 0.2152 - accuracy: 0.926 - ETA: 58:39 - loss: 0.2154 - accuracy: 0.926 - ETA: 58:28 - loss: 0.2155 - accuracy: 0.926 - ETA: 58:18 - loss: 0.2152 - accuracy: 0.926 - ETA: 58:07 - loss: 0.2152 - accuracy: 0.926 - ETA: 57:56 - loss: 0.2154 - accuracy: 0.926 - ETA: 57:46 - loss: 0.2154 - accuracy: 0.926 - ETA: 57:35 - loss: 0.2158 - accuracy: 0.926 - ETA: 57:24 - loss: 0.2158 - accuracy: 0.926 - ETA: 57:14 - loss: 0.2158 - accuracy: 0.926 - ETA: 57:03 - loss: 0.2160 - accuracy: 0.926 - ETA: 56:52 - loss: 0.2157 - accuracy: 0.926 - ETA: 56:42 - loss: 0.2157 - accuracy: 0.926 - ETA: 56:31 - loss: 0.2156 - accuracy: 0.926 - ETA: 56:20 - loss: 0.2157 - accuracy: 0.926 - ETA: 56:10 - loss: 0.2157 - accuracy: 0.926 - ETA: 55:59 - loss: 0.2160 - accuracy: 0.926 - ETA: 55:48 - loss: 0.2158 - accuracy: 0.926 - ETA: 55:38 - loss: 0.2161 - accuracy: 0.926 - ETA: 55:27 - loss: 0.2161 - accuracy: 0.926 - ETA: 55:17 - loss: 0.2159 - accuracy: 0.926 - ETA: 55:06 - loss: 0.2159 - accuracy: 0.926 - ETA: 54:56 - loss: 0.2163 - accuracy: 0.926 - ETA: 54:45 - loss: 0.2164 - accuracy: 0.926 - ETA: 54:34 - loss: 0.2164 - accuracy: 0.926 - ETA: 54:24 - loss: 0.2162 - accuracy: 0.926 - ETA: 54:13 - loss: 0.2161 - accuracy: 0.926 - ETA: 54:02 - loss: 0.2165 - accuracy: 0.926 - ETA: 53:52 - loss: 0.2164 - accuracy: 0.926 - ETA: 53:41 - loss: 0.2163 - accuracy: 0.926 - ETA: 53:30 - loss: 0.2165 - accuracy: 0.926 - ETA: 53:20 - loss: 0.2163 - accuracy: 0.926 - ETA: 53:09 - loss: 0.2160 - accuracy: 0.926 - ETA: 52:59 - loss: 0.2160 - accuracy: 0.926 - ETA: 52:48 - loss: 0.2161 - accuracy: 0.926 - ETA: 52:37 - loss: 0.2160 - accuracy: 0.926 - ETA: 52:27 - loss: 0.2157 - accuracy: 0.926 - ETA: 52:16 - loss: 0.2158 - accuracy: 0.926 - ETA: 52:05 - loss: 0.2157 - accuracy: 0.926 - ETA: 51:55 - loss: 0.2157 - accuracy: 0.926 - ETA: 51:44 - loss: 0.2157 - accuracy: 0.926 - ETA: 51:34 - loss: 0.2155 - accuracy: 0.926 - ETA: 51:23 - loss: 0.2155 - accuracy: 0.926 - ETA: 51:12 - loss: 0.2158 - accuracy: 0.926 - ETA: 51:01 - loss: 0.2158 - accuracy: 0.926 - ETA: 50:51 - loss: 0.2156 - accuracy: 0.926 - ETA: 50:40 - loss: 0.2156 - accuracy: 0.926 - ETA: 50:30 - loss: 0.2157 - accuracy: 0.926 - ETA: 50:19 - loss: 0.2158 - accuracy: 0.926 - ETA: 50:08 - loss: 0.2158 - accuracy: 0.926 - ETA: 49:58 - loss: 0.2155 - accuracy: 0.926 - ETA: 49:47 - loss: 0.2154 - accuracy: 0.926 - ETA: 49:36 - loss: 0.2152 - accuracy: 0.926 - ETA: 49:26 - loss: 0.2155 - accuracy: 0.926 - ETA: 49:15 - loss: 0.2156 - accuracy: 0.926 - ETA: 49:04 - loss: 0.2157 - accuracy: 0.926 - ETA: 48:54 - loss: 0.2155 - accuracy: 0.926 - ETA: 48:43 - loss: 0.2153 - accuracy: 0.926 - ETA: 48:33 - loss: 0.2153 - accuracy: 0.926 - ETA: 48:22 - loss: 0.2154 - accuracy: 0.926 - ETA: 48:12 - loss: 0.2152 - accuracy: 0.926 - ETA: 48:01 - loss: 0.2158 - accuracy: 0.926 - ETA: 47:51 - loss: 0.2157 - accuracy: 0.926 - ETA: 47:40 - loss: 0.2158 - accuracy: 0.926 - ETA: 47:29 - loss: 0.2160 - accuracy: 0.926 - ETA: 47:19 - loss: 0.2163 - accuracy: 0.926 - ETA: 47:08 - loss: 0.2162 - accuracy: 0.926 - ETA: 46:58 - loss: 0.2159 - accuracy: 0.926 - ETA: 46:47 - loss: 0.2160 - accuracy: 0.926 - ETA: 46:37 - loss: 0.2161 - accuracy: 0.926 - ETA: 46:26 - loss: 0.2160 - accuracy: 0.926 - ETA: 46:15 - loss: 0.2160 - accuracy: 0.926 - ETA: 46:05 - loss: 0.2165 - accuracy: 0.925 - ETA: 45:54 - loss: 0.2167 - accuracy: 0.925 - ETA: 45:44 - loss: 0.2164 - accuracy: 0.926 - ETA: 45:33 - loss: 0.2166 - accuracy: 0.925 - ETA: 45:22 - loss: 0.2174 - accuracy: 0.925 - ETA: 45:12 - loss: 0.2173 - accuracy: 0.925 - ETA: 45:01 - loss: 0.2170 - accuracy: 0.925 - ETA: 44:50 - loss: 0.2169 - accuracy: 0.925 - ETA: 44:40 - loss: 0.2171 - accuracy: 0.925 - ETA: 44:29 - loss: 0.2176 - accuracy: 0.925 - ETA: 44:18 - loss: 0.2176 - accuracy: 0.925 - ETA: 44:08 - loss: 0.2175 - accuracy: 0.925 - ETA: 43:57 - loss: 0.2178 - accuracy: 0.925 - ETA: 43:47 - loss: 0.2177 - accuracy: 0.925 - ETA: 43:36 - loss: 0.2182 - accuracy: 0.925 - ETA: 43:25 - loss: 0.2183 - accuracy: 0.925 - ETA: 43:15 - loss: 0.2180 - accuracy: 0.925 - ETA: 43:04 - loss: 0.2181 - accuracy: 0.925 - ETA: 42:53 - loss: 0.2181 - accuracy: 0.925 - ETA: 42:43 - loss: 0.2184 - accuracy: 0.925 - ETA: 42:32 - loss: 0.2184 - accuracy: 0.925 - ETA: 42:21 - loss: 0.2183 - accuracy: 0.925 - ETA: 42:11 - loss: 0.2187 - accuracy: 0.925 - ETA: 42:00 - loss: 0.2186 - accuracy: 0.925 - ETA: 41:50 - loss: 0.2187 - accuracy: 0.925 - ETA: 41:39 - loss: 0.2185 - accuracy: 0.925 - ETA: 41:28 - loss: 0.2186 - accuracy: 0.925 - ETA: 41:18 - loss: 0.2187 - accuracy: 0.925 - ETA: 41:07 - loss: 0.2189 - accuracy: 0.925 - ETA: 40:56 - loss: 0.2186 - accuracy: 0.925 - ETA: 40:46 - loss: 0.2186 - accuracy: 0.925 - ETA: 40:35 - loss: 0.2187 - accuracy: 0.925 - ETA: 40:24 - loss: 0.2189 - accuracy: 0.925 - ETA: 40:14 - loss: 0.2187 - accuracy: 0.925 - ETA: 40:03 - loss: 0.2188 - accuracy: 0.925 - ETA: 39:53 - loss: 0.2186 - accuracy: 0.925 - ETA: 39:42 - loss: 0.2184 - accuracy: 0.925 - ETA: 39:31 - loss: 0.2187 - accuracy: 0.925 - ETA: 39:21 - loss: 0.2189 - accuracy: 0.925 - ETA: 39:10 - loss: 0.2188 - accuracy: 0.925 - ETA: 38:59 - loss: 0.2186 - accuracy: 0.925 - ETA: 38:49 - loss: 0.2185 - accuracy: 0.925 - ETA: 38:38 - loss: 0.2187 - accuracy: 0.925 - ETA: 38:28 - loss: 0.2188 - accuracy: 0.925 - ETA: 38:17 - loss: 0.2189 - accuracy: 0.925 - ETA: 38:06 - loss: 0.2191 - accuracy: 0.925 - ETA: 37:56 - loss: 0.2192 - accuracy: 0.925 - ETA: 37:45 - loss: 0.2192 - accuracy: 0.925 - ETA: 37:35 - loss: 0.2190 - accuracy: 0.925 - ETA: 37:24 - loss: 0.2190 - accuracy: 0.925 - ETA: 37:13 - loss: 0.2194 - accuracy: 0.925 - ETA: 37:03 - loss: 0.2192 - accuracy: 0.925 - ETA: 36:52 - loss: 0.2192 - accuracy: 0.925 - ETA: 36:41 - loss: 0.2196 - accuracy: 0.925 - ETA: 36:31 - loss: 0.2195 - accuracy: 0.925 - ETA: 36:20 - loss: 0.2194 - accuracy: 0.925 - ETA: 36:09 - loss: 0.2193 - accuracy: 0.925 - ETA: 35:59 - loss: 0.2193 - accuracy: 0.925 - ETA: 35:48 - loss: 0.2194 - accuracy: 0.925 - ETA: 35:37 - loss: 0.2195 - accuracy: 0.925 - ETA: 35:27 - loss: 0.2194 - accuracy: 0.925 - ETA: 35:16 - loss: 0.2194 - accuracy: 0.925 - ETA: 35:05 - loss: 0.2194 - accuracy: 0.925 - ETA: 34:55 - loss: 0.2197 - accuracy: 0.925 - ETA: 34:44 - loss: 0.2197 - accuracy: 0.925 - ETA: 34:34 - loss: 0.2197 - accuracy: 0.925 - ETA: 34:23 - loss: 0.2196 - accuracy: 0.925 - ETA: 34:13 - loss: 0.2196 - accuracy: 0.925 - ETA: 34:02 - loss: 0.2197 - accuracy: 0.925 - ETA: 33:51 - loss: 0.2196 - accuracy: 0.925 - ETA: 33:41 - loss: 0.2194 - accuracy: 0.925 - ETA: 33:30 - loss: 0.2193 - accuracy: 0.925 - ETA: 33:19 - loss: 0.2194 - accuracy: 0.925 - ETA: 33:09 - loss: 0.2194 - accuracy: 0.925 - ETA: 32:59 - loss: 0.2192 - accuracy: 0.925 - ETA: 32:48 - loss: 0.2195 - accuracy: 0.925 - ETA: 32:38 - loss: 0.2195 - accuracy: 0.925 - ETA: 32:27 - loss: 0.2194 - accuracy: 0.925 - ETA: 32:17 - loss: 0.2196 - accuracy: 0.924 - ETA: 32:06 - loss: 0.2196 - accuracy: 0.925 - ETA: 31:55 - loss: 0.2196 - accuracy: 0.925 - ETA: 31:45 - loss: 0.2194 - accuracy: 0.925 - ETA: 31:34 - loss: 0.2194 - accuracy: 0.925 - ETA: 31:23 - loss: 0.2192 - accuracy: 0.925 - ETA: 31:13 - loss: 0.2192 - accuracy: 0.925 - ETA: 31:02 - loss: 0.2193 - accuracy: 0.925 - ETA: 30:52 - loss: 0.2191 - accuracy: 0.925 - ETA: 30:41 - loss: 0.2197 - accuracy: 0.925 - ETA: 30:30 - loss: 0.2195 - accuracy: 0.925 - ETA: 30:20 - loss: 0.2195 - accuracy: 0.925 - ETA: 30:09 - loss: 0.2192 - accuracy: 0.925 - ETA: 29:58 - loss: 0.2193 - accuracy: 0.925 - ETA: 29:48 - loss: 0.2192 - accuracy: 0.925 - ETA: 29:37 - loss: 0.2191 - accuracy: 0.925 - ETA: 29:26 - loss: 0.2193 - accuracy: 0.925 - ETA: 29:16 - loss: 0.2192 - accuracy: 0.925 - ETA: 29:05 - loss: 0.2195 - accuracy: 0.925 - ETA: 28:55 - loss: 0.2193 - accuracy: 0.925 - ETA: 28:44 - loss: 0.2194 - accuracy: 0.925 - ETA: 28:33 - loss: 0.2194 - accuracy: 0.925 - ETA: 28:23 - loss: 0.2199 - accuracy: 0.925 - ETA: 28:12 - loss: 0.2197 - accuracy: 0.925 - ETA: 28:02 - loss: 0.2195 - accuracy: 0.9251846/846 [==============================] - ETA: 27:51 - loss: 0.2199 - accuracy: 0.925 - ETA: 27:40 - loss: 0.2197 - accuracy: 0.925 - ETA: 27:30 - loss: 0.2195 - accuracy: 0.925 - ETA: 27:19 - loss: 0.2192 - accuracy: 0.925 - ETA: 27:09 - loss: 0.2196 - accuracy: 0.925 - ETA: 26:58 - loss: 0.2197 - accuracy: 0.925 - ETA: 26:47 - loss: 0.2198 - accuracy: 0.925 - ETA: 26:37 - loss: 0.2196 - accuracy: 0.925 - ETA: 26:26 - loss: 0.2198 - accuracy: 0.925 - ETA: 26:15 - loss: 0.2198 - accuracy: 0.925 - ETA: 26:05 - loss: 0.2200 - accuracy: 0.925 - ETA: 25:54 - loss: 0.2201 - accuracy: 0.925 - ETA: 25:43 - loss: 0.2200 - accuracy: 0.925 - ETA: 25:33 - loss: 0.2199 - accuracy: 0.925 - ETA: 25:22 - loss: 0.2198 - accuracy: 0.925 - ETA: 25:11 - loss: 0.2199 - accuracy: 0.924 - ETA: 25:01 - loss: 0.2201 - accuracy: 0.925 - ETA: 24:50 - loss: 0.2199 - accuracy: 0.925 - ETA: 24:40 - loss: 0.2201 - accuracy: 0.925 - ETA: 24:29 - loss: 0.2199 - accuracy: 0.925 - ETA: 24:18 - loss: 0.2197 - accuracy: 0.925 - ETA: 24:08 - loss: 0.2199 - accuracy: 0.925 - ETA: 23:57 - loss: 0.2200 - accuracy: 0.925 - ETA: 23:46 - loss: 0.2200 - accuracy: 0.925 - ETA: 23:36 - loss: 0.2202 - accuracy: 0.925 - ETA: 23:25 - loss: 0.2205 - accuracy: 0.925 - ETA: 23:15 - loss: 0.2207 - accuracy: 0.925 - ETA: 23:04 - loss: 0.2210 - accuracy: 0.925 - ETA: 22:53 - loss: 0.2215 - accuracy: 0.925 - ETA: 22:43 - loss: 0.2213 - accuracy: 0.925 - ETA: 22:32 - loss: 0.2212 - accuracy: 0.925 - ETA: 22:21 - loss: 0.2211 - accuracy: 0.925 - ETA: 22:11 - loss: 0.2210 - accuracy: 0.925 - ETA: 22:00 - loss: 0.2210 - accuracy: 0.925 - ETA: 21:49 - loss: 0.2209 - accuracy: 0.925 - ETA: 21:39 - loss: 0.2210 - accuracy: 0.925 - ETA: 21:28 - loss: 0.2209 - accuracy: 0.925 - ETA: 21:17 - loss: 0.2209 - accuracy: 0.925 - ETA: 21:07 - loss: 0.2207 - accuracy: 0.925 - ETA: 20:56 - loss: 0.2211 - accuracy: 0.925 - ETA: 20:45 - loss: 0.2213 - accuracy: 0.925 - ETA: 20:35 - loss: 0.2215 - accuracy: 0.925 - ETA: 20:24 - loss: 0.2217 - accuracy: 0.924 - ETA: 20:13 - loss: 0.2216 - accuracy: 0.924 - ETA: 20:03 - loss: 0.2215 - accuracy: 0.925 - ETA: 19:52 - loss: 0.2215 - accuracy: 0.925 - ETA: 19:41 - loss: 0.2214 - accuracy: 0.925 - ETA: 19:31 - loss: 0.2217 - accuracy: 0.925 - ETA: 19:20 - loss: 0.2216 - accuracy: 0.925 - ETA: 19:09 - loss: 0.2219 - accuracy: 0.924 - ETA: 18:59 - loss: 0.2219 - accuracy: 0.924 - ETA: 18:48 - loss: 0.2217 - accuracy: 0.925 - ETA: 18:37 - loss: 0.2216 - accuracy: 0.925 - ETA: 18:27 - loss: 0.2215 - accuracy: 0.925 - ETA: 18:16 - loss: 0.2214 - accuracy: 0.925 - ETA: 18:06 - loss: 0.2212 - accuracy: 0.925 - ETA: 17:55 - loss: 0.2210 - accuracy: 0.925 - ETA: 17:44 - loss: 0.2212 - accuracy: 0.925 - ETA: 17:34 - loss: 0.2214 - accuracy: 0.925 - ETA: 17:23 - loss: 0.2213 - accuracy: 0.925 - ETA: 17:12 - loss: 0.2214 - accuracy: 0.925 - ETA: 17:02 - loss: 0.2213 - accuracy: 0.925 - ETA: 16:51 - loss: 0.2211 - accuracy: 0.925 - ETA: 16:40 - loss: 0.2210 - accuracy: 0.925 - ETA: 16:30 - loss: 0.2211 - accuracy: 0.925 - ETA: 16:19 - loss: 0.2210 - accuracy: 0.925 - ETA: 16:09 - loss: 0.2210 - accuracy: 0.925 - ETA: 15:58 - loss: 0.2208 - accuracy: 0.925 - ETA: 15:47 - loss: 0.2208 - accuracy: 0.925 - ETA: 15:37 - loss: 0.2208 - accuracy: 0.925 - ETA: 15:26 - loss: 0.2209 - accuracy: 0.925 - ETA: 15:15 - loss: 0.2210 - accuracy: 0.925 - ETA: 15:05 - loss: 0.2211 - accuracy: 0.925 - ETA: 14:54 - loss: 0.2210 - accuracy: 0.925 - ETA: 14:43 - loss: 0.2208 - accuracy: 0.925 - ETA: 14:33 - loss: 0.2206 - accuracy: 0.925 - ETA: 14:22 - loss: 0.2204 - accuracy: 0.925 - ETA: 14:11 - loss: 0.2203 - accuracy: 0.925 - ETA: 14:01 - loss: 0.2204 - accuracy: 0.925 - ETA: 13:50 - loss: 0.2203 - accuracy: 0.925 - ETA: 13:39 - loss: 0.2202 - accuracy: 0.925 - ETA: 13:29 - loss: 0.2201 - accuracy: 0.925 - ETA: 13:18 - loss: 0.2200 - accuracy: 0.925 - ETA: 13:07 - loss: 0.2199 - accuracy: 0.925 - ETA: 12:57 - loss: 0.2201 - accuracy: 0.925 - ETA: 12:46 - loss: 0.2200 - accuracy: 0.925 - ETA: 12:36 - loss: 0.2200 - accuracy: 0.925 - ETA: 12:25 - loss: 0.2201 - accuracy: 0.925 - ETA: 12:14 - loss: 0.2199 - accuracy: 0.925 - ETA: 12:04 - loss: 0.2198 - accuracy: 0.925 - ETA: 11:53 - loss: 0.2195 - accuracy: 0.925 - ETA: 11:42 - loss: 0.2195 - accuracy: 0.925 - ETA: 11:32 - loss: 0.2198 - accuracy: 0.925 - ETA: 11:21 - loss: 0.2197 - accuracy: 0.925 - ETA: 11:10 - loss: 0.2196 - accuracy: 0.925 - ETA: 11:00 - loss: 0.2201 - accuracy: 0.925 - ETA: 10:49 - loss: 0.2204 - accuracy: 0.925 - ETA: 10:38 - loss: 0.2205 - accuracy: 0.925 - ETA: 10:28 - loss: 0.2203 - accuracy: 0.925 - ETA: 10:17 - loss: 0.2203 - accuracy: 0.925 - ETA: 10:06 - loss: 0.2202 - accuracy: 0.925 - ETA: 9:56 - loss: 0.2203 - accuracy: 0.925 - ETA: 9:45 - loss: 0.2202 - accuracy: 0.92 - ETA: 9:34 - loss: 0.2201 - accuracy: 0.92 - ETA: 9:24 - loss: 0.2201 - accuracy: 0.92 - ETA: 9:13 - loss: 0.2200 - accuracy: 0.92 - ETA: 9:03 - loss: 0.2201 - accuracy: 0.92 - ETA: 8:52 - loss: 0.2205 - accuracy: 0.92 - ETA: 8:41 - loss: 0.2206 - accuracy: 0.92 - ETA: 8:31 - loss: 0.2207 - accuracy: 0.92 - ETA: 8:20 - loss: 0.2207 - accuracy: 0.92 - ETA: 8:09 - loss: 0.2207 - accuracy: 0.92 - ETA: 7:59 - loss: 0.2208 - accuracy: 0.92 - ETA: 7:48 - loss: 0.2208 - accuracy: 0.92 - ETA: 7:37 - loss: 0.2208 - accuracy: 0.92 - ETA: 7:27 - loss: 0.2209 - accuracy: 0.92 - ETA: 7:16 - loss: 0.2211 - accuracy: 0.92 - ETA: 7:05 - loss: 0.2211 - accuracy: 0.92 - ETA: 6:55 - loss: 0.2212 - accuracy: 0.92 - ETA: 6:44 - loss: 0.2210 - accuracy: 0.92 - ETA: 6:33 - loss: 0.2210 - accuracy: 0.92 - ETA: 6:23 - loss: 0.2210 - accuracy: 0.92 - ETA: 6:12 - loss: 0.2209 - accuracy: 0.92 - ETA: 6:02 - loss: 0.2207 - accuracy: 0.92 - ETA: 5:51 - loss: 0.2206 - accuracy: 0.92 - ETA: 5:40 - loss: 0.2205 - accuracy: 0.92 - ETA: 5:30 - loss: 0.2205 - accuracy: 0.92 - ETA: 5:19 - loss: 0.2204 - accuracy: 0.92 - ETA: 5:08 - loss: 0.2204 - accuracy: 0.92 - ETA: 4:58 - loss: 0.2206 - accuracy: 0.92 - ETA: 4:47 - loss: 0.2206 - accuracy: 0.92 - ETA: 4:36 - loss: 0.2205 - accuracy: 0.92 - ETA: 4:26 - loss: 0.2205 - accuracy: 0.92 - ETA: 4:15 - loss: 0.2203 - accuracy: 0.92 - ETA: 4:04 - loss: 0.2206 - accuracy: 0.92 - ETA: 3:54 - loss: 0.2206 - accuracy: 0.92 - ETA: 3:43 - loss: 0.2204 - accuracy: 0.92 - ETA: 3:32 - loss: 0.2203 - accuracy: 0.92 - ETA: 3:22 - loss: 0.2203 - accuracy: 0.92 - ETA: 3:11 - loss: 0.2204 - accuracy: 0.92 - ETA: 3:01 - loss: 0.2205 - accuracy: 0.92 - ETA: 2:50 - loss: 0.2206 - accuracy: 0.92 - ETA: 2:39 - loss: 0.2205 - accuracy: 0.92 - ETA: 2:29 - loss: 0.2203 - accuracy: 0.92 - ETA: 2:18 - loss: 0.2202 - accuracy: 0.92 - ETA: 2:07 - loss: 0.2202 - accuracy: 0.92 - ETA: 1:57 - loss: 0.2201 - accuracy: 0.92 - ETA: 1:46 - loss: 0.2200 - accuracy: 0.92 - ETA: 1:35 - loss: 0.2200 - accuracy: 0.92 - ETA: 1:25 - loss: 0.2201 - accuracy: 0.92 - ETA: 1:14 - loss: 0.2200 - accuracy: 0.92 - ETA: 1:03 - loss: 0.2199 - accuracy: 0.92 - ETA: 53s - loss: 0.2198 - accuracy: 0.9253 - ETA: 42s - loss: 0.2199 - accuracy: 0.925 - ETA: 31s - loss: 0.2197 - accuracy: 0.925 - ETA: 21s - loss: 0.2196 - accuracy: 0.925 - ETA: 10s - loss: 0.2194 - accuracy: 0.925 - ETA: 0s - loss: 0.2196 - accuracy: 0.925 - 9011s 11s/step - loss: 0.2196 - accuracy: 0.9255 - val_loss: 0.0758 - val_accuracy: 0.9688\n"
     ]
    }
   ],
   "source": [
    "history = new_model.fit(X_trainRosReshaped,Y_trainRos, \n",
    "    steps_per_epoch=X_trainRosReshaped.shape[0] // batch_size,\n",
    "    epochs=5,\n",
    "    validation_data=val_data_gen,\n",
    "    validation_steps=val_data_gen.samples // batch_size,\n",
    "    callbacks=[checkpoint_callback])"
   ]
  },
  {
   "cell_type": "code",
   "execution_count": 84,
   "metadata": {},
   "outputs": [],
   "source": [
    "model.save('OCT_model_trained.h5') "
   ]
  },
  {
   "cell_type": "markdown",
   "metadata": {},
   "source": [
    "# Accuracy and Loss Graph"
   ]
  },
  {
   "cell_type": "code",
   "execution_count": 85,
   "metadata": {},
   "outputs": [
    {
     "data": {
      "image/png": "[encoded data removed]",
      "text/plain": [
       "<Figure size 576x576 with 2 Axes>"
      ]
     },
     "metadata": {
      "needs_background": "light"
     },
     "output_type": "display_data"
    }
   ],
   "source": [
    "acc = history.history['accuracy']\n",
    "val_acc = history.history['val_accuracy']\n",
    "\n",
    "loss=history.history['loss']\n",
    "val_loss=history.history['val_loss']\n",
    "\n",
    "epochs_range = range(epochs)\n",
    "\n",
    "plt.figure(figsize=(8, 8))\n",
    "plt.subplot(1, 2, 1)\n",
    "plt.plot(epochs_range, acc, label='Training Accuracy')\n",
    "plt.plot(epochs_range, val_acc, label='Validation Accuracy')\n",
    "plt.legend(loc='lower right')\n",
    "plt.title('Training and Validation Accuracy')\n",
    "\n",
    "plt.subplot(1, 2, 2)\n",
    "plt.plot(epochs_range, loss, label='Training Loss')\n",
    "plt.plot(epochs_range, val_loss, label='Validation Loss')\n",
    "plt.legend(loc='upper right')\n",
    "plt.title('Training and Validation Loss')\n",
    "plt.show()"
   ]
  },
  {
   "cell_type": "code",
   "execution_count": 7,
   "metadata": {},
   "outputs": [
    {
     "data": {
      "text/plain": [
       "<tensorflow.python.training.tracking.util.CheckpointLoadStatus at 0x1b8642ffec8>"
      ]
     },
     "execution_count": 7,
     "metadata": {},
     "output_type": "execute_result"
    }
   ],
   "source": [
    "new_model = tf.keras.models.load_model('C://StudyNCI//Lectures//Machine Learning 2//OCT_model_trained.h5')\n",
    "latest = tf.train.latest_checkpoint(checkpoint_dir)\n",
    "#new_model.load_weights(checkpoint_dir / 'ckpt_5.data-00000-of-00001.hdf5')\n",
    "new_model.load_weights(latest)"
   ]
  },
  {
   "cell_type": "markdown",
   "metadata": {},
   "source": [
    "# Model Validation on Test Dataset"
   ]
  },
  {
   "cell_type": "code",
   "execution_count": 8,
   "metadata": {
    "scrolled": true
   },
   "outputs": [
    {
     "name": "stdout",
     "output_type": "stream",
     "text": [
      "31/31 - 68s - loss: 0.0659 - accuracy: 0.9768\n",
      "Restored model, accuracy: 97.68%\n"
     ]
    }
   ],
   "source": [
    "loss, acc = new_model.evaluate(test_generator, verbose=2, steps = test_generator.samples // batch_size)\n",
    "print(\"Restored model, accuracy: {:5.2f}%\".format(100*acc))"
   ]
  },
  {
   "cell_type": "code",
   "execution_count": 21,
   "metadata": {},
   "outputs": [],
   "source": [
    "X_test, Y_test = next(test_generator)\n",
    "y_pred = new_model.predict(X_test)\n"
   ]
  },
  {
   "cell_type": "code",
   "execution_count": 10,
   "metadata": {},
   "outputs": [],
   "source": [
    "pred_class = []\n",
    "for i in range(len(y_pred)):\n",
    "    pred_class.append(np.argmax(y_pred[i]))"
   ]
  },
  {
   "cell_type": "code",
   "execution_count": 11,
   "metadata": {},
   "outputs": [],
   "source": [
    "actual_class = []\n",
    "for i in range(len(Y_test)):\n",
    "    actual_class.append(np.argmax(Y_test[i]))"
   ]
  },
  {
   "cell_type": "code",
   "execution_count": 12,
   "metadata": {},
   "outputs": [
    {
     "name": "stdout",
     "output_type": "stream",
     "text": [
      " Test accuracy =  0.96875\n"
     ]
    }
   ],
   "source": [
    "print(' Test accuracy = ',accuracy_score(pred_class,actual_class))"
   ]
  },
  {
   "cell_type": "markdown",
   "metadata": {},
   "source": [
    "# Confusion Matrix"
   ]
  },
  {
   "cell_type": "code",
   "execution_count": 17,
   "metadata": {},
   "outputs": [],
   "source": [
    "def plot_confusion_matrix(cm, classes,\n",
    "                          normalize=False,\n",
    "                          title='Confusion matrix',\n",
    "                          cmap=plt.cm.Blues):\n",
    "    if normalize:\n",
    "        cm = cm.astype('float') / cm.sum(axis=1)[:, np.newaxis]\n",
    "\n",
    "    plt.imshow(cm, interpolation='nearest', cmap=cmap)\n",
    "    plt.title(title)\n",
    "    plt.colorbar()\n",
    "    tick_marks = np.arange(len(classes))\n",
    "    plt.xticks(tick_marks, classes, rotation=90)\n",
    "    plt.yticks(tick_marks, classes)\n",
    "\n",
    "    fmt = '.2f' if normalize else 'd'\n",
    "    thresh = cm.max() / 2.\n",
    "    for i, j in itertools.product(range(cm.shape[0]), range(cm.shape[1])):\n",
    "        plt.text(j, i, format(cm[i, j], fmt),\n",
    "                 horizontalalignment=\"center\",\n",
    "                 color=\"white\" if cm[i, j] > thresh else \"black\")\n",
    "\n",
    "    plt.tight_layout()\n",
    "    plt.ylabel('True label')\n",
    "    plt.xlabel('Predicted label')"
   ]
  },
  {
   "cell_type": "code",
   "execution_count": 18,
   "metadata": {},
   "outputs": [
    {
     "name": "stdout",
     "output_type": "stream",
     "text": [
      "--------------------\n",
      "| Confusion Matrix |\n",
      "--------------------\n",
      "\n",
      " [[ 4  0  0  0]\n",
      " [ 0  8  0  0]\n",
      " [ 0  0  9  0]\n",
      " [ 0  1  0 10]]\n"
     ]
    },
    {
     "data": {
      "image/png": "[encoded data removed]",
      "text/plain": [
       "<Figure size 576x576 with 2 Axes>"
      ]
     },
     "metadata": {
      "needs_background": "light"
     },
     "output_type": "display_data"
    }
   ],
   "source": [
    "cm = confusion_matrix(actual_class, pred_class)\n",
    " \n",
    "print('--------------------')\n",
    "print('| Confusion Matrix |')\n",
    "print('--------------------')\n",
    "print('\\n {}'.format(cm))\n",
    "        \n",
    "# plot confusin matrix\n",
    "plt.figure(figsize=(8,8))\n",
    "plt.grid(b=False)\n",
    "plot_confusion_matrix(cm, classes=['CNV','DME','DRUSEN','NORMAL'], normalize=False, \n",
    "                      title='Confusion matrix', cmap = plt.cm.Blues)"
   ]
  },
  {
   "cell_type": "code",
   "execution_count": 15,
   "metadata": {},
   "outputs": [
    {
     "name": "stdout",
     "output_type": "stream",
     "text": [
      "              precision    recall  f1-score   support\n",
      "\n",
      "         CNV       1.00      1.00      1.00         4\n",
      "         DME       0.89      1.00      0.94         8\n",
      "      DRUSEN       1.00      1.00      1.00         9\n",
      "      Normal       1.00      0.91      0.95        11\n",
      "\n",
      "    accuracy                           0.97        32\n",
      "   macro avg       0.97      0.98      0.97        32\n",
      "weighted avg       0.97      0.97      0.97        32\n",
      "\n"
     ]
    }
   ],
   "source": [
    "from sklearn.metrics import classification_report\n",
    "print(classification_report(actual_class, pred_class,target_names=['CNV','DME','DRUSEN','Normal']))"
   ]
  },
  {
   "cell_type": "markdown",
   "metadata": {},
   "source": [
    "# Model Evaluation"
   ]
  },
  {
   "cell_type": "code",
   "execution_count": 19,
   "metadata": {
    "scrolled": true
   },
   "outputs": [
    {
     "name": "stdout",
     "output_type": "stream",
     "text": [
      "Recall/TPR = [1.         1.         1.         0.90909091]\n",
      "Specificity/TNR = [1.         0.95833333 1.         1.        ]\n",
      "Precision/PPV = [1.         0.88888889 1.         1.        ]\n",
      "Negative Predict Value = [1.         1.         1.         0.95454545]\n",
      "False Positive Rate = [0.         0.04166667 0.         0.        ]\n",
      "False Negative Rate = [0.         0.         0.         0.09090909]\n",
      "False discovery rate = [0.         0.11111111 0.         0.        ]\n",
      "Overall Accuracy = [1.      0.96875 1.      0.96875]\n"
     ]
    }
   ],
   "source": [
    "FP = cm.sum(axis=0) - np.diag(cm)  \n",
    "FN = cm.sum(axis=1) - np.diag(cm)\n",
    "TP = np.diag(cm)\n",
    "TN = cm.sum() - (FP + FN + TP)\n",
    "\n",
    "FP = FP.astype(float)\n",
    "FN = FN.astype(float)\n",
    "TP = TP.astype(float)\n",
    "TN = TN.astype(float)\n",
    "\n",
    "# Sensitivity, hit rate, recall, or true positive rate\n",
    "TPR = TP/(TP+FN)\n",
    "print(\"Recall/TPR = {}\".format(TPR))\n",
    "\n",
    "# Specificity or true negative rate\n",
    "TNR = TN/(TN+FP) \n",
    "print(\"Specificity/TNR = {}\".format(TNR))\n",
    "\n",
    "# Precision or positive predictive value\n",
    "PPV = TP/(TP+FP)\n",
    "print(\"Precision/PPV = {}\".format(PPV))\n",
    "\n",
    "# Negative predictive value\n",
    "NPV = TN/(TN+FN)\n",
    "print(\"Negative Predict Value = {}\".format(NPV))\n",
    "\n",
    "# Fall out or false positive rate\n",
    "FPR = FP/(FP+TN)\n",
    "print(\"False Positive Rate = {}\".format(FPR))\n",
    "\n",
    "# False negative rate\n",
    "FNR = FN/(TP+FN)\n",
    "print(\"False Negative Rate = {}\".format(FNR))\n",
    "\n",
    "# False discovery rate\n",
    "FDR = FP/(TP+FP)\n",
    "print(\"False discovery rate = {}\".format(FDR))\n",
    "\n",
    "# Overall accuracy\n",
    "ACC = (TP+TN)/(TP+FP+FN+TN)\n",
    "print(\"Overall Accuracy = {}\".format(ACC))"
   ]
  }
 ],
 "metadata": {
  "kernelspec": {
   "display_name": "Python 3",
   "language": "python",
   "name": "python3"
  },
  "language_info": {
   "codemirror_mode": {
    "name": "ipython",
    "version": 3
   },
   "file_extension": ".py",
   "mimetype": "text/x-python",
   "name": "python",
   "nbconvert_exporter": "python",
   "pygments_lexer": "ipython3",
   "version": "3.8.3"
  }
 },
 "nbformat": 4,
 "nbformat_minor": 2
}
